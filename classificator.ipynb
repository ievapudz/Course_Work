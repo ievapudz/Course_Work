{
  "nbformat": 4,
  "nbformat_minor": 0,
  "metadata": {
    "colab": {
      "name": "classificator.ipynb",
      "provenance": [],
      "collapsed_sections": [
        "45TFJZTLykgW",
        "UE4f6R78ykgX",
        "KUZVjOUWykgZ",
        "W73lIrirFMbT",
        "NhwuRL0Eykga",
        "sp9jacV9Q6kL",
        "9boajW5lytuW"
      ]
    },
    "interpreter": {
      "hash": "dcc5f0745bb73c331ddcb9e6e17cfcf1d7c30043bb04caa6bbf9dd8843d7acb0"
    },
    "kernelspec": {
      "display_name": "Python 3.7.4 64-bit ('base': conda)",
      "name": "python3"
    },
    "language_info": {
      "codemirror_mode": {
        "name": "ipython",
        "version": 3
      },
      "file_extension": ".py",
      "mimetype": "text/x-python",
      "name": "python",
      "nbconvert_exporter": "python",
      "pygments_lexer": "ipython3",
      "version": "3.7.4"
    },
    "orig_nbformat": 4
  },
  "cells": [
    {
      "cell_type": "markdown",
      "metadata": {
        "id": "YelAWkSQykgR"
      },
      "source": [
        "# Protein Classificator"
      ]
    },
    {
      "cell_type": "markdown",
      "metadata": {
        "id": "xFETk-0UykgU"
      },
      "source": [
        "## Importing required packages"
      ]
    },
    {
      "cell_type": "code",
      "metadata": {
        "colab": {
          "base_uri": "https://localhost:8080/"
        },
        "id": "HiZQxC_wAMmp",
        "outputId": "50a5526f-707e-475a-829a-4987616a2a42"
      },
      "source": [
        "!pip3.7 install biopython"
      ],
      "execution_count": 1,
      "outputs": [
        {
          "output_type": "stream",
          "name": "stdout",
          "text": [
            "Collecting biopython\n",
            "  Downloading biopython-1.79-cp37-cp37m-manylinux_2_5_x86_64.manylinux1_x86_64.whl (2.3 MB)\n",
            "\u001b[?25l\r\u001b[K     |▏                               | 10 kB 23.8 MB/s eta 0:00:01\r\u001b[K     |▎                               | 20 kB 28.2 MB/s eta 0:00:01\r\u001b[K     |▍                               | 30 kB 29.5 MB/s eta 0:00:01\r\u001b[K     |▋                               | 40 kB 30.7 MB/s eta 0:00:01\r\u001b[K     |▊                               | 51 kB 31.7 MB/s eta 0:00:01\r\u001b[K     |▉                               | 61 kB 34.1 MB/s eta 0:00:01\r\u001b[K     |█                               | 71 kB 32.6 MB/s eta 0:00:01\r\u001b[K     |█▏                              | 81 kB 34.3 MB/s eta 0:00:01\r\u001b[K     |█▎                              | 92 kB 33.9 MB/s eta 0:00:01\r\u001b[K     |█▍                              | 102 kB 35.4 MB/s eta 0:00:01\r\u001b[K     |█▋                              | 112 kB 35.4 MB/s eta 0:00:01\r\u001b[K     |█▊                              | 122 kB 35.4 MB/s eta 0:00:01\r\u001b[K     |█▉                              | 133 kB 35.4 MB/s eta 0:00:01\r\u001b[K     |██                              | 143 kB 35.4 MB/s eta 0:00:01\r\u001b[K     |██▏                             | 153 kB 35.4 MB/s eta 0:00:01\r\u001b[K     |██▎                             | 163 kB 35.4 MB/s eta 0:00:01\r\u001b[K     |██▍                             | 174 kB 35.4 MB/s eta 0:00:01\r\u001b[K     |██▋                             | 184 kB 35.4 MB/s eta 0:00:01\r\u001b[K     |██▊                             | 194 kB 35.4 MB/s eta 0:00:01\r\u001b[K     |██▉                             | 204 kB 35.4 MB/s eta 0:00:01\r\u001b[K     |███                             | 215 kB 35.4 MB/s eta 0:00:01\r\u001b[K     |███▏                            | 225 kB 35.4 MB/s eta 0:00:01\r\u001b[K     |███▎                            | 235 kB 35.4 MB/s eta 0:00:01\r\u001b[K     |███▌                            | 245 kB 35.4 MB/s eta 0:00:01\r\u001b[K     |███▋                            | 256 kB 35.4 MB/s eta 0:00:01\r\u001b[K     |███▊                            | 266 kB 35.4 MB/s eta 0:00:01\r\u001b[K     |███▉                            | 276 kB 35.4 MB/s eta 0:00:01\r\u001b[K     |████                            | 286 kB 35.4 MB/s eta 0:00:01\r\u001b[K     |████▏                           | 296 kB 35.4 MB/s eta 0:00:01\r\u001b[K     |████▎                           | 307 kB 35.4 MB/s eta 0:00:01\r\u001b[K     |████▌                           | 317 kB 35.4 MB/s eta 0:00:01\r\u001b[K     |████▋                           | 327 kB 35.4 MB/s eta 0:00:01\r\u001b[K     |████▊                           | 337 kB 35.4 MB/s eta 0:00:01\r\u001b[K     |████▉                           | 348 kB 35.4 MB/s eta 0:00:01\r\u001b[K     |█████                           | 358 kB 35.4 MB/s eta 0:00:01\r\u001b[K     |█████▏                          | 368 kB 35.4 MB/s eta 0:00:01\r\u001b[K     |█████▎                          | 378 kB 35.4 MB/s eta 0:00:01\r\u001b[K     |█████▌                          | 389 kB 35.4 MB/s eta 0:00:01\r\u001b[K     |█████▋                          | 399 kB 35.4 MB/s eta 0:00:01\r\u001b[K     |█████▊                          | 409 kB 35.4 MB/s eta 0:00:01\r\u001b[K     |██████                          | 419 kB 35.4 MB/s eta 0:00:01\r\u001b[K     |██████                          | 430 kB 35.4 MB/s eta 0:00:01\r\u001b[K     |██████▏                         | 440 kB 35.4 MB/s eta 0:00:01\r\u001b[K     |██████▎                         | 450 kB 35.4 MB/s eta 0:00:01\r\u001b[K     |██████▌                         | 460 kB 35.4 MB/s eta 0:00:01\r\u001b[K     |██████▋                         | 471 kB 35.4 MB/s eta 0:00:01\r\u001b[K     |██████▊                         | 481 kB 35.4 MB/s eta 0:00:01\r\u001b[K     |███████                         | 491 kB 35.4 MB/s eta 0:00:01\r\u001b[K     |███████                         | 501 kB 35.4 MB/s eta 0:00:01\r\u001b[K     |███████▏                        | 512 kB 35.4 MB/s eta 0:00:01\r\u001b[K     |███████▎                        | 522 kB 35.4 MB/s eta 0:00:01\r\u001b[K     |███████▌                        | 532 kB 35.4 MB/s eta 0:00:01\r\u001b[K     |███████▋                        | 542 kB 35.4 MB/s eta 0:00:01\r\u001b[K     |███████▊                        | 552 kB 35.4 MB/s eta 0:00:01\r\u001b[K     |████████                        | 563 kB 35.4 MB/s eta 0:00:01\r\u001b[K     |████████                        | 573 kB 35.4 MB/s eta 0:00:01\r\u001b[K     |████████▏                       | 583 kB 35.4 MB/s eta 0:00:01\r\u001b[K     |████████▍                       | 593 kB 35.4 MB/s eta 0:00:01\r\u001b[K     |████████▌                       | 604 kB 35.4 MB/s eta 0:00:01\r\u001b[K     |████████▋                       | 614 kB 35.4 MB/s eta 0:00:01\r\u001b[K     |████████▊                       | 624 kB 35.4 MB/s eta 0:00:01\r\u001b[K     |█████████                       | 634 kB 35.4 MB/s eta 0:00:01\r\u001b[K     |█████████                       | 645 kB 35.4 MB/s eta 0:00:01\r\u001b[K     |█████████▏                      | 655 kB 35.4 MB/s eta 0:00:01\r\u001b[K     |█████████▍                      | 665 kB 35.4 MB/s eta 0:00:01\r\u001b[K     |█████████▌                      | 675 kB 35.4 MB/s eta 0:00:01\r\u001b[K     |█████████▋                      | 686 kB 35.4 MB/s eta 0:00:01\r\u001b[K     |█████████▊                      | 696 kB 35.4 MB/s eta 0:00:01\r\u001b[K     |██████████                      | 706 kB 35.4 MB/s eta 0:00:01\r\u001b[K     |██████████                      | 716 kB 35.4 MB/s eta 0:00:01\r\u001b[K     |██████████▏                     | 727 kB 35.4 MB/s eta 0:00:01\r\u001b[K     |██████████▍                     | 737 kB 35.4 MB/s eta 0:00:01\r\u001b[K     |██████████▌                     | 747 kB 35.4 MB/s eta 0:00:01\r\u001b[K     |██████████▋                     | 757 kB 35.4 MB/s eta 0:00:01\r\u001b[K     |██████████▉                     | 768 kB 35.4 MB/s eta 0:00:01\r\u001b[K     |███████████                     | 778 kB 35.4 MB/s eta 0:00:01\r\u001b[K     |███████████                     | 788 kB 35.4 MB/s eta 0:00:01\r\u001b[K     |███████████▏                    | 798 kB 35.4 MB/s eta 0:00:01\r\u001b[K     |███████████▍                    | 808 kB 35.4 MB/s eta 0:00:01\r\u001b[K     |███████████▌                    | 819 kB 35.4 MB/s eta 0:00:01\r\u001b[K     |███████████▋                    | 829 kB 35.4 MB/s eta 0:00:01\r\u001b[K     |███████████▉                    | 839 kB 35.4 MB/s eta 0:00:01\r\u001b[K     |████████████                    | 849 kB 35.4 MB/s eta 0:00:01\r\u001b[K     |████████████                    | 860 kB 35.4 MB/s eta 0:00:01\r\u001b[K     |████████████▏                   | 870 kB 35.4 MB/s eta 0:00:01\r\u001b[K     |████████████▍                   | 880 kB 35.4 MB/s eta 0:00:01\r\u001b[K     |████████████▌                   | 890 kB 35.4 MB/s eta 0:00:01\r\u001b[K     |████████████▋                   | 901 kB 35.4 MB/s eta 0:00:01\r\u001b[K     |████████████▉                   | 911 kB 35.4 MB/s eta 0:00:01\r\u001b[K     |█████████████                   | 921 kB 35.4 MB/s eta 0:00:01\r\u001b[K     |█████████████                   | 931 kB 35.4 MB/s eta 0:00:01\r\u001b[K     |█████████████▎                  | 942 kB 35.4 MB/s eta 0:00:01\r\u001b[K     |█████████████▍                  | 952 kB 35.4 MB/s eta 0:00:01\r\u001b[K     |█████████████▌                  | 962 kB 35.4 MB/s eta 0:00:01\r\u001b[K     |█████████████▋                  | 972 kB 35.4 MB/s eta 0:00:01\r\u001b[K     |█████████████▉                  | 983 kB 35.4 MB/s eta 0:00:01\r\u001b[K     |██████████████                  | 993 kB 35.4 MB/s eta 0:00:01\r\u001b[K     |██████████████                  | 1.0 MB 35.4 MB/s eta 0:00:01\r\u001b[K     |██████████████▎                 | 1.0 MB 35.4 MB/s eta 0:00:01\r\u001b[K     |██████████████▍                 | 1.0 MB 35.4 MB/s eta 0:00:01\r\u001b[K     |██████████████▌                 | 1.0 MB 35.4 MB/s eta 0:00:01\r\u001b[K     |██████████████▋                 | 1.0 MB 35.4 MB/s eta 0:00:01\r\u001b[K     |██████████████▉                 | 1.1 MB 35.4 MB/s eta 0:00:01\r\u001b[K     |███████████████                 | 1.1 MB 35.4 MB/s eta 0:00:01\r\u001b[K     |███████████████                 | 1.1 MB 35.4 MB/s eta 0:00:01\r\u001b[K     |███████████████▎                | 1.1 MB 35.4 MB/s eta 0:00:01\r\u001b[K     |███████████████▍                | 1.1 MB 35.4 MB/s eta 0:00:01\r\u001b[K     |███████████████▌                | 1.1 MB 35.4 MB/s eta 0:00:01\r\u001b[K     |███████████████▊                | 1.1 MB 35.4 MB/s eta 0:00:01\r\u001b[K     |███████████████▉                | 1.1 MB 35.4 MB/s eta 0:00:01\r\u001b[K     |████████████████                | 1.1 MB 35.4 MB/s eta 0:00:01\r\u001b[K     |████████████████                | 1.1 MB 35.4 MB/s eta 0:00:01\r\u001b[K     |████████████████▎               | 1.2 MB 35.4 MB/s eta 0:00:01\r\u001b[K     |████████████████▍               | 1.2 MB 35.4 MB/s eta 0:00:01\r\u001b[K     |████████████████▌               | 1.2 MB 35.4 MB/s eta 0:00:01\r\u001b[K     |████████████████▊               | 1.2 MB 35.4 MB/s eta 0:00:01\r\u001b[K     |████████████████▉               | 1.2 MB 35.4 MB/s eta 0:00:01\r\u001b[K     |█████████████████               | 1.2 MB 35.4 MB/s eta 0:00:01\r\u001b[K     |█████████████████               | 1.2 MB 35.4 MB/s eta 0:00:01\r\u001b[K     |█████████████████▎              | 1.2 MB 35.4 MB/s eta 0:00:01\r\u001b[K     |█████████████████▍              | 1.2 MB 35.4 MB/s eta 0:00:01\r\u001b[K     |█████████████████▌              | 1.2 MB 35.4 MB/s eta 0:00:01\r\u001b[K     |█████████████████▊              | 1.3 MB 35.4 MB/s eta 0:00:01\r\u001b[K     |█████████████████▉              | 1.3 MB 35.4 MB/s eta 0:00:01\r\u001b[K     |██████████████████              | 1.3 MB 35.4 MB/s eta 0:00:01\r\u001b[K     |██████████████████▏             | 1.3 MB 35.4 MB/s eta 0:00:01\r\u001b[K     |██████████████████▎             | 1.3 MB 35.4 MB/s eta 0:00:01\r\u001b[K     |██████████████████▍             | 1.3 MB 35.4 MB/s eta 0:00:01\r\u001b[K     |██████████████████▌             | 1.3 MB 35.4 MB/s eta 0:00:01\r\u001b[K     |██████████████████▊             | 1.3 MB 35.4 MB/s eta 0:00:01\r\u001b[K     |██████████████████▉             | 1.3 MB 35.4 MB/s eta 0:00:01\r\u001b[K     |███████████████████             | 1.4 MB 35.4 MB/s eta 0:00:01\r\u001b[K     |███████████████████▏            | 1.4 MB 35.4 MB/s eta 0:00:01\r\u001b[K     |███████████████████▎            | 1.4 MB 35.4 MB/s eta 0:00:01\r\u001b[K     |███████████████████▍            | 1.4 MB 35.4 MB/s eta 0:00:01\r\u001b[K     |███████████████████▌            | 1.4 MB 35.4 MB/s eta 0:00:01\r\u001b[K     |███████████████████▊            | 1.4 MB 35.4 MB/s eta 0:00:01\r\u001b[K     |███████████████████▉            | 1.4 MB 35.4 MB/s eta 0:00:01\r\u001b[K     |████████████████████            | 1.4 MB 35.4 MB/s eta 0:00:01\r\u001b[K     |████████████████████▏           | 1.4 MB 35.4 MB/s eta 0:00:01\r\u001b[K     |████████████████████▎           | 1.4 MB 35.4 MB/s eta 0:00:01\r\u001b[K     |████████████████████▍           | 1.5 MB 35.4 MB/s eta 0:00:01\r\u001b[K     |████████████████████▋           | 1.5 MB 35.4 MB/s eta 0:00:01\r\u001b[K     |████████████████████▊           | 1.5 MB 35.4 MB/s eta 0:00:01\r\u001b[K     |████████████████████▉           | 1.5 MB 35.4 MB/s eta 0:00:01\r\u001b[K     |█████████████████████           | 1.5 MB 35.4 MB/s eta 0:00:01\r\u001b[K     |█████████████████████▏          | 1.5 MB 35.4 MB/s eta 0:00:01\r\u001b[K     |█████████████████████▎          | 1.5 MB 35.4 MB/s eta 0:00:01\r\u001b[K     |█████████████████████▍          | 1.5 MB 35.4 MB/s eta 0:00:01\r\u001b[K     |█████████████████████▋          | 1.5 MB 35.4 MB/s eta 0:00:01\r\u001b[K     |█████████████████████▊          | 1.5 MB 35.4 MB/s eta 0:00:01\r\u001b[K     |█████████████████████▉          | 1.6 MB 35.4 MB/s eta 0:00:01\r\u001b[K     |██████████████████████          | 1.6 MB 35.4 MB/s eta 0:00:01\r\u001b[K     |██████████████████████▏         | 1.6 MB 35.4 MB/s eta 0:00:01\r\u001b[K     |██████████████████████▎         | 1.6 MB 35.4 MB/s eta 0:00:01\r\u001b[K     |██████████████████████▍         | 1.6 MB 35.4 MB/s eta 0:00:01\r\u001b[K     |██████████████████████▋         | 1.6 MB 35.4 MB/s eta 0:00:01\r\u001b[K     |██████████████████████▊         | 1.6 MB 35.4 MB/s eta 0:00:01\r\u001b[K     |██████████████████████▉         | 1.6 MB 35.4 MB/s eta 0:00:01\r\u001b[K     |███████████████████████         | 1.6 MB 35.4 MB/s eta 0:00:01\r\u001b[K     |███████████████████████▏        | 1.6 MB 35.4 MB/s eta 0:00:01\r\u001b[K     |███████████████████████▎        | 1.7 MB 35.4 MB/s eta 0:00:01\r\u001b[K     |███████████████████████▍        | 1.7 MB 35.4 MB/s eta 0:00:01\r\u001b[K     |███████████████████████▋        | 1.7 MB 35.4 MB/s eta 0:00:01\r\u001b[K     |███████████████████████▊        | 1.7 MB 35.4 MB/s eta 0:00:01\r\u001b[K     |███████████████████████▉        | 1.7 MB 35.4 MB/s eta 0:00:01\r\u001b[K     |████████████████████████        | 1.7 MB 35.4 MB/s eta 0:00:01\r\u001b[K     |████████████████████████▏       | 1.7 MB 35.4 MB/s eta 0:00:01\r\u001b[K     |████████████████████████▎       | 1.7 MB 35.4 MB/s eta 0:00:01\r\u001b[K     |████████████████████████▍       | 1.7 MB 35.4 MB/s eta 0:00:01\r\u001b[K     |████████████████████████▋       | 1.8 MB 35.4 MB/s eta 0:00:01\r\u001b[K     |████████████████████████▊       | 1.8 MB 35.4 MB/s eta 0:00:01\r\u001b[K     |████████████████████████▉       | 1.8 MB 35.4 MB/s eta 0:00:01\r\u001b[K     |█████████████████████████       | 1.8 MB 35.4 MB/s eta 0:00:01\r\u001b[K     |█████████████████████████▏      | 1.8 MB 35.4 MB/s eta 0:00:01\r\u001b[K     |█████████████████████████▎      | 1.8 MB 35.4 MB/s eta 0:00:01\r\u001b[K     |█████████████████████████▌      | 1.8 MB 35.4 MB/s eta 0:00:01\r\u001b[K     |█████████████████████████▋      | 1.8 MB 35.4 MB/s eta 0:00:01\r\u001b[K     |█████████████████████████▊      | 1.8 MB 35.4 MB/s eta 0:00:01\r\u001b[K     |█████████████████████████▉      | 1.8 MB 35.4 MB/s eta 0:00:01\r\u001b[K     |██████████████████████████      | 1.9 MB 35.4 MB/s eta 0:00:01\r\u001b[K     |██████████████████████████▏     | 1.9 MB 35.4 MB/s eta 0:00:01\r\u001b[K     |██████████████████████████▎     | 1.9 MB 35.4 MB/s eta 0:00:01\r\u001b[K     |██████████████████████████▌     | 1.9 MB 35.4 MB/s eta 0:00:01\r\u001b[K     |██████████████████████████▋     | 1.9 MB 35.4 MB/s eta 0:00:01\r\u001b[K     |██████████████████████████▊     | 1.9 MB 35.4 MB/s eta 0:00:01\r\u001b[K     |██████████████████████████▉     | 1.9 MB 35.4 MB/s eta 0:00:01\r\u001b[K     |███████████████████████████     | 1.9 MB 35.4 MB/s eta 0:00:01\r\u001b[K     |███████████████████████████▏    | 1.9 MB 35.4 MB/s eta 0:00:01\r\u001b[K     |███████████████████████████▎    | 1.9 MB 35.4 MB/s eta 0:00:01\r\u001b[K     |███████████████████████████▌    | 2.0 MB 35.4 MB/s eta 0:00:01\r\u001b[K     |███████████████████████████▋    | 2.0 MB 35.4 MB/s eta 0:00:01\r\u001b[K     |███████████████████████████▊    | 2.0 MB 35.4 MB/s eta 0:00:01\r\u001b[K     |████████████████████████████    | 2.0 MB 35.4 MB/s eta 0:00:01\r\u001b[K     |████████████████████████████    | 2.0 MB 35.4 MB/s eta 0:00:01\r\u001b[K     |████████████████████████████▏   | 2.0 MB 35.4 MB/s eta 0:00:01\r\u001b[K     |████████████████████████████▎   | 2.0 MB 35.4 MB/s eta 0:00:01\r\u001b[K     |████████████████████████████▌   | 2.0 MB 35.4 MB/s eta 0:00:01\r\u001b[K     |████████████████████████████▋   | 2.0 MB 35.4 MB/s eta 0:00:01\r\u001b[K     |████████████████████████████▊   | 2.0 MB 35.4 MB/s eta 0:00:01\r\u001b[K     |█████████████████████████████   | 2.1 MB 35.4 MB/s eta 0:00:01\r\u001b[K     |█████████████████████████████   | 2.1 MB 35.4 MB/s eta 0:00:01\r\u001b[K     |█████████████████████████████▏  | 2.1 MB 35.4 MB/s eta 0:00:01\r\u001b[K     |█████████████████████████████▎  | 2.1 MB 35.4 MB/s eta 0:00:01\r\u001b[K     |█████████████████████████████▌  | 2.1 MB 35.4 MB/s eta 0:00:01\r\u001b[K     |█████████████████████████████▋  | 2.1 MB 35.4 MB/s eta 0:00:01\r\u001b[K     |█████████████████████████████▊  | 2.1 MB 35.4 MB/s eta 0:00:01\r\u001b[K     |██████████████████████████████  | 2.1 MB 35.4 MB/s eta 0:00:01\r\u001b[K     |██████████████████████████████  | 2.1 MB 35.4 MB/s eta 0:00:01\r\u001b[K     |██████████████████████████████▏ | 2.2 MB 35.4 MB/s eta 0:00:01\r\u001b[K     |██████████████████████████████▍ | 2.2 MB 35.4 MB/s eta 0:00:01\r\u001b[K     |██████████████████████████████▌ | 2.2 MB 35.4 MB/s eta 0:00:01\r\u001b[K     |██████████████████████████████▋ | 2.2 MB 35.4 MB/s eta 0:00:01\r\u001b[K     |██████████████████████████████▊ | 2.2 MB 35.4 MB/s eta 0:00:01\r\u001b[K     |███████████████████████████████ | 2.2 MB 35.4 MB/s eta 0:00:01\r\u001b[K     |███████████████████████████████ | 2.2 MB 35.4 MB/s eta 0:00:01\r\u001b[K     |███████████████████████████████▏| 2.2 MB 35.4 MB/s eta 0:00:01\r\u001b[K     |███████████████████████████████▍| 2.2 MB 35.4 MB/s eta 0:00:01\r\u001b[K     |███████████████████████████████▌| 2.2 MB 35.4 MB/s eta 0:00:01\r\u001b[K     |███████████████████████████████▋| 2.3 MB 35.4 MB/s eta 0:00:01\r\u001b[K     |███████████████████████████████▊| 2.3 MB 35.4 MB/s eta 0:00:01\r\u001b[K     |████████████████████████████████| 2.3 MB 35.4 MB/s eta 0:00:01\r\u001b[K     |████████████████████████████████| 2.3 MB 35.4 MB/s \n",
            "\u001b[?25hRequirement already satisfied: numpy in /usr/local/lib/python3.7/dist-packages (from biopython) (1.19.5)\n",
            "Installing collected packages: biopython\n",
            "Successfully installed biopython-1.79\n"
          ]
        }
      ]
    },
    {
      "cell_type": "code",
      "metadata": {
        "colab": {
          "base_uri": "https://localhost:8080/"
        },
        "id": "3Qni2mfUykge",
        "outputId": "4fc05437-390c-4e9e-fd6f-5b58a6097177"
      },
      "source": [
        " !pip3.7 install fair-esm"
      ],
      "execution_count": 16,
      "outputs": [
        {
          "output_type": "stream",
          "name": "stdout",
          "text": [
            "Collecting fair-esm\n",
            "  Downloading fair_esm-0.4.0-py3-none-any.whl (37 kB)\n",
            "Installing collected packages: fair-esm\n",
            "Successfully installed fair-esm-0.4.0\n"
          ]
        }
      ]
    },
    {
      "cell_type": "code",
      "metadata": {
        "id": "WE6NsiN_ykgV"
      },
      "source": [
        "import matplotlib as mpl\n",
        "import matplotlib.pyplot as plt\n",
        "from matplotlib import colors\n",
        "import numpy\n",
        "\n",
        "from Bio import SeqIO\n",
        "from sklearn.model_selection import train_test_split\n",
        "from sklearn.utils import shuffle\n",
        "from sklearn.decomposition import PCA"
      ],
      "execution_count": 2,
      "outputs": []
    },
    {
      "cell_type": "markdown",
      "metadata": {
        "id": "L1qytLnjUgl1"
      },
      "source": [
        "Command to run to open data files in Google Colab environment."
      ]
    },
    {
      "cell_type": "code",
      "metadata": {
        "colab": {
          "base_uri": "https://localhost:8080/"
        },
        "id": "VJyU4CJ7Ry1J",
        "outputId": "54df8726-8bcc-4d48-f167-4aea46afa161"
      },
      "source": [
        "!unzip data.zip"
      ],
      "execution_count": 20,
      "outputs": [
        {
          "output_type": "stream",
          "name": "stdout",
          "text": [
            "Archive:  data.zip\n",
            "   creating: data/\n",
            "   creating: data/visualization/\n",
            "  inflating: data/visualization/validation_and_testing_sequences_visualisation_PyMDE.png  \n",
            "  inflating: data/visualization/testing_sequences_visualisation_matplotlib.png  \n",
            "  inflating: data/visualization/validation_sequences_visualisation_PyMDE.png  \n",
            "  inflating: data/visualization/validation_sequences_visualization_MatPlotLib.png  \n",
            "  inflating: data/visualization/validation_and_testing_sequences_visualisation_matplotlib.png  \n",
            "  inflating: data/visualization/testing_sequences_visualisation_PyMDE.png  \n",
            "  inflating: data/.DS_Store          \n",
            "   creating: data/proteomes/\n",
            "  inflating: data/proteomes/UP000001974_273057.fasta  \n",
            "  inflating: data/proteomes/UP000000625_83333.fasta  \n",
            "   creating: data/FASTA/\n",
            "  inflating: data/FASTA/training_sequences_sample.fasta  \n",
            "  inflating: data/FASTA/filtered_testing_sequences.fasta  \n",
            "  inflating: data/FASTA/.DS_Store    \n",
            "  inflating: data/FASTA/testing_sequences.fasta  \n",
            "  inflating: data/FASTA/training_sequences.fasta  \n",
            "  inflating: data/FASTA/validation_sequences.fasta  \n",
            "  inflating: data/FASTA/filtered_validation_sequences.fasta  \n",
            "  inflating: data/FASTA/filtered_training_sequences.fasta  \n",
            "   creating: data/CSV/\n",
            "  inflating: data/CSV/validation_temperature_annotations.csv  \n",
            "  inflating: data/CSV/testing_temperature_annotations.csv  \n",
            "  inflating: data/CSV/training_temperature_annotations.csv  \n",
            "   creating: data/EMB_ESM1b/\n",
            "  inflating: data/EMB_ESM1b/training_embeddings.lst  \n",
            "  inflating: data/EMB_ESM1b/.DS_Store  \n",
            "  inflating: data/EMB_ESM1b/sample_ids.lst  \n",
            "  inflating: data/EMB_ESM1b/training_emb_info  \n",
            "  inflating: data/EMB_ESM1b/validation_emb_info  \n",
            "  inflating: data/EMB_ESM1b/testing_embeddings.lst  \n",
            "  inflating: data/EMB_ESM1b/training_embeddings_sample.lst  \n",
            "  inflating: data/EMB_ESM1b/validation_embeddings.lst  \n"
          ]
        }
      ]
    },
    {
      "cell_type": "markdown",
      "metadata": {
        "id": "45TFJZTLykgW"
      },
      "source": [
        "## Configuration of temperature labels and input files"
      ]
    },
    {
      "cell_type": "code",
      "metadata": {
        "id": "ho9rDAgvykgX"
      },
      "source": [
        "temperature_labels_full = [37, 80]\n",
        "\n",
        "files = ['data/proteomes/UP000000625_83333.fasta', 'data/proteomes/UP000001974_273057.fasta']"
      ],
      "execution_count": 5,
      "outputs": []
    },
    {
      "cell_type": "markdown",
      "metadata": {
        "id": "UE4f6R78ykgX"
      },
      "source": [
        "## Splitting the dataset for training, validation and testing\n",
        "\n",
        "The proportions for splitting were chosen to be 70%, 15% and 15% for training, validation and testing respectively."
      ]
    },
    {
      "cell_type": "code",
      "metadata": {
        "id": "zHfA3icmykgY"
      },
      "source": [
        "# Initialisation of the dataset container\n",
        "data = {\n",
        "    'train': {\n",
        "        'X' : [],\n",
        "        'Y' : [],\n",
        "        'FASTA_prefix': 'data/FASTA/training_',\n",
        "        'CSV_prefix': 'data/CSV/training_',\n",
        "    },\n",
        "    'validate': {\n",
        "        'X' : [],\n",
        "        'Y' : [],\n",
        "        'FASTA_prefix': 'data/FASTA/validation_',\n",
        "        'CSV_prefix': 'data/CSV/validation_'\n",
        "    },\n",
        "    'test': {\n",
        "        'X' : [],\n",
        "        'Y' : [],\n",
        "        'FASTA_prefix': 'data/FASTA/testing_',\n",
        "        'CSV_prefix': 'data/CSV/testing_'\n",
        "    }\n",
        "}\n",
        "\n",
        "# Removing duplicate sequences in the dataset\n",
        "seen = set()\n",
        "\n",
        "for i in range(len(temperature_labels_full)):\n",
        "    records = [] \n",
        "    # Parsing sequences (X dataset) from one dataset \n",
        "    for record in SeqIO.parse(files[i], \"fasta\"):\n",
        "        if record.seq not in seen:\n",
        "            seen.add(record.seq)\n",
        "            records.append(record)\n",
        "\n",
        "    # Creating Y dataset from temperature labels \n",
        "    temperature_labels = [temperature_labels_full[i]] * len(records)\n",
        "\n",
        "    # Spliting the dataset to 70% (training) and 30% (trying)\n",
        "    X_train, X_try, Y_train, Y_try = train_test_split(records, temperature_labels, test_size=0.3, shuffle=True, random_state=1)\n",
        "\n",
        "    # Splitting 30% from the initial set in half for calidation and testing\n",
        "    X_validate, X_test, Y_validate, Y_test = train_test_split(X_try, Y_try, test_size=0.5, shuffle=True, random_state=1)\n",
        "\n",
        "    data['train']['X'] = data['train']['X'] + X_train\n",
        "    data['train']['Y'] = data['train']['Y'] + Y_train\n",
        "    data['validate']['X'] = data['validate']['X'] + X_validate\n",
        "    data['validate']['Y'] = data['validate']['Y'] + Y_validate\n",
        "    data['test']['X'] = data['test']['X'] + X_test\n",
        "    data['test']['Y'] = data['test']['Y'] + Y_test\n",
        "\n",
        "# Shuffling the datasets\n",
        "for element in data.keys():\n",
        "    data[element]['X'], data[element]['Y'] = shuffle(data[element]['X'], data[element]['Y'], random_state=1)\n",
        "\n"
      ],
      "execution_count": 6,
      "outputs": []
    },
    {
      "cell_type": "markdown",
      "metadata": {
        "id": "KUZVjOUWykgZ"
      },
      "source": [
        "## Checking the success of parsing"
      ]
    },
    {
      "cell_type": "code",
      "metadata": {
        "colab": {
          "base_uri": "https://localhost:8080/"
        },
        "id": "oag6UzGoykgZ",
        "outputId": "473e080a-55f4-476c-faab-925737cc0bae"
      },
      "source": [
        "print(len(seen))\n",
        "print(len(data['train']['X']))\n",
        "print(len(data['validate']['X']))\n",
        "print(len(data['test']['X']))"
      ],
      "execution_count": null,
      "outputs": [
        {
          "name": "stdout",
          "output_type": "stream",
          "text": [
            "7288\n",
            "5101\n",
            "1093\n",
            "1094\n"
          ]
        }
      ]
    },
    {
      "cell_type": "markdown",
      "metadata": {
        "id": "W73lIrirFMbT"
      },
      "source": [
        "## Checking the maximum length"
      ]
    },
    {
      "cell_type": "code",
      "metadata": {
        "colab": {
          "base_uri": "https://localhost:8080/"
        },
        "id": "KOX6LQI0BRVv",
        "outputId": "d774984f-e476-4981-ef89-d10d22ab3c1b"
      },
      "source": [
        "max_length = 0\n",
        "max_length_seq = None\n",
        "\n",
        "for element in data.keys():\n",
        "    for i in range(len(data[element]['X'])):\n",
        "        if(len(data[element]['X'][i].seq) > max_length):\n",
        "            max_length = len(data[element]['X'][i].seq)\n",
        "            max_length_seq = data[element]['X'][i]\n",
        "\n",
        "print(max_length)\n",
        "print(max_length_seq)"
      ],
      "execution_count": null,
      "outputs": [
        {
          "name": "stdout",
          "output_type": "stream",
          "text": [
            "2358\n",
            "ID: sp|P76347|YEEJ_ECOLI\n",
            "Name: sp|P76347|YEEJ_ECOLI\n",
            "Description: sp|P76347|YEEJ_ECOLI Uncharacterized protein YeeJ OS=Escherichia coli (strain K12) OX=83333 GN=yeeJ PE=3 SV=3\n",
            "Number of features: 0\n",
            "Seq('MATKKRSGEEINDRQILCGMGIKLRRLTAGICLITQLAFPMAAAAQGVVNAATQ...KNL')\n"
          ]
        }
      ]
    },
    {
      "cell_type": "markdown",
      "metadata": {
        "id": "NhwuRL0Eykga"
      },
      "source": [
        "## Creating files "
      ]
    },
    {
      "cell_type": "markdown",
      "metadata": {
        "id": "HU0InoZBykga"
      },
      "source": [
        "`[training|validation|testing]_sequences.fasta`"
      ]
    },
    {
      "cell_type": "code",
      "metadata": {
        "id": "txP8JgWtykgb"
      },
      "source": [
        "# Creating data/FASTA/*_sequences.fasta files\n",
        "\n",
        "for element in data.keys():\n",
        "    file_name = data[element]['FASTA_prefix']+'sequences.fasta'\n",
        "    file_handle = open(file_name, 'w')\n",
        "    for record in data[element]['X']:\n",
        "        file_handle.write('>'+record.name.split('|')[1])\n",
        "        file_handle.write(\"\\n\")\n",
        "        file_handle.write(str(record.seq))\n",
        "        file_handle.write(\"\\n\")\n",
        "    file_handle.close()"
      ],
      "execution_count": null,
      "outputs": []
    },
    {
      "cell_type": "markdown",
      "metadata": {
        "id": "zSXdGqS8ykgb"
      },
      "source": [
        "  `[training|validation|testing]_temperature_annotations.csv`"
      ]
    },
    {
      "cell_type": "code",
      "metadata": {
        "id": "LnrHY7UVykgc"
      },
      "source": [
        "# Creating data/*_temperature_annotations.csv files\n",
        "\n",
        "for element in data.keys():\n",
        "    file_name = data[element]['CSV_prefix']+'temperature_annotations.csv'\n",
        "    file_handle = open(file_name, 'w')\n",
        "    file_handle.write('identifier,label'+\"\\n\")\n",
        "    for i in range(len(data[element]['X'])):\n",
        "        file_handle.write(data[element]['X'][i].name.split('|')[1]+','+str(data[element]['Y'][i]))\n",
        "        file_handle.write(\"\\n\")\n",
        "    file_handle.close()"
      ],
      "execution_count": null,
      "outputs": []
    },
    {
      "cell_type": "markdown",
      "metadata": {
        "id": "Vpls7v68iiyd"
      },
      "source": [
        "## Filtering sequences from initial FASTA files \n",
        "\n",
        "Since the visualisation is not allowed without embedding for each FASTA sequence, it was required to filter all sequences and keep only those that have their embeddings."
      ]
    },
    {
      "cell_type": "code",
      "metadata": {
        "id": "hxKMiUVfsNd0"
      },
      "source": [
        "data_filtered = {\n",
        "    'train': {\n",
        "        'X': [],\n",
        "        'Y': [],\n",
        "        'FASTA_prefix': 'data/FASTA/filtered_training_',\n",
        "        'CSV_prefix': 'data/CSV/filtered_training_',\n",
        "        'embedding_list': './data/EMB_ESM1b/training_embeddings_sample.lst',\n",
        "        'embeddings': 'training_embeddings_sample'\n",
        "    },\n",
        "    'validate': {\n",
        "        'X': [],\n",
        "        'Y': [],\n",
        "        'FASTA_prefix': 'data/FASTA/filtered_validation_',\n",
        "        'CSV_prefix': 'data/CSV/filtered_validation_',\n",
        "        'embedding_list': './data/EMB_ESM1b/validation_embeddings.lst',\n",
        "        'embeddings': '/content/drive/MyDrive/validation_sequences'\n",
        "    },\n",
        "    'test': {\n",
        "        'X' : [],\n",
        "        'Y' : [],\n",
        "        'FASTA_prefix': 'data/FASTA/filtered_testing_',\n",
        "        'CSV_prefix': 'data/CSV/filtered_testing_',\n",
        "        'embedding_list': './data/EMB_ESM1b/testing_embeddings.lst',\n",
        "        'embeddings': '/content/drive/MyDrive/testing_sequences'\n",
        "    }\n",
        "}\n",
        "\n",
        "for element in data.keys():\n",
        "    emb_list_handle = open(data_filtered[element]['embedding_list'], 'r')\n",
        "    emb_list = emb_list_handle.readlines()\n",
        "    emb_list_handle.close()\n",
        "    emb_set = set()\n",
        "    for j in range(len(emb_list)):\n",
        "        emb_set.add(emb_list[j].split('.')[0])\n",
        "    for i in range(len(data[element]['X'])):\n",
        "        if(data[element]['X'][i].id.split('|')[1] in emb_set):\n",
        "            data_filtered[element]['X'].append(data[element]['X'][i])\n",
        "            data_filtered[element]['Y'].append(data[element]['Y'][i])\n"
      ],
      "execution_count": 22,
      "outputs": []
    },
    {
      "cell_type": "markdown",
      "metadata": {
        "id": "e6pz1E02Q6kK"
      },
      "source": [
        "Testing, whether the filtration was successful."
      ]
    },
    {
      "cell_type": "code",
      "metadata": {
        "colab": {
          "base_uri": "https://localhost:8080/"
        },
        "id": "y2x1icbPQ6kK",
        "outputId": "deff172a-410d-4392-da5f-7b97c5022259"
      },
      "source": [
        "print(len(data_filtered['train']['X']))\n",
        "print(len(data_filtered['validate']['X']))\n",
        "print(len(data_filtered['test']['X']))"
      ],
      "execution_count": 23,
      "outputs": [
        {
          "output_type": "stream",
          "name": "stdout",
          "text": [
            "1264\n",
            "1079\n",
            "1080\n"
          ]
        }
      ]
    },
    {
      "cell_type": "markdown",
      "metadata": {
        "id": "sp9jacV9Q6kL"
      },
      "source": [
        "## Creating filtered FASTA files"
      ]
    },
    {
      "cell_type": "code",
      "metadata": {
        "id": "-Nx5lg2wQ6kL"
      },
      "source": [
        "# Creating data/FASTA/filtered_*_sequences.fasta files\n",
        "\n",
        "for element in data_filtered.keys():\n",
        "    file_name = data_filtered[element]['FASTA_prefix']+'sequences.fasta'\n",
        "    file_handle = open(file_name, 'w')\n",
        "    for i in range(len(data_filtered[element]['X'])):\n",
        "    #for i in range(5):\n",
        "        #file_handle.write('>'+record.name.split('|')[1])\n",
        "        file_handle.write('>'+data_filtered[element]['X'][i].name.split('|')[1]+'|'+str(data_filtered[element]['Y'][i]))\n",
        "        #print('>'+data_filtered[element]['X'][i].name.split('|')[1]+'|'+str(data_filtered[element]['Y'][i]))\n",
        "        file_handle.write(\"\\n\")\n",
        "        file_handle.write(str(record.seq))\n",
        "        file_handle.write(\"\\n\")\n",
        "    file_handle.close()"
      ],
      "execution_count": null,
      "outputs": []
    },
    {
      "cell_type": "markdown",
      "metadata": {
        "id": "BvPzHeRz3VP8"
      },
      "source": [
        "## Visualisation of embeddings"
      ]
    },
    {
      "cell_type": "code",
      "metadata": {
        "colab": {
          "base_uri": "https://localhost:8080/"
        },
        "id": "AgsrP8XIExVc",
        "outputId": "4227a897-cc01-4778-a1e1-79111e2adeed"
      },
      "source": [
        "!pip3.7 install pymde"
      ],
      "execution_count": 17,
      "outputs": [
        {
          "output_type": "stream",
          "name": "stdout",
          "text": [
            "Requirement already satisfied: pymde in /usr/local/lib/python3.7/dist-packages (0.1.13)\n",
            "Requirement already satisfied: torchvision>=0.8.2 in /usr/local/lib/python3.7/dist-packages (from pymde) (0.11.1+cu111)\n",
            "Requirement already satisfied: numpy>=1.17.5 in /usr/local/lib/python3.7/dist-packages (from pymde) (1.19.5)\n",
            "Requirement already satisfied: torch>=1.7.1 in /usr/local/lib/python3.7/dist-packages (from pymde) (1.10.0+cu111)\n",
            "Requirement already satisfied: matplotlib in /usr/local/lib/python3.7/dist-packages (from pymde) (3.2.2)\n",
            "Requirement already satisfied: requests in /usr/local/lib/python3.7/dist-packages (from pymde) (2.23.0)\n",
            "Requirement already satisfied: scipy in /usr/local/lib/python3.7/dist-packages (from pymde) (1.4.1)\n",
            "Requirement already satisfied: pynndescent in /usr/local/lib/python3.7/dist-packages (from pymde) (0.5.5)\n",
            "Requirement already satisfied: typing-extensions in /usr/local/lib/python3.7/dist-packages (from torch>=1.7.1->pymde) (3.10.0.2)\n",
            "Requirement already satisfied: pillow!=8.3.0,>=5.3.0 in /usr/local/lib/python3.7/dist-packages (from torchvision>=0.8.2->pymde) (7.1.2)\n",
            "Requirement already satisfied: pyparsing!=2.0.4,!=2.1.2,!=2.1.6,>=2.0.1 in /usr/local/lib/python3.7/dist-packages (from matplotlib->pymde) (2.4.7)\n",
            "Requirement already satisfied: python-dateutil>=2.1 in /usr/local/lib/python3.7/dist-packages (from matplotlib->pymde) (2.8.2)\n",
            "Requirement already satisfied: kiwisolver>=1.0.1 in /usr/local/lib/python3.7/dist-packages (from matplotlib->pymde) (1.3.2)\n",
            "Requirement already satisfied: cycler>=0.10 in /usr/local/lib/python3.7/dist-packages (from matplotlib->pymde) (0.11.0)\n",
            "Requirement already satisfied: six>=1.5 in /usr/local/lib/python3.7/dist-packages (from python-dateutil>=2.1->matplotlib->pymde) (1.15.0)\n",
            "Requirement already satisfied: joblib>=0.11 in /usr/local/lib/python3.7/dist-packages (from pynndescent->pymde) (1.1.0)\n",
            "Requirement already satisfied: llvmlite>=0.30 in /usr/local/lib/python3.7/dist-packages (from pynndescent->pymde) (0.34.0)\n",
            "Requirement already satisfied: scikit-learn>=0.18 in /usr/local/lib/python3.7/dist-packages (from pynndescent->pymde) (1.0.1)\n",
            "Requirement already satisfied: numba>=0.51.2 in /usr/local/lib/python3.7/dist-packages (from pynndescent->pymde) (0.51.2)\n",
            "Requirement already satisfied: setuptools in /usr/local/lib/python3.7/dist-packages (from numba>=0.51.2->pynndescent->pymde) (57.4.0)\n",
            "Requirement already satisfied: threadpoolctl>=2.0.0 in /usr/local/lib/python3.7/dist-packages (from scikit-learn>=0.18->pynndescent->pymde) (3.0.0)\n",
            "Requirement already satisfied: certifi>=2017.4.17 in /usr/local/lib/python3.7/dist-packages (from requests->pymde) (2021.10.8)\n",
            "Requirement already satisfied: urllib3!=1.25.0,!=1.25.1,<1.26,>=1.21.1 in /usr/local/lib/python3.7/dist-packages (from requests->pymde) (1.24.3)\n",
            "Requirement already satisfied: idna<3,>=2.5 in /usr/local/lib/python3.7/dist-packages (from requests->pymde) (2.10)\n",
            "Requirement already satisfied: chardet<4,>=3.0.2 in /usr/local/lib/python3.7/dist-packages (from requests->pymde) (3.0.4)\n"
          ]
        }
      ]
    },
    {
      "cell_type": "code",
      "metadata": {
        "id": "UzV7GoUrjC_5",
        "colab": {
          "base_uri": "https://localhost:8080/"
        },
        "outputId": "75e93c5f-3456-4bb5-fb2d-5209a3d31b09"
      },
      "source": [
        "from google.colab import drive\n",
        "drive.mount('/content/drive')"
      ],
      "execution_count": 7,
      "outputs": [
        {
          "output_type": "stream",
          "name": "stdout",
          "text": [
            "Mounted at /content/drive\n"
          ]
        }
      ]
    },
    {
      "cell_type": "code",
      "metadata": {
        "id": "J-zZzKamACQ3"
      },
      "source": [
        "!unzip ./drive/MyDrive/training_embeddings_sample.zip"
      ],
      "execution_count": null,
      "outputs": []
    },
    {
      "cell_type": "code",
      "metadata": {
        "id": "bORFLR2GAXg5"
      },
      "source": [
        "import esm\n",
        "import torch\n",
        "import pymde\n",
        "\n",
        "EMB_LAYER = 33"
      ],
      "execution_count": 18,
      "outputs": []
    },
    {
      "cell_type": "markdown",
      "metadata": {
        "id": "_8-7For9AytP"
      },
      "source": [
        "### Visualisation of training dataset sample embeddings"
      ]
    },
    {
      "cell_type": "code",
      "metadata": {
        "id": "MQGH3UfTAabJ"
      },
      "source": [
        "Ys = []\n",
        "Xs = []\n",
        "\n",
        "keys = ['train']\n",
        "\n",
        "for key in keys:\n",
        "    FASTA_PATH = 'data/FASTA/filtered_training_sample_sequences.fasta'\n",
        "    EMB_PATH = data_filtered[key]['embeddings']\n",
        "    for header, _seq in esm.data.read_fasta(FASTA_PATH):\n",
        "        temperature_label = header.split('|')[-1]\n",
        "        Ys.append(int(temperature_label))\n",
        "        file_name = header.split('|')[0][1:]\n",
        "        fn = f'{EMB_PATH}/{file_name}.pt'\n",
        "        embs = torch.load(fn)\n",
        "        Xs.append(embs['mean_representations'][EMB_LAYER])\n",
        "\n",
        "Xs = torch.stack(Xs, dim=0).numpy()"
      ],
      "execution_count": 33,
      "outputs": []
    },
    {
      "cell_type": "code",
      "metadata": {
        "id": "LnMLXXFMKgGs"
      },
      "source": [
        "pca = PCA(60)\n",
        "Xs_train_pca = pca.fit_transform(Xs)"
      ],
      "execution_count": 34,
      "outputs": []
    },
    {
      "cell_type": "code",
      "metadata": {
        "colab": {
          "base_uri": "https://localhost:8080/",
          "height": 392
        },
        "id": "wBsWxsAZKpWa",
        "outputId": "5cb4ea87-b509-4172-9cee-a2c1fb3d3369"
      },
      "source": [
        "fig_dims = (7, 6)\n",
        "fig, ax = plt.subplots(figsize=fig_dims)\n",
        "sc = ax.scatter(Xs_train_pca[:,0], Xs_train_pca[:,1], c=Ys, marker='.')\n",
        "ax.set_xlabel('PCA first principal component')\n",
        "ax.set_ylabel('PCA second principal component')\n",
        "plt.colorbar(sc, label='Variant Effect', ticks=numpy.linspace(37, 80, 2))\n",
        "plt.savefig('training_sample_visualisation_matplotlib.png')"
      ],
      "execution_count": 35,
      "outputs": [
        {
          "output_type": "display_data",
          "data": {
            "image/png": "[encoded data removed]",
            "text/plain": [
              "<Figure size 504x432 with 2 Axes>"
            ]
          },
          "metadata": {
            "needs_background": "light"
          }
        }
      ]
    },
    {
      "cell_type": "code",
      "metadata": {
        "colab": {
          "base_uri": "https://localhost:8080/"
        },
        "id": "xW8sG8vAK2AC",
        "outputId": "3a5154e5-a05f-4f80-8dc6-9170de124ba3"
      },
      "source": [
        "Xs_torch = None\n",
        "\n",
        "Xs_torch = torch.from_numpy(Xs)\n",
        "\n",
        "embedding = pymde.preserve_neighbors(Xs_torch).embed(verbose=True)"
      ],
      "execution_count": 40,
      "outputs": [
        {
          "output_type": "stream",
          "name": "stdout",
          "text": [
            "Nov 16 02:37:01 PM: Fitting a centered embedding into R^2, for a graph with 1264 items and 12110 edges.\n",
            "Nov 16 02:37:01 PM: `embed` method parameters: eps=1.0e-05, max_iter=300, memory_size=10\n",
            "Nov 16 02:37:01 PM: iteration 000 | distortion 0.619216 | residual norm 0.217884 | step length 0.20259 | percent change 0.0877921\n",
            "Nov 16 02:37:01 PM: iteration 030 | distortion 0.210807 | residual norm 0.00167339 | step length 1 | percent change 1.1717\n",
            "Nov 16 02:37:01 PM: iteration 060 | distortion 0.205562 | residual norm 0.000886478 | step length 1 | percent change 0.493154\n",
            "Nov 16 02:37:01 PM: iteration 090 | distortion 0.203612 | residual norm 0.000522552 | step length 1 | percent change 0.245445\n",
            "Nov 16 02:37:01 PM: iteration 120 | distortion 0.202894 | residual norm 0.00046328 | step length 1 | percent change 0.269901\n",
            "Nov 16 02:37:01 PM: iteration 150 | distortion 0.202468 | residual norm 0.000581267 | step length 1 | percent change 0.533678\n",
            "Nov 16 02:37:02 PM: iteration 180 | distortion 0.201978 | residual norm 0.000488446 | step length 1 | percent change 0.121881\n",
            "Nov 16 02:37:02 PM: iteration 210 | distortion 0.201585 | residual norm 0.000441338 | step length 1 | percent change 0.229849\n",
            "Nov 16 02:37:02 PM: iteration 240 | distortion 0.201393 | residual norm 0.000302869 | step length 1 | percent change 0.152645\n",
            "Nov 16 02:37:02 PM: iteration 270 | distortion 0.201302 | residual norm 0.000364567 | step length 1 | percent change 0.105145\n",
            "Nov 16 02:37:02 PM: iteration 299 | distortion 0.201066 | residual norm 0.000429144 | step length 1 | percent change 0.0988159\n",
            "Nov 16 02:37:02 PM: Finished fitting in 1.285 seconds and 300 iterations.\n",
            "Nov 16 02:37:02 PM: average distortion 0.201 | residual norm 4.3e-04\n"
          ]
        }
      ]
    },
    {
      "cell_type": "code",
      "metadata": {
        "colab": {
          "base_uri": "https://localhost:8080/",
          "height": 568
        },
        "id": "OWckjTy3K447",
        "outputId": "52e47788-fbae-4746-e134-9af263e46ccd"
      },
      "source": [
        "pymde.plot(embedding, color_by=Ys, savepath='training_sample_visualisation_PyMDE.png')"
      ],
      "execution_count": 41,
      "outputs": [
        {
          "output_type": "execute_result",
          "data": {
            "text/plain": [
              "<matplotlib.axes._subplots.AxesSubplot at 0x7fa6608c0f50>"
            ]
          },
          "metadata": {},
          "execution_count": 41
        },
        {
          "output_type": "display_data",
          "data": {
            "image/png": "[encoded data removed]",
            "text/plain": [
              "<Figure size 576x576 with 2 Axes>"
            ]
          },
          "metadata": {
            "needs_background": "light"
          }
        }
      ]
    },
    {
      "cell_type": "markdown",
      "metadata": {
        "id": "2GFf5j_BAa9Y"
      },
      "source": [
        "### Visualisation of validation and testing dataset embeddings"
      ]
    },
    {
      "cell_type": "code",
      "metadata": {
        "id": "rg52LTBOJgox"
      },
      "source": [
        "Ys = []\n",
        "Xs = []\n",
        "\n",
        "keys = ['validate', 'test']\n",
        "\n",
        "for key in keys:\n",
        "    FASTA_PATH = data_filtered[key]['FASTA_prefix']+'sequences.fasta'\n",
        "    EMB_PATH = data_filtered[key]['embeddings']\n",
        "    for header, _seq in esm.data.read_fasta(FASTA_PATH):\n",
        "        temperature_label = header.split('|')[-1]\n",
        "        Ys.append(int(temperature_label))\n",
        "        file_name = header.split('|')[0][1:]\n",
        "        fn = f'{EMB_PATH}/{file_name}.pt'\n",
        "        embs = torch.load(fn)\n",
        "        Xs.append(embs['mean_representations'][EMB_LAYER])\n",
        "\n",
        "Xs = torch.stack(Xs, dim=0).numpy()\n"
      ],
      "execution_count": 24,
      "outputs": []
    },
    {
      "cell_type": "markdown",
      "metadata": {
        "id": "ZqNvOT1wKiKv"
      },
      "source": [
        "Testing the parsing."
      ]
    },
    {
      "cell_type": "code",
      "metadata": {
        "colab": {
          "base_uri": "https://localhost:8080/"
        },
        "id": "si3g-gdHzRP7",
        "outputId": "70e4b7e7-c82a-4e90-d402-b4a3b585b643"
      },
      "source": [
        "print(len(Ys))\n",
        "print(Xs.shape)"
      ],
      "execution_count": 25,
      "outputs": [
        {
          "output_type": "stream",
          "name": "stdout",
          "text": [
            "1264\n",
            "(1264, 1280)\n"
          ]
        }
      ]
    },
    {
      "cell_type": "code",
      "metadata": {
        "id": "xfYA1YmFm1Tn"
      },
      "source": [
        "pca = PCA(60)\n",
        "Xs_train_pca = pca.fit_transform(Xs)"
      ],
      "execution_count": 26,
      "outputs": []
    },
    {
      "cell_type": "code",
      "metadata": {
        "id": "9xOXDYgCm6K-"
      },
      "source": [
        "fig_dims = (7, 6)\n",
        "fig, ax = plt.subplots(figsize=fig_dims)\n",
        "sc = ax.scatter(Xs_train_pca[:,0], Xs_train_pca[:,1], c=Ys, marker='.')\n",
        "ax.set_xlabel('PCA first principal component')\n",
        "ax.set_ylabel('PCA second principal component')\n",
        "plt.colorbar(sc, label='Variant Effect', ticks=numpy.linspace(37, 80, 2))\n",
        "plt.savefig('validation_and_testing_sequences_visualisation_matplotlib.png')"
      ],
      "execution_count": null,
      "outputs": []
    },
    {
      "cell_type": "code",
      "metadata": {
        "id": "zGW-b6QdrACY"
      },
      "source": [
        "Xs_torch = torch.from_numpy(Xs)\n",
        "\n",
        "embedding = pymde.preserve_neighbors(Xs_torch).embed(verbose=True)"
      ],
      "execution_count": null,
      "outputs": []
    },
    {
      "cell_type": "code",
      "metadata": {
        "id": "6S0YluhzsBf3"
      },
      "source": [
        "pymde.plot(embedding, color_by=Ys, savepath='validation_and_testing_sequences_visualisation_PyMDE.png')"
      ],
      "execution_count": null,
      "outputs": []
    },
    {
      "cell_type": "markdown",
      "metadata": {
        "id": "9boajW5lytuW"
      },
      "source": [
        "## Creating a simple feed-forward neural network with Keras.\n",
        "\n",
        "`LabelBinarizer` - package that is used to one-hot encode integer labels as vector labels.\n",
        "\n",
        "`classification_report` - function that gives a nicely formatted report to display the total accuracy of the model. Also it might show breakdown on the classification accuracy for wach digit.\n",
        "\n",
        "`Sequential` - class that indicates that the network will be feed-forward and layers will be added to the class sequentially (one on top of the other).\n",
        "\n",
        "`Dense` - class that is the implementation of the fully connected layers.\n",
        "\n",
        "Stochastic gradient descent (`SGD`) - required for the network to actually learn - it optimizes the parameters of the network.\n",
        "\n",
        "`mnist` - helper function that provides access to full MNIST dataset."
      ]
    },
    {
      "cell_type": "code",
      "metadata": {
        "id": "J58xOgw7yteU"
      },
      "source": [
        "from sklearn.preprocessing import LabelBinarizer\n",
        "from sklearn.metrics import classification_report\n",
        "from tensorflow.keras.models import Sequential\n",
        "from tensorflow.keras.layers import Dense\n",
        "from tensorflow.keras.optimizers import SGD\n",
        "from tensorflow.keras.datasets import mnist\n",
        "from tensorflow.keras import backend as K\n",
        "import matplotlib.pyplot as plt\n",
        "import numpy as np\n",
        "import argparse"
      ],
      "execution_count": null,
      "outputs": []
    },
    {
      "cell_type": "markdown",
      "metadata": {
        "id": "MXGLaPah24ez"
      },
      "source": [
        "### Loading dataset"
      ]
    },
    {
      "cell_type": "code",
      "metadata": {
        "colab": {
          "base_uri": "https://localhost:8080/"
        },
        "id": "CB6IWNEn0M8a",
        "outputId": "234e738a-1024-4df2-ea00-606cfa6c6b4f"
      },
      "source": [
        "print(\"[INFO] accessing datasets...\")\n",
        "#trainX = data['train']['X']\n",
        "#trainY = data['train']['Y']\n",
        "#testX = data['validation']['X']\n",
        "#testY = data['validation']['Y']\n",
        "((trainX, trainY), (testX, testY)) = mnist.load_data()\n",
        "\n",
        "# Reshape\n",
        "trainX = trainX.reshape((trainX.shape[0], 28 * 28 * 1))\n",
        "testX = testX.reshape((testX.shape[0], 28 * 28 * 1))\n",
        "\n",
        "# scale data to the range of [0, 1]\n",
        "trainX = trainX.astype(\"float32\") / 255.0\n",
        "testX = testX.astype(\"float32\") / 255.0"
      ],
      "execution_count": null,
      "outputs": [
        {
          "name": "stdout",
          "output_type": "stream",
          "text": [
            "[INFO] accessing datasets...\n"
          ]
        }
      ]
    },
    {
      "cell_type": "markdown",
      "metadata": {
        "id": "E4hsT4je26F-"
      },
      "source": [
        "### Encoding the labels \n",
        "\n",
        "Firstly, integer labels are transformed into vector labels."
      ]
    },
    {
      "cell_type": "code",
      "metadata": {
        "id": "pKykia8C1Kuk"
      },
      "source": [
        "# convert the labels from integers to vectors\n",
        "lb = LabelBinarizer()\n",
        "trainY = lb.fit_transform(trainY)\n",
        "testY = lb.transform(testY)"
      ],
      "execution_count": null,
      "outputs": []
    },
    {
      "cell_type": "markdown",
      "metadata": {
        "id": "CcQLLEd84qZC"
      },
      "source": [
        "### Defining network architecture\n",
        "\n",
        "`Sequential()` - instantiates the feedforward architecture.\n",
        "\n",
        "`model.add(Dense(...))` - defines the fully connected layer in the network. \n",
        "\n",
        "1. The dimension is equal to the number of each MNIST data points. This layer learns 256 weights and applies sigmoid activation function.\n",
        "\n",
        "2. The layer learns 128 weights. Activation function is also sigmoid.\n",
        "\n",
        "3. The layer that learns 10 weights. The activation function is softmax. This activation function obtains normalized class probabilities for each prediction.\n",
        "\n"
      ]
    },
    {
      "cell_type": "code",
      "metadata": {
        "id": "Iod9v-cT4svT"
      },
      "source": [
        "# define the ?-?-?-? architecture using Keras\n",
        "model = Sequential()\n",
        "model.add(Dense(256, input_shape=(784,), activation=\"sigmoid\"))\n",
        "model.add(Dense(128, activation=\"sigmoid\"))\n",
        "model.add(Dense(10, activation=\"softmax\"))"
      ],
      "execution_count": null,
      "outputs": []
    },
    {
      "cell_type": "markdown",
      "metadata": {
        "id": "mtNuFmoM6YV8"
      },
      "source": [
        "### Training the network\n",
        "\n",
        "1. Initializing the SGD optimizer with a learning rate of 0.01 (common notation 1e-2)\n",
        "2. categorical_crossentropy loss function is used as the loss metric.\n",
        "3. Calling `model.fit()` method to start the training of the network. This method returns a dictionary (`H`), which will be later used for accuracy plotting.\n"
      ]
    },
    {
      "cell_type": "code",
      "metadata": {
        "id": "cNWiLYSb6cIQ"
      },
      "source": [
        "# train the model using SGD\n",
        "print(\"[INFO] training network...\")\n",
        "sgd = SGD(0.01)\n",
        "model.compile(loss=\"categorical_crossentropy\", optimizer=sgd, metrics=[\"accuracy\"])\n",
        "H = model.fit(trainX, trainY, validation_data=(testX, testY), epochs=100, batch_size=128)"
      ],
      "execution_count": null,
      "outputs": []
    },
    {
      "cell_type": "markdown",
      "metadata": {
        "id": "bfCX51rX70Do"
      },
      "source": [
        "### Evaluating the accuracy of the model\n",
        "\n",
        "1. `model.predict()` method returns all of the class label probabilities for every data point in testX. In other words, `predictions` NumPy array has the shape `(X, 10)`, where `X` is the total number of data points in the testing set and `10` stands for the number of possible class labels.\n",
        "2. `argmax(axis=1)` function will give the index of the class label that has the largest probability (final output classification).\n",
        "\n",
        "The final output is tabulated."
      ]
    },
    {
      "cell_type": "code",
      "metadata": {
        "colab": {
          "base_uri": "https://localhost:8080/"
        },
        "id": "hUwAk5i68Igd",
        "outputId": "9d3e83a8-e780-4aee-d038-bdcf501428cd"
      },
      "source": [
        "# evaluate the network\n",
        "print(\"[INFO] evaluating network...\")\n",
        "predictions = model.predict(testX, batch_size=128)\n",
        "print(classification_report(testY.argmax(axis=1), predictions.argmax(axis=1),target_names=[str(x) for x in lb.classes_]))"
      ],
      "execution_count": null,
      "outputs": [
        {
          "name": "stdout",
          "output_type": "stream",
          "text": [
            "[INFO] evaluating network...\n",
            "              precision    recall  f1-score   support\n",
            "\n",
            "           0       0.94      0.98      0.96       980\n",
            "           1       0.97      0.97      0.97      1135\n",
            "           2       0.92      0.90      0.91      1032\n",
            "           3       0.91      0.90      0.91      1010\n",
            "           4       0.92      0.94      0.93       982\n",
            "           5       0.90      0.87      0.88       892\n",
            "           6       0.93      0.95      0.94       958\n",
            "           7       0.93      0.93      0.93      1028\n",
            "           8       0.89      0.90      0.89       974\n",
            "           9       0.92      0.90      0.91      1009\n",
            "\n",
            "    accuracy                           0.92     10000\n",
            "   macro avg       0.92      0.92      0.92     10000\n",
            "weighted avg       0.92      0.92      0.92     10000\n",
            "\n"
          ]
        }
      ]
    },
    {
      "cell_type": "markdown",
      "metadata": {
        "id": "1FTTRv3i9aIX"
      },
      "source": [
        "### Visualization of the results\n",
        "\n",
        "Plotting the training loss, training accuracy, validation loss, and validation accuracy."
      ]
    },
    {
      "cell_type": "code",
      "metadata": {
        "colab": {
          "base_uri": "https://localhost:8080/",
          "height": 299
        },
        "id": "rNZn2p_H9aww",
        "outputId": "fe11dfbf-16d2-458b-c8bd-221e4eb1fc25"
      },
      "source": [
        "# plot the training loss and accuracy\n",
        "plt.style.use(\"ggplot\")\n",
        "plt.figure()\n",
        "plt.plot(np.arange(0, 100), H.history[\"loss\"], label=\"train_loss\")\n",
        "plt.plot(np.arange(0, 100), H.history[\"val_loss\"], label=\"val_loss\")\n",
        "plt.plot(np.arange(0, 100), H.history[\"accuracy\"], label=\"train_acc\")\n",
        "plt.plot(np.arange(0, 100), H.history[\"val_accuracy\"], label=\"val_acc\")\n",
        "plt.title(\"Training Loss and Accuracy\")\n",
        "plt.xlabel(\"Epoch #\")\n",
        "plt.ylabel(\"Loss/Accuracy\")\n",
        "plt.legend()\n",
        "plt.show()"
      ],
      "execution_count": null,
      "outputs": [
        {
          "data": {
            "image/png": "[encoded data removed]",
            "text/plain": [
              "<Figure size 432x288 with 1 Axes>"
            ]
          },
          "metadata": {},
          "output_type": "display_data"
        }
      ]
    }
  ]
}
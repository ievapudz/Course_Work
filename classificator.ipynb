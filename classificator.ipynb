{
 "cells": [
  {
   "cell_type": "markdown",
   "metadata": {},
   "source": [
    "# Protein Classificator"
   ]
  },
  {
   "cell_type": "markdown",
   "metadata": {},
   "source": [
    "## Importing required packages"
   ]
  },
  {
   "cell_type": "code",
   "execution_count": 1,
   "metadata": {},
   "outputs": [],
   "source": [
    "from Bio import SeqIO\n",
    "from sklearn.model_selection import train_test_split\n",
    "from sklearn.utils import shuffle"
   ]
  },
  {
   "cell_type": "markdown",
   "metadata": {},
   "source": [
    "## Configuration of temperature labels and input files"
   ]
  },
  {
   "cell_type": "code",
   "execution_count": 2,
   "metadata": {},
   "outputs": [],
   "source": [
    "temperature_labels_full = [37, 80]\n",
    "\n",
    "files = ['data/proteomes/UP000000625_83333.fasta', 'data/proteomes/UP000001974_273057.fasta']"
   ]
  },
  {
   "cell_type": "markdown",
   "metadata": {},
   "source": [
    "## Splitting the dataset for training, validation and testing\n",
    "\n",
    "The proportions for splitting were chosen to be 70%, 15% and 15% for training, validation and testing respectively."
   ]
  },
  {
   "cell_type": "code",
   "execution_count": 14,
   "metadata": {},
   "outputs": [],
   "source": [
    "# Initialisation of the dataset container\n",
    "data = {\n",
    "    'train': {\n",
    "        'X' : [],\n",
    "        'Y' : [],\n",
    "        'FASTA_prefix': 'data/FASTA/training_',\n",
    "        'CSV_prefix': 'data/CSV/training_',\n",
    "    },\n",
    "    'validate': {\n",
    "        'X' : [],\n",
    "        'Y' : [],\n",
    "        'FASTA_prefix': 'data/FASTA/validation_',\n",
    "        'CSV_prefix': 'data/CSV/validation_'\n",
    "    },\n",
    "    'test': {\n",
    "        'X' : [],\n",
    "        'Y' : [],\n",
    "        'FASTA_prefix': 'data/FASTA/testing_',\n",
    "        'CSV_prefix': 'data/CSV/testing_'\n",
    "    }\n",
    "}\n",
    "\n",
    "# Removing duplicate sequences in the dataset\n",
    "seen = set()\n",
    "\n",
    "for i in range(len(temperature_labels_full)):\n",
    "    records = [] \n",
    "    # Parsing sequences (X dataset) from one dataset \n",
    "    for record in SeqIO.parse(files[i], \"fasta\"):\n",
    "        if record.seq not in seen:\n",
    "            seen.add(record.seq)\n",
    "            records.append(record)\n",
    "\n",
    "    # Creating Y dataset from temperature labels \n",
    "    temperature_labels = [temperature_labels_full[i]] * len(records)\n",
    "\n",
    "    # Spliting the dataset to 70% (training) and 30% (trying)\n",
    "    X_train, X_try, Y_train, Y_try = train_test_split(records, temperature_labels, test_size=0.3, shuffle=True, random_state=1)\n",
    "\n",
    "    # Splitting 30% from the initial set in half for calidation and testing\n",
    "    X_validate, X_test, Y_validate, Y_test = train_test_split(X_try, Y_try, test_size=0.5, shuffle=True, random_state=1)\n",
    "\n",
    "    data['train']['X'] = data['train']['X'] + X_train\n",
    "    data['train']['Y'] = data['train']['Y'] + Y_train\n",
    "    data['validate']['X'] = data['validate']['X'] + X_validate\n",
    "    data['validate']['Y'] = data['validate']['Y'] + Y_validate\n",
    "    data['test']['X'] = data['test']['X'] + X_test\n",
    "    data['test']['Y'] = data['test']['Y'] + Y_test\n",
    "\n",
    "# Shuffling the datasets\n",
    "for element in data.keys():\n",
    "    data[element]['X'], data[element]['Y'] = shuffle(data[element]['X'], data[element]['Y'], random_state=1)\n",
    "\n"
   ]
  },
  {
   "cell_type": "markdown",
   "metadata": {},
   "source": [
    "## Checking the success of parsing"
   ]
  },
  {
   "cell_type": "code",
   "execution_count": 15,
   "metadata": {},
   "outputs": [
    {
     "name": "stdout",
     "output_type": "stream",
     "text": [
      "7288\n",
      "5101\n",
      "1093\n",
      "1094\n"
     ]
    }
   ],
   "source": [
    "print(len(seen))\n",
    "print(len(data['train']['X']))\n",
    "print(len(data['validate']['X']))\n",
    "print(len(data['test']['X']))"
   ]
  },
  {
   "cell_type": "markdown",
   "metadata": {},
   "source": [
    "## Creating files "
   ]
  },
  {
   "cell_type": "markdown",
   "metadata": {},
   "source": [
    "`[training|validation|testing]_sequences.fasta`"
   ]
  },
  {
   "cell_type": "code",
   "execution_count": 16,
   "metadata": {},
   "outputs": [],
   "source": [
    "# Creating data/*_sequences.fasta files\n",
    "\n",
    "for element in data.keys():\n",
    "    file_name = data[element]['FASTA_prefix']+'sequences.fasta'\n",
    "    file_handle = open(file_name, 'w')\n",
    "    for record in data[element]['X']:\n",
    "        file_handle.write('>'+record.name.split('|')[1])\n",
    "        file_handle.write(\"\\n\")\n",
    "        file_handle.write(str(record.seq))\n",
    "        file_handle.write(\"\\n\")\n",
    "    file_handle.close()"
   ]
  },
  {
   "cell_type": "markdown",
   "metadata": {},
   "source": [
    "  `[training|validation|testing]_temperature_annotations.csv`"
   ]
  },
  {
   "cell_type": "code",
   "execution_count": 17,
   "metadata": {},
   "outputs": [],
   "source": [
    "# Creating data/*_temperature_annotations.csv files\n",
    "\n",
    "for element in data.keys():\n",
    "    file_name = data[element]['CSV_prefix']+'temperature_annotations.csv'\n",
    "    file_handle = open(file_name, 'w')\n",
    "    file_handle.write('identifier,label'+\"\\n\")\n",
    "    for i in range(len(data[element]['X'])):\n",
    "        file_handle.write(data[element]['X'][i].name.split('|')[1]+','+str(data[element]['Y'][i]))\n",
    "        file_handle.write(\"\\n\")\n",
    "    file_handle.close()"
   ]
  },
  {
   "cell_type": "markdown",
   "metadata": {},
   "source": [
    "Installing `bio_embeddings` tool"
   ]
  },
  {
   "cell_type": "code",
   "execution_count": 16,
   "metadata": {},
   "outputs": [
    {
     "name": "stdout",
     "output_type": "stream",
     "text": [
      "Found existing installation: bio-embeddings 0.2.2\n",
      "Uninstalling bio-embeddings-0.2.2:\n",
      "  Would remove:\n",
      "    /Users/ieva/.local/bin/bio_embeddings\n",
      "    /Users/ieva/.local/lib/python3.7/site-packages/LICENSE.md\n",
      "    /Users/ieva/.local/lib/python3.7/site-packages/README.md\n",
      "    /Users/ieva/.local/lib/python3.7/site-packages/bio_embeddings-0.2.2.dist-info/*\n",
      "    /Users/ieva/.local/lib/python3.7/site-packages/bio_embeddings/*\n",
      "    /Users/ieva/.local/lib/python3.7/site-packages/pyproject.toml\n",
      "Proceed (Y/n)? ^C\n",
      "\u001b[31mERROR: Operation cancelled by user\u001b[0m\n"
     ]
    }
   ],
   "source": [
    "!pip install bio_embeddings[all]"
   ]
  },
  {
   "cell_type": "code",
   "execution_count": 19,
   "metadata": {},
   "outputs": [
    {
     "name": "stdout",
     "output_type": "stream",
     "text": [
      "2021-10-29 21:23:33,107 INFO Created the prefix directory temperature_sampled\n",
      "2021-10-29 21:23:33,107 INFO Created the file temperature_sampled/input_parameters_file.yml\n",
      "2021-10-29 21:23:33,644 INFO Created the file temperature_sampled/sequences_file.fasta\n",
      "2021-10-29 21:23:33,723 INFO Created the file temperature_sampled/mapping_file.csv\n",
      "2021-10-29 21:23:33,723 INFO Created the file temperature_sampled/remapped_sequences_file.fasta\n",
      "2021-10-29 21:23:33,778 INFO Created the stage directory temperature_sampled/protbert_embeddings\n",
      "2021-10-29 21:23:33,779 INFO Created the file temperature_sampled/protbert_embeddings/input_parameters_file.yml\n",
      "2021-10-29 21:23:33,783 INFO Downloading model_folder_zip for prottrans_bert_bfd and storing in '/var/folders/yv/yvlj08j53rx4_7w0gg8zlbcc0000gp/T/tmppgw23qfi'.\n",
      "^C\n"
     ]
    }
   ],
   "source": [
    "!bio_embeddings config.yml"
   ]
  }
 ],
 "metadata": {
  "interpreter": {
   "hash": "dcc5f0745bb73c331ddcb9e6e17cfcf1d7c30043bb04caa6bbf9dd8843d7acb0"
  },
  "kernelspec": {
   "display_name": "Python 3.7.4 64-bit ('base': conda)",
   "name": "python3"
  },
  "language_info": {
   "codemirror_mode": {
    "name": "ipython",
    "version": 3
   },
   "file_extension": ".py",
   "mimetype": "text/x-python",
   "name": "python",
   "nbconvert_exporter": "python",
   "pygments_lexer": "ipython3",
   "version": "3.7.4"
  },
  "orig_nbformat": 4
 },
 "nbformat": 4,
 "nbformat_minor": 2
}

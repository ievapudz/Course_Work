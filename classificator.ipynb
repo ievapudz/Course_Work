{
  "nbformat": 4,
  "nbformat_minor": 0,
  "metadata": {
    "colab": {
      "name": "classificator.ipynb",
      "provenance": [],
      "collapsed_sections": [
        "45TFJZTLykgW",
        "UE4f6R78ykgX",
        "KUZVjOUWykgZ",
        "W73lIrirFMbT",
        "NhwuRL0Eykga",
        "sp9jacV9Q6kL",
        "9boajW5lytuW"
      ]
    },
    "interpreter": {
      "hash": "dcc5f0745bb73c331ddcb9e6e17cfcf1d7c30043bb04caa6bbf9dd8843d7acb0"
    },
    "kernelspec": {
      "display_name": "Python 3.7.4 64-bit ('base': conda)",
      "name": "python3"
    },
    "language_info": {
      "codemirror_mode": {
        "name": "ipython",
        "version": 3
      },
      "file_extension": ".py",
      "mimetype": "text/x-python",
      "name": "python",
      "nbconvert_exporter": "python",
      "pygments_lexer": "ipython3",
      "version": "3.7.4"
    },
    "orig_nbformat": 4
  },
  "cells": [
    {
      "cell_type": "markdown",
      "metadata": {
        "id": "YelAWkSQykgR"
      },
      "source": [
        "# Protein Classificator"
      ]
    },
    {
      "cell_type": "markdown",
      "metadata": {
        "id": "xFETk-0UykgU"
      },
      "source": [
        "## Importing required packages"
      ]
    },
    {
      "cell_type": "code",
      "metadata": {
        "colab": {
          "base_uri": "https://localhost:8080/"
        },
        "id": "HiZQxC_wAMmp",
        "outputId": "956691ef-c1a7-4648-c314-b94d72a88b94"
      },
      "source": [
        "!pip3.7 install biopython"
      ],
      "execution_count": 11,
      "outputs": [
        {
          "output_type": "stream",
          "name": "stdout",
          "text": [
            "Requirement already satisfied: biopython in /usr/local/lib/python3.7/dist-packages (1.79)\n",
            "Requirement already satisfied: numpy in /usr/local/lib/python3.7/dist-packages (from biopython) (1.19.5)\n"
          ]
        }
      ]
    },
    {
      "cell_type": "code",
      "metadata": {
        "colab": {
          "base_uri": "https://localhost:8080/"
        },
        "id": "3Qni2mfUykge",
        "outputId": "85c1a42b-3608-4571-b29f-d77596ae85e4"
      },
      "source": [
        " !pip3.7 install fair-esm"
      ],
      "execution_count": 12,
      "outputs": [
        {
          "output_type": "stream",
          "name": "stdout",
          "text": [
            "Requirement already satisfied: fair-esm in /usr/local/lib/python3.7/dist-packages (0.4.0)\n"
          ]
        }
      ]
    },
    {
      "cell_type": "code",
      "metadata": {
        "id": "WE6NsiN_ykgV"
      },
      "source": [
        "import matplotlib as mpl\n",
        "import matplotlib.pyplot as plt\n",
        "from matplotlib import colors\n",
        "import numpy\n",
        "\n",
        "from Bio import SeqIO\n",
        "from sklearn.model_selection import train_test_split\n",
        "from sklearn.utils import shuffle\n",
        "from sklearn.decomposition import PCA"
      ],
      "execution_count": 13,
      "outputs": []
    },
    {
      "cell_type": "markdown",
      "metadata": {
        "id": "L1qytLnjUgl1"
      },
      "source": [
        "Command to run to open data files in Google Colab environment."
      ]
    },
    {
      "cell_type": "code",
      "metadata": {
        "colab": {
          "base_uri": "https://localhost:8080/"
        },
        "id": "VJyU4CJ7Ry1J",
        "outputId": "a8a9f363-afa5-4d12-f692-7b8a5e2957f9"
      },
      "source": [
        "!unzip data.zip"
      ],
      "execution_count": 14,
      "outputs": [
        {
          "output_type": "stream",
          "name": "stdout",
          "text": [
            "Archive:  data.zip\n",
            "replace data/.DS_Store? [y]es, [n]o, [A]ll, [N]one, [r]ename: n\n",
            "replace data/proteomes/UP000001974_273057.fasta? [y]es, [n]o, [A]ll, [N]one, [r]ename: "
          ]
        }
      ]
    },
    {
      "cell_type": "markdown",
      "metadata": {
        "id": "45TFJZTLykgW"
      },
      "source": [
        "## Configuration of temperature labels and input files"
      ]
    },
    {
      "cell_type": "code",
      "metadata": {
        "id": "ho9rDAgvykgX"
      },
      "source": [
        "temperature_labels_full = [37, 80]\n",
        "\n",
        "files = ['data/proteomes/UP000000625_83333.fasta', 'data/proteomes/UP000001974_273057.fasta']"
      ],
      "execution_count": 15,
      "outputs": []
    },
    {
      "cell_type": "markdown",
      "metadata": {
        "id": "UE4f6R78ykgX"
      },
      "source": [
        "## Splitting the dataset for training, validation and testing\n",
        "\n",
        "The proportions for splitting were chosen to be 70%, 15% and 15% for training, validation and testing respectively."
      ]
    },
    {
      "cell_type": "code",
      "metadata": {
        "id": "zHfA3icmykgY"
      },
      "source": [
        "# Initialisation of the dataset container\n",
        "data = {\n",
        "    'train': {\n",
        "        'X' : [],\n",
        "        'Y' : [],\n",
        "        'FASTA_prefix': 'data/FASTA/training_',\n",
        "        'CSV_prefix': 'data/CSV/training_',\n",
        "    },\n",
        "    'validate': {\n",
        "        'X' : [],\n",
        "        'Y' : [],\n",
        "        'FASTA_prefix': 'data/FASTA/validation_',\n",
        "        'CSV_prefix': 'data/CSV/validation_'\n",
        "    },\n",
        "    'test': {\n",
        "        'X' : [],\n",
        "        'Y' : [],\n",
        "        'FASTA_prefix': 'data/FASTA/testing_',\n",
        "        'CSV_prefix': 'data/CSV/testing_'\n",
        "    }\n",
        "}\n",
        "\n",
        "# Removing duplicate sequences in the dataset\n",
        "seen = set()\n",
        "\n",
        "for i in range(len(temperature_labels_full)):\n",
        "    records = [] \n",
        "    # Parsing sequences (X dataset) from one dataset \n",
        "    for record in SeqIO.parse(files[i], \"fasta\"):\n",
        "        if record.seq not in seen:\n",
        "            seen.add(record.seq)\n",
        "            records.append(record)\n",
        "\n",
        "    # Creating Y dataset from temperature labels \n",
        "    temperature_labels = [temperature_labels_full[i]] * len(records)\n",
        "\n",
        "    # Spliting the dataset to 70% (training) and 30% (trying)\n",
        "    X_train, X_try, Y_train, Y_try = train_test_split(records, temperature_labels, test_size=0.3, shuffle=True, random_state=1)\n",
        "\n",
        "    # Splitting 30% from the initial set in half for calidation and testing\n",
        "    X_validate, X_test, Y_validate, Y_test = train_test_split(X_try, Y_try, test_size=0.5, shuffle=True, random_state=1)\n",
        "\n",
        "    data['train']['X'] = data['train']['X'] + X_train\n",
        "    data['train']['Y'] = data['train']['Y'] + Y_train\n",
        "    data['validate']['X'] = data['validate']['X'] + X_validate\n",
        "    data['validate']['Y'] = data['validate']['Y'] + Y_validate\n",
        "    data['test']['X'] = data['test']['X'] + X_test\n",
        "    data['test']['Y'] = data['test']['Y'] + Y_test\n",
        "\n",
        "# Shuffling the datasets\n",
        "for element in data.keys():\n",
        "    data[element]['X'], data[element]['Y'] = shuffle(data[element]['X'], data[element]['Y'], random_state=1)\n",
        "\n"
      ],
      "execution_count": 16,
      "outputs": []
    },
    {
      "cell_type": "markdown",
      "metadata": {
        "id": "KUZVjOUWykgZ"
      },
      "source": [
        "## Checking the success of parsing"
      ]
    },
    {
      "cell_type": "code",
      "metadata": {
        "colab": {
          "base_uri": "https://localhost:8080/"
        },
        "id": "oag6UzGoykgZ",
        "outputId": "473e080a-55f4-476c-faab-925737cc0bae"
      },
      "source": [
        "print(len(seen))\n",
        "print(len(data['train']['X']))\n",
        "print(len(data['validate']['X']))\n",
        "print(len(data['test']['X']))"
      ],
      "execution_count": null,
      "outputs": [
        {
          "name": "stdout",
          "output_type": "stream",
          "text": [
            "7288\n",
            "5101\n",
            "1093\n",
            "1094\n"
          ]
        }
      ]
    },
    {
      "cell_type": "markdown",
      "metadata": {
        "id": "W73lIrirFMbT"
      },
      "source": [
        "## Checking the maximum length"
      ]
    },
    {
      "cell_type": "code",
      "metadata": {
        "colab": {
          "base_uri": "https://localhost:8080/"
        },
        "id": "KOX6LQI0BRVv",
        "outputId": "d774984f-e476-4981-ef89-d10d22ab3c1b"
      },
      "source": [
        "max_length = 0\n",
        "max_length_seq = None\n",
        "\n",
        "for element in data.keys():\n",
        "    for i in range(len(data[element]['X'])):\n",
        "        if(len(data[element]['X'][i].seq) > max_length):\n",
        "            max_length = len(data[element]['X'][i].seq)\n",
        "            max_length_seq = data[element]['X'][i]\n",
        "\n",
        "print(max_length)\n",
        "print(max_length_seq)"
      ],
      "execution_count": null,
      "outputs": [
        {
          "name": "stdout",
          "output_type": "stream",
          "text": [
            "2358\n",
            "ID: sp|P76347|YEEJ_ECOLI\n",
            "Name: sp|P76347|YEEJ_ECOLI\n",
            "Description: sp|P76347|YEEJ_ECOLI Uncharacterized protein YeeJ OS=Escherichia coli (strain K12) OX=83333 GN=yeeJ PE=3 SV=3\n",
            "Number of features: 0\n",
            "Seq('MATKKRSGEEINDRQILCGMGIKLRRLTAGICLITQLAFPMAAAAQGVVNAATQ...KNL')\n"
          ]
        }
      ]
    },
    {
      "cell_type": "markdown",
      "metadata": {
        "id": "NhwuRL0Eykga"
      },
      "source": [
        "## Creating files "
      ]
    },
    {
      "cell_type": "markdown",
      "metadata": {
        "id": "HU0InoZBykga"
      },
      "source": [
        "`[training|validation|testing]_sequences.fasta`"
      ]
    },
    {
      "cell_type": "code",
      "metadata": {
        "id": "txP8JgWtykgb"
      },
      "source": [
        "# Creating data/FASTA/*_sequences.fasta files\n",
        "\n",
        "for element in data.keys():\n",
        "    file_name = data[element]['FASTA_prefix']+'sequences.fasta'\n",
        "    file_handle = open(file_name, 'w')\n",
        "    for record in data[element]['X']:\n",
        "        file_handle.write('>'+record.name.split('|')[1])\n",
        "        file_handle.write(\"\\n\")\n",
        "        file_handle.write(str(record.seq))\n",
        "        file_handle.write(\"\\n\")\n",
        "    file_handle.close()"
      ],
      "execution_count": null,
      "outputs": []
    },
    {
      "cell_type": "markdown",
      "metadata": {
        "id": "zSXdGqS8ykgb"
      },
      "source": [
        "  `[training|validation|testing]_temperature_annotations.csv`"
      ]
    },
    {
      "cell_type": "code",
      "metadata": {
        "id": "LnrHY7UVykgc"
      },
      "source": [
        "# Creating data/*_temperature_annotations.csv files\n",
        "\n",
        "for element in data.keys():\n",
        "    file_name = data[element]['CSV_prefix']+'temperature_annotations.csv'\n",
        "    file_handle = open(file_name, 'w')\n",
        "    file_handle.write('identifier,label'+\"\\n\")\n",
        "    for i in range(len(data[element]['X'])):\n",
        "        file_handle.write(data[element]['X'][i].name.split('|')[1]+','+str(data[element]['Y'][i]))\n",
        "        file_handle.write(\"\\n\")\n",
        "    file_handle.close()"
      ],
      "execution_count": null,
      "outputs": []
    },
    {
      "cell_type": "markdown",
      "metadata": {
        "id": "Vpls7v68iiyd"
      },
      "source": [
        "## Filtering sequences from initial FASTA files \n",
        "\n",
        "Since the visualisation is not allowed without embedding for each FASTA sequence, it was required to filter all sequences and keep only those that have their embeddings."
      ]
    },
    {
      "cell_type": "code",
      "metadata": {
        "id": "hxKMiUVfsNd0"
      },
      "source": [
        "data_filtered = {\n",
        "    'train': {\n",
        "        'X': [],\n",
        "        'Y': [],\n",
        "        'FASTA_prefix': 'data/FASTA/filtered_training_',\n",
        "        'CSV_prefix': 'data/CSV/filtered_training_',\n",
        "        'embedding_list': './data/EMB_ESM1b/training_embeddings.lst',\n",
        "        'embeddings': ''\n",
        "    },\n",
        "    'validate': {\n",
        "        'X': [],\n",
        "        'Y': [],\n",
        "        'FASTA_prefix': 'data/FASTA/filtered_validation_',\n",
        "        'CSV_prefix': 'data/CSV/filtered_validation_',\n",
        "        'embedding_list': './data/EMB_ESM1b/validation_embeddings.lst',\n",
        "        'embeddings': '/content/drive/MyDrive/validation_sequences'\n",
        "    },\n",
        "    'test': {\n",
        "        'X' : [],\n",
        "        'Y' : [],\n",
        "        'FASTA_prefix': 'data/FASTA/filtered_testing_',\n",
        "        'CSV_prefix': 'data/CSV/filtered_testing_',\n",
        "        'embedding_list': './data/EMB_ESM1b/testing_embeddings.lst',\n",
        "        'embeddings': '/content/drive/MyDrive/testing_sequences'\n",
        "    }\n",
        "}\n",
        "\n",
        "for element in data.keys():\n",
        "    emb_list_handle = open(data_filtered[element]['embedding_list'], 'r')\n",
        "    emb_list = emb_list_handle.readlines()\n",
        "    emb_list_handle.close()\n",
        "    emb_set = set()\n",
        "    for j in range(len(emb_list)):\n",
        "        emb_set.add(emb_list[j].split('.')[0])\n",
        "    for i in range(len(data[element]['X'])):\n",
        "        if(data[element]['X'][i].id.split('|')[1] in emb_set):\n",
        "            data_filtered[element]['X'].append(data[element]['X'][i])\n",
        "            data_filtered[element]['Y'].append(data[element]['Y'][i])\n"
      ],
      "execution_count": 17,
      "outputs": []
    },
    {
      "cell_type": "markdown",
      "metadata": {
        "id": "e6pz1E02Q6kK"
      },
      "source": [
        "Testing, whether the filtration was successful."
      ]
    },
    {
      "cell_type": "code",
      "metadata": {
        "colab": {
          "base_uri": "https://localhost:8080/"
        },
        "id": "y2x1icbPQ6kK",
        "outputId": "e9d22a51-4dba-41a1-8e4b-5851f1646f98"
      },
      "source": [
        "print(len(data_filtered['train']['X']))\n",
        "print(len(data_filtered['validate']['X']))\n",
        "print(len(data_filtered['test']['X']))"
      ],
      "execution_count": 20,
      "outputs": [
        {
          "output_type": "stream",
          "name": "stdout",
          "text": [
            "5056\n",
            "1079\n",
            "1080\n"
          ]
        }
      ]
    },
    {
      "cell_type": "markdown",
      "metadata": {
        "id": "sp9jacV9Q6kL"
      },
      "source": [
        "## Creating filtered FASTA files"
      ]
    },
    {
      "cell_type": "code",
      "metadata": {
        "id": "-Nx5lg2wQ6kL"
      },
      "source": [
        "# Creating data/FASTA/filtered_*_sequences.fasta files\n",
        "\n",
        "for element in data_filtered.keys():\n",
        "    file_name = data_filtered[element]['FASTA_prefix']+'sequences.fasta'\n",
        "    file_handle = open(file_name, 'w')\n",
        "    for i in range(len(data_filtered[element]['X'])):\n",
        "    #for i in range(5):\n",
        "        #file_handle.write('>'+record.name.split('|')[1])\n",
        "        file_handle.write('>'+data_filtered[element]['X'][i].name.split('|')[1]+'|'+str(data_filtered[element]['Y'][i]))\n",
        "        #print('>'+data_filtered[element]['X'][i].name.split('|')[1]+'|'+str(data_filtered[element]['Y'][i]))\n",
        "        file_handle.write(\"\\n\")\n",
        "        file_handle.write(str(record.seq))\n",
        "        file_handle.write(\"\\n\")\n",
        "    file_handle.close()"
      ],
      "execution_count": 23,
      "outputs": []
    },
    {
      "cell_type": "markdown",
      "metadata": {
        "id": "BvPzHeRz3VP8"
      },
      "source": [
        "## Visualisation of embeddings"
      ]
    },
    {
      "cell_type": "code",
      "metadata": {
        "colab": {
          "base_uri": "https://localhost:8080/"
        },
        "id": "AgsrP8XIExVc",
        "outputId": "f8aca880-b740-49ad-92ae-38f77ae29169"
      },
      "source": [
        "!pip3.7 install pymde"
      ],
      "execution_count": 18,
      "outputs": [
        {
          "output_type": "stream",
          "name": "stdout",
          "text": [
            "Requirement already satisfied: pymde in /usr/local/lib/python3.7/dist-packages (0.1.13)\n",
            "Requirement already satisfied: scipy in /usr/local/lib/python3.7/dist-packages (from pymde) (1.4.1)\n",
            "Requirement already satisfied: torch>=1.7.1 in /usr/local/lib/python3.7/dist-packages (from pymde) (1.9.0+cu111)\n",
            "Requirement already satisfied: numpy>=1.17.5 in /usr/local/lib/python3.7/dist-packages (from pymde) (1.19.5)\n",
            "Requirement already satisfied: torchvision>=0.8.2 in /usr/local/lib/python3.7/dist-packages (from pymde) (0.10.0+cu111)\n",
            "Requirement already satisfied: requests in /usr/local/lib/python3.7/dist-packages (from pymde) (2.23.0)\n",
            "Requirement already satisfied: pynndescent in /usr/local/lib/python3.7/dist-packages (from pymde) (0.5.5)\n",
            "Requirement already satisfied: matplotlib in /usr/local/lib/python3.7/dist-packages (from pymde) (3.2.2)\n",
            "Requirement already satisfied: typing-extensions in /usr/local/lib/python3.7/dist-packages (from torch>=1.7.1->pymde) (3.10.0.2)\n",
            "Requirement already satisfied: pillow>=5.3.0 in /usr/local/lib/python3.7/dist-packages (from torchvision>=0.8.2->pymde) (7.1.2)\n",
            "Requirement already satisfied: pyparsing!=2.0.4,!=2.1.2,!=2.1.6,>=2.0.1 in /usr/local/lib/python3.7/dist-packages (from matplotlib->pymde) (2.4.7)\n",
            "Requirement already satisfied: python-dateutil>=2.1 in /usr/local/lib/python3.7/dist-packages (from matplotlib->pymde) (2.8.2)\n",
            "Requirement already satisfied: cycler>=0.10 in /usr/local/lib/python3.7/dist-packages (from matplotlib->pymde) (0.11.0)\n",
            "Requirement already satisfied: kiwisolver>=1.0.1 in /usr/local/lib/python3.7/dist-packages (from matplotlib->pymde) (1.3.2)\n",
            "Requirement already satisfied: six>=1.5 in /usr/local/lib/python3.7/dist-packages (from python-dateutil>=2.1->matplotlib->pymde) (1.15.0)\n",
            "Requirement already satisfied: llvmlite>=0.30 in /usr/local/lib/python3.7/dist-packages (from pynndescent->pymde) (0.34.0)\n",
            "Requirement already satisfied: joblib>=0.11 in /usr/local/lib/python3.7/dist-packages (from pynndescent->pymde) (1.1.0)\n",
            "Requirement already satisfied: scikit-learn>=0.18 in /usr/local/lib/python3.7/dist-packages (from pynndescent->pymde) (0.22.2.post1)\n",
            "Requirement already satisfied: numba>=0.51.2 in /usr/local/lib/python3.7/dist-packages (from pynndescent->pymde) (0.51.2)\n",
            "Requirement already satisfied: setuptools in /usr/local/lib/python3.7/dist-packages (from numba>=0.51.2->pynndescent->pymde) (57.4.0)\n",
            "Requirement already satisfied: certifi>=2017.4.17 in /usr/local/lib/python3.7/dist-packages (from requests->pymde) (2021.10.8)\n",
            "Requirement already satisfied: idna<3,>=2.5 in /usr/local/lib/python3.7/dist-packages (from requests->pymde) (2.10)\n",
            "Requirement already satisfied: chardet<4,>=3.0.2 in /usr/local/lib/python3.7/dist-packages (from requests->pymde) (3.0.4)\n",
            "Requirement already satisfied: urllib3!=1.25.0,!=1.25.1,<1.26,>=1.21.1 in /usr/local/lib/python3.7/dist-packages (from requests->pymde) (1.24.3)\n"
          ]
        }
      ]
    },
    {
      "cell_type": "code",
      "metadata": {
        "id": "UzV7GoUrjC_5",
        "colab": {
          "base_uri": "https://localhost:8080/"
        },
        "outputId": "50c51c4f-7d88-430a-ae0c-2b096ca19ce9"
      },
      "source": [
        "from google.colab import drive\n",
        "drive.mount('/content/drive')"
      ],
      "execution_count": 19,
      "outputs": [
        {
          "output_type": "stream",
          "name": "stdout",
          "text": [
            "Drive already mounted at /content/drive; to attempt to forcibly remount, call drive.mount(\"/content/drive\", force_remount=True).\n"
          ]
        }
      ]
    },
    {
      "cell_type": "code",
      "metadata": {
        "colab": {
          "base_uri": "https://localhost:8080/",
          "height": 105
        },
        "id": "rg52LTBOJgox",
        "outputId": "19c79026-b848-490a-d235-22b243fd74a1"
      },
      "source": [
        "import esm\n",
        "import torch\n",
        "\n",
        "#FASTA_PATH = [\"data/FASTA/filtered_validation_sequences.fasta\", \"data/FASTA/filtered_testing_sequences.fasta\"] \n",
        "#EMB_PATH = [\"/content/drive/MyDrive/validation_sequences\", \"/content/drive/MyDrive/testing_sequences\"] # Path to directory of embeddings for FASTA files\n",
        "EMB_LAYER = 33\n",
        "\n",
        "Ys = []\n",
        "Xs = []\n",
        "\n",
        "keys = ['validate', 'test']\n",
        "\n",
        "for key in keys:\n",
        "    FASTA_PATH = data_filtered[key]['FASTA_prefix']+'sequences.fasta'\n",
        "    EMB_PATH = data_filtered[key]['embeddings']\n",
        "    for header, _seq in esm.data.read_fasta(FASTA_PATH):\n",
        "        temperature_label = header.split('|')[-1]\n",
        "        Ys.append(int(temperature_label))\n",
        "        file_name = header.split('|')[0][1:]\n",
        "        fn = f'{EMB_PATH}/{file_name}.pt'\n",
        "        embs = torch.load(fn)\n",
        "        Xs.append(embs['mean_representations'][EMB_LAYER])\n",
        "\n",
        "Xs = torch.stack(Xs, dim=0).numpy()\n"
      ],
      "execution_count": 24,
      "outputs": [
        {
          "output_type": "execute_result",
          "data": {
            "application/vnd.google.colaboratory.intrinsic+json": {
              "type": "string"
            },
            "text/plain": [
              "\"\\nfor header, _seq in esm.data.read_fasta(FASTA_PATH):\\n    temperature_label = header.split('|')[-1]\\n    Ys.append(int(temperature_label))\\n    file_name = header.split('|')[0][1:]\\n    fn = f'{EMB_PATH}/{file_name}.pt'\\n    embs = torch.load(fn)\\n    Xs.append(embs['mean_representations'][EMB_LAYER])\\n\\n\\nXs = torch.stack(Xs, dim=0).numpy()\\n\""
            ]
          },
          "metadata": {},
          "execution_count": 24
        }
      ]
    },
    {
      "cell_type": "code",
      "metadata": {
        "colab": {
          "base_uri": "https://localhost:8080/"
        },
        "id": "si3g-gdHzRP7",
        "outputId": "35fd0608-8132-444a-ded6-fa9b2e7aca37"
      },
      "source": [
        "print(len(Ys))\n",
        "print(Xs.shape)"
      ],
      "execution_count": 25,
      "outputs": [
        {
          "output_type": "stream",
          "name": "stdout",
          "text": [
            "2159\n",
            "(2159, 1280)\n"
          ]
        }
      ]
    },
    {
      "cell_type": "code",
      "metadata": {
        "id": "xfYA1YmFm1Tn"
      },
      "source": [
        "pca = PCA(60)\n",
        "Xs_train_pca = pca.fit_transform(Xs)"
      ],
      "execution_count": 26,
      "outputs": []
    },
    {
      "cell_type": "code",
      "metadata": {
        "colab": {
          "base_uri": "https://localhost:8080/",
          "height": 392
        },
        "id": "9xOXDYgCm6K-",
        "outputId": "22c7d1a0-1b9a-4863-812e-b56f79ff2940"
      },
      "source": [
        "fig_dims = (7, 6)\n",
        "fig, ax = plt.subplots(figsize=fig_dims)\n",
        "sc = ax.scatter(Xs_train_pca[:,0], Xs_train_pca[:,1], c=Ys, marker='.')\n",
        "ax.set_xlabel('PCA first principal component')\n",
        "ax.set_ylabel('PCA second principal component')\n",
        "plt.colorbar(sc, label='Variant Effect', ticks=numpy.linspace(37, 80, 2))\n",
        "plt.savefig('validation_and_testing_sequences_visualisation_matplotlib.png')"
      ],
      "execution_count": 27,
      "outputs": [
        {
          "output_type": "display_data",
          "data": {
            "image/png": "[encoded data removed]",
            "text/plain": [
              "<Figure size 504x432 with 2 Axes>"
            ]
          },
          "metadata": {
            "needs_background": "light"
          }
        }
      ]
    },
    {
      "cell_type": "code",
      "metadata": {
        "colab": {
          "base_uri": "https://localhost:8080/"
        },
        "id": "zGW-b6QdrACY",
        "outputId": "bce03e6e-9faf-4608-c70e-b482d16e6ea6"
      },
      "source": [
        "import pymde\n",
        "\n",
        "Xs_torch = torch.from_numpy(Xs)\n",
        "\n",
        "embedding = pymde.preserve_neighbors(Xs_torch).embed(verbose=True)"
      ],
      "execution_count": 28,
      "outputs": [
        {
          "output_type": "stream",
          "name": "stdout",
          "text": [
            "Nov 11 11:47:09 AM: Fitting a centered embedding into R^2, for a graph with 2159 items and 34445 edges.\n",
            "Nov 11 11:47:09 AM: `embed` method parameters: eps=1.0e-05, max_iter=300, memory_size=10\n",
            "Nov 11 11:47:09 AM: iteration 000 | distortion 0.893151 | residual norm 0.895467 | step length 0.114674 | percent change 0.156269\n",
            "Nov 11 11:47:10 AM: iteration 030 | distortion 0.256327 | residual norm 0.00311649 | step length 1 | percent change 2.85006\n",
            "Nov 11 11:47:10 AM: iteration 060 | distortion 0.227095 | residual norm 0.00121586 | step length 1 | percent change 0.938188\n",
            "Nov 11 11:47:10 AM: iteration 090 | distortion 0.222989 | residual norm 0.000635123 | step length 1 | percent change 1.03788\n",
            "Nov 11 11:47:11 AM: iteration 120 | distortion 0.221719 | residual norm 0.00043789 | step length 1 | percent change 0.0805424\n",
            "Nov 11 11:47:11 AM: iteration 150 | distortion 0.221478 | residual norm 0.000280506 | step length 1 | percent change 0.447475\n",
            "Nov 11 11:47:11 AM: iteration 180 | distortion 0.221293 | residual norm 0.000301022 | step length 1 | percent change 0.0382403\n",
            "Nov 11 11:47:12 AM: iteration 210 | distortion 0.221120 | residual norm 0.000262604 | step length 1 | percent change 0.423067\n",
            "Nov 11 11:47:12 AM: iteration 240 | distortion 0.220949 | residual norm 0.00025045 | step length 1 | percent change 0.251946\n",
            "Nov 11 11:47:12 AM: iteration 270 | distortion 0.220818 | residual norm 0.00020708 | step length 1 | percent change 0.0172766\n",
            "Nov 11 11:47:12 AM: iteration 299 | distortion 0.220777 | residual norm 0.00019925 | step length 1 | percent change 0.0500666\n",
            "Nov 11 11:47:12 AM: Finished fitting in 3.307 seconds and 300 iterations.\n",
            "Nov 11 11:47:12 AM: average distortion 0.221 | residual norm 2.0e-04\n"
          ]
        }
      ]
    },
    {
      "cell_type": "code",
      "metadata": {
        "colab": {
          "base_uri": "https://localhost:8080/",
          "height": 584
        },
        "id": "6S0YluhzsBf3",
        "outputId": "d7c401ef-f6d0-4a75-b523-6b9a3e754a0e"
      },
      "source": [
        "pymde.plot(embedding, color_by=Ys, savepath='validation_and_testing_sequences_visualisation_PyMDE.png')"
      ],
      "execution_count": 30,
      "outputs": [
        {
          "output_type": "execute_result",
          "data": {
            "text/plain": [
              "<matplotlib.axes._subplots.AxesSubplot at 0x7f564b569a90>"
            ]
          },
          "metadata": {},
          "execution_count": 30
        },
        {
          "output_type": "display_data",
          "data": {
            "image/png": "[encoded data removed]",
            "text/plain": [
              "<Figure size 576x576 with 2 Axes>"
            ]
          },
          "metadata": {
            "needs_background": "light"
          }
        }
      ]
    },
    {
      "cell_type": "markdown",
      "metadata": {
        "id": "9boajW5lytuW"
      },
      "source": [
        "## Creating a simple feed-forward neural network with Keras.\n",
        "\n",
        "`LabelBinarizer` - package that is used to one-hot encode integer labels as vector labels.\n",
        "\n",
        "`classification_report` - function that gives a nicely formatted report to display the total accuracy of the model. Also it might show breakdown on the classification accuracy for wach digit.\n",
        "\n",
        "`Sequential` - class that indicates that the network will be feed-forward and layers will be added to the class sequentially (one on top of the other).\n",
        "\n",
        "`Dense` - class that is the implementation of the fully connected layers.\n",
        "\n",
        "Stochastic gradient descent (`SGD`) - required for the network to actually learn - it optimizes the parameters of the network.\n",
        "\n",
        "`mnist` - helper function that provides access to full MNIST dataset."
      ]
    },
    {
      "cell_type": "code",
      "metadata": {
        "id": "J58xOgw7yteU"
      },
      "source": [
        "from sklearn.preprocessing import LabelBinarizer\n",
        "from sklearn.metrics import classification_report\n",
        "from tensorflow.keras.models import Sequential\n",
        "from tensorflow.keras.layers import Dense\n",
        "from tensorflow.keras.optimizers import SGD\n",
        "from tensorflow.keras.datasets import mnist\n",
        "from tensorflow.keras import backend as K\n",
        "import matplotlib.pyplot as plt\n",
        "import numpy as np\n",
        "import argparse"
      ],
      "execution_count": null,
      "outputs": []
    },
    {
      "cell_type": "markdown",
      "metadata": {
        "id": "MXGLaPah24ez"
      },
      "source": [
        "### Loading dataset"
      ]
    },
    {
      "cell_type": "code",
      "metadata": {
        "colab": {
          "base_uri": "https://localhost:8080/"
        },
        "id": "CB6IWNEn0M8a",
        "outputId": "234e738a-1024-4df2-ea00-606cfa6c6b4f"
      },
      "source": [
        "print(\"[INFO] accessing datasets...\")\n",
        "#trainX = data['train']['X']\n",
        "#trainY = data['train']['Y']\n",
        "#testX = data['validation']['X']\n",
        "#testY = data['validation']['Y']\n",
        "((trainX, trainY), (testX, testY)) = mnist.load_data()\n",
        "\n",
        "# Reshape\n",
        "trainX = trainX.reshape((trainX.shape[0], 28 * 28 * 1))\n",
        "testX = testX.reshape((testX.shape[0], 28 * 28 * 1))\n",
        "\n",
        "# scale data to the range of [0, 1]\n",
        "trainX = trainX.astype(\"float32\") / 255.0\n",
        "testX = testX.astype(\"float32\") / 255.0"
      ],
      "execution_count": null,
      "outputs": [
        {
          "name": "stdout",
          "output_type": "stream",
          "text": [
            "[INFO] accessing datasets...\n"
          ]
        }
      ]
    },
    {
      "cell_type": "markdown",
      "metadata": {
        "id": "E4hsT4je26F-"
      },
      "source": [
        "### Encoding the labels \n",
        "\n",
        "Firstly, integer labels are transformed into vector labels."
      ]
    },
    {
      "cell_type": "code",
      "metadata": {
        "id": "pKykia8C1Kuk"
      },
      "source": [
        "# convert the labels from integers to vectors\n",
        "lb = LabelBinarizer()\n",
        "trainY = lb.fit_transform(trainY)\n",
        "testY = lb.transform(testY)"
      ],
      "execution_count": null,
      "outputs": []
    },
    {
      "cell_type": "markdown",
      "metadata": {
        "id": "CcQLLEd84qZC"
      },
      "source": [
        "### Defining network architecture\n",
        "\n",
        "`Sequential()` - instantiates the feedforward architecture.\n",
        "\n",
        "`model.add(Dense(...))` - defines the fully connected layer in the network. \n",
        "\n",
        "1. The dimension is equal to the number of each MNIST data points. This layer learns 256 weights and applies sigmoid activation function.\n",
        "\n",
        "2. The layer learns 128 weights. Activation function is also sigmoid.\n",
        "\n",
        "3. The layer that learns 10 weights. The activation function is softmax. This activation function obtains normalized class probabilities for each prediction.\n",
        "\n"
      ]
    },
    {
      "cell_type": "code",
      "metadata": {
        "id": "Iod9v-cT4svT"
      },
      "source": [
        "# define the ?-?-?-? architecture using Keras\n",
        "model = Sequential()\n",
        "model.add(Dense(256, input_shape=(784,), activation=\"sigmoid\"))\n",
        "model.add(Dense(128, activation=\"sigmoid\"))\n",
        "model.add(Dense(10, activation=\"softmax\"))"
      ],
      "execution_count": null,
      "outputs": []
    },
    {
      "cell_type": "markdown",
      "metadata": {
        "id": "mtNuFmoM6YV8"
      },
      "source": [
        "### Training the network\n",
        "\n",
        "1. Initializing the SGD optimizer with a learning rate of 0.01 (common notation 1e-2)\n",
        "2. categorical_crossentropy loss function is used as the loss metric.\n",
        "3. Calling `model.fit()` method to start the training of the network. This method returns a dictionary (`H`), which will be later used for accuracy plotting.\n"
      ]
    },
    {
      "cell_type": "code",
      "metadata": {
        "id": "cNWiLYSb6cIQ"
      },
      "source": [
        "# train the model using SGD\n",
        "print(\"[INFO] training network...\")\n",
        "sgd = SGD(0.01)\n",
        "model.compile(loss=\"categorical_crossentropy\", optimizer=sgd, metrics=[\"accuracy\"])\n",
        "H = model.fit(trainX, trainY, validation_data=(testX, testY), epochs=100, batch_size=128)"
      ],
      "execution_count": null,
      "outputs": []
    },
    {
      "cell_type": "markdown",
      "metadata": {
        "id": "bfCX51rX70Do"
      },
      "source": [
        "### Evaluating the accuracy of the model\n",
        "\n",
        "1. `model.predict()` method returns all of the class label probabilities for every data point in testX. In other words, `predictions` NumPy array has the shape `(X, 10)`, where `X` is the total number of data points in the testing set and `10` stands for the number of possible class labels.\n",
        "2. `argmax(axis=1)` function will give the index of the class label that has the largest probability (final output classification).\n",
        "\n",
        "The final output is tabulated."
      ]
    },
    {
      "cell_type": "code",
      "metadata": {
        "colab": {
          "base_uri": "https://localhost:8080/"
        },
        "id": "hUwAk5i68Igd",
        "outputId": "9d3e83a8-e780-4aee-d038-bdcf501428cd"
      },
      "source": [
        "# evaluate the network\n",
        "print(\"[INFO] evaluating network...\")\n",
        "predictions = model.predict(testX, batch_size=128)\n",
        "print(classification_report(testY.argmax(axis=1), predictions.argmax(axis=1),target_names=[str(x) for x in lb.classes_]))"
      ],
      "execution_count": null,
      "outputs": [
        {
          "name": "stdout",
          "output_type": "stream",
          "text": [
            "[INFO] evaluating network...\n",
            "              precision    recall  f1-score   support\n",
            "\n",
            "           0       0.94      0.98      0.96       980\n",
            "           1       0.97      0.97      0.97      1135\n",
            "           2       0.92      0.90      0.91      1032\n",
            "           3       0.91      0.90      0.91      1010\n",
            "           4       0.92      0.94      0.93       982\n",
            "           5       0.90      0.87      0.88       892\n",
            "           6       0.93      0.95      0.94       958\n",
            "           7       0.93      0.93      0.93      1028\n",
            "           8       0.89      0.90      0.89       974\n",
            "           9       0.92      0.90      0.91      1009\n",
            "\n",
            "    accuracy                           0.92     10000\n",
            "   macro avg       0.92      0.92      0.92     10000\n",
            "weighted avg       0.92      0.92      0.92     10000\n",
            "\n"
          ]
        }
      ]
    },
    {
      "cell_type": "markdown",
      "metadata": {
        "id": "1FTTRv3i9aIX"
      },
      "source": [
        "### Visualization of the results\n",
        "\n",
        "Plotting the training loss, training accuracy, validation loss, and validation accuracy."
      ]
    },
    {
      "cell_type": "code",
      "metadata": {
        "colab": {
          "base_uri": "https://localhost:8080/",
          "height": 299
        },
        "id": "rNZn2p_H9aww",
        "outputId": "fe11dfbf-16d2-458b-c8bd-221e4eb1fc25"
      },
      "source": [
        "# plot the training loss and accuracy\n",
        "plt.style.use(\"ggplot\")\n",
        "plt.figure()\n",
        "plt.plot(np.arange(0, 100), H.history[\"loss\"], label=\"train_loss\")\n",
        "plt.plot(np.arange(0, 100), H.history[\"val_loss\"], label=\"val_loss\")\n",
        "plt.plot(np.arange(0, 100), H.history[\"accuracy\"], label=\"train_acc\")\n",
        "plt.plot(np.arange(0, 100), H.history[\"val_accuracy\"], label=\"val_acc\")\n",
        "plt.title(\"Training Loss and Accuracy\")\n",
        "plt.xlabel(\"Epoch #\")\n",
        "plt.ylabel(\"Loss/Accuracy\")\n",
        "plt.legend()\n",
        "plt.show()"
      ],
      "execution_count": null,
      "outputs": [
        {
          "data": {
            "image/png": "[encoded data removed]",
            "text/plain": [
              "<Figure size 432x288 with 1 Axes>"
            ]
          },
          "metadata": {},
          "output_type": "display_data"
        }
      ]
    }
  ]
}
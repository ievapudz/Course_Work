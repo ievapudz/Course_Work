{
  "cells": [
    {
      "cell_type": "markdown",
      "metadata": {
        "id": "YelAWkSQykgR"
      },
      "source": [
        "# Protein Classificator"
      ]
    },
    {
      "cell_type": "markdown",
      "metadata": {
        "id": "xFETk-0UykgU"
      },
      "source": [
        "## Importing required packages"
      ]
    },
    {
      "cell_type": "code",
      "execution_count": 2,
      "metadata": {
        "colab": {
          "base_uri": "https://localhost:8080/"
        },
        "id": "HiZQxC_wAMmp",
        "outputId": "78393527-58e8-40f5-9040-703924b7b8ff"
      },
      "outputs": [
        {
          "name": "stdout",
          "output_type": "stream",
          "text": [
            "Collecting biopython\n",
            "  Downloading biopython-1.79-cp37-cp37m-manylinux_2_5_x86_64.manylinux1_x86_64.whl (2.3 MB)\n",
            "\u001b[K     |████████████████████████████████| 2.3 MB 5.0 MB/s \n",
            "\u001b[?25hRequirement already satisfied: numpy in /usr/local/lib/python3.7/dist-packages (from biopython) (1.19.5)\n",
            "Installing collected packages: biopython\n",
            "Successfully installed biopython-1.79\n"
          ]
        }
      ],
      "source": [
        "!pip install biopython"
      ]
    },
    {
      "cell_type": "code",
      "execution_count": 9,
      "metadata": {
        "id": "WE6NsiN_ykgV"
      },
      "outputs": [],
      "source": [
        "from Bio import SeqIO\n",
        "from sklearn.model_selection import train_test_split\n",
        "from sklearn.utils import shuffle"
      ]
    },
    {
      "cell_type": "markdown",
      "metadata": {
        "id": "45TFJZTLykgW"
      },
      "source": [
        "## Configuration of temperature labels and input files"
      ]
    },
    {
      "cell_type": "code",
      "execution_count": 10,
      "metadata": {
        "id": "ho9rDAgvykgX"
      },
      "outputs": [],
      "source": [
        "temperature_labels_full = [37, 80]\n",
        "\n",
        "files = ['data/proteomes/UP000000625_83333.fasta', 'data/proteomes/UP000001974_273057.fasta']"
      ]
    },
    {
      "cell_type": "markdown",
      "metadata": {
        "id": "UE4f6R78ykgX"
      },
      "source": [
        "## Splitting the dataset for training, validation and testing\n",
        "\n",
        "The proportions for splitting were chosen to be 70%, 15% and 15% for training, validation and testing respectively."
      ]
    },
    {
      "cell_type": "code",
      "execution_count": 11,
      "metadata": {
        "id": "zHfA3icmykgY"
      },
      "outputs": [],
      "source": [
        "# Initialisation of the dataset container\n",
        "data = {\n",
        "    'train': {\n",
        "        'X' : [],\n",
        "        'Y' : [],\n",
        "        'FASTA_prefix': 'data/FASTA/training_',\n",
        "        'CSV_prefix': 'data/CSV/training_',\n",
        "    },\n",
        "    'validate': {\n",
        "        'X' : [],\n",
        "        'Y' : [],\n",
        "        'FASTA_prefix': 'data/FASTA/validation_',\n",
        "        'CSV_prefix': 'data/CSV/validation_'\n",
        "    },\n",
        "    'test': {\n",
        "        'X' : [],\n",
        "        'Y' : [],\n",
        "        'FASTA_prefix': 'data/FASTA/testing_',\n",
        "        'CSV_prefix': 'data/CSV/testing_'\n",
        "    }\n",
        "}\n",
        "\n",
        "# Removing duplicate sequences in the dataset\n",
        "seen = set()\n",
        "\n",
        "for i in range(len(temperature_labels_full)):\n",
        "    records = [] \n",
        "    # Parsing sequences (X dataset) from one dataset \n",
        "    for record in SeqIO.parse(files[i], \"fasta\"):\n",
        "        if record.seq not in seen:\n",
        "            seen.add(record.seq)\n",
        "            records.append(record)\n",
        "\n",
        "    # Creating Y dataset from temperature labels \n",
        "    temperature_labels = [temperature_labels_full[i]] * len(records)\n",
        "\n",
        "    # Spliting the dataset to 70% (training) and 30% (trying)\n",
        "    X_train, X_try, Y_train, Y_try = train_test_split(records, temperature_labels, test_size=0.3, shuffle=True, random_state=1)\n",
        "\n",
        "    # Splitting 30% from the initial set in half for calidation and testing\n",
        "    X_validate, X_test, Y_validate, Y_test = train_test_split(X_try, Y_try, test_size=0.5, shuffle=True, random_state=1)\n",
        "\n",
        "    data['train']['X'] = data['train']['X'] + X_train\n",
        "    data['train']['Y'] = data['train']['Y'] + Y_train\n",
        "    data['validate']['X'] = data['validate']['X'] + X_validate\n",
        "    data['validate']['Y'] = data['validate']['Y'] + Y_validate\n",
        "    data['test']['X'] = data['test']['X'] + X_test\n",
        "    data['test']['Y'] = data['test']['Y'] + Y_test\n",
        "\n",
        "# Shuffling the datasets\n",
        "for element in data.keys():\n",
        "    data[element]['X'], data[element]['Y'] = shuffle(data[element]['X'], data[element]['Y'], random_state=1)\n",
        "\n"
      ]
    },
    {
      "cell_type": "markdown",
      "metadata": {
        "id": "KUZVjOUWykgZ"
      },
      "source": [
        "## Checking the success of parsing"
      ]
    },
    {
      "cell_type": "code",
      "execution_count": 14,
      "metadata": {
        "colab": {
          "base_uri": "https://localhost:8080/"
        },
        "id": "oag6UzGoykgZ",
        "outputId": "473e080a-55f4-476c-faab-925737cc0bae"
      },
      "outputs": [
        {
          "name": "stdout",
          "output_type": "stream",
          "text": [
            "7288\n",
            "5101\n",
            "1093\n",
            "1094\n"
          ]
        }
      ],
      "source": [
        "print(len(seen))\n",
        "print(len(data['train']['X']))\n",
        "print(len(data['validate']['X']))\n",
        "print(len(data['test']['X']))"
      ]
    },
    {
      "cell_type": "markdown",
      "metadata": {
        "id": "W73lIrirFMbT"
      },
      "source": [
        "## Checking the maximum length"
      ]
    },
    {
      "cell_type": "code",
      "execution_count": null,
      "metadata": {
        "colab": {
          "base_uri": "https://localhost:8080/"
        },
        "id": "KOX6LQI0BRVv",
        "outputId": "d774984f-e476-4981-ef89-d10d22ab3c1b"
      },
      "outputs": [
        {
          "name": "stdout",
          "output_type": "stream",
          "text": [
            "2358\n",
            "ID: sp|P76347|YEEJ_ECOLI\n",
            "Name: sp|P76347|YEEJ_ECOLI\n",
            "Description: sp|P76347|YEEJ_ECOLI Uncharacterized protein YeeJ OS=Escherichia coli (strain K12) OX=83333 GN=yeeJ PE=3 SV=3\n",
            "Number of features: 0\n",
            "Seq('MATKKRSGEEINDRQILCGMGIKLRRLTAGICLITQLAFPMAAAAQGVVNAATQ...KNL')\n"
          ]
        }
      ],
      "source": [
        "max_length = 0\n",
        "max_length_seq = None\n",
        "\n",
        "for element in data.keys():\n",
        "    for i in range(len(data[element]['X'])):\n",
        "        if(len(data[element]['X'][i].seq) > max_length):\n",
        "            max_length = len(data[element]['X'][i].seq)\n",
        "            max_length_seq = data[element]['X'][i]\n",
        "\n",
        "print(max_length)\n",
        "print(max_length_seq)"
      ]
    },
    {
      "cell_type": "markdown",
      "metadata": {
        "id": "NhwuRL0Eykga"
      },
      "source": [
        "## Creating files "
      ]
    },
    {
      "cell_type": "markdown",
      "metadata": {
        "id": "HU0InoZBykga"
      },
      "source": [
        "`[training|validation|testing]_sequences.fasta`"
      ]
    },
    {
      "cell_type": "code",
      "execution_count": null,
      "metadata": {
        "colab": {
          "base_uri": "https://localhost:8080/",
          "height": 232
        },
        "id": "txP8JgWtykgb",
        "outputId": "3ee5d47c-d4ae-451c-fd6d-73186746e960"
      },
      "outputs": [
        {
          "ename": "FileNotFoundError",
          "evalue": "ignored",
          "output_type": "error",
          "traceback": [
            "\u001b[0;31m---------------------------------------------------------------------------\u001b[0m",
            "\u001b[0;31mFileNotFoundError\u001b[0m                         Traceback (most recent call last)",
            "\u001b[0;32m<ipython-input-20-6e89331d782c>\u001b[0m in \u001b[0;36m<module>\u001b[0;34m()\u001b[0m\n\u001b[1;32m      3\u001b[0m \u001b[0;32mfor\u001b[0m \u001b[0melement\u001b[0m \u001b[0;32min\u001b[0m \u001b[0mdata\u001b[0m\u001b[0;34m.\u001b[0m\u001b[0mkeys\u001b[0m\u001b[0;34m(\u001b[0m\u001b[0;34m)\u001b[0m\u001b[0;34m:\u001b[0m\u001b[0;34m\u001b[0m\u001b[0;34m\u001b[0m\u001b[0m\n\u001b[1;32m      4\u001b[0m     \u001b[0mfile_name\u001b[0m \u001b[0;34m=\u001b[0m \u001b[0mdata\u001b[0m\u001b[0;34m[\u001b[0m\u001b[0melement\u001b[0m\u001b[0;34m]\u001b[0m\u001b[0;34m[\u001b[0m\u001b[0;34m'FASTA_prefix'\u001b[0m\u001b[0;34m]\u001b[0m\u001b[0;34m+\u001b[0m\u001b[0;34m'sequences.fasta'\u001b[0m\u001b[0;34m\u001b[0m\u001b[0;34m\u001b[0m\u001b[0m\n\u001b[0;32m----> 5\u001b[0;31m     \u001b[0mfile_handle\u001b[0m \u001b[0;34m=\u001b[0m \u001b[0mopen\u001b[0m\u001b[0;34m(\u001b[0m\u001b[0mfile_name\u001b[0m\u001b[0;34m,\u001b[0m \u001b[0;34m'w'\u001b[0m\u001b[0;34m)\u001b[0m\u001b[0;34m\u001b[0m\u001b[0;34m\u001b[0m\u001b[0m\n\u001b[0m\u001b[1;32m      6\u001b[0m     \u001b[0;32mfor\u001b[0m \u001b[0mrecord\u001b[0m \u001b[0;32min\u001b[0m \u001b[0mdata\u001b[0m\u001b[0;34m[\u001b[0m\u001b[0melement\u001b[0m\u001b[0;34m]\u001b[0m\u001b[0;34m[\u001b[0m\u001b[0;34m'X'\u001b[0m\u001b[0;34m]\u001b[0m\u001b[0;34m:\u001b[0m\u001b[0;34m\u001b[0m\u001b[0;34m\u001b[0m\u001b[0m\n\u001b[1;32m      7\u001b[0m         \u001b[0mfile_handle\u001b[0m\u001b[0;34m.\u001b[0m\u001b[0mwrite\u001b[0m\u001b[0;34m(\u001b[0m\u001b[0;34m'>'\u001b[0m\u001b[0;34m+\u001b[0m\u001b[0mrecord\u001b[0m\u001b[0;34m.\u001b[0m\u001b[0mname\u001b[0m\u001b[0;34m.\u001b[0m\u001b[0msplit\u001b[0m\u001b[0;34m(\u001b[0m\u001b[0;34m'|'\u001b[0m\u001b[0;34m)\u001b[0m\u001b[0;34m[\u001b[0m\u001b[0;36m1\u001b[0m\u001b[0;34m]\u001b[0m\u001b[0;34m)\u001b[0m\u001b[0;34m\u001b[0m\u001b[0;34m\u001b[0m\u001b[0m\n",
            "\u001b[0;31mFileNotFoundError\u001b[0m: [Errno 2] No such file or directory: 'data/FASTA/training_sequences.fasta'"
          ]
        }
      ],
      "source": [
        "# Creating data/*_sequences.fasta files\n",
        "\n",
        "for element in data.keys():\n",
        "    file_name = data[element]['FASTA_prefix']+'sequences.fasta'\n",
        "    file_handle = open(file_name, 'w')\n",
        "    for record in data[element]['X']:\n",
        "        file_handle.write('>'+record.name.split('|')[1])\n",
        "        file_handle.write(\"\\n\")\n",
        "        file_handle.write(str(record.seq))\n",
        "        file_handle.write(\"\\n\")\n",
        "    file_handle.close()"
      ]
    },
    {
      "cell_type": "markdown",
      "metadata": {
        "id": "zSXdGqS8ykgb"
      },
      "source": [
        "  `[training|validation|testing]_temperature_annotations.csv`"
      ]
    },
    {
      "cell_type": "code",
      "execution_count": null,
      "metadata": {
        "id": "LnrHY7UVykgc"
      },
      "outputs": [],
      "source": [
        "# Creating data/*_temperature_annotations.csv files\n",
        "\n",
        "for element in data.keys():\n",
        "    file_name = data[element]['CSV_prefix']+'temperature_annotations.csv'\n",
        "    file_handle = open(file_name, 'w')\n",
        "    file_handle.write('identifier,label'+\"\\n\")\n",
        "    for i in range(len(data[element]['X'])):\n",
        "        file_handle.write(data[element]['X'][i].name.split('|')[1]+','+str(data[element]['Y'][i]))\n",
        "        file_handle.write(\"\\n\")\n",
        "    file_handle.close()"
      ]
    },
    {
      "cell_type": "markdown",
      "metadata": {
        "id": "20lDvxhJAxTH"
      },
      "source": [
        "## Usage of transformers\n"
      ]
    },
    {
      "cell_type": "code",
      "execution_count": 4,
      "metadata": {
        "colab": {
          "base_uri": "https://localhost:8080/"
        },
        "id": "3Qni2mfUykge",
        "outputId": "36eb6a67-09ca-4b07-d5c7-f47bb2727cca"
      },
      "outputs": [
        {
          "name": "stdout",
          "output_type": "stream",
          "text": [
            "Collecting fair-esm\n",
            "  Downloading fair_esm-0.4.0-py3-none-any.whl (37 kB)\n",
            "Installing collected packages: fair-esm\n",
            "Successfully installed fair-esm-0.4.0\n"
          ]
        }
      ],
      "source": [
        " !pip3.7 install fair-esm"
      ]
    },
    {
      "cell_type": "markdown",
      "metadata": {
        "id": "MH-P4nb7ykgf"
      },
      "source": [
        "Suggested usage of the pretrained model."
      ]
    },
    {
      "cell_type": "markdown",
      "metadata": {
        "id": "Vpls7v68iiyd"
      },
      "source": [
        "## Filtering sequences from initial FASTA files \n",
        "\n",
        "Since the visualisation is not allowed without embedding for each FASTA sequence, it was required to filter all sequences and keep only those that have their embeddings."
      ]
    },
    {
      "cell_type": "code",
      "execution_count": 18,
      "metadata": {
        "id": "hxKMiUVfsNd0"
      },
      "outputs": [
        {
          "name": "stdout",
          "output_type": "stream",
          "text": [
            "5056\n",
            "1079\n",
            "1080\n"
          ]
        }
      ],
      "source": [
        "data_filtered = {\n",
        "    'train': {\n",
        "        'X': [],\n",
        "        'Y': [],\n",
        "        'FASTA_prefix': 'data/FASTA/filtered_training_',\n",
        "        'CSV_prefix': 'data/CSV/filtered_training_',\n",
        "        'embedding_list': './data/EMB_ESM1b/training_embeddings.lst'\n",
        "    },\n",
        "    'validate': {\n",
        "        'X': [],\n",
        "        'Y': [],\n",
        "        'FASTA_prefix': 'data/FASTA/filtered_validation_',\n",
        "        'CSV_prefix': 'data/CSV/filtered_validation_',\n",
        "        'embedding_list': './data/EMB_ESM1b/validation_embeddings.lst'\n",
        "    },\n",
        "    'test': {\n",
        "        'X' : [],\n",
        "        'Y' : [],\n",
        "        'FASTA_prefix': 'data/FASTA/filtered_testing_',\n",
        "        'CSV_prefix': 'data/CSV/filtered_testing_',\n",
        "        'embedding_list': './data/EMB_ESM1b/testing_embeddings.lst'\n",
        "    }\n",
        "}\n",
        "\n",
        "for element in data.keys():\n",
        "    emb_list_handle = open(data_filtered[element]['embedding_list'], 'r')\n",
        "    emb_list = emb_list_handle.readlines()\n",
        "    emb_list_handle.close()\n",
        "    emb_set = set()\n",
        "    for j in range(len(emb_list)):\n",
        "        emb_set.add(emb_list[j].split('.')[0])\n",
        "    for i in range(len(data[element]['X'])):\n",
        "        if(data[element]['X'][i].id.split('|')[1] in emb_set):\n",
        "            data_filtered[element]['X'].append(data[element]['X'][i])\n"
      ]
    },
    {
      "cell_type": "markdown",
      "metadata": {},
      "source": [
        "Testing, whether the filtration was successful."
      ]
    },
    {
      "cell_type": "code",
      "execution_count": null,
      "metadata": {},
      "outputs": [],
      "source": [
        "print(len(data_filtered['train']['X']))\n",
        "print(len(data_filtered['validate']['X']))\n",
        "print(len(data_filtered['test']['X']))"
      ]
    },
    {
      "cell_type": "markdown",
      "metadata": {
        "id": "BvPzHeRz3VP8"
      },
      "source": [
        "## Visualisation of embeddings"
      ]
    },
    {
      "cell_type": "code",
      "execution_count": null,
      "metadata": {
        "colab": {
          "base_uri": "https://localhost:8080/"
        },
        "id": "AgsrP8XIExVc",
        "outputId": "0da53fb9-5fc3-483c-fe08-230c8cd4536c"
      },
      "outputs": [
        {
          "name": "stdout",
          "output_type": "stream",
          "text": [
            "Collecting pymde\n",
            "  Downloading pymde-0.1.13-cp37-cp37m-manylinux2010_x86_64.whl (139 kB)\n",
            "\u001b[K     |████████████████████████████████| 139 kB 4.3 MB/s \n",
            "\u001b[?25hRequirement already satisfied: scipy in /usr/local/lib/python3.7/dist-packages (from pymde) (1.4.1)\n",
            "Collecting pynndescent\n",
            "  Downloading pynndescent-0.5.5.tar.gz (1.1 MB)\n",
            "\u001b[K     |████████████████████████████████| 1.1 MB 13.9 MB/s \n",
            "\u001b[?25hRequirement already satisfied: torchvision>=0.8.2 in /usr/local/lib/python3.7/dist-packages (from pymde) (0.10.0+cu111)\n",
            "Requirement already satisfied: requests in /usr/local/lib/python3.7/dist-packages (from pymde) (2.23.0)\n",
            "Requirement already satisfied: numpy>=1.17.5 in /usr/local/lib/python3.7/dist-packages (from pymde) (1.19.5)\n",
            "Requirement already satisfied: matplotlib in /usr/local/lib/python3.7/dist-packages (from pymde) (3.2.2)\n",
            "Requirement already satisfied: torch>=1.7.1 in /usr/local/lib/python3.7/dist-packages (from pymde) (1.9.0+cu111)\n",
            "Requirement already satisfied: typing-extensions in /usr/local/lib/python3.7/dist-packages (from torch>=1.7.1->pymde) (3.7.4.3)\n",
            "Requirement already satisfied: pillow>=5.3.0 in /usr/local/lib/python3.7/dist-packages (from torchvision>=0.8.2->pymde) (7.1.2)\n",
            "Requirement already satisfied: cycler>=0.10 in /usr/local/lib/python3.7/dist-packages (from matplotlib->pymde) (0.10.0)\n",
            "Requirement already satisfied: kiwisolver>=1.0.1 in /usr/local/lib/python3.7/dist-packages (from matplotlib->pymde) (1.3.2)\n",
            "Requirement already satisfied: python-dateutil>=2.1 in /usr/local/lib/python3.7/dist-packages (from matplotlib->pymde) (2.8.2)\n",
            "Requirement already satisfied: pyparsing!=2.0.4,!=2.1.2,!=2.1.6,>=2.0.1 in /usr/local/lib/python3.7/dist-packages (from matplotlib->pymde) (2.4.7)\n",
            "Requirement already satisfied: six in /usr/local/lib/python3.7/dist-packages (from cycler>=0.10->matplotlib->pymde) (1.15.0)\n",
            "Requirement already satisfied: scikit-learn>=0.18 in /usr/local/lib/python3.7/dist-packages (from pynndescent->pymde) (0.22.2.post1)\n",
            "Requirement already satisfied: numba>=0.51.2 in /usr/local/lib/python3.7/dist-packages (from pynndescent->pymde) (0.51.2)\n",
            "Requirement already satisfied: llvmlite>=0.30 in /usr/local/lib/python3.7/dist-packages (from pynndescent->pymde) (0.34.0)\n",
            "Requirement already satisfied: joblib>=0.11 in /usr/local/lib/python3.7/dist-packages (from pynndescent->pymde) (1.0.1)\n",
            "Requirement already satisfied: setuptools in /usr/local/lib/python3.7/dist-packages (from numba>=0.51.2->pynndescent->pymde) (57.4.0)\n",
            "Requirement already satisfied: chardet<4,>=3.0.2 in /usr/local/lib/python3.7/dist-packages (from requests->pymde) (3.0.4)\n",
            "Requirement already satisfied: idna<3,>=2.5 in /usr/local/lib/python3.7/dist-packages (from requests->pymde) (2.10)\n",
            "Requirement already satisfied: urllib3!=1.25.0,!=1.25.1,<1.26,>=1.21.1 in /usr/local/lib/python3.7/dist-packages (from requests->pymde) (1.24.3)\n",
            "Requirement already satisfied: certifi>=2017.4.17 in /usr/local/lib/python3.7/dist-packages (from requests->pymde) (2021.5.30)\n",
            "Building wheels for collected packages: pynndescent\n",
            "  Building wheel for pynndescent (setup.py) ... \u001b[?25l\u001b[?25hdone\n",
            "  Created wheel for pynndescent: filename=pynndescent-0.5.5-py3-none-any.whl size=52603 sha256=5bcdd427b75041cc4e3ec53be4fbaf74cb69f82af25cf98be2b990cbaa8853cf\n",
            "  Stored in directory: /root/.cache/pip/wheels/af/e9/33/04db1436df0757c42fda8ea6796d7a8586e23c85fac355f476\n",
            "Successfully built pynndescent\n",
            "Installing collected packages: pynndescent, pymde\n",
            "Successfully installed pymde-0.1.13 pynndescent-0.5.5\n"
          ]
        }
      ],
      "source": [
        "!pip install pymde"
      ]
    },
    {
      "cell_type": "code",
      "execution_count": null,
      "metadata": {
        "id": "UzV7GoUrjC_5"
      },
      "outputs": [],
      "source": [
        "from google.colab import drive\n",
        "drive.mount('/content/drive')\n",
        "!unzip '/content/drive/MyDrive/validation_sequences.tar'"
      ]
    },
    {
      "cell_type": "code",
      "execution_count": 8,
      "metadata": {
        "colab": {
          "base_uri": "https://localhost:8080/",
          "height": 375
        },
        "id": "rg52LTBOJgox",
        "outputId": "f68267e0-3c84-44c9-86e5-936c64f5277b"
      },
      "outputs": [
        {
          "ename": "FileNotFoundError",
          "evalue": "ignored",
          "output_type": "error",
          "traceback": [
            "\u001b[0;31m---------------------------------------------------------------------------\u001b[0m",
            "\u001b[0;31mFileNotFoundError\u001b[0m                         Traceback (most recent call last)",
            "\u001b[0;32m<ipython-input-8-6c2b64a462f4>\u001b[0m in \u001b[0;36m<module>\u001b[0;34m()\u001b[0m\n\u001b[1;32m     13\u001b[0m     \u001b[0;31m#Ys.append(float(scaled_effect))\u001b[0m\u001b[0;34m\u001b[0m\u001b[0;34m\u001b[0m\u001b[0;34m\u001b[0m\u001b[0m\n\u001b[1;32m     14\u001b[0m     \u001b[0mfn\u001b[0m \u001b[0;34m=\u001b[0m \u001b[0;34mf'{EMB_PATH}/{header[1:]}.pt'\u001b[0m\u001b[0;34m\u001b[0m\u001b[0;34m\u001b[0m\u001b[0m\n\u001b[0;32m---> 15\u001b[0;31m     \u001b[0membs\u001b[0m \u001b[0;34m=\u001b[0m \u001b[0mtorch\u001b[0m\u001b[0;34m.\u001b[0m\u001b[0mload\u001b[0m\u001b[0;34m(\u001b[0m\u001b[0mfn\u001b[0m\u001b[0;34m)\u001b[0m\u001b[0;34m\u001b[0m\u001b[0;34m\u001b[0m\u001b[0m\n\u001b[0m\u001b[1;32m     16\u001b[0m     \u001b[0mXs\u001b[0m\u001b[0;34m.\u001b[0m\u001b[0mappend\u001b[0m\u001b[0;34m(\u001b[0m\u001b[0membs\u001b[0m\u001b[0;34m[\u001b[0m\u001b[0;34m'mean_representations'\u001b[0m\u001b[0;34m]\u001b[0m\u001b[0;34m[\u001b[0m\u001b[0mEMB_LAYER\u001b[0m\u001b[0;34m]\u001b[0m\u001b[0;34m)\u001b[0m\u001b[0;34m\u001b[0m\u001b[0;34m\u001b[0m\u001b[0m\n\u001b[1;32m     17\u001b[0m \u001b[0mXs\u001b[0m \u001b[0;34m=\u001b[0m \u001b[0mtorch\u001b[0m\u001b[0;34m.\u001b[0m\u001b[0mstack\u001b[0m\u001b[0;34m(\u001b[0m\u001b[0mXs\u001b[0m\u001b[0;34m,\u001b[0m \u001b[0mdim\u001b[0m\u001b[0;34m=\u001b[0m\u001b[0;36m0\u001b[0m\u001b[0;34m)\u001b[0m\u001b[0;34m.\u001b[0m\u001b[0mnumpy\u001b[0m\u001b[0;34m(\u001b[0m\u001b[0;34m)\u001b[0m\u001b[0;34m\u001b[0m\u001b[0;34m\u001b[0m\u001b[0m\n",
            "\u001b[0;32m/usr/local/lib/python3.7/dist-packages/torch/serialization.py\u001b[0m in \u001b[0;36mload\u001b[0;34m(f, map_location, pickle_module, **pickle_load_args)\u001b[0m\n\u001b[1;32m    592\u001b[0m         \u001b[0mpickle_load_args\u001b[0m\u001b[0;34m[\u001b[0m\u001b[0;34m'encoding'\u001b[0m\u001b[0;34m]\u001b[0m \u001b[0;34m=\u001b[0m \u001b[0;34m'utf-8'\u001b[0m\u001b[0;34m\u001b[0m\u001b[0;34m\u001b[0m\u001b[0m\n\u001b[1;32m    593\u001b[0m \u001b[0;34m\u001b[0m\u001b[0m\n\u001b[0;32m--> 594\u001b[0;31m     \u001b[0;32mwith\u001b[0m \u001b[0m_open_file_like\u001b[0m\u001b[0;34m(\u001b[0m\u001b[0mf\u001b[0m\u001b[0;34m,\u001b[0m \u001b[0;34m'rb'\u001b[0m\u001b[0;34m)\u001b[0m \u001b[0;32mas\u001b[0m \u001b[0mopened_file\u001b[0m\u001b[0;34m:\u001b[0m\u001b[0;34m\u001b[0m\u001b[0;34m\u001b[0m\u001b[0m\n\u001b[0m\u001b[1;32m    595\u001b[0m         \u001b[0;32mif\u001b[0m \u001b[0m_is_zipfile\u001b[0m\u001b[0;34m(\u001b[0m\u001b[0mopened_file\u001b[0m\u001b[0;34m)\u001b[0m\u001b[0;34m:\u001b[0m\u001b[0;34m\u001b[0m\u001b[0;34m\u001b[0m\u001b[0m\n\u001b[1;32m    596\u001b[0m             \u001b[0;31m# The zipfile reader is going to advance the current file position.\u001b[0m\u001b[0;34m\u001b[0m\u001b[0;34m\u001b[0m\u001b[0;34m\u001b[0m\u001b[0m\n",
            "\u001b[0;32m/usr/local/lib/python3.7/dist-packages/torch/serialization.py\u001b[0m in \u001b[0;36m_open_file_like\u001b[0;34m(name_or_buffer, mode)\u001b[0m\n\u001b[1;32m    228\u001b[0m \u001b[0;32mdef\u001b[0m \u001b[0m_open_file_like\u001b[0m\u001b[0;34m(\u001b[0m\u001b[0mname_or_buffer\u001b[0m\u001b[0;34m,\u001b[0m \u001b[0mmode\u001b[0m\u001b[0;34m)\u001b[0m\u001b[0;34m:\u001b[0m\u001b[0;34m\u001b[0m\u001b[0;34m\u001b[0m\u001b[0m\n\u001b[1;32m    229\u001b[0m     \u001b[0;32mif\u001b[0m \u001b[0m_is_path\u001b[0m\u001b[0;34m(\u001b[0m\u001b[0mname_or_buffer\u001b[0m\u001b[0;34m)\u001b[0m\u001b[0;34m:\u001b[0m\u001b[0;34m\u001b[0m\u001b[0;34m\u001b[0m\u001b[0m\n\u001b[0;32m--> 230\u001b[0;31m         \u001b[0;32mreturn\u001b[0m \u001b[0m_open_file\u001b[0m\u001b[0;34m(\u001b[0m\u001b[0mname_or_buffer\u001b[0m\u001b[0;34m,\u001b[0m \u001b[0mmode\u001b[0m\u001b[0;34m)\u001b[0m\u001b[0;34m\u001b[0m\u001b[0;34m\u001b[0m\u001b[0m\n\u001b[0m\u001b[1;32m    231\u001b[0m     \u001b[0;32melse\u001b[0m\u001b[0;34m:\u001b[0m\u001b[0;34m\u001b[0m\u001b[0;34m\u001b[0m\u001b[0m\n\u001b[1;32m    232\u001b[0m         \u001b[0;32mif\u001b[0m \u001b[0;34m'w'\u001b[0m \u001b[0;32min\u001b[0m \u001b[0mmode\u001b[0m\u001b[0;34m:\u001b[0m\u001b[0;34m\u001b[0m\u001b[0;34m\u001b[0m\u001b[0m\n",
            "\u001b[0;32m/usr/local/lib/python3.7/dist-packages/torch/serialization.py\u001b[0m in \u001b[0;36m__init__\u001b[0;34m(self, name, mode)\u001b[0m\n\u001b[1;32m    209\u001b[0m \u001b[0;32mclass\u001b[0m \u001b[0m_open_file\u001b[0m\u001b[0;34m(\u001b[0m\u001b[0m_opener\u001b[0m\u001b[0;34m)\u001b[0m\u001b[0;34m:\u001b[0m\u001b[0;34m\u001b[0m\u001b[0;34m\u001b[0m\u001b[0m\n\u001b[1;32m    210\u001b[0m     \u001b[0;32mdef\u001b[0m \u001b[0m__init__\u001b[0m\u001b[0;34m(\u001b[0m\u001b[0mself\u001b[0m\u001b[0;34m,\u001b[0m \u001b[0mname\u001b[0m\u001b[0;34m,\u001b[0m \u001b[0mmode\u001b[0m\u001b[0;34m)\u001b[0m\u001b[0;34m:\u001b[0m\u001b[0;34m\u001b[0m\u001b[0;34m\u001b[0m\u001b[0m\n\u001b[0;32m--> 211\u001b[0;31m         \u001b[0msuper\u001b[0m\u001b[0;34m(\u001b[0m\u001b[0m_open_file\u001b[0m\u001b[0;34m,\u001b[0m \u001b[0mself\u001b[0m\u001b[0;34m)\u001b[0m\u001b[0;34m.\u001b[0m\u001b[0m__init__\u001b[0m\u001b[0;34m(\u001b[0m\u001b[0mopen\u001b[0m\u001b[0;34m(\u001b[0m\u001b[0mname\u001b[0m\u001b[0;34m,\u001b[0m \u001b[0mmode\u001b[0m\u001b[0;34m)\u001b[0m\u001b[0;34m)\u001b[0m\u001b[0;34m\u001b[0m\u001b[0;34m\u001b[0m\u001b[0m\n\u001b[0m\u001b[1;32m    212\u001b[0m \u001b[0;34m\u001b[0m\u001b[0m\n\u001b[1;32m    213\u001b[0m     \u001b[0;32mdef\u001b[0m \u001b[0m__exit__\u001b[0m\u001b[0;34m(\u001b[0m\u001b[0mself\u001b[0m\u001b[0;34m,\u001b[0m \u001b[0;34m*\u001b[0m\u001b[0margs\u001b[0m\u001b[0;34m)\u001b[0m\u001b[0;34m:\u001b[0m\u001b[0;34m\u001b[0m\u001b[0;34m\u001b[0m\u001b[0m\n",
            "\u001b[0;31mFileNotFoundError\u001b[0m: [Errno 2] No such file or directory: '/content/validation_sequences/P39285.pt'"
          ]
        }
      ],
      "source": [
        "import esm\n",
        "import torch\n",
        "\n",
        "FASTA_PATH = \"validation_sequences.fasta\" # Path to FASTA files\n",
        "EMB_PATH = \"/content/validation_sequences\" # Path to directory of embeddings for FASTA files\n",
        "EMB_LAYER = 33\n",
        "\n",
        "#/content/validation_sequences/P39385.pt\n",
        "\n",
        "Ys = []\n",
        "Xs = []\n",
        "for header, _seq in esm.data.read_fasta(FASTA_PATH):\n",
        "    #scaled_effect = header.split('|')[-1]\n",
        "    #Ys.append(float(scaled_effect))\n",
        "    fn = f'{EMB_PATH}/{header[1:]}.pt'\n",
        "    embs = torch.load(fn)\n",
        "    Xs.append(embs['mean_representations'][EMB_LAYER])\n",
        "Xs = torch.stack(Xs, dim=0).numpy()\n",
        "print(len(Ys))\n",
        "print(Xs.shape)"
      ]
    },
    {
      "cell_type": "markdown",
      "metadata": {
        "id": "9boajW5lytuW"
      },
      "source": [
        "## Creating a simple feed-forward neural network with Keras.\n",
        "\n",
        "`LabelBinarizer` - package that is used to one-hot encode integer labels as vector labels.\n",
        "\n",
        "`classification_report` - function that gives a nicely formatted report to display the total accuracy of the model. Also it might show breakdown on the classification accuracy for wach digit.\n",
        "\n",
        "`Sequential` - class that indicates that the network will be feed-forward and layers will be added to the class sequentially (one on top of the other).\n",
        "\n",
        "`Dense` - class that is the implementation of the fully connected layers.\n",
        "\n",
        "Stochastic gradient descent (`SGD`) - required for the network to actually learn - it optimizes the parameters of the network.\n",
        "\n",
        "`mnist` - helper function that provides access to full MNIST dataset."
      ]
    },
    {
      "cell_type": "code",
      "execution_count": null,
      "metadata": {
        "id": "J58xOgw7yteU"
      },
      "outputs": [],
      "source": [
        "from sklearn.preprocessing import LabelBinarizer\n",
        "from sklearn.metrics import classification_report\n",
        "from tensorflow.keras.models import Sequential\n",
        "from tensorflow.keras.layers import Dense\n",
        "from tensorflow.keras.optimizers import SGD\n",
        "from tensorflow.keras.datasets import mnist\n",
        "from tensorflow.keras import backend as K\n",
        "import matplotlib.pyplot as plt\n",
        "import numpy as np\n",
        "import argparse"
      ]
    },
    {
      "cell_type": "markdown",
      "metadata": {
        "id": "MXGLaPah24ez"
      },
      "source": [
        "### Loading dataset"
      ]
    },
    {
      "cell_type": "code",
      "execution_count": null,
      "metadata": {
        "colab": {
          "base_uri": "https://localhost:8080/"
        },
        "id": "CB6IWNEn0M8a",
        "outputId": "234e738a-1024-4df2-ea00-606cfa6c6b4f"
      },
      "outputs": [
        {
          "name": "stdout",
          "output_type": "stream",
          "text": [
            "[INFO] accessing datasets...\n"
          ]
        }
      ],
      "source": [
        "print(\"[INFO] accessing datasets...\")\n",
        "#trainX = data['train']['X']\n",
        "#trainY = data['train']['Y']\n",
        "#testX = data['validation']['X']\n",
        "#testY = data['validation']['Y']\n",
        "((trainX, trainY), (testX, testY)) = mnist.load_data()\n",
        "\n",
        "# Reshape\n",
        "trainX = trainX.reshape((trainX.shape[0], 28 * 28 * 1))\n",
        "testX = testX.reshape((testX.shape[0], 28 * 28 * 1))\n",
        "\n",
        "# scale data to the range of [0, 1]\n",
        "trainX = trainX.astype(\"float32\") / 255.0\n",
        "testX = testX.astype(\"float32\") / 255.0"
      ]
    },
    {
      "cell_type": "markdown",
      "metadata": {
        "id": "E4hsT4je26F-"
      },
      "source": [
        "### Encoding the labels \n",
        "\n",
        "Firstly, integer labels are transformed into vector labels."
      ]
    },
    {
      "cell_type": "code",
      "execution_count": null,
      "metadata": {
        "id": "pKykia8C1Kuk"
      },
      "outputs": [],
      "source": [
        "# convert the labels from integers to vectors\n",
        "lb = LabelBinarizer()\n",
        "trainY = lb.fit_transform(trainY)\n",
        "testY = lb.transform(testY)"
      ]
    },
    {
      "cell_type": "markdown",
      "metadata": {
        "id": "CcQLLEd84qZC"
      },
      "source": [
        "### Defining network architecture\n",
        "\n",
        "`Sequential()` - instantiates the feedforward architecture.\n",
        "\n",
        "`model.add(Dense(...))` - defines the fully connected layer in the network. \n",
        "\n",
        "1. The dimension is equal to the number of each MNIST data points. This layer learns 256 weights and applies sigmoid activation function.\n",
        "\n",
        "2. The layer learns 128 weights. Activation function is also sigmoid.\n",
        "\n",
        "3. The layer that learns 10 weights. The activation function is softmax. This activation function obtains normalized class probabilities for each prediction.\n",
        "\n"
      ]
    },
    {
      "cell_type": "code",
      "execution_count": null,
      "metadata": {
        "id": "Iod9v-cT4svT"
      },
      "outputs": [],
      "source": [
        "# define the ?-?-?-? architecture using Keras\n",
        "model = Sequential()\n",
        "model.add(Dense(256, input_shape=(784,), activation=\"sigmoid\"))\n",
        "model.add(Dense(128, activation=\"sigmoid\"))\n",
        "model.add(Dense(10, activation=\"softmax\"))"
      ]
    },
    {
      "cell_type": "markdown",
      "metadata": {
        "id": "mtNuFmoM6YV8"
      },
      "source": [
        "### Training the network\n",
        "\n",
        "1. Initializing the SGD optimizer with a learning rate of 0.01 (common notation 1e-2)\n",
        "2. categorical_crossentropy loss function is used as the loss metric.\n",
        "3. Calling `model.fit()` method to start the training of the network. This method returns a dictionary (`H`), which will be later used for accuracy plotting.\n"
      ]
    },
    {
      "cell_type": "code",
      "execution_count": null,
      "metadata": {
        "id": "cNWiLYSb6cIQ"
      },
      "outputs": [],
      "source": [
        "# train the model using SGD\n",
        "print(\"[INFO] training network...\")\n",
        "sgd = SGD(0.01)\n",
        "model.compile(loss=\"categorical_crossentropy\", optimizer=sgd, metrics=[\"accuracy\"])\n",
        "H = model.fit(trainX, trainY, validation_data=(testX, testY), epochs=100, batch_size=128)"
      ]
    },
    {
      "cell_type": "markdown",
      "metadata": {
        "id": "bfCX51rX70Do"
      },
      "source": [
        "### Evaluating the accuracy of the model\n",
        "\n",
        "1. `model.predict()` method returns all of the class label probabilities for every data point in testX. In other words, `predictions` NumPy array has the shape `(X, 10)`, where `X` is the total number of data points in the testing set and `10` stands for the number of possible class labels.\n",
        "2. `argmax(axis=1)` function will give the index of the class label that has the largest probability (final output classification).\n",
        "\n",
        "The final output is tabulated."
      ]
    },
    {
      "cell_type": "code",
      "execution_count": null,
      "metadata": {
        "colab": {
          "base_uri": "https://localhost:8080/"
        },
        "id": "hUwAk5i68Igd",
        "outputId": "9d3e83a8-e780-4aee-d038-bdcf501428cd"
      },
      "outputs": [
        {
          "name": "stdout",
          "output_type": "stream",
          "text": [
            "[INFO] evaluating network...\n",
            "              precision    recall  f1-score   support\n",
            "\n",
            "           0       0.94      0.98      0.96       980\n",
            "           1       0.97      0.97      0.97      1135\n",
            "           2       0.92      0.90      0.91      1032\n",
            "           3       0.91      0.90      0.91      1010\n",
            "           4       0.92      0.94      0.93       982\n",
            "           5       0.90      0.87      0.88       892\n",
            "           6       0.93      0.95      0.94       958\n",
            "           7       0.93      0.93      0.93      1028\n",
            "           8       0.89      0.90      0.89       974\n",
            "           9       0.92      0.90      0.91      1009\n",
            "\n",
            "    accuracy                           0.92     10000\n",
            "   macro avg       0.92      0.92      0.92     10000\n",
            "weighted avg       0.92      0.92      0.92     10000\n",
            "\n"
          ]
        }
      ],
      "source": [
        "# evaluate the network\n",
        "print(\"[INFO] evaluating network...\")\n",
        "predictions = model.predict(testX, batch_size=128)\n",
        "print(classification_report(testY.argmax(axis=1), predictions.argmax(axis=1),target_names=[str(x) for x in lb.classes_]))"
      ]
    },
    {
      "cell_type": "markdown",
      "metadata": {
        "id": "1FTTRv3i9aIX"
      },
      "source": [
        "### Visualization of the results\n",
        "\n",
        "Plotting the training loss, training accuracy, validation loss, and validation accuracy."
      ]
    },
    {
      "cell_type": "code",
      "execution_count": null,
      "metadata": {
        "colab": {
          "base_uri": "https://localhost:8080/",
          "height": 299
        },
        "id": "rNZn2p_H9aww",
        "outputId": "fe11dfbf-16d2-458b-c8bd-221e4eb1fc25"
      },
      "outputs": [
        {
          "data": {
            "image/png": "[encoded data removed]",
            "text/plain": [
              "<Figure size 432x288 with 1 Axes>"
            ]
          },
          "metadata": {},
          "output_type": "display_data"
        }
      ],
      "source": [
        "# plot the training loss and accuracy\n",
        "plt.style.use(\"ggplot\")\n",
        "plt.figure()\n",
        "plt.plot(np.arange(0, 100), H.history[\"loss\"], label=\"train_loss\")\n",
        "plt.plot(np.arange(0, 100), H.history[\"val_loss\"], label=\"val_loss\")\n",
        "plt.plot(np.arange(0, 100), H.history[\"accuracy\"], label=\"train_acc\")\n",
        "plt.plot(np.arange(0, 100), H.history[\"val_accuracy\"], label=\"val_acc\")\n",
        "plt.title(\"Training Loss and Accuracy\")\n",
        "plt.xlabel(\"Epoch #\")\n",
        "plt.ylabel(\"Loss/Accuracy\")\n",
        "plt.legend()\n",
        "plt.show()"
      ]
    }
  ],
  "metadata": {
    "colab": {
      "collapsed_sections": [
        "xFETk-0UykgU",
        "45TFJZTLykgW",
        "UE4f6R78ykgX",
        "KUZVjOUWykgZ",
        "W73lIrirFMbT",
        "NhwuRL0Eykga",
        "9boajW5lytuW"
      ],
      "name": "classificator.ipynb",
      "provenance": []
    },
    "interpreter": {
      "hash": "dcc5f0745bb73c331ddcb9e6e17cfcf1d7c30043bb04caa6bbf9dd8843d7acb0"
    },
    "kernelspec": {
      "display_name": "Python 3.7.4 64-bit ('base': conda)",
      "name": "python3"
    },
    "language_info": {
      "codemirror_mode": {
        "name": "ipython",
        "version": 3
      },
      "file_extension": ".py",
      "mimetype": "text/x-python",
      "name": "python",
      "nbconvert_exporter": "python",
      "pygments_lexer": "ipython3",
      "version": "3.7.4"
    },
    "orig_nbformat": 4
  },
  "nbformat": 4,
  "nbformat_minor": 0
}

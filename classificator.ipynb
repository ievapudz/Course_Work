{
  "nbformat": 4,
  "nbformat_minor": 0,
  "metadata": {
    "colab": {
      "name": "classificator.ipynb",
      "provenance": [],
      "collapsed_sections": [
        "45TFJZTLykgW",
        "UE4f6R78ykgX",
        "KUZVjOUWykgZ",
        "W73lIrirFMbT",
        "NhwuRL0Eykga",
        "sp9jacV9Q6kL",
        "BvPzHeRz3VP8",
        "_8-7For9AytP",
        "2GFf5j_BAa9Y",
        "E43BcyE6QPcq",
        "X9vb6A6BQaNR",
        "Bm3HtLIM9aHT",
        "DPJKO8nOQhMA"
      ]
    },
    "interpreter": {
      "hash": "dcc5f0745bb73c331ddcb9e6e17cfcf1d7c30043bb04caa6bbf9dd8843d7acb0"
    },
    "kernelspec": {
      "display_name": "Python 3.7.4 64-bit ('base': conda)",
      "name": "python3"
    },
    "language_info": {
      "codemirror_mode": {
        "name": "ipython",
        "version": 3
      },
      "file_extension": ".py",
      "mimetype": "text/x-python",
      "name": "python",
      "nbconvert_exporter": "python",
      "pygments_lexer": "ipython3",
      "version": "3.7.4"
    },
    "orig_nbformat": 4
  },
  "cells": [
    {
      "cell_type": "markdown",
      "metadata": {
        "id": "YelAWkSQykgR"
      },
      "source": [
        "# Protein Classificator"
      ]
    },
    {
      "cell_type": "markdown",
      "metadata": {
        "id": "xFETk-0UykgU"
      },
      "source": [
        "## Importing required packages"
      ]
    },
    {
      "cell_type": "code",
      "metadata": {
        "colab": {
          "base_uri": "https://localhost:8080/"
        },
        "id": "HiZQxC_wAMmp",
        "outputId": "ee041476-f573-41f7-b593-87b60fdf9efe"
      },
      "source": [
        "!pip3.7 install biopython"
      ],
      "execution_count": null,
      "outputs": [
        {
          "output_type": "stream",
          "name": "stdout",
          "text": [
            "Collecting biopython\n",
            "  Downloading biopython-1.79-cp37-cp37m-manylinux_2_5_x86_64.manylinux1_x86_64.whl (2.3 MB)\n",
            "\u001b[K     |████████████████████████████████| 2.3 MB 10.6 MB/s \n",
            "\u001b[?25hRequirement already satisfied: numpy in /usr/local/lib/python3.7/dist-packages (from biopython) (1.19.5)\n",
            "Installing collected packages: biopython\n",
            "Successfully installed biopython-1.79\n"
          ]
        }
      ]
    },
    {
      "cell_type": "code",
      "metadata": {
        "colab": {
          "base_uri": "https://localhost:8080/"
        },
        "id": "3Qni2mfUykge",
        "outputId": "5f4596ad-1603-4035-d368-acec07d5363b"
      },
      "source": [
        " !pip3.7 install fair-esm"
      ],
      "execution_count": null,
      "outputs": [
        {
          "output_type": "stream",
          "name": "stdout",
          "text": [
            "Collecting fair-esm\n",
            "  Downloading fair_esm-0.4.0-py3-none-any.whl (37 kB)\n",
            "Installing collected packages: fair-esm\n",
            "Successfully installed fair-esm-0.4.0\n"
          ]
        }
      ]
    },
    {
      "cell_type": "code",
      "metadata": {
        "id": "WE6NsiN_ykgV"
      },
      "source": [
        "import matplotlib as mpl\n",
        "import matplotlib.pyplot as plt\n",
        "from matplotlib import colors\n",
        "import numpy\n",
        "\n",
        "from Bio import SeqIO\n",
        "from sklearn.model_selection import train_test_split\n",
        "from sklearn.utils import shuffle\n",
        "from sklearn.decomposition import PCA"
      ],
      "execution_count": null,
      "outputs": []
    },
    {
      "cell_type": "markdown",
      "metadata": {
        "id": "L1qytLnjUgl1"
      },
      "source": [
        "Command to run to open data files in Google Colab environment."
      ]
    },
    {
      "cell_type": "code",
      "metadata": {
        "colab": {
          "base_uri": "https://localhost:8080/"
        },
        "id": "VJyU4CJ7Ry1J",
        "outputId": "e19fdc23-90ea-4228-a11f-bdf834ffcb57"
      },
      "source": [
        "!unzip data.zip"
      ],
      "execution_count": null,
      "outputs": [
        {
          "output_type": "stream",
          "name": "stdout",
          "text": [
            "Archive:  data.zip\n",
            "   creating: data/\n",
            "  inflating: data/.DS_Store          \n",
            "   creating: data/proteomes/\n",
            "  inflating: data/proteomes/UP000001974_273057.fasta  \n",
            "  inflating: data/proteomes/UP000000625_83333.fasta  \n",
            "   creating: data/FASTA/\n",
            "  inflating: data/FASTA/training_sequences_sample.fasta  \n",
            "  inflating: data/FASTA/filtered_testing_sequences.fasta  \n",
            "  inflating: data/FASTA/.DS_Store    \n",
            "  inflating: data/FASTA/filtered_training_sample_sequences.fasta  \n",
            "  inflating: data/FASTA/testing_sequences.fasta  \n",
            "  inflating: data/FASTA/training_sequences.fasta  \n",
            "  inflating: data/FASTA/validation_sequences.fasta  \n",
            "  inflating: data/FASTA/filtered_validation_sequences.fasta  \n",
            "  inflating: data/FASTA/filtered_training_sequences.fasta  \n",
            "   creating: data/CSV/\n",
            "  inflating: data/CSV/validation_temperature_annotations.csv  \n",
            "  inflating: data/CSV/testing_temperature_annotations.csv  \n",
            "  inflating: data/CSV/training_temperature_annotations.csv  \n",
            "   creating: data/visualisation/\n",
            "  inflating: data/visualisation/validation_and_testing_sequences_visualisation_PyMDE.png  \n",
            "  inflating: data/visualisation/.DS_Store  \n",
            "  inflating: data/visualisation/testing_sequences_visualisation_matplotlib.png  \n",
            "  inflating: data/visualisation/validation_sequences_visualisation_PyMDE.png  \n",
            "  inflating: data/visualisation/training_embeddings_sample_visualisation_matplotlib.png  \n",
            "  inflating: data/visualisation/training_embeddings_sample_visualisation_PyMDE.png  \n",
            "  inflating: data/visualisation/validation_sequences_visualization_MatPlotLib.png  \n",
            "  inflating: data/visualisation/validation_and_testing_sequences_visualisation_matplotlib.png  \n",
            "  inflating: data/visualisation/testing_sequences_visualisation_PyMDE.png  \n",
            "   creating: data/EMB_ESM1b/\n",
            "  inflating: data/EMB_ESM1b/training_embeddings.lst  \n",
            "  inflating: data/EMB_ESM1b/.DS_Store  \n",
            "  inflating: data/EMB_ESM1b/sample_ids.lst  \n",
            "  inflating: data/EMB_ESM1b/training_emb_info  \n",
            "  inflating: data/EMB_ESM1b/validation_emb_info  \n",
            "  inflating: data/EMB_ESM1b/testing_embeddings.lst  \n",
            "  inflating: data/EMB_ESM1b/training_embeddings_sample.lst  \n",
            "  inflating: data/EMB_ESM1b/validation_embeddings.lst  \n"
          ]
        }
      ]
    },
    {
      "cell_type": "markdown",
      "metadata": {
        "id": "45TFJZTLykgW"
      },
      "source": [
        "## Configuration of temperature labels and input files"
      ]
    },
    {
      "cell_type": "code",
      "metadata": {
        "id": "ho9rDAgvykgX"
      },
      "source": [
        "temperature_labels_full = [37, 80]\n",
        "\n",
        "files = ['data/proteomes/UP000000625_83333.fasta', 'data/proteomes/UP000001974_273057.fasta']"
      ],
      "execution_count": null,
      "outputs": []
    },
    {
      "cell_type": "markdown",
      "metadata": {
        "id": "UE4f6R78ykgX"
      },
      "source": [
        "## Splitting the dataset for training, validation and testing\n",
        "\n",
        "The proportions for splitting were chosen to be 70%, 15% and 15% for training, validation and testing respectively."
      ]
    },
    {
      "cell_type": "code",
      "metadata": {
        "id": "zHfA3icmykgY"
      },
      "source": [
        "# Initialisation of the dataset container\n",
        "data = {\n",
        "    'train': {\n",
        "        'X' : [],\n",
        "        'Y' : [],\n",
        "        'FASTA_prefix': 'data/FASTA/training_',\n",
        "        'CSV_prefix': 'data/CSV/training_',\n",
        "    },\n",
        "    'validate': {\n",
        "        'X' : [],\n",
        "        'Y' : [],\n",
        "        'FASTA_prefix': 'data/FASTA/validation_',\n",
        "        'CSV_prefix': 'data/CSV/validation_'\n",
        "    },\n",
        "    'test': {\n",
        "        'X' : [],\n",
        "        'Y' : [],\n",
        "        'FASTA_prefix': 'data/FASTA/testing_',\n",
        "        'CSV_prefix': 'data/CSV/testing_'\n",
        "    }\n",
        "}\n",
        "\n",
        "# Removing duplicate sequences in the dataset\n",
        "seen = set()\n",
        "\n",
        "for i in range(len(temperature_labels_full)):\n",
        "    records = [] \n",
        "    # Parsing sequences (X dataset) from one dataset \n",
        "    for record in SeqIO.parse(files[i], \"fasta\"):\n",
        "        if record.seq not in seen:\n",
        "            seen.add(record.seq)\n",
        "            records.append(record)\n",
        "\n",
        "    # Creating Y dataset from temperature labels \n",
        "    temperature_labels = [temperature_labels_full[i]] * len(records)\n",
        "\n",
        "    # Spliting the dataset to 70% (training) and 30% (trying)\n",
        "    X_train, X_try, Y_train, Y_try = train_test_split(records, temperature_labels, test_size=0.3, shuffle=True, random_state=1)\n",
        "\n",
        "    # Splitting 30% from the initial set in half for calidation and testing\n",
        "    X_validate, X_test, Y_validate, Y_test = train_test_split(X_try, Y_try, test_size=0.5, shuffle=True, random_state=1)\n",
        "\n",
        "    data['train']['X'] = data['train']['X'] + X_train\n",
        "    data['train']['Y'] = data['train']['Y'] + Y_train\n",
        "    data['validate']['X'] = data['validate']['X'] + X_validate\n",
        "    data['validate']['Y'] = data['validate']['Y'] + Y_validate\n",
        "    data['test']['X'] = data['test']['X'] + X_test\n",
        "    data['test']['Y'] = data['test']['Y'] + Y_test\n",
        "\n",
        "# Shuffling the datasets\n",
        "for element in data.keys():\n",
        "    data[element]['X'], data[element]['Y'] = shuffle(data[element]['X'], data[element]['Y'], random_state=1)\n",
        "\n"
      ],
      "execution_count": null,
      "outputs": []
    },
    {
      "cell_type": "markdown",
      "metadata": {
        "id": "KUZVjOUWykgZ"
      },
      "source": [
        "## Checking the success of parsing"
      ]
    },
    {
      "cell_type": "code",
      "metadata": {
        "colab": {
          "base_uri": "https://localhost:8080/"
        },
        "id": "oag6UzGoykgZ",
        "outputId": "33122abe-2a78-4b48-8d00-de925e2756e0"
      },
      "source": [
        "print(len(seen))\n",
        "print(len(data['train']['X']))\n",
        "print(len(data['validate']['X']))\n",
        "print(len(data['test']['X']))"
      ],
      "execution_count": null,
      "outputs": [
        {
          "output_type": "stream",
          "name": "stdout",
          "text": [
            "7288\n",
            "5101\n",
            "1093\n",
            "1094\n"
          ]
        }
      ]
    },
    {
      "cell_type": "markdown",
      "metadata": {
        "id": "W73lIrirFMbT"
      },
      "source": [
        "## Checking the maximum length"
      ]
    },
    {
      "cell_type": "code",
      "metadata": {
        "colab": {
          "base_uri": "https://localhost:8080/"
        },
        "id": "KOX6LQI0BRVv",
        "outputId": "db2a670a-ca8e-4e11-c243-07fca2c41608"
      },
      "source": [
        "max_length = 0\n",
        "max_length_seq = None\n",
        "\n",
        "for element in data.keys():\n",
        "    for i in range(len(data[element]['X'])):\n",
        "        if(len(data[element]['X'][i].seq) > max_length):\n",
        "            max_length = len(data[element]['X'][i].seq)\n",
        "            max_length_seq = data[element]['X'][i]\n",
        "\n",
        "print(max_length)\n",
        "print(max_length_seq)"
      ],
      "execution_count": null,
      "outputs": [
        {
          "output_type": "stream",
          "name": "stdout",
          "text": [
            "2358\n",
            "ID: sp|P76347|YEEJ_ECOLI\n",
            "Name: sp|P76347|YEEJ_ECOLI\n",
            "Description: sp|P76347|YEEJ_ECOLI Uncharacterized protein YeeJ OS=Escherichia coli (strain K12) OX=83333 GN=yeeJ PE=3 SV=3\n",
            "Number of features: 0\n",
            "Seq('MATKKRSGEEINDRQILCGMGIKLRRLTAGICLITQLAFPMAAAAQGVVNAATQ...KNL')\n"
          ]
        }
      ]
    },
    {
      "cell_type": "markdown",
      "metadata": {
        "id": "NhwuRL0Eykga"
      },
      "source": [
        "## Creating files "
      ]
    },
    {
      "cell_type": "markdown",
      "metadata": {
        "id": "HU0InoZBykga"
      },
      "source": [
        "`[training|validation|testing]_sequences.fasta`"
      ]
    },
    {
      "cell_type": "code",
      "metadata": {
        "id": "txP8JgWtykgb"
      },
      "source": [
        "# Creating data/FASTA/*_sequences.fasta files\n",
        "\n",
        "for element in data.keys():\n",
        "    file_name = data[element]['FASTA_prefix']+'sequences.fasta'\n",
        "    file_handle = open(file_name, 'w')\n",
        "    for record in data[element]['X']:\n",
        "        file_handle.write('>'+record.name.split('|')[1])\n",
        "        file_handle.write(\"\\n\")\n",
        "        file_handle.write(str(record.seq))\n",
        "        file_handle.write(\"\\n\")\n",
        "    file_handle.close()"
      ],
      "execution_count": null,
      "outputs": []
    },
    {
      "cell_type": "markdown",
      "metadata": {
        "id": "zSXdGqS8ykgb"
      },
      "source": [
        "  `[training|validation|testing]_temperature_annotations.csv`"
      ]
    },
    {
      "cell_type": "code",
      "metadata": {
        "id": "LnrHY7UVykgc"
      },
      "source": [
        "# Creating data/*_temperature_annotations.csv files\n",
        "\n",
        "for element in data.keys():\n",
        "    file_name = data[element]['CSV_prefix']+'temperature_annotations.csv'\n",
        "    file_handle = open(file_name, 'w')\n",
        "    file_handle.write('identifier,label'+\"\\n\")\n",
        "    for i in range(len(data[element]['X'])):\n",
        "        file_handle.write(data[element]['X'][i].name.split('|')[1]+','+str(data[element]['Y'][i]))\n",
        "        file_handle.write(\"\\n\")\n",
        "    file_handle.close()"
      ],
      "execution_count": null,
      "outputs": []
    },
    {
      "cell_type": "markdown",
      "metadata": {
        "id": "Vpls7v68iiyd"
      },
      "source": [
        "## Filtering sequences from initial FASTA files \n",
        "\n",
        "Since the visualisation is not allowed without embedding for each FASTA sequence, it was required to filter all sequences and keep only those that have their embeddings."
      ]
    },
    {
      "cell_type": "code",
      "metadata": {
        "id": "hxKMiUVfsNd0"
      },
      "source": [
        "data_filtered = {\n",
        "    'train': {\n",
        "        'X': [],\n",
        "        'Y': [],\n",
        "        'FASTA_prefix': 'data/FASTA/filtered_training_',\n",
        "        'CSV_prefix': 'data/CSV/filtered_training_',\n",
        "        'embedding_list': './data/EMB_ESM1b/training_embeddings_sample.lst',\n",
        "        'embeddings': '/content/drive/MyDrive/training_embeddings_sample'\n",
        "    },\n",
        "    'validate': {\n",
        "        'X': [],\n",
        "        'Y': [],\n",
        "        'FASTA_prefix': 'data/FASTA/filtered_validation_',\n",
        "        'CSV_prefix': 'data/CSV/filtered_validation_',\n",
        "        'embedding_list': './data/EMB_ESM1b/validation_embeddings.lst',\n",
        "        'embeddings': '/content/drive/MyDrive/validation_sequences'\n",
        "    },\n",
        "    'test': {\n",
        "        'X' : [],\n",
        "        'Y' : [],\n",
        "        'FASTA_prefix': 'data/FASTA/filtered_testing_',\n",
        "        'CSV_prefix': 'data/CSV/filtered_testing_',\n",
        "        'embedding_list': './data/EMB_ESM1b/testing_embeddings.lst',\n",
        "        'embeddings': '/content/drive/MyDrive/testing_sequences'\n",
        "    }\n",
        "}\n",
        "\n",
        "for element in data.keys():\n",
        "    emb_list_handle = open(data_filtered[element]['embedding_list'], 'r')\n",
        "    emb_list = emb_list_handle.readlines()\n",
        "    emb_list_handle.close()\n",
        "    emb_set = set()\n",
        "    for j in range(len(emb_list)):\n",
        "        emb_set.add(emb_list[j].split('.')[0])\n",
        "    for i in range(len(data[element]['X'])):\n",
        "        if(data[element]['X'][i].id.split('|')[1] in emb_set):\n",
        "            data_filtered[element]['X'].append(data[element]['X'][i])\n",
        "            data_filtered[element]['Y'].append(data[element]['Y'][i])\n"
      ],
      "execution_count": null,
      "outputs": []
    },
    {
      "cell_type": "markdown",
      "metadata": {
        "id": "e6pz1E02Q6kK"
      },
      "source": [
        "Testing, whether the filtration was successful."
      ]
    },
    {
      "cell_type": "code",
      "metadata": {
        "colab": {
          "base_uri": "https://localhost:8080/"
        },
        "id": "y2x1icbPQ6kK",
        "outputId": "0c2e945a-dd2c-4895-91ff-80f754f6a688"
      },
      "source": [
        "print(len(data_filtered['train']['X']))\n",
        "print(len(data_filtered['validate']['X']))\n",
        "print(len(data_filtered['test']['X']))"
      ],
      "execution_count": null,
      "outputs": [
        {
          "output_type": "stream",
          "name": "stdout",
          "text": [
            "1264\n",
            "1079\n",
            "1080\n"
          ]
        }
      ]
    },
    {
      "cell_type": "markdown",
      "metadata": {
        "id": "sp9jacV9Q6kL"
      },
      "source": [
        "## Creating filtered FASTA files"
      ]
    },
    {
      "cell_type": "code",
      "metadata": {
        "id": "-Nx5lg2wQ6kL"
      },
      "source": [
        "# Creating data/FASTA/filtered_*_sequences.fasta files\n",
        "\n",
        "for element in data_filtered.keys():\n",
        "    file_name = data_filtered[element]['FASTA_prefix']+'sequences.fasta'\n",
        "    file_handle = open(file_name, 'w')\n",
        "    for i in range(len(data_filtered[element]['X'])):\n",
        "    #for i in range(5):\n",
        "        #file_handle.write('>'+record.name.split('|')[1])\n",
        "        file_handle.write('>'+data_filtered[element]['X'][i].name.split('|')[1]+'|'+str(data_filtered[element]['Y'][i]))\n",
        "        #print('>'+data_filtered[element]['X'][i].name.split('|')[1]+'|'+str(data_filtered[element]['Y'][i]))\n",
        "        file_handle.write(\"\\n\")\n",
        "        file_handle.write(str(record.seq))\n",
        "        file_handle.write(\"\\n\")\n",
        "    file_handle.close()"
      ],
      "execution_count": null,
      "outputs": []
    },
    {
      "cell_type": "markdown",
      "metadata": {
        "id": "JouWvfXVZKrc"
      },
      "source": [
        "## Fetching data of embeddings "
      ]
    },
    {
      "cell_type": "code",
      "metadata": {
        "id": "UzV7GoUrjC_5",
        "colab": {
          "base_uri": "https://localhost:8080/"
        },
        "outputId": "ee7bf17c-dde4-4a7f-cf8e-808e804fa9b7"
      },
      "source": [
        "from google.colab import drive\n",
        "drive.mount('/content/drive')"
      ],
      "execution_count": null,
      "outputs": [
        {
          "output_type": "stream",
          "name": "stdout",
          "text": [
            "Mounted at /content/drive\n"
          ]
        }
      ]
    },
    {
      "cell_type": "markdown",
      "metadata": {
        "id": "BvPzHeRz3VP8"
      },
      "source": [
        "## Visualisation of embeddings"
      ]
    },
    {
      "cell_type": "code",
      "metadata": {
        "colab": {
          "base_uri": "https://localhost:8080/"
        },
        "id": "AgsrP8XIExVc",
        "outputId": "f2739eb7-acac-432c-92f5-a7657c8dd9a8"
      },
      "source": [
        "!pip3.7 install pymde"
      ],
      "execution_count": null,
      "outputs": [
        {
          "output_type": "stream",
          "name": "stdout",
          "text": [
            "Collecting pymde\n",
            "  Downloading pymde-0.1.13-cp37-cp37m-manylinux2010_x86_64.whl (139 kB)\n",
            "\u001b[?25l\r\u001b[K     |██▍                             | 10 kB 19.6 MB/s eta 0:00:01\r\u001b[K     |████▊                           | 20 kB 22.4 MB/s eta 0:00:01\r\u001b[K     |███████                         | 30 kB 18.1 MB/s eta 0:00:01\r\u001b[K     |█████████▍                      | 40 kB 12.5 MB/s eta 0:00:01\r\u001b[K     |███████████▊                    | 51 kB 7.8 MB/s eta 0:00:01\r\u001b[K     |██████████████▏                 | 61 kB 7.2 MB/s eta 0:00:01\r\u001b[K     |████████████████▌               | 71 kB 7.5 MB/s eta 0:00:01\r\u001b[K     |██████████████████▉             | 81 kB 8.3 MB/s eta 0:00:01\r\u001b[K     |█████████████████████▏          | 92 kB 6.5 MB/s eta 0:00:01\r\u001b[K     |███████████████████████▌        | 102 kB 7.0 MB/s eta 0:00:01\r\u001b[K     |█████████████████████████▉      | 112 kB 7.0 MB/s eta 0:00:01\r\u001b[K     |████████████████████████████▎   | 122 kB 7.0 MB/s eta 0:00:01\r\u001b[K     |██████████████████████████████▋ | 133 kB 7.0 MB/s eta 0:00:01\r\u001b[K     |████████████████████████████████| 139 kB 7.0 MB/s \n",
            "\u001b[?25hRequirement already satisfied: torchvision>=0.8.2 in /usr/local/lib/python3.7/dist-packages (from pymde) (0.11.1+cu111)\n",
            "Requirement already satisfied: numpy>=1.17.5 in /usr/local/lib/python3.7/dist-packages (from pymde) (1.19.5)\n",
            "Requirement already satisfied: torch>=1.7.1 in /usr/local/lib/python3.7/dist-packages (from pymde) (1.10.0+cu111)\n",
            "Requirement already satisfied: requests in /usr/local/lib/python3.7/dist-packages (from pymde) (2.23.0)\n",
            "Requirement already satisfied: scipy in /usr/local/lib/python3.7/dist-packages (from pymde) (1.4.1)\n",
            "Collecting pynndescent\n",
            "  Downloading pynndescent-0.5.5.tar.gz (1.1 MB)\n",
            "\u001b[K     |████████████████████████████████| 1.1 MB 46.1 MB/s \n",
            "\u001b[?25hRequirement already satisfied: matplotlib in /usr/local/lib/python3.7/dist-packages (from pymde) (3.2.2)\n",
            "Requirement already satisfied: typing-extensions in /usr/local/lib/python3.7/dist-packages (from torch>=1.7.1->pymde) (3.10.0.2)\n",
            "Requirement already satisfied: pillow!=8.3.0,>=5.3.0 in /usr/local/lib/python3.7/dist-packages (from torchvision>=0.8.2->pymde) (7.1.2)\n",
            "Requirement already satisfied: kiwisolver>=1.0.1 in /usr/local/lib/python3.7/dist-packages (from matplotlib->pymde) (1.3.2)\n",
            "Requirement already satisfied: python-dateutil>=2.1 in /usr/local/lib/python3.7/dist-packages (from matplotlib->pymde) (2.8.2)\n",
            "Requirement already satisfied: pyparsing!=2.0.4,!=2.1.2,!=2.1.6,>=2.0.1 in /usr/local/lib/python3.7/dist-packages (from matplotlib->pymde) (3.0.6)\n",
            "Requirement already satisfied: cycler>=0.10 in /usr/local/lib/python3.7/dist-packages (from matplotlib->pymde) (0.11.0)\n",
            "Requirement already satisfied: six>=1.5 in /usr/local/lib/python3.7/dist-packages (from python-dateutil>=2.1->matplotlib->pymde) (1.15.0)\n",
            "Requirement already satisfied: scikit-learn>=0.18 in /usr/local/lib/python3.7/dist-packages (from pynndescent->pymde) (1.0.1)\n",
            "Requirement already satisfied: numba>=0.51.2 in /usr/local/lib/python3.7/dist-packages (from pynndescent->pymde) (0.51.2)\n",
            "Requirement already satisfied: llvmlite>=0.30 in /usr/local/lib/python3.7/dist-packages (from pynndescent->pymde) (0.34.0)\n",
            "Requirement already satisfied: joblib>=0.11 in /usr/local/lib/python3.7/dist-packages (from pynndescent->pymde) (1.1.0)\n",
            "Requirement already satisfied: setuptools in /usr/local/lib/python3.7/dist-packages (from numba>=0.51.2->pynndescent->pymde) (57.4.0)\n",
            "Requirement already satisfied: threadpoolctl>=2.0.0 in /usr/local/lib/python3.7/dist-packages (from scikit-learn>=0.18->pynndescent->pymde) (3.0.0)\n",
            "Requirement already satisfied: certifi>=2017.4.17 in /usr/local/lib/python3.7/dist-packages (from requests->pymde) (2021.10.8)\n",
            "Requirement already satisfied: urllib3!=1.25.0,!=1.25.1,<1.26,>=1.21.1 in /usr/local/lib/python3.7/dist-packages (from requests->pymde) (1.24.3)\n",
            "Requirement already satisfied: chardet<4,>=3.0.2 in /usr/local/lib/python3.7/dist-packages (from requests->pymde) (3.0.4)\n",
            "Requirement already satisfied: idna<3,>=2.5 in /usr/local/lib/python3.7/dist-packages (from requests->pymde) (2.10)\n",
            "Building wheels for collected packages: pynndescent\n",
            "  Building wheel for pynndescent (setup.py) ... \u001b[?25l\u001b[?25hdone\n",
            "  Created wheel for pynndescent: filename=pynndescent-0.5.5-py3-none-any.whl size=52603 sha256=172c0c6be2ce5957ee1fcaafc1dd4a905b10850e1bf63222bf835534fc24c785\n",
            "  Stored in directory: /root/.cache/pip/wheels/af/e9/33/04db1436df0757c42fda8ea6796d7a8586e23c85fac355f476\n",
            "Successfully built pynndescent\n",
            "Installing collected packages: pynndescent, pymde\n",
            "Successfully installed pymde-0.1.13 pynndescent-0.5.5\n"
          ]
        }
      ]
    },
    {
      "cell_type": "markdown",
      "metadata": {
        "id": "_8-7For9AytP"
      },
      "source": [
        "### Visualisation of training dataset sample embeddings"
      ]
    },
    {
      "cell_type": "code",
      "metadata": {
        "id": "MQGH3UfTAabJ"
      },
      "source": [
        "Ys = []\n",
        "Xs = []\n",
        "\n",
        "keys = ['train']\n",
        "\n",
        "for key in keys:\n",
        "    FASTA_PATH = 'data/FASTA/filtered_training_sample_sequences.fasta'\n",
        "    EMB_PATH = data_filtered[key]['embeddings']\n",
        "    for header, _seq in esm.data.read_fasta(FASTA_PATH):\n",
        "        temperature_label = header.split('|')[-1]\n",
        "        Ys.append(int(temperature_label))\n",
        "        file_name = header.split('|')[0][1:]\n",
        "        fn = f'{EMB_PATH}/{file_name}.pt'\n",
        "        embs = torch.load(fn)\n",
        "        Xs.append(embs['mean_representations'][EMB_LAYER])\n",
        "\n",
        "Xs = torch.stack(Xs, dim=0).numpy()"
      ],
      "execution_count": 16,
      "outputs": []
    },
    {
      "cell_type": "code",
      "metadata": {
        "id": "bORFLR2GAXg5"
      },
      "source": [
        "import esm\n",
        "import torch\n",
        "import pymde\n",
        "from matplotlib import colors\n",
        "from matplotlib.colors import ListedColormap\n",
        "\n",
        "EMB_LAYER = 33"
      ],
      "execution_count": 13,
      "outputs": []
    },
    {
      "cell_type": "code",
      "metadata": {
        "id": "1Tsy8QmihjC5"
      },
      "source": [
        "custom_cmap = ListedColormap([\"navy\", \"pink\"])"
      ],
      "execution_count": 14,
      "outputs": []
    },
    {
      "cell_type": "code",
      "metadata": {
        "id": "LnMLXXFMKgGs",
        "colab": {
          "base_uri": "https://localhost:8080/",
          "height": 181
        },
        "outputId": "d77c3f23-5aab-487f-c0f6-f58a0793f88d"
      },
      "source": [
        "pca = PCA(60)\n",
        "Xs_train_pca = pca.fit_transform(Xs)"
      ],
      "execution_count": 15,
      "outputs": [
        {
          "output_type": "error",
          "ename": "NameError",
          "evalue": "ignored",
          "traceback": [
            "\u001b[0;31m---------------------------------------------------------------------------\u001b[0m",
            "\u001b[0;31mNameError\u001b[0m                                 Traceback (most recent call last)",
            "\u001b[0;32m<ipython-input-15-e10b6416d177>\u001b[0m in \u001b[0;36m<module>\u001b[0;34m()\u001b[0m\n\u001b[1;32m      1\u001b[0m \u001b[0mpca\u001b[0m \u001b[0;34m=\u001b[0m \u001b[0mPCA\u001b[0m\u001b[0;34m(\u001b[0m\u001b[0;36m60\u001b[0m\u001b[0;34m)\u001b[0m\u001b[0;34m\u001b[0m\u001b[0;34m\u001b[0m\u001b[0m\n\u001b[0;32m----> 2\u001b[0;31m \u001b[0mXs_train_pca\u001b[0m \u001b[0;34m=\u001b[0m \u001b[0mpca\u001b[0m\u001b[0;34m.\u001b[0m\u001b[0mfit_transform\u001b[0m\u001b[0;34m(\u001b[0m\u001b[0mXs\u001b[0m\u001b[0;34m)\u001b[0m\u001b[0;34m\u001b[0m\u001b[0;34m\u001b[0m\u001b[0m\n\u001b[0m",
            "\u001b[0;31mNameError\u001b[0m: name 'Xs' is not defined"
          ]
        }
      ]
    },
    {
      "cell_type": "code",
      "metadata": {
        "colab": {
          "base_uri": "https://localhost:8080/",
          "height": 392
        },
        "id": "wBsWxsAZKpWa",
        "outputId": "f43cb952-210b-4c80-b2ca-69d96428637d"
      },
      "source": [
        "fig_dims = (7, 6)\n",
        "fig, ax = plt.subplots(figsize=fig_dims)\n",
        "sc = ax.scatter(Xs_train_pca[:,0], Xs_train_pca[:,1], c=Ys, marker='.', cmap=custom_cmap)\n",
        "ax.set_xlabel('PCA first principal component')\n",
        "ax.set_ylabel('PCA second principal component')\n",
        "plt.colorbar(sc, label='Variant Effect', ticks=numpy.linspace(37, 80, 2))\n",
        "plt.savefig('training_sample_visualisation_matplotlib.png')"
      ],
      "execution_count": null,
      "outputs": [
        {
          "output_type": "display_data",
          "data": {
            "image/png": "[encoded data removed]",
            "text/plain": [
              "<Figure size 504x432 with 2 Axes>"
            ]
          },
          "metadata": {
            "needs_background": "light"
          }
        }
      ]
    },
    {
      "cell_type": "code",
      "metadata": {
        "id": "xW8sG8vAK2AC",
        "colab": {
          "base_uri": "https://localhost:8080/"
        },
        "outputId": "357db632-a056-489a-a2c5-9aa5fa7693a3"
      },
      "source": [
        "Xs_torch_train = None\n",
        "\n",
        "Xs_torch_train = torch.from_numpy(Xs)\n",
        "\n",
        "embedding_train = pymde.preserve_neighbors(Xs_torch_train).embed(verbose=True)"
      ],
      "execution_count": 17,
      "outputs": [
        {
          "output_type": "stream",
          "name": "stdout",
          "text": [
            "Nov 24 04:17:45 AM: Fitting a centered embedding into R^2, for a graph with 1264 items and 12116 edges.\n",
            "Nov 24 04:17:45 AM: `embed` method parameters: eps=1.0e-05, max_iter=300, memory_size=10\n",
            "Nov 24 04:17:45 AM: iteration 000 | distortion 0.619481 | residual norm 0.213299 | step length 0.202188 | percent change 0.085774\n",
            "Nov 24 04:17:45 AM: iteration 030 | distortion 0.207236 | residual norm 0.00174316 | step length 1 | percent change 1.52646\n",
            "Nov 24 04:17:45 AM: iteration 060 | distortion 0.200344 | residual norm 0.000935586 | step length 1 | percent change 0.334692\n",
            "Nov 24 04:17:45 AM: iteration 090 | distortion 0.199520 | residual norm 0.000526487 | step length 1 | percent change 0.1968\n",
            "Nov 24 04:17:46 AM: iteration 120 | distortion 0.199001 | residual norm 0.000494145 | step length 1 | percent change 0.0902105\n",
            "Nov 24 04:17:46 AM: iteration 150 | distortion 0.198627 | residual norm 0.000654554 | step length 1 | percent change 0.275757\n",
            "Nov 24 04:17:46 AM: iteration 180 | distortion 0.198297 | residual norm 0.000420589 | step length 1 | percent change 0.210096\n",
            "Nov 24 04:17:46 AM: iteration 210 | distortion 0.198060 | residual norm 0.000331989 | step length 1 | percent change 0.172199\n",
            "Nov 24 04:17:46 AM: iteration 240 | distortion 0.197877 | residual norm 0.000328102 | step length 1 | percent change 0.491388\n",
            "Nov 24 04:17:46 AM: iteration 270 | distortion 0.197708 | residual norm 0.000268702 | step length 1 | percent change 0.125713\n",
            "Nov 24 04:17:46 AM: iteration 299 | distortion 0.197637 | residual norm 0.000202803 | step length 1 | percent change 0.0907442\n",
            "Nov 24 04:17:46 AM: Finished fitting in 1.517 seconds and 300 iterations.\n",
            "Nov 24 04:17:46 AM: average distortion 0.198 | residual norm 2.0e-04\n"
          ]
        }
      ]
    },
    {
      "cell_type": "code",
      "metadata": {
        "id": "OWckjTy3K447",
        "colab": {
          "base_uri": "https://localhost:8080/",
          "height": 575
        },
        "outputId": "d92ab648-70fd-44f7-bf06-d2f6df4b70c2"
      },
      "source": [
        "pymde.plot(embedding_train, color_by=Ys, savepath='training_sample_visualisation_PyMDE.png', color_map=custom_cmap)"
      ],
      "execution_count": 18,
      "outputs": [
        {
          "output_type": "execute_result",
          "data": {
            "text/plain": [
              "<matplotlib.axes._subplots.AxesSubplot at 0x7f746688dd50>"
            ]
          },
          "metadata": {},
          "execution_count": 18
        },
        {
          "output_type": "display_data",
          "data": {
            "image/png": "[encoded data removed]",
            "text/plain": [
              "<Figure size 576x576 with 2 Axes>"
            ]
          },
          "metadata": {
            "needs_background": "light"
          }
        }
      ]
    },
    {
      "cell_type": "markdown",
      "metadata": {
        "id": "2GFf5j_BAa9Y"
      },
      "source": [
        "### Visualisation of validation and testing dataset embeddings"
      ]
    },
    {
      "cell_type": "code",
      "metadata": {
        "id": "rg52LTBOJgox"
      },
      "source": [
        "Ys = []\n",
        "Xs = []\n",
        "\n",
        "keys = ['validate', 'test']\n",
        "\n",
        "for key in keys:\n",
        "    FASTA_PATH = data_filtered[key]['FASTA_prefix']+'sequences.fasta'\n",
        "    EMB_PATH = data_filtered[key]['embeddings']\n",
        "    for header, _seq in esm.data.read_fasta(FASTA_PATH):\n",
        "        temperature_label = header.split('|')[-1]\n",
        "        Ys.append(int(temperature_label))\n",
        "        file_name = header.split('|')[0][1:]\n",
        "        fn = f'{EMB_PATH}/{file_name}.pt'\n",
        "        embs = torch.load(fn)\n",
        "        Xs.append(embs['mean_representations'][EMB_LAYER])\n",
        "\n",
        "Xs = torch.stack(Xs, dim=0).numpy()\n"
      ],
      "execution_count": 25,
      "outputs": []
    },
    {
      "cell_type": "markdown",
      "metadata": {
        "id": "ZqNvOT1wKiKv"
      },
      "source": [
        "Testing the parsing."
      ]
    },
    {
      "cell_type": "code",
      "metadata": {
        "colab": {
          "base_uri": "https://localhost:8080/"
        },
        "id": "si3g-gdHzRP7",
        "outputId": "70e4b7e7-c82a-4e90-d402-b4a3b585b643"
      },
      "source": [
        "print(len(Ys))\n",
        "print(Xs.shape)"
      ],
      "execution_count": null,
      "outputs": [
        {
          "output_type": "stream",
          "name": "stdout",
          "text": [
            "1264\n",
            "(1264, 1280)\n"
          ]
        }
      ]
    },
    {
      "cell_type": "code",
      "metadata": {
        "id": "xfYA1YmFm1Tn"
      },
      "source": [
        "pca = PCA(60)\n",
        "Xs_train_pca = pca.fit_transform(Xs)"
      ],
      "execution_count": null,
      "outputs": []
    },
    {
      "cell_type": "code",
      "metadata": {
        "id": "9xOXDYgCm6K-"
      },
      "source": [
        "fig_dims = (7, 6)\n",
        "fig, ax = plt.subplots(figsize=fig_dims)\n",
        "sc = ax.scatter(Xs_train_pca[:,0], Xs_train_pca[:,1], c=Ys, marker='.')\n",
        "ax.set_xlabel('PCA first principal component')\n",
        "ax.set_ylabel('PCA second principal component')\n",
        "plt.colorbar(sc, label='Variant Effect', ticks=numpy.linspace(37, 80, 2))\n",
        "plt.savefig('validation_and_testing_sequences_visualisation_matplotlib.png')"
      ],
      "execution_count": null,
      "outputs": []
    },
    {
      "cell_type": "code",
      "metadata": {
        "id": "zGW-b6QdrACY",
        "colab": {
          "base_uri": "https://localhost:8080/"
        },
        "outputId": "b0a38a91-0686-4c5f-cfc5-6e4fdc7aa7d0"
      },
      "source": [
        "Xs_torch_validate = torch.from_numpy(Xs)\n",
        "\n",
        "embedding = pymde.preserve_neighbors(Xs_torch_validate).embed(verbose=True)"
      ],
      "execution_count": 26,
      "outputs": [
        {
          "output_type": "stream",
          "name": "stdout",
          "text": [
            "Nov 24 04:38:45 AM: Fitting a centered embedding into R^2, for a graph with 1079 items and 8666 edges.\n",
            "Nov 24 04:38:45 AM: `embed` method parameters: eps=1.0e-05, max_iter=300, memory_size=10\n",
            "Nov 24 04:38:45 AM: iteration 000 | distortion 1.442911 | residual norm 7.53011 | step length 0.0107889 | percent change 0.174885\n",
            "Nov 24 04:38:45 AM: iteration 030 | distortion 0.230945 | residual norm 0.00364484 | step length 1 | percent change 1.61362\n",
            "Nov 24 04:38:45 AM: iteration 060 | distortion 0.212735 | residual norm 0.0016108 | step length 1 | percent change 0.519119\n",
            "Nov 24 04:38:46 AM: iteration 090 | distortion 0.205151 | residual norm 0.00107397 | step length 1 | percent change 0.680107\n",
            "Nov 24 04:38:46 AM: iteration 120 | distortion 0.201872 | residual norm 0.000999554 | step length 1 | percent change 0.622068\n",
            "Nov 24 04:38:46 AM: iteration 150 | distortion 0.200445 | residual norm 0.000800306 | step length 1 | percent change 0.538189\n",
            "Nov 24 04:38:46 AM: iteration 180 | distortion 0.199668 | residual norm 0.00069789 | step length 1 | percent change 0.25329\n",
            "Nov 24 04:38:46 AM: iteration 210 | distortion 0.199203 | residual norm 0.000525742 | step length 1 | percent change 0.067717\n",
            "Nov 24 04:38:46 AM: iteration 240 | distortion 0.198618 | residual norm 0.000440799 | step length 1 | percent change 0.0558353\n",
            "Nov 24 04:38:46 AM: iteration 270 | distortion 0.198538 | residual norm 0.000307021 | step length 1 | percent change 0.109621\n",
            "Nov 24 04:38:46 AM: iteration 299 | distortion 0.198412 | residual norm 0.00036929 | step length 1 | percent change 0.122523\n",
            "Nov 24 04:38:46 AM: Finished fitting in 1.129 seconds and 300 iterations.\n",
            "Nov 24 04:38:46 AM: average distortion 0.198 | residual norm 3.7e-04\n"
          ]
        }
      ]
    },
    {
      "cell_type": "code",
      "metadata": {
        "id": "6S0YluhzsBf3"
      },
      "source": [
        "pymde.plot(embedding, color_by=Ys, savepath='validation_and_testing_sequences_visualisation_PyMDE.png')"
      ],
      "execution_count": null,
      "outputs": []
    },
    {
      "cell_type": "markdown",
      "metadata": {
        "id": "tsZ9CMA71Mmb"
      },
      "source": [
        "-------------------------------------------"
      ]
    },
    {
      "cell_type": "markdown",
      "metadata": {
        "id": "ch6ykmv2uZu_"
      },
      "source": [
        "## Perceptron\n",
        "\n",
        "Based on: \n",
        "\n",
        "https://machinelearningmastery.com/implement-perceptron-algorithm-scratch-python/"
      ]
    },
    {
      "cell_type": "markdown",
      "metadata": {
        "id": "E43BcyE6QPcq"
      },
      "source": [
        "### Preparing data "
      ]
    },
    {
      "cell_type": "code",
      "metadata": {
        "colab": {
          "base_uri": "https://localhost:8080/"
        },
        "id": "fs_baQlWP-79",
        "outputId": "8856af49-2866-468a-f297-6c04e9b1e720"
      },
      "source": [
        "Ys_train = []\n",
        "Xs_train = []\n",
        "\n",
        "keys = ['train']\n",
        "\n",
        "for key in keys:\n",
        "    FASTA_PATH = 'data/FASTA/filtered_training_sample_sequences.fasta'\n",
        "    EMB_PATH = data_filtered[key]['embeddings']\n",
        "    for header, _seq in esm.data.read_fasta(FASTA_PATH):\n",
        "        temperature_label = header.split('|')[-1]\n",
        "        Ys_train.append(int(temperature_label))\n",
        "        file_name = header.split('|')[0][1:]\n",
        "        fn = f'{EMB_PATH}/{file_name}.pt'\n",
        "        embs = torch.load(fn)\n",
        "        Xs_train.append(embs['mean_representations'][EMB_LAYER])\n",
        "\n",
        "Xs_train = torch.stack(Xs_train, dim=0).numpy()\n",
        "\n",
        "Xs_torch_train = None\n",
        "\n",
        "Xs_torch_train = torch.from_numpy(Xs_train)\n",
        "\n",
        "embedding_train = pymde.preserve_neighbors(Xs_torch_train).embed(verbose=True)"
      ],
      "execution_count": 29,
      "outputs": [
        {
          "output_type": "stream",
          "name": "stdout",
          "text": [
            "Nov 24 04:44:28 AM: Fitting a centered embedding into R^2, for a graph with 1264 items and 12113 edges.\n",
            "Nov 24 04:44:28 AM: `embed` method parameters: eps=1.0e-05, max_iter=300, memory_size=10\n",
            "Nov 24 04:44:28 AM: iteration 000 | distortion 0.621155 | residual norm 0.296333 | step length 0.202519 | percent change 0.11936\n",
            "Nov 24 04:44:28 AM: iteration 030 | distortion 0.209800 | residual norm 0.00216512 | step length 1 | percent change 0.751988\n",
            "Nov 24 04:44:29 AM: iteration 060 | distortion 0.203650 | residual norm 0.000869072 | step length 1 | percent change 0.426131\n",
            "Nov 24 04:44:29 AM: iteration 090 | distortion 0.202340 | residual norm 0.000705438 | step length 1 | percent change 0.207831\n",
            "Nov 24 04:44:29 AM: iteration 120 | distortion 0.201834 | residual norm 0.000532199 | step length 1 | percent change 0.152193\n",
            "Nov 24 04:44:29 AM: iteration 150 | distortion 0.201033 | residual norm 0.000536021 | step length 1 | percent change 0.237245\n",
            "Nov 24 04:44:29 AM: iteration 180 | distortion 0.200755 | residual norm 0.000342238 | step length 1 | percent change 0.229909\n",
            "Nov 24 04:44:29 AM: iteration 210 | distortion 0.200491 | residual norm 0.000465783 | step length 1 | percent change 0.311955\n",
            "Nov 24 04:44:29 AM: iteration 240 | distortion 0.200173 | residual norm 0.000346795 | step length 1 | percent change 0.124914\n",
            "Nov 24 04:44:30 AM: iteration 270 | distortion 0.200061 | residual norm 0.000261466 | step length 1 | percent change 0.222031\n",
            "Nov 24 04:44:30 AM: iteration 299 | distortion 0.199998 | residual norm 0.000196579 | step length 1 | percent change 0.0559808\n",
            "Nov 24 04:44:30 AM: Finished fitting in 1.401 seconds and 300 iterations.\n",
            "Nov 24 04:44:30 AM: average distortion 0.2 | residual norm 2.0e-04\n"
          ]
        }
      ]
    },
    {
      "cell_type": "code",
      "metadata": {
        "colab": {
          "base_uri": "https://localhost:8080/"
        },
        "id": "nRz5ZM8kPp2X",
        "outputId": "fbb95933-50b1-4fc0-b31f-cb8bd621a50a"
      },
      "source": [
        "Ys_validate = []\n",
        "Xs_validate = []\n",
        "\n",
        "keys = ['validate']\n",
        "\n",
        "for key in keys:\n",
        "    FASTA_PATH = data_filtered[key]['FASTA_prefix']+'sequences.fasta'\n",
        "    EMB_PATH = data_filtered[key]['embeddings']\n",
        "    for header, _seq in esm.data.read_fasta(FASTA_PATH):\n",
        "        temperature_label = header.split('|')[-1]\n",
        "        Ys_validate.append(int(temperature_label))\n",
        "        file_name = header.split('|')[0][1:]\n",
        "        fn = f'{EMB_PATH}/{file_name}.pt'\n",
        "        embs = torch.load(fn)\n",
        "        Xs_validate.append(embs['mean_representations'][EMB_LAYER])\n",
        "\n",
        "Xs_validate = torch.stack(Xs_validate, dim=0).numpy()\n",
        "\n",
        "Xs_torch_validate = torch.from_numpy(Xs_validate)\n",
        "\n",
        "embedding = pymde.preserve_neighbors(Xs_torch_validate).embed(verbose=True)"
      ],
      "execution_count": 30,
      "outputs": [
        {
          "output_type": "stream",
          "name": "stdout",
          "text": [
            "Nov 24 04:47:12 AM: Fitting a centered embedding into R^2, for a graph with 1079 items and 8659 edges.\n",
            "Nov 24 04:47:12 AM: `embed` method parameters: eps=1.0e-05, max_iter=300, memory_size=10\n",
            "Nov 24 04:47:12 AM: iteration 000 | distortion 1.448179 | residual norm 5.38877 | step length 0.0124552 | percent change 0.144483\n",
            "Nov 24 04:47:12 AM: iteration 030 | distortion 0.224528 | residual norm 0.00424083 | step length 1 | percent change 0.949574\n",
            "Nov 24 04:47:13 AM: iteration 060 | distortion 0.205603 | residual norm 0.00156474 | step length 1 | percent change 1.03784\n",
            "Nov 24 04:47:13 AM: iteration 090 | distortion 0.201581 | residual norm 0.000854205 | step length 1 | percent change 0.457567\n",
            "Nov 24 04:47:13 AM: iteration 120 | distortion 0.199219 | residual norm 0.000860707 | step length 1 | percent change 0.668821\n",
            "Nov 24 04:47:13 AM: iteration 150 | distortion 0.198630 | residual norm 0.00094883 | step length 1 | percent change 0.100677\n",
            "Nov 24 04:47:13 AM: iteration 180 | distortion 0.197895 | residual norm 0.000951326 | step length 1 | percent change 0.271346\n",
            "Nov 24 04:47:13 AM: iteration 210 | distortion 0.197193 | residual norm 0.000680236 | step length 1 | percent change 0.0256681\n",
            "Nov 24 04:47:13 AM: iteration 240 | distortion 0.196999 | residual norm 0.000392464 | step length 1 | percent change 0.0657507\n",
            "Nov 24 04:47:13 AM: iteration 270 | distortion 0.196857 | residual norm 0.000355363 | step length 1 | percent change 0.046824\n",
            "Nov 24 04:47:13 AM: iteration 299 | distortion 0.196759 | residual norm 0.000353028 | step length 1 | percent change 0.103653\n",
            "Nov 24 04:47:13 AM: Finished fitting in 1.105 seconds and 300 iterations.\n",
            "Nov 24 04:47:13 AM: average distortion 0.197 | residual norm 3.5e-04\n"
          ]
        }
      ]
    },
    {
      "cell_type": "code",
      "metadata": {
        "id": "maqeBewnjV3_"
      },
      "source": [
        "# Preparing labels' data for training.\n",
        "Ys_array_train = numpy.asarray(Ys_train)\n",
        "Ys_torch_train = torch.from_numpy(Ys_array_train)\n",
        "\n",
        "# Preparing labels' data for validation.\n",
        "Ys_array_validate = numpy.asarray(Ys)\n",
        "Ys_torch_validate = torch.from_numpy(Ys_array_validate)"
      ],
      "execution_count": 33,
      "outputs": []
    },
    {
      "cell_type": "code",
      "metadata": {
        "colab": {
          "base_uri": "https://localhost:8080/"
        },
        "id": "aEN5MvPOmpF4",
        "outputId": "6696f357-1a5e-46f2-abf8-a555fcb8cdc0"
      },
      "source": [
        "print(Xs_torch_train.shape)\n",
        "print(Ys_torch_train.shape)\n",
        "\n",
        "print(Xs_torch_validate.shape)\n",
        "print(Ys_torch_validate.shape)"
      ],
      "execution_count": 34,
      "outputs": [
        {
          "output_type": "stream",
          "name": "stdout",
          "text": [
            "torch.Size([1264, 1280])\n",
            "torch.Size([1264])\n",
            "torch.Size([1079, 1280])\n",
            "torch.Size([1079])\n"
          ]
        }
      ]
    },
    {
      "cell_type": "markdown",
      "metadata": {
        "id": "X9vb6A6BQaNR"
      },
      "source": [
        "### Defining functions"
      ]
    },
    {
      "cell_type": "markdown",
      "metadata": {
        "id": "yyEbLsaK1n1p"
      },
      "source": [
        "The weights and biases need to be initialized for the model. There are as many weights as dimensions in the input (embedding).\n",
        "\n",
        "We will initialize weights with random numbers from -0.5 to 0.5."
      ]
    },
    {
      "cell_type": "code",
      "metadata": {
        "id": "n1N9n7G23KAw"
      },
      "source": [
        "import random\n",
        "\n",
        "def get_initialized_weights(X):\n",
        "    number_of_weights = len(X[0])\n",
        "    weights = []\n",
        "    for i in range(number_of_weights):\n",
        "        weights.append(random.uniform(-0.5, 0.5))\n",
        "    return weights\n",
        "\n",
        "def activation(X, weights, bias):\n",
        "    activation = bias\n",
        "    for i in range(len(X)):\n",
        "        activation += weights[i] * X[i]\n",
        "    return activation\n",
        "\n",
        "def predict(X, weights, bias):\n",
        "    activ = activation(X, weights, bias)\n",
        "    return 80 if(activ > 0) else 37\n",
        "\n",
        "# Function to train network weights using a stochastic gradient descent.\n",
        "def train_weights(Xs, Ys, weights, bias, learning_rate, number_of_epochs):\n",
        "    for i in range(number_of_epochs):\n",
        "        sum_error = 0.0\n",
        "        for j in range(len(Xs)):\n",
        "            prediction = predict(Xs[i], weights, bias)\n",
        "            error = Ys[i] - prediction\n",
        "            sum_error += error**2\n",
        "            bias = bias + learning_rate * error\n",
        "            for k in range(len(weights)):\n",
        "                weights[j] = weights[j] + learning_rate * error * Xs[j][k]\n",
        "        print('>epoch=%d, learning_rate=%.3f, error=%.3f' % (i, learning_rate, sum_error))\n",
        "    return [weights, bias]\n",
        "\n",
        "def get_accuracy(predictions, Ys):\n",
        "    match_sum = 0\n",
        "    for i in range(len(predictions)):\n",
        "        if(predictions[i] == Ys[i].item()):\n",
        "            match_sum += 1\n",
        "    return (match_sum/len(predictions))*100\n",
        "\n",
        "def get_predictions(Xs, weights, bias):\n",
        "    predictions = []\n",
        "    for i in range(len(Xs)):\n",
        "        predictions.append(predict(Xs[i], weights, bias))\n",
        "    return predictions"
      ],
      "execution_count": 41,
      "outputs": []
    },
    {
      "cell_type": "markdown",
      "metadata": {
        "id": "Bm3HtLIM9aHT"
      },
      "source": [
        "### Checking prediction accuracy of an untrained perceptron."
      ]
    },
    {
      "cell_type": "code",
      "metadata": {
        "colab": {
          "base_uri": "https://localhost:8080/"
        },
        "id": "6MEpfPOb7oxY",
        "outputId": "2084c588-3d0d-4816-8cb1-48bf8f0495e5"
      },
      "source": [
        "random.seed(1)\n",
        "\n",
        "weights = get_initialized_weights(Xs_torch_train)\n",
        "bias = -0.1\n",
        "\n",
        "match_sum = 0\n",
        "for i in range(len(Xs_torch_train)):\n",
        "    if(predict(Xs_torch_train[i], weights, bias) == Ys_torch_train[i].item()):\n",
        "        match_sum += 1\n",
        "\n",
        "# Accuracy\n",
        "print('Accuracy with randomly initialized weights:', match_sum/len(Xs_torch_train))"
      ],
      "execution_count": 36,
      "outputs": [
        {
          "output_type": "stream",
          "name": "stdout",
          "text": [
            "Accuracy with randomly initialized weights: 0.5941455696202531\n"
          ]
        }
      ]
    },
    {
      "cell_type": "markdown",
      "metadata": {
        "id": "DPJKO8nOQhMA"
      },
      "source": [
        "### Training "
      ]
    },
    {
      "cell_type": "code",
      "metadata": {
        "colab": {
          "base_uri": "https://localhost:8080/"
        },
        "id": "TpzLHd7-Bm0F",
        "outputId": "7d071ea0-f46e-4d7d-d051-bf4454a608e0"
      },
      "source": [
        "learning_rate = 0.1\n",
        "number_of_epochs = 5\n",
        "[weights, bias] = train_weights(Xs_torch_train, Ys_torch_train, weights, bias, learning_rate, number_of_epochs)"
      ],
      "execution_count": 37,
      "outputs": [
        {
          "output_type": "stream",
          "name": "stdout",
          "text": [
            ">epoch=0, learning_rate=0.100, error=59168.000\n",
            ">epoch=1, learning_rate=0.100, error=0.000\n",
            ">epoch=2, learning_rate=0.100, error=281048.000\n",
            ">epoch=3, learning_rate=0.100, error=0.000\n",
            ">epoch=4, learning_rate=0.100, error=0.000\n"
          ]
        }
      ]
    },
    {
      "cell_type": "markdown",
      "metadata": {
        "id": "hPrn4edXGbHZ"
      },
      "source": [
        "### Validating the trained model"
      ]
    },
    {
      "cell_type": "code",
      "metadata": {
        "id": "8yLyb1MJGa0u",
        "colab": {
          "base_uri": "https://localhost:8080/"
        },
        "outputId": "fa46d864-0546-49b8-bfad-6ded494725d4"
      },
      "source": [
        "predictions = get_predictions(Xs_torch_validate, weights, bias)\n",
        "print(get_accuracy(predictions, Ys_torch_validate))"
      ],
      "execution_count": 42,
      "outputs": [
        {
          "output_type": "stream",
          "name": "stdout",
          "text": [
            "59.49953660797034\n"
          ]
        }
      ]
    }
  ]
}
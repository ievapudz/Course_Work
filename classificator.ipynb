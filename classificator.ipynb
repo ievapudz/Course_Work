{
  "nbformat": 4,
  "nbformat_minor": 0,
  "metadata": {
    "colab": {
      "name": "classificator.ipynb",
      "provenance": [],
      "collapsed_sections": [
        "45TFJZTLykgW",
        "UE4f6R78ykgX",
        "KUZVjOUWykgZ",
        "W73lIrirFMbT",
        "NhwuRL0Eykga",
        "sp9jacV9Q6kL",
        "BvPzHeRz3VP8",
        "_8-7For9AytP",
        "2GFf5j_BAa9Y",
        "E43BcyE6QPcq",
        "X9vb6A6BQaNR",
        "Bm3HtLIM9aHT",
        "DPJKO8nOQhMA"
      ]
    },
    "interpreter": {
      "hash": "dcc5f0745bb73c331ddcb9e6e17cfcf1d7c30043bb04caa6bbf9dd8843d7acb0"
    },
    "kernelspec": {
      "display_name": "Python 3.7.4 64-bit ('base': conda)",
      "name": "python3"
    },
    "language_info": {
      "codemirror_mode": {
        "name": "ipython",
        "version": 3
      },
      "file_extension": ".py",
      "mimetype": "text/x-python",
      "name": "python",
      "nbconvert_exporter": "python",
      "pygments_lexer": "ipython3",
      "version": "3.7.4"
    },
    "orig_nbformat": 4
  },
  "cells": [
    {
      "cell_type": "markdown",
      "metadata": {
        "id": "YelAWkSQykgR"
      },
      "source": [
        "# Protein Classificator"
      ]
    },
    {
      "cell_type": "markdown",
      "metadata": {
        "id": "xFETk-0UykgU"
      },
      "source": [
        "## Importing required packages"
      ]
    },
    {
      "cell_type": "code",
      "metadata": {
        "colab": {
          "base_uri": "https://localhost:8080/"
        },
        "id": "HiZQxC_wAMmp",
        "outputId": "1f0eaaa2-35c1-44f6-e32a-b329d6d00ce9"
      },
      "source": [
        "!pip3.7 install biopython"
      ],
      "execution_count": 1,
      "outputs": [
        {
          "output_type": "stream",
          "name": "stdout",
          "text": [
            "Collecting biopython\n",
            "  Downloading biopython-1.79-cp37-cp37m-manylinux_2_5_x86_64.manylinux1_x86_64.whl (2.3 MB)\n",
            "\u001b[?25l\r\u001b[K     |▏                               | 10 kB 21.5 MB/s eta 0:00:01\r\u001b[K     |▎                               | 20 kB 25.9 MB/s eta 0:00:01\r\u001b[K     |▍                               | 30 kB 30.2 MB/s eta 0:00:01\r\u001b[K     |▋                               | 40 kB 30.8 MB/s eta 0:00:01\r\u001b[K     |▊                               | 51 kB 32.8 MB/s eta 0:00:01\r\u001b[K     |▉                               | 61 kB 35.2 MB/s eta 0:00:01\r\u001b[K     |█                               | 71 kB 36.6 MB/s eta 0:00:01\r\u001b[K     |█▏                              | 81 kB 38.7 MB/s eta 0:00:01\r\u001b[K     |█▎                              | 92 kB 39.5 MB/s eta 0:00:01\r\u001b[K     |█▍                              | 102 kB 40.3 MB/s eta 0:00:01\r\u001b[K     |█▋                              | 112 kB 40.3 MB/s eta 0:00:01\r\u001b[K     |█▊                              | 122 kB 40.3 MB/s eta 0:00:01\r\u001b[K     |█▉                              | 133 kB 40.3 MB/s eta 0:00:01\r\u001b[K     |██                              | 143 kB 40.3 MB/s eta 0:00:01\r\u001b[K     |██▏                             | 153 kB 40.3 MB/s eta 0:00:01\r\u001b[K     |██▎                             | 163 kB 40.3 MB/s eta 0:00:01\r\u001b[K     |██▍                             | 174 kB 40.3 MB/s eta 0:00:01\r\u001b[K     |██▋                             | 184 kB 40.3 MB/s eta 0:00:01\r\u001b[K     |██▊                             | 194 kB 40.3 MB/s eta 0:00:01\r\u001b[K     |██▉                             | 204 kB 40.3 MB/s eta 0:00:01\r\u001b[K     |███                             | 215 kB 40.3 MB/s eta 0:00:01\r\u001b[K     |███▏                            | 225 kB 40.3 MB/s eta 0:00:01\r\u001b[K     |███▎                            | 235 kB 40.3 MB/s eta 0:00:01\r\u001b[K     |███▌                            | 245 kB 40.3 MB/s eta 0:00:01\r\u001b[K     |███▋                            | 256 kB 40.3 MB/s eta 0:00:01\r\u001b[K     |███▊                            | 266 kB 40.3 MB/s eta 0:00:01\r\u001b[K     |███▉                            | 276 kB 40.3 MB/s eta 0:00:01\r\u001b[K     |████                            | 286 kB 40.3 MB/s eta 0:00:01\r\u001b[K     |████▏                           | 296 kB 40.3 MB/s eta 0:00:01\r\u001b[K     |████▎                           | 307 kB 40.3 MB/s eta 0:00:01\r\u001b[K     |████▌                           | 317 kB 40.3 MB/s eta 0:00:01\r\u001b[K     |████▋                           | 327 kB 40.3 MB/s eta 0:00:01\r\u001b[K     |████▊                           | 337 kB 40.3 MB/s eta 0:00:01\r\u001b[K     |████▉                           | 348 kB 40.3 MB/s eta 0:00:01\r\u001b[K     |█████                           | 358 kB 40.3 MB/s eta 0:00:01\r\u001b[K     |█████▏                          | 368 kB 40.3 MB/s eta 0:00:01\r\u001b[K     |█████▎                          | 378 kB 40.3 MB/s eta 0:00:01\r\u001b[K     |█████▌                          | 389 kB 40.3 MB/s eta 0:00:01\r\u001b[K     |█████▋                          | 399 kB 40.3 MB/s eta 0:00:01\r\u001b[K     |█████▊                          | 409 kB 40.3 MB/s eta 0:00:01\r\u001b[K     |██████                          | 419 kB 40.3 MB/s eta 0:00:01\r\u001b[K     |██████                          | 430 kB 40.3 MB/s eta 0:00:01\r\u001b[K     |██████▏                         | 440 kB 40.3 MB/s eta 0:00:01\r\u001b[K     |██████▎                         | 450 kB 40.3 MB/s eta 0:00:01\r\u001b[K     |██████▌                         | 460 kB 40.3 MB/s eta 0:00:01\r\u001b[K     |██████▋                         | 471 kB 40.3 MB/s eta 0:00:01\r\u001b[K     |██████▊                         | 481 kB 40.3 MB/s eta 0:00:01\r\u001b[K     |███████                         | 491 kB 40.3 MB/s eta 0:00:01\r\u001b[K     |███████                         | 501 kB 40.3 MB/s eta 0:00:01\r\u001b[K     |███████▏                        | 512 kB 40.3 MB/s eta 0:00:01\r\u001b[K     |███████▎                        | 522 kB 40.3 MB/s eta 0:00:01\r\u001b[K     |███████▌                        | 532 kB 40.3 MB/s eta 0:00:01\r\u001b[K     |███████▋                        | 542 kB 40.3 MB/s eta 0:00:01\r\u001b[K     |███████▊                        | 552 kB 40.3 MB/s eta 0:00:01\r\u001b[K     |████████                        | 563 kB 40.3 MB/s eta 0:00:01\r\u001b[K     |████████                        | 573 kB 40.3 MB/s eta 0:00:01\r\u001b[K     |████████▏                       | 583 kB 40.3 MB/s eta 0:00:01\r\u001b[K     |████████▍                       | 593 kB 40.3 MB/s eta 0:00:01\r\u001b[K     |████████▌                       | 604 kB 40.3 MB/s eta 0:00:01\r\u001b[K     |████████▋                       | 614 kB 40.3 MB/s eta 0:00:01\r\u001b[K     |████████▊                       | 624 kB 40.3 MB/s eta 0:00:01\r\u001b[K     |█████████                       | 634 kB 40.3 MB/s eta 0:00:01\r\u001b[K     |█████████                       | 645 kB 40.3 MB/s eta 0:00:01\r\u001b[K     |█████████▏                      | 655 kB 40.3 MB/s eta 0:00:01\r\u001b[K     |█████████▍                      | 665 kB 40.3 MB/s eta 0:00:01\r\u001b[K     |█████████▌                      | 675 kB 40.3 MB/s eta 0:00:01\r\u001b[K     |█████████▋                      | 686 kB 40.3 MB/s eta 0:00:01\r\u001b[K     |█████████▊                      | 696 kB 40.3 MB/s eta 0:00:01\r\u001b[K     |██████████                      | 706 kB 40.3 MB/s eta 0:00:01\r\u001b[K     |██████████                      | 716 kB 40.3 MB/s eta 0:00:01\r\u001b[K     |██████████▏                     | 727 kB 40.3 MB/s eta 0:00:01\r\u001b[K     |██████████▍                     | 737 kB 40.3 MB/s eta 0:00:01\r\u001b[K     |██████████▌                     | 747 kB 40.3 MB/s eta 0:00:01\r\u001b[K     |██████████▋                     | 757 kB 40.3 MB/s eta 0:00:01\r\u001b[K     |██████████▉                     | 768 kB 40.3 MB/s eta 0:00:01\r\u001b[K     |███████████                     | 778 kB 40.3 MB/s eta 0:00:01\r\u001b[K     |███████████                     | 788 kB 40.3 MB/s eta 0:00:01\r\u001b[K     |███████████▏                    | 798 kB 40.3 MB/s eta 0:00:01\r\u001b[K     |███████████▍                    | 808 kB 40.3 MB/s eta 0:00:01\r\u001b[K     |███████████▌                    | 819 kB 40.3 MB/s eta 0:00:01\r\u001b[K     |███████████▋                    | 829 kB 40.3 MB/s eta 0:00:01\r\u001b[K     |███████████▉                    | 839 kB 40.3 MB/s eta 0:00:01\r\u001b[K     |████████████                    | 849 kB 40.3 MB/s eta 0:00:01\r\u001b[K     |████████████                    | 860 kB 40.3 MB/s eta 0:00:01\r\u001b[K     |████████████▏                   | 870 kB 40.3 MB/s eta 0:00:01\r\u001b[K     |████████████▍                   | 880 kB 40.3 MB/s eta 0:00:01\r\u001b[K     |████████████▌                   | 890 kB 40.3 MB/s eta 0:00:01\r\u001b[K     |████████████▋                   | 901 kB 40.3 MB/s eta 0:00:01\r\u001b[K     |████████████▉                   | 911 kB 40.3 MB/s eta 0:00:01\r\u001b[K     |█████████████                   | 921 kB 40.3 MB/s eta 0:00:01\r\u001b[K     |█████████████                   | 931 kB 40.3 MB/s eta 0:00:01\r\u001b[K     |█████████████▎                  | 942 kB 40.3 MB/s eta 0:00:01\r\u001b[K     |█████████████▍                  | 952 kB 40.3 MB/s eta 0:00:01\r\u001b[K     |█████████████▌                  | 962 kB 40.3 MB/s eta 0:00:01\r\u001b[K     |█████████████▋                  | 972 kB 40.3 MB/s eta 0:00:01\r\u001b[K     |█████████████▉                  | 983 kB 40.3 MB/s eta 0:00:01\r\u001b[K     |██████████████                  | 993 kB 40.3 MB/s eta 0:00:01\r\u001b[K     |██████████████                  | 1.0 MB 40.3 MB/s eta 0:00:01\r\u001b[K     |██████████████▎                 | 1.0 MB 40.3 MB/s eta 0:00:01\r\u001b[K     |██████████████▍                 | 1.0 MB 40.3 MB/s eta 0:00:01\r\u001b[K     |██████████████▌                 | 1.0 MB 40.3 MB/s eta 0:00:01\r\u001b[K     |██████████████▋                 | 1.0 MB 40.3 MB/s eta 0:00:01\r\u001b[K     |██████████████▉                 | 1.1 MB 40.3 MB/s eta 0:00:01\r\u001b[K     |███████████████                 | 1.1 MB 40.3 MB/s eta 0:00:01\r\u001b[K     |███████████████                 | 1.1 MB 40.3 MB/s eta 0:00:01\r\u001b[K     |███████████████▎                | 1.1 MB 40.3 MB/s eta 0:00:01\r\u001b[K     |███████████████▍                | 1.1 MB 40.3 MB/s eta 0:00:01\r\u001b[K     |███████████████▌                | 1.1 MB 40.3 MB/s eta 0:00:01\r\u001b[K     |███████████████▊                | 1.1 MB 40.3 MB/s eta 0:00:01\r\u001b[K     |███████████████▉                | 1.1 MB 40.3 MB/s eta 0:00:01\r\u001b[K     |████████████████                | 1.1 MB 40.3 MB/s eta 0:00:01\r\u001b[K     |████████████████                | 1.1 MB 40.3 MB/s eta 0:00:01\r\u001b[K     |████████████████▎               | 1.2 MB 40.3 MB/s eta 0:00:01\r\u001b[K     |████████████████▍               | 1.2 MB 40.3 MB/s eta 0:00:01\r\u001b[K     |████████████████▌               | 1.2 MB 40.3 MB/s eta 0:00:01\r\u001b[K     |████████████████▊               | 1.2 MB 40.3 MB/s eta 0:00:01\r\u001b[K     |████████████████▉               | 1.2 MB 40.3 MB/s eta 0:00:01\r\u001b[K     |█████████████████               | 1.2 MB 40.3 MB/s eta 0:00:01\r\u001b[K     |█████████████████               | 1.2 MB 40.3 MB/s eta 0:00:01\r\u001b[K     |█████████████████▎              | 1.2 MB 40.3 MB/s eta 0:00:01\r\u001b[K     |█████████████████▍              | 1.2 MB 40.3 MB/s eta 0:00:01\r\u001b[K     |█████████████████▌              | 1.2 MB 40.3 MB/s eta 0:00:01\r\u001b[K     |█████████████████▊              | 1.3 MB 40.3 MB/s eta 0:00:01\r\u001b[K     |█████████████████▉              | 1.3 MB 40.3 MB/s eta 0:00:01\r\u001b[K     |██████████████████              | 1.3 MB 40.3 MB/s eta 0:00:01\r\u001b[K     |██████████████████▏             | 1.3 MB 40.3 MB/s eta 0:00:01\r\u001b[K     |██████████████████▎             | 1.3 MB 40.3 MB/s eta 0:00:01\r\u001b[K     |██████████████████▍             | 1.3 MB 40.3 MB/s eta 0:00:01\r\u001b[K     |██████████████████▌             | 1.3 MB 40.3 MB/s eta 0:00:01\r\u001b[K     |██████████████████▊             | 1.3 MB 40.3 MB/s eta 0:00:01\r\u001b[K     |██████████████████▉             | 1.3 MB 40.3 MB/s eta 0:00:01\r\u001b[K     |███████████████████             | 1.4 MB 40.3 MB/s eta 0:00:01\r\u001b[K     |███████████████████▏            | 1.4 MB 40.3 MB/s eta 0:00:01\r\u001b[K     |███████████████████▎            | 1.4 MB 40.3 MB/s eta 0:00:01\r\u001b[K     |███████████████████▍            | 1.4 MB 40.3 MB/s eta 0:00:01\r\u001b[K     |███████████████████▌            | 1.4 MB 40.3 MB/s eta 0:00:01\r\u001b[K     |███████████████████▊            | 1.4 MB 40.3 MB/s eta 0:00:01\r\u001b[K     |███████████████████▉            | 1.4 MB 40.3 MB/s eta 0:00:01\r\u001b[K     |████████████████████            | 1.4 MB 40.3 MB/s eta 0:00:01\r\u001b[K     |████████████████████▏           | 1.4 MB 40.3 MB/s eta 0:00:01\r\u001b[K     |████████████████████▎           | 1.4 MB 40.3 MB/s eta 0:00:01\r\u001b[K     |████████████████████▍           | 1.5 MB 40.3 MB/s eta 0:00:01\r\u001b[K     |████████████████████▋           | 1.5 MB 40.3 MB/s eta 0:00:01\r\u001b[K     |████████████████████▊           | 1.5 MB 40.3 MB/s eta 0:00:01\r\u001b[K     |████████████████████▉           | 1.5 MB 40.3 MB/s eta 0:00:01\r\u001b[K     |█████████████████████           | 1.5 MB 40.3 MB/s eta 0:00:01\r\u001b[K     |█████████████████████▏          | 1.5 MB 40.3 MB/s eta 0:00:01\r\u001b[K     |█████████████████████▎          | 1.5 MB 40.3 MB/s eta 0:00:01\r\u001b[K     |█████████████████████▍          | 1.5 MB 40.3 MB/s eta 0:00:01\r\u001b[K     |█████████████████████▋          | 1.5 MB 40.3 MB/s eta 0:00:01\r\u001b[K     |█████████████████████▊          | 1.5 MB 40.3 MB/s eta 0:00:01\r\u001b[K     |█████████████████████▉          | 1.6 MB 40.3 MB/s eta 0:00:01\r\u001b[K     |██████████████████████          | 1.6 MB 40.3 MB/s eta 0:00:01\r\u001b[K     |██████████████████████▏         | 1.6 MB 40.3 MB/s eta 0:00:01\r\u001b[K     |██████████████████████▎         | 1.6 MB 40.3 MB/s eta 0:00:01\r\u001b[K     |██████████████████████▍         | 1.6 MB 40.3 MB/s eta 0:00:01\r\u001b[K     |██████████████████████▋         | 1.6 MB 40.3 MB/s eta 0:00:01\r\u001b[K     |██████████████████████▊         | 1.6 MB 40.3 MB/s eta 0:00:01\r\u001b[K     |██████████████████████▉         | 1.6 MB 40.3 MB/s eta 0:00:01\r\u001b[K     |███████████████████████         | 1.6 MB 40.3 MB/s eta 0:00:01\r\u001b[K     |███████████████████████▏        | 1.6 MB 40.3 MB/s eta 0:00:01\r\u001b[K     |███████████████████████▎        | 1.7 MB 40.3 MB/s eta 0:00:01\r\u001b[K     |███████████████████████▍        | 1.7 MB 40.3 MB/s eta 0:00:01\r\u001b[K     |███████████████████████▋        | 1.7 MB 40.3 MB/s eta 0:00:01\r\u001b[K     |███████████████████████▊        | 1.7 MB 40.3 MB/s eta 0:00:01\r\u001b[K     |███████████████████████▉        | 1.7 MB 40.3 MB/s eta 0:00:01\r\u001b[K     |████████████████████████        | 1.7 MB 40.3 MB/s eta 0:00:01\r\u001b[K     |████████████████████████▏       | 1.7 MB 40.3 MB/s eta 0:00:01\r\u001b[K     |████████████████████████▎       | 1.7 MB 40.3 MB/s eta 0:00:01\r\u001b[K     |████████████████████████▍       | 1.7 MB 40.3 MB/s eta 0:00:01\r\u001b[K     |████████████████████████▋       | 1.8 MB 40.3 MB/s eta 0:00:01\r\u001b[K     |████████████████████████▊       | 1.8 MB 40.3 MB/s eta 0:00:01\r\u001b[K     |████████████████████████▉       | 1.8 MB 40.3 MB/s eta 0:00:01\r\u001b[K     |█████████████████████████       | 1.8 MB 40.3 MB/s eta 0:00:01\r\u001b[K     |█████████████████████████▏      | 1.8 MB 40.3 MB/s eta 0:00:01\r\u001b[K     |█████████████████████████▎      | 1.8 MB 40.3 MB/s eta 0:00:01\r\u001b[K     |█████████████████████████▌      | 1.8 MB 40.3 MB/s eta 0:00:01\r\u001b[K     |█████████████████████████▋      | 1.8 MB 40.3 MB/s eta 0:00:01\r\u001b[K     |█████████████████████████▊      | 1.8 MB 40.3 MB/s eta 0:00:01\r\u001b[K     |█████████████████████████▉      | 1.8 MB 40.3 MB/s eta 0:00:01\r\u001b[K     |██████████████████████████      | 1.9 MB 40.3 MB/s eta 0:00:01\r\u001b[K     |██████████████████████████▏     | 1.9 MB 40.3 MB/s eta 0:00:01\r\u001b[K     |██████████████████████████▎     | 1.9 MB 40.3 MB/s eta 0:00:01\r\u001b[K     |██████████████████████████▌     | 1.9 MB 40.3 MB/s eta 0:00:01\r\u001b[K     |██████████████████████████▋     | 1.9 MB 40.3 MB/s eta 0:00:01\r\u001b[K     |██████████████████████████▊     | 1.9 MB 40.3 MB/s eta 0:00:01\r\u001b[K     |██████████████████████████▉     | 1.9 MB 40.3 MB/s eta 0:00:01\r\u001b[K     |███████████████████████████     | 1.9 MB 40.3 MB/s eta 0:00:01\r\u001b[K     |███████████████████████████▏    | 1.9 MB 40.3 MB/s eta 0:00:01\r\u001b[K     |███████████████████████████▎    | 1.9 MB 40.3 MB/s eta 0:00:01\r\u001b[K     |███████████████████████████▌    | 2.0 MB 40.3 MB/s eta 0:00:01\r\u001b[K     |███████████████████████████▋    | 2.0 MB 40.3 MB/s eta 0:00:01\r\u001b[K     |███████████████████████████▊    | 2.0 MB 40.3 MB/s eta 0:00:01\r\u001b[K     |████████████████████████████    | 2.0 MB 40.3 MB/s eta 0:00:01\r\u001b[K     |████████████████████████████    | 2.0 MB 40.3 MB/s eta 0:00:01\r\u001b[K     |████████████████████████████▏   | 2.0 MB 40.3 MB/s eta 0:00:01\r\u001b[K     |████████████████████████████▎   | 2.0 MB 40.3 MB/s eta 0:00:01\r\u001b[K     |████████████████████████████▌   | 2.0 MB 40.3 MB/s eta 0:00:01\r\u001b[K     |████████████████████████████▋   | 2.0 MB 40.3 MB/s eta 0:00:01\r\u001b[K     |████████████████████████████▊   | 2.0 MB 40.3 MB/s eta 0:00:01\r\u001b[K     |█████████████████████████████   | 2.1 MB 40.3 MB/s eta 0:00:01\r\u001b[K     |█████████████████████████████   | 2.1 MB 40.3 MB/s eta 0:00:01\r\u001b[K     |█████████████████████████████▏  | 2.1 MB 40.3 MB/s eta 0:00:01\r\u001b[K     |█████████████████████████████▎  | 2.1 MB 40.3 MB/s eta 0:00:01\r\u001b[K     |█████████████████████████████▌  | 2.1 MB 40.3 MB/s eta 0:00:01\r\u001b[K     |█████████████████████████████▋  | 2.1 MB 40.3 MB/s eta 0:00:01\r\u001b[K     |█████████████████████████████▊  | 2.1 MB 40.3 MB/s eta 0:00:01\r\u001b[K     |██████████████████████████████  | 2.1 MB 40.3 MB/s eta 0:00:01\r\u001b[K     |██████████████████████████████  | 2.1 MB 40.3 MB/s eta 0:00:01\r\u001b[K     |██████████████████████████████▏ | 2.2 MB 40.3 MB/s eta 0:00:01\r\u001b[K     |██████████████████████████████▍ | 2.2 MB 40.3 MB/s eta 0:00:01\r\u001b[K     |██████████████████████████████▌ | 2.2 MB 40.3 MB/s eta 0:00:01\r\u001b[K     |██████████████████████████████▋ | 2.2 MB 40.3 MB/s eta 0:00:01\r\u001b[K     |██████████████████████████████▊ | 2.2 MB 40.3 MB/s eta 0:00:01\r\u001b[K     |███████████████████████████████ | 2.2 MB 40.3 MB/s eta 0:00:01\r\u001b[K     |███████████████████████████████ | 2.2 MB 40.3 MB/s eta 0:00:01\r\u001b[K     |███████████████████████████████▏| 2.2 MB 40.3 MB/s eta 0:00:01\r\u001b[K     |███████████████████████████████▍| 2.2 MB 40.3 MB/s eta 0:00:01\r\u001b[K     |███████████████████████████████▌| 2.2 MB 40.3 MB/s eta 0:00:01\r\u001b[K     |███████████████████████████████▋| 2.3 MB 40.3 MB/s eta 0:00:01\r\u001b[K     |███████████████████████████████▊| 2.3 MB 40.3 MB/s eta 0:00:01\r\u001b[K     |████████████████████████████████| 2.3 MB 40.3 MB/s eta 0:00:01\r\u001b[K     |████████████████████████████████| 2.3 MB 40.3 MB/s \n",
            "\u001b[?25hRequirement already satisfied: numpy in /usr/local/lib/python3.7/dist-packages (from biopython) (1.19.5)\n",
            "Installing collected packages: biopython\n",
            "Successfully installed biopython-1.79\n"
          ]
        }
      ]
    },
    {
      "cell_type": "code",
      "metadata": {
        "colab": {
          "base_uri": "https://localhost:8080/"
        },
        "id": "3Qni2mfUykge",
        "outputId": "1e714d5f-c39f-460b-ba4e-a97de94cc6db"
      },
      "source": [
        " !pip3.7 install fair-esm"
      ],
      "execution_count": 2,
      "outputs": [
        {
          "output_type": "stream",
          "name": "stdout",
          "text": [
            "Collecting fair-esm\n",
            "  Downloading fair_esm-0.4.0-py3-none-any.whl (37 kB)\n",
            "Installing collected packages: fair-esm\n",
            "Successfully installed fair-esm-0.4.0\n"
          ]
        }
      ]
    },
    {
      "cell_type": "code",
      "metadata": {
        "id": "WE6NsiN_ykgV"
      },
      "source": [
        "import matplotlib as mpl\n",
        "import matplotlib.pyplot as plt\n",
        "from matplotlib import colors\n",
        "import numpy\n",
        "\n",
        "from Bio import SeqIO\n",
        "from sklearn.model_selection import train_test_split\n",
        "from sklearn.utils import shuffle\n",
        "from sklearn.decomposition import PCA\n",
        "\n",
        "import esm\n",
        "import torch\n",
        "from matplotlib.colors import ListedColormap"
      ],
      "execution_count": 3,
      "outputs": []
    },
    {
      "cell_type": "markdown",
      "metadata": {
        "id": "L1qytLnjUgl1"
      },
      "source": [
        "Command to run to open data files in Google Colab environment."
      ]
    },
    {
      "cell_type": "code",
      "metadata": {
        "colab": {
          "base_uri": "https://localhost:8080/"
        },
        "id": "VJyU4CJ7Ry1J",
        "outputId": "1503e36d-3a85-4127-fe59-8704ad410cbf"
      },
      "source": [
        "!unzip data.zip"
      ],
      "execution_count": 4,
      "outputs": [
        {
          "output_type": "stream",
          "name": "stdout",
          "text": [
            "Archive:  data.zip\n",
            "   creating: data/FASTA/\n",
            "  inflating: data/FASTA/filtered_testing_sequences.fasta  \n",
            "  inflating: data/FASTA/.DS_Store    \n",
            "  inflating: data/FASTA/filtered_training_sample_sequences.fasta  \n",
            "  inflating: data/FASTA/testing_sequences.fasta  \n",
            "  inflating: data/FASTA/training_sequences.fasta  \n",
            "  inflating: data/FASTA/validation_sequences.fasta  \n",
            "  inflating: data/FASTA/filtered_validation_sequences.fasta  \n",
            "  inflating: data/FASTA/filtered_training_sequences.fasta  \n",
            "   creating: data/NPZ/\n",
            "  inflating: data/NPZ/training_and_validation_embeddings.npz  \n",
            "   creating: data/proteomes/\n",
            "  inflating: data/proteomes/.DS_Store  \n",
            "  inflating: data/proteomes/UP000008183.fasta  \n",
            "  inflating: data/proteomes/UP000000798.fasta  \n",
            "  inflating: data/proteomes/UP000001974_273057.fasta  \n",
            "  inflating: data/proteomes/UP000077428.fasta  \n",
            "  inflating: data/proteomes/UP000000625_83333.fasta  \n",
            "  inflating: data/proteomes/UP000000792.fasta  \n"
          ]
        }
      ]
    },
    {
      "cell_type": "markdown",
      "metadata": {
        "id": "45TFJZTLykgW"
      },
      "source": [
        "## Configuration of temperature labels and input files"
      ]
    },
    {
      "cell_type": "code",
      "metadata": {
        "id": "ho9rDAgvykgX"
      },
      "source": [
        "temperature_labels_full = [37, 80]\n",
        "\n",
        "files = ['data/proteomes/UP000000625_83333.fasta', 'data/proteomes/UP000001974_273057.fasta']"
      ],
      "execution_count": null,
      "outputs": []
    },
    {
      "cell_type": "markdown",
      "metadata": {
        "id": "UE4f6R78ykgX"
      },
      "source": [
        "## Splitting the dataset for training, validation and testing\n",
        "\n",
        "The proportions for splitting were chosen to be 70%, 15% and 15% for training, validation and testing respectively."
      ]
    },
    {
      "cell_type": "code",
      "metadata": {
        "id": "zHfA3icmykgY"
      },
      "source": [
        "# Initialisation of the dataset container\n",
        "data = {\n",
        "    'train': {\n",
        "        'X' : [],\n",
        "        'Y' : [],\n",
        "        'FASTA_prefix': 'data/FASTA/training_',\n",
        "        'CSV_prefix': 'data/CSV/training_',\n",
        "    },\n",
        "    'validate': {\n",
        "        'X' : [],\n",
        "        'Y' : [],\n",
        "        'FASTA_prefix': 'data/FASTA/validation_',\n",
        "        'CSV_prefix': 'data/CSV/validation_'\n",
        "    },\n",
        "    'test': {\n",
        "        'X' : [],\n",
        "        'Y' : [],\n",
        "        'FASTA_prefix': 'data/FASTA/testing_',\n",
        "        'CSV_prefix': 'data/CSV/testing_'\n",
        "    }\n",
        "}\n",
        "\n",
        "# Removing duplicate sequences in the dataset\n",
        "seen = set()\n",
        "\n",
        "for i in range(len(temperature_labels_full)):\n",
        "    records = [] \n",
        "    # Parsing sequences (X dataset) from one dataset \n",
        "    for record in SeqIO.parse(files[i], \"fasta\"):\n",
        "        if record.seq not in seen:\n",
        "            seen.add(record.seq)\n",
        "            records.append(record)\n",
        "\n",
        "    # Creating Y dataset from temperature labels \n",
        "    temperature_labels = [temperature_labels_full[i]] * len(records)\n",
        "\n",
        "    # Spliting the dataset to 70% (training) and 30% (trying)\n",
        "    X_train, X_try, Y_train, Y_try = train_test_split(records, temperature_labels, test_size=0.3, shuffle=True, random_state=1)\n",
        "\n",
        "    # Splitting 30% from the initial set in half for calidation and testing\n",
        "    X_validate, X_test, Y_validate, Y_test = train_test_split(X_try, Y_try, test_size=0.5, shuffle=True, random_state=1)\n",
        "\n",
        "    data['train']['X'] = data['train']['X'] + X_train\n",
        "    data['train']['Y'] = data['train']['Y'] + Y_train\n",
        "    data['validate']['X'] = data['validate']['X'] + X_validate\n",
        "    data['validate']['Y'] = data['validate']['Y'] + Y_validate\n",
        "    data['test']['X'] = data['test']['X'] + X_test\n",
        "    data['test']['Y'] = data['test']['Y'] + Y_test\n",
        "\n",
        "# Shuffling the datasets\n",
        "for element in data.keys():\n",
        "    data[element]['X'], data[element]['Y'] = shuffle(data[element]['X'], data[element]['Y'], random_state=1)\n",
        "\n"
      ],
      "execution_count": null,
      "outputs": []
    },
    {
      "cell_type": "markdown",
      "metadata": {
        "id": "KUZVjOUWykgZ"
      },
      "source": [
        "## Checking the success of parsing"
      ]
    },
    {
      "cell_type": "code",
      "metadata": {
        "colab": {
          "base_uri": "https://localhost:8080/"
        },
        "id": "oag6UzGoykgZ",
        "outputId": "48269932-3201-4d31-f5d5-bb7c03a05484"
      },
      "source": [
        "print(len(seen))\n",
        "print(len(data['train']['X']))\n",
        "print(len(data['validate']['X']))\n",
        "print(len(data['test']['X']))"
      ],
      "execution_count": null,
      "outputs": [
        {
          "output_type": "stream",
          "name": "stdout",
          "text": [
            "7288\n",
            "5101\n",
            "1093\n",
            "1094\n"
          ]
        }
      ]
    },
    {
      "cell_type": "markdown",
      "metadata": {
        "id": "W73lIrirFMbT"
      },
      "source": [
        "## Checking the maximum length"
      ]
    },
    {
      "cell_type": "code",
      "metadata": {
        "colab": {
          "base_uri": "https://localhost:8080/"
        },
        "id": "KOX6LQI0BRVv",
        "outputId": "dea9786a-57b2-4393-8983-d37a51ff11a0"
      },
      "source": [
        "max_length = 0\n",
        "max_length_seq = None\n",
        "\n",
        "for element in data.keys():\n",
        "    for i in range(len(data[element]['X'])):\n",
        "        if(len(data[element]['X'][i].seq) > max_length):\n",
        "            max_length = len(data[element]['X'][i].seq)\n",
        "            max_length_seq = data[element]['X'][i]\n",
        "\n",
        "print(max_length)\n",
        "print(max_length_seq)"
      ],
      "execution_count": null,
      "outputs": [
        {
          "output_type": "stream",
          "name": "stdout",
          "text": [
            "2358\n",
            "ID: sp|P76347|YEEJ_ECOLI\n",
            "Name: sp|P76347|YEEJ_ECOLI\n",
            "Description: sp|P76347|YEEJ_ECOLI Uncharacterized protein YeeJ OS=Escherichia coli (strain K12) OX=83333 GN=yeeJ PE=3 SV=3\n",
            "Number of features: 0\n",
            "Seq('MATKKRSGEEINDRQILCGMGIKLRRLTAGICLITQLAFPMAAAAQGVVNAATQ...KNL')\n"
          ]
        }
      ]
    },
    {
      "cell_type": "markdown",
      "metadata": {
        "id": "NhwuRL0Eykga"
      },
      "source": [
        "## Creating files "
      ]
    },
    {
      "cell_type": "markdown",
      "metadata": {
        "id": "HU0InoZBykga"
      },
      "source": [
        "`[training|validation|testing]_sequences.fasta`"
      ]
    },
    {
      "cell_type": "code",
      "metadata": {
        "id": "txP8JgWtykgb"
      },
      "source": [
        "# Creating data/FASTA/*_sequences.fasta files\n",
        "\n",
        "for element in data.keys():\n",
        "    file_name = data[element]['FASTA_prefix']+'sequences.fasta'\n",
        "    file_handle = open(file_name, 'w')\n",
        "    for record in data[element]['X']:\n",
        "        file_handle.write('>'+record.name.split('|')[1])\n",
        "        file_handle.write(\"\\n\")\n",
        "        file_handle.write(str(record.seq))\n",
        "        file_handle.write(\"\\n\")\n",
        "    file_handle.close()"
      ],
      "execution_count": null,
      "outputs": []
    },
    {
      "cell_type": "markdown",
      "metadata": {
        "id": "zSXdGqS8ykgb"
      },
      "source": [
        "  `[training|validation|testing]_temperature_annotations.csv`"
      ]
    },
    {
      "cell_type": "code",
      "metadata": {
        "id": "LnrHY7UVykgc"
      },
      "source": [
        "# Creating data/*_temperature_annotations.csv files\n",
        "\n",
        "for element in data.keys():\n",
        "    file_name = data[element]['CSV_prefix']+'temperature_annotations.csv'\n",
        "    file_handle = open(file_name, 'w')\n",
        "    file_handle.write('identifier,label'+\"\\n\")\n",
        "    for i in range(len(data[element]['X'])):\n",
        "        file_handle.write(data[element]['X'][i].name.split('|')[1]+','+str(data[element]['Y'][i]))\n",
        "        file_handle.write(\"\\n\")\n",
        "    file_handle.close()"
      ],
      "execution_count": null,
      "outputs": []
    },
    {
      "cell_type": "markdown",
      "metadata": {
        "id": "Vpls7v68iiyd"
      },
      "source": [
        "## Filtering sequences from initial FASTA files \n",
        "\n",
        "Since the visualisation is not allowed without embedding for each FASTA sequence, it was required to filter all sequences and keep only those that have their embeddings."
      ]
    },
    {
      "cell_type": "code",
      "metadata": {
        "id": "hxKMiUVfsNd0"
      },
      "source": [
        "data_filtered = {\n",
        "    'train': {\n",
        "        'X': [],\n",
        "        'Y': [],\n",
        "        'FASTA_prefix': 'data/FASTA/filtered_training_',\n",
        "        'CSV_prefix': 'data/CSV/filtered_training_',\n",
        "        'embedding_list': './data/EMB_ESM1b/training_embeddings_sample.lst',\n",
        "        'embeddings': '/content/drive/MyDrive/training_embeddings_sample'\n",
        "    },\n",
        "    'validate': {\n",
        "        'X': [],\n",
        "        'Y': [],\n",
        "        'FASTA_prefix': 'data/FASTA/filtered_validation_',\n",
        "        'CSV_prefix': 'data/CSV/filtered_validation_',\n",
        "        'embedding_list': './data/EMB_ESM1b/validation_embeddings.lst',\n",
        "        'embeddings': '/content/drive/MyDrive/validation_sequences'\n",
        "    },\n",
        "    'test': {\n",
        "        'X' : [],\n",
        "        'Y' : [],\n",
        "        'FASTA_prefix': 'data/FASTA/filtered_testing_',\n",
        "        'CSV_prefix': 'data/CSV/filtered_testing_',\n",
        "        'embedding_list': './data/EMB_ESM1b/testing_embeddings.lst',\n",
        "        'embeddings': '/content/drive/MyDrive/testing_sequences'\n",
        "    }\n",
        "}\n",
        "\n",
        "for element in data.keys():\n",
        "    emb_list_handle = open(data_filtered[element]['embedding_list'], 'r')\n",
        "    emb_list = emb_list_handle.readlines()\n",
        "    emb_list_handle.close()\n",
        "    emb_set = set()\n",
        "    for j in range(len(emb_list)):\n",
        "        emb_set.add(emb_list[j].split('.')[0])\n",
        "    for i in range(len(data[element]['X'])):\n",
        "        if(data[element]['X'][i].id.split('|')[1] in emb_set):\n",
        "            data_filtered[element]['X'].append(data[element]['X'][i])\n",
        "            data_filtered[element]['Y'].append(data[element]['Y'][i])\n"
      ],
      "execution_count": null,
      "outputs": []
    },
    {
      "cell_type": "markdown",
      "metadata": {
        "id": "e6pz1E02Q6kK"
      },
      "source": [
        "Testing, whether the filtration was successful."
      ]
    },
    {
      "cell_type": "code",
      "metadata": {
        "colab": {
          "base_uri": "https://localhost:8080/"
        },
        "id": "y2x1icbPQ6kK",
        "outputId": "b79b0275-5af0-43f1-9b25-bcc99461c95a"
      },
      "source": [
        "print(len(data_filtered['train']['X']))\n",
        "print(len(data_filtered['validate']['X']))\n",
        "print(len(data_filtered['test']['X']))"
      ],
      "execution_count": null,
      "outputs": [
        {
          "output_type": "stream",
          "name": "stdout",
          "text": [
            "1264\n",
            "1079\n",
            "1080\n"
          ]
        }
      ]
    },
    {
      "cell_type": "markdown",
      "metadata": {
        "id": "sp9jacV9Q6kL"
      },
      "source": [
        "## Creating filtered FASTA files"
      ]
    },
    {
      "cell_type": "code",
      "metadata": {
        "id": "-Nx5lg2wQ6kL"
      },
      "source": [
        "# Creating data/FASTA/filtered_*_sequences.fasta files\n",
        "\n",
        "for element in data_filtered.keys():\n",
        "    file_name = data_filtered[element]['FASTA_prefix']+'sequences.fasta'\n",
        "    file_handle = open(file_name, 'w')\n",
        "    for i in range(len(data_filtered[element]['X'])):\n",
        "    #for i in range(5):\n",
        "        #file_handle.write('>'+record.name.split('|')[1])\n",
        "        file_handle.write('>'+data_filtered[element]['X'][i].name.split('|')[1]+'|'+str(data_filtered[element]['Y'][i]))\n",
        "        #print('>'+data_filtered[element]['X'][i].name.split('|')[1]+'|'+str(data_filtered[element]['Y'][i]))\n",
        "        file_handle.write(\"\\n\")\n",
        "        file_handle.write(str(record.seq))\n",
        "        file_handle.write(\"\\n\")\n",
        "    file_handle.close()"
      ],
      "execution_count": null,
      "outputs": []
    },
    {
      "cell_type": "markdown",
      "metadata": {
        "id": "JouWvfXVZKrc"
      },
      "source": [
        "## Fetching data of embeddings "
      ]
    },
    {
      "cell_type": "code",
      "metadata": {
        "id": "UzV7GoUrjC_5",
        "colab": {
          "base_uri": "https://localhost:8080/"
        },
        "outputId": "6be8617e-ba56-4944-9085-3ddb946676bb"
      },
      "source": [
        "from google.colab import drive\n",
        "drive.mount('/content/drive')"
      ],
      "execution_count": null,
      "outputs": [
        {
          "output_type": "stream",
          "name": "stdout",
          "text": [
            "Mounted at /content/drive\n"
          ]
        }
      ]
    },
    {
      "cell_type": "markdown",
      "metadata": {
        "id": "BvPzHeRz3VP8"
      },
      "source": [
        "## Visualisation of embeddings"
      ]
    },
    {
      "cell_type": "code",
      "metadata": {
        "colab": {
          "base_uri": "https://localhost:8080/"
        },
        "id": "AgsrP8XIExVc",
        "outputId": "94e6a6c8-ec44-4e48-b836-4d3d58df5d32"
      },
      "source": [
        "!pip3.7 install pymde"
      ],
      "execution_count": null,
      "outputs": [
        {
          "output_type": "stream",
          "name": "stdout",
          "text": [
            "Collecting pymde\n",
            "  Downloading pymde-0.1.14-cp37-cp37m-manylinux_2_5_x86_64.manylinux1_x86_64.manylinux_2_17_x86_64.manylinux2014_x86_64.whl (134 kB)\n",
            "\u001b[?25l\r\u001b[K     |██▍                             | 10 kB 23.1 MB/s eta 0:00:01\r\u001b[K     |████▉                           | 20 kB 27.6 MB/s eta 0:00:01\r\u001b[K     |███████▎                        | 30 kB 30.9 MB/s eta 0:00:01\r\u001b[K     |█████████▊                      | 40 kB 32.2 MB/s eta 0:00:01\r\u001b[K     |████████████▏                   | 51 kB 31.3 MB/s eta 0:00:01\r\u001b[K     |██████████████▋                 | 61 kB 31.4 MB/s eta 0:00:01\r\u001b[K     |█████████████████               | 71 kB 31.7 MB/s eta 0:00:01\r\u001b[K     |███████████████████▍            | 81 kB 32.9 MB/s eta 0:00:01\r\u001b[K     |█████████████████████▉          | 92 kB 34.6 MB/s eta 0:00:01\r\u001b[K     |████████████████████████▎       | 102 kB 36.4 MB/s eta 0:00:01\r\u001b[K     |██████████████████████████▊     | 112 kB 36.4 MB/s eta 0:00:01\r\u001b[K     |█████████████████████████████▏  | 122 kB 36.4 MB/s eta 0:00:01\r\u001b[K     |███████████████████████████████▋| 133 kB 36.4 MB/s eta 0:00:01\r\u001b[K     |████████████████████████████████| 134 kB 36.4 MB/s \n",
            "\u001b[?25hRequirement already satisfied: torch>=1.7.1 in /usr/local/lib/python3.7/dist-packages (from pymde) (1.10.0+cu111)\n",
            "Collecting pynndescent\n",
            "  Downloading pynndescent-0.5.5.tar.gz (1.1 MB)\n",
            "\u001b[?25l\r\u001b[K     |▎                               | 10 kB 16.9 MB/s eta 0:00:01\r\u001b[K     |▋                               | 20 kB 24.9 MB/s eta 0:00:01\r\u001b[K     |▉                               | 30 kB 32.0 MB/s eta 0:00:01\r\u001b[K     |█▏                              | 40 kB 27.0 MB/s eta 0:00:01\r\u001b[K     |█▌                              | 51 kB 21.5 MB/s eta 0:00:01\r\u001b[K     |█▊                              | 61 kB 23.1 MB/s eta 0:00:01\r\u001b[K     |██                              | 71 kB 25.0 MB/s eta 0:00:01\r\u001b[K     |██▎                             | 81 kB 26.6 MB/s eta 0:00:01\r\u001b[K     |██▋                             | 92 kB 28.3 MB/s eta 0:00:01\r\u001b[K     |███                             | 102 kB 29.9 MB/s eta 0:00:01\r\u001b[K     |███▏                            | 112 kB 29.9 MB/s eta 0:00:01\r\u001b[K     |███▌                            | 122 kB 29.9 MB/s eta 0:00:01\r\u001b[K     |███▊                            | 133 kB 29.9 MB/s eta 0:00:01\r\u001b[K     |████                            | 143 kB 29.9 MB/s eta 0:00:01\r\u001b[K     |████▍                           | 153 kB 29.9 MB/s eta 0:00:01\r\u001b[K     |████▋                           | 163 kB 29.9 MB/s eta 0:00:01\r\u001b[K     |█████                           | 174 kB 29.9 MB/s eta 0:00:01\r\u001b[K     |█████▏                          | 184 kB 29.9 MB/s eta 0:00:01\r\u001b[K     |█████▌                          | 194 kB 29.9 MB/s eta 0:00:01\r\u001b[K     |█████▉                          | 204 kB 29.9 MB/s eta 0:00:01\r\u001b[K     |██████                          | 215 kB 29.9 MB/s eta 0:00:01\r\u001b[K     |██████▍                         | 225 kB 29.9 MB/s eta 0:00:01\r\u001b[K     |██████▋                         | 235 kB 29.9 MB/s eta 0:00:01\r\u001b[K     |███████                         | 245 kB 29.9 MB/s eta 0:00:01\r\u001b[K     |███████▎                        | 256 kB 29.9 MB/s eta 0:00:01\r\u001b[K     |███████▌                        | 266 kB 29.9 MB/s eta 0:00:01\r\u001b[K     |███████▉                        | 276 kB 29.9 MB/s eta 0:00:01\r\u001b[K     |████████                        | 286 kB 29.9 MB/s eta 0:00:01\r\u001b[K     |████████▍                       | 296 kB 29.9 MB/s eta 0:00:01\r\u001b[K     |████████▊                       | 307 kB 29.9 MB/s eta 0:00:01\r\u001b[K     |█████████                       | 317 kB 29.9 MB/s eta 0:00:01\r\u001b[K     |█████████▎                      | 327 kB 29.9 MB/s eta 0:00:01\r\u001b[K     |█████████▌                      | 337 kB 29.9 MB/s eta 0:00:01\r\u001b[K     |█████████▉                      | 348 kB 29.9 MB/s eta 0:00:01\r\u001b[K     |██████████▏                     | 358 kB 29.9 MB/s eta 0:00:01\r\u001b[K     |██████████▍                     | 368 kB 29.9 MB/s eta 0:00:01\r\u001b[K     |██████████▊                     | 378 kB 29.9 MB/s eta 0:00:01\r\u001b[K     |███████████                     | 389 kB 29.9 MB/s eta 0:00:01\r\u001b[K     |███████████▎                    | 399 kB 29.9 MB/s eta 0:00:01\r\u001b[K     |███████████▋                    | 409 kB 29.9 MB/s eta 0:00:01\r\u001b[K     |███████████▉                    | 419 kB 29.9 MB/s eta 0:00:01\r\u001b[K     |████████████▏                   | 430 kB 29.9 MB/s eta 0:00:01\r\u001b[K     |████████████▍                   | 440 kB 29.9 MB/s eta 0:00:01\r\u001b[K     |████████████▊                   | 450 kB 29.9 MB/s eta 0:00:01\r\u001b[K     |█████████████                   | 460 kB 29.9 MB/s eta 0:00:01\r\u001b[K     |█████████████▎                  | 471 kB 29.9 MB/s eta 0:00:01\r\u001b[K     |█████████████▋                  | 481 kB 29.9 MB/s eta 0:00:01\r\u001b[K     |█████████████▉                  | 491 kB 29.9 MB/s eta 0:00:01\r\u001b[K     |██████████████▏                 | 501 kB 29.9 MB/s eta 0:00:01\r\u001b[K     |██████████████▌                 | 512 kB 29.9 MB/s eta 0:00:01\r\u001b[K     |██████████████▊                 | 522 kB 29.9 MB/s eta 0:00:01\r\u001b[K     |███████████████                 | 532 kB 29.9 MB/s eta 0:00:01\r\u001b[K     |███████████████▎                | 542 kB 29.9 MB/s eta 0:00:01\r\u001b[K     |███████████████▋                | 552 kB 29.9 MB/s eta 0:00:01\r\u001b[K     |████████████████                | 563 kB 29.9 MB/s eta 0:00:01\r\u001b[K     |████████████████▏               | 573 kB 29.9 MB/s eta 0:00:01\r\u001b[K     |████████████████▌               | 583 kB 29.9 MB/s eta 0:00:01\r\u001b[K     |████████████████▊               | 593 kB 29.9 MB/s eta 0:00:01\r\u001b[K     |█████████████████               | 604 kB 29.9 MB/s eta 0:00:01\r\u001b[K     |█████████████████▍              | 614 kB 29.9 MB/s eta 0:00:01\r\u001b[K     |█████████████████▋              | 624 kB 29.9 MB/s eta 0:00:01\r\u001b[K     |██████████████████              | 634 kB 29.9 MB/s eta 0:00:01\r\u001b[K     |██████████████████▏             | 645 kB 29.9 MB/s eta 0:00:01\r\u001b[K     |██████████████████▌             | 655 kB 29.9 MB/s eta 0:00:01\r\u001b[K     |██████████████████▉             | 665 kB 29.9 MB/s eta 0:00:01\r\u001b[K     |███████████████████             | 675 kB 29.9 MB/s eta 0:00:01\r\u001b[K     |███████████████████▍            | 686 kB 29.9 MB/s eta 0:00:01\r\u001b[K     |███████████████████▋            | 696 kB 29.9 MB/s eta 0:00:01\r\u001b[K     |████████████████████            | 706 kB 29.9 MB/s eta 0:00:01\r\u001b[K     |████████████████████▎           | 716 kB 29.9 MB/s eta 0:00:01\r\u001b[K     |████████████████████▌           | 727 kB 29.9 MB/s eta 0:00:01\r\u001b[K     |████████████████████▉           | 737 kB 29.9 MB/s eta 0:00:01\r\u001b[K     |█████████████████████           | 747 kB 29.9 MB/s eta 0:00:01\r\u001b[K     |█████████████████████▍          | 757 kB 29.9 MB/s eta 0:00:01\r\u001b[K     |█████████████████████▊          | 768 kB 29.9 MB/s eta 0:00:01\r\u001b[K     |██████████████████████          | 778 kB 29.9 MB/s eta 0:00:01\r\u001b[K     |██████████████████████▎         | 788 kB 29.9 MB/s eta 0:00:01\r\u001b[K     |██████████████████████▌         | 798 kB 29.9 MB/s eta 0:00:01\r\u001b[K     |██████████████████████▉         | 808 kB 29.9 MB/s eta 0:00:01\r\u001b[K     |███████████████████████▏        | 819 kB 29.9 MB/s eta 0:00:01\r\u001b[K     |███████████████████████▍        | 829 kB 29.9 MB/s eta 0:00:01\r\u001b[K     |███████████████████████▊        | 839 kB 29.9 MB/s eta 0:00:01\r\u001b[K     |████████████████████████        | 849 kB 29.9 MB/s eta 0:00:01\r\u001b[K     |████████████████████████▎       | 860 kB 29.9 MB/s eta 0:00:01\r\u001b[K     |████████████████████████▋       | 870 kB 29.9 MB/s eta 0:00:01\r\u001b[K     |████████████████████████▉       | 880 kB 29.9 MB/s eta 0:00:01\r\u001b[K     |█████████████████████████▏      | 890 kB 29.9 MB/s eta 0:00:01\r\u001b[K     |█████████████████████████▌      | 901 kB 29.9 MB/s eta 0:00:01\r\u001b[K     |█████████████████████████▊      | 911 kB 29.9 MB/s eta 0:00:01\r\u001b[K     |██████████████████████████      | 921 kB 29.9 MB/s eta 0:00:01\r\u001b[K     |██████████████████████████▎     | 931 kB 29.9 MB/s eta 0:00:01\r\u001b[K     |██████████████████████████▋     | 942 kB 29.9 MB/s eta 0:00:01\r\u001b[K     |███████████████████████████     | 952 kB 29.9 MB/s eta 0:00:01\r\u001b[K     |███████████████████████████▏    | 962 kB 29.9 MB/s eta 0:00:01\r\u001b[K     |███████████████████████████▌    | 972 kB 29.9 MB/s eta 0:00:01\r\u001b[K     |███████████████████████████▊    | 983 kB 29.9 MB/s eta 0:00:01\r\u001b[K     |████████████████████████████    | 993 kB 29.9 MB/s eta 0:00:01\r\u001b[K     |████████████████████████████▍   | 1.0 MB 29.9 MB/s eta 0:00:01\r\u001b[K     |████████████████████████████▋   | 1.0 MB 29.9 MB/s eta 0:00:01\r\u001b[K     |█████████████████████████████   | 1.0 MB 29.9 MB/s eta 0:00:01\r\u001b[K     |█████████████████████████████▏  | 1.0 MB 29.9 MB/s eta 0:00:01\r\u001b[K     |█████████████████████████████▌  | 1.0 MB 29.9 MB/s eta 0:00:01\r\u001b[K     |█████████████████████████████▉  | 1.1 MB 29.9 MB/s eta 0:00:01\r\u001b[K     |██████████████████████████████  | 1.1 MB 29.9 MB/s eta 0:00:01\r\u001b[K     |██████████████████████████████▍ | 1.1 MB 29.9 MB/s eta 0:00:01\r\u001b[K     |██████████████████████████████▋ | 1.1 MB 29.9 MB/s eta 0:00:01\r\u001b[K     |███████████████████████████████ | 1.1 MB 29.9 MB/s eta 0:00:01\r\u001b[K     |███████████████████████████████▎| 1.1 MB 29.9 MB/s eta 0:00:01\r\u001b[K     |███████████████████████████████▌| 1.1 MB 29.9 MB/s eta 0:00:01\r\u001b[K     |███████████████████████████████▉| 1.1 MB 29.9 MB/s eta 0:00:01\r\u001b[K     |████████████████████████████████| 1.1 MB 29.9 MB/s \n",
            "\u001b[?25hRequirement already satisfied: numpy>=1.17.5 in /usr/local/lib/python3.7/dist-packages (from pymde) (1.19.5)\n",
            "Requirement already satisfied: requests in /usr/local/lib/python3.7/dist-packages (from pymde) (2.23.0)\n",
            "Requirement already satisfied: matplotlib in /usr/local/lib/python3.7/dist-packages (from pymde) (3.2.2)\n",
            "Requirement already satisfied: scipy in /usr/local/lib/python3.7/dist-packages (from pymde) (1.4.1)\n",
            "Requirement already satisfied: torchvision>=0.8.2 in /usr/local/lib/python3.7/dist-packages (from pymde) (0.11.1+cu111)\n",
            "Requirement already satisfied: typing-extensions in /usr/local/lib/python3.7/dist-packages (from torch>=1.7.1->pymde) (3.10.0.2)\n",
            "Requirement already satisfied: pillow!=8.3.0,>=5.3.0 in /usr/local/lib/python3.7/dist-packages (from torchvision>=0.8.2->pymde) (7.1.2)\n",
            "Requirement already satisfied: cycler>=0.10 in /usr/local/lib/python3.7/dist-packages (from matplotlib->pymde) (0.11.0)\n",
            "Requirement already satisfied: pyparsing!=2.0.4,!=2.1.2,!=2.1.6,>=2.0.1 in /usr/local/lib/python3.7/dist-packages (from matplotlib->pymde) (3.0.6)\n",
            "Requirement already satisfied: python-dateutil>=2.1 in /usr/local/lib/python3.7/dist-packages (from matplotlib->pymde) (2.8.2)\n",
            "Requirement already satisfied: kiwisolver>=1.0.1 in /usr/local/lib/python3.7/dist-packages (from matplotlib->pymde) (1.3.2)\n",
            "Requirement already satisfied: six>=1.5 in /usr/local/lib/python3.7/dist-packages (from python-dateutil>=2.1->matplotlib->pymde) (1.15.0)\n",
            "Requirement already satisfied: scikit-learn>=0.18 in /usr/local/lib/python3.7/dist-packages (from pynndescent->pymde) (1.0.1)\n",
            "Requirement already satisfied: numba>=0.51.2 in /usr/local/lib/python3.7/dist-packages (from pynndescent->pymde) (0.51.2)\n",
            "Requirement already satisfied: llvmlite>=0.30 in /usr/local/lib/python3.7/dist-packages (from pynndescent->pymde) (0.34.0)\n",
            "Requirement already satisfied: joblib>=0.11 in /usr/local/lib/python3.7/dist-packages (from pynndescent->pymde) (1.1.0)\n",
            "Requirement already satisfied: setuptools in /usr/local/lib/python3.7/dist-packages (from numba>=0.51.2->pynndescent->pymde) (57.4.0)\n",
            "Requirement already satisfied: threadpoolctl>=2.0.0 in /usr/local/lib/python3.7/dist-packages (from scikit-learn>=0.18->pynndescent->pymde) (3.0.0)\n",
            "Requirement already satisfied: certifi>=2017.4.17 in /usr/local/lib/python3.7/dist-packages (from requests->pymde) (2021.10.8)\n",
            "Requirement already satisfied: chardet<4,>=3.0.2 in /usr/local/lib/python3.7/dist-packages (from requests->pymde) (3.0.4)\n",
            "Requirement already satisfied: idna<3,>=2.5 in /usr/local/lib/python3.7/dist-packages (from requests->pymde) (2.10)\n",
            "Requirement already satisfied: urllib3!=1.25.0,!=1.25.1,<1.26,>=1.21.1 in /usr/local/lib/python3.7/dist-packages (from requests->pymde) (1.24.3)\n",
            "Building wheels for collected packages: pynndescent\n",
            "  Building wheel for pynndescent (setup.py) ... \u001b[?25l\u001b[?25hdone\n",
            "  Created wheel for pynndescent: filename=pynndescent-0.5.5-py3-none-any.whl size=52603 sha256=49bdae5954f3ec8e88b424b007ecff1555ef82f8a644d38bb32c76b84610826d\n",
            "  Stored in directory: /root/.cache/pip/wheels/af/e9/33/04db1436df0757c42fda8ea6796d7a8586e23c85fac355f476\n",
            "Successfully built pynndescent\n",
            "Installing collected packages: pynndescent, pymde\n",
            "Successfully installed pymde-0.1.14 pynndescent-0.5.5\n"
          ]
        }
      ]
    },
    {
      "cell_type": "code",
      "metadata": {
        "id": "bORFLR2GAXg5"
      },
      "source": [
        "import pymde\n",
        "\n",
        "EMB_LAYER = 33"
      ],
      "execution_count": null,
      "outputs": []
    },
    {
      "cell_type": "markdown",
      "metadata": {
        "id": "_8-7For9AytP"
      },
      "source": [
        "### Visualisation of training dataset sample embeddings"
      ]
    },
    {
      "cell_type": "code",
      "metadata": {
        "id": "MQGH3UfTAabJ"
      },
      "source": [
        "Ys = []\n",
        "Xs = []\n",
        "\n",
        "keys = ['train']\n",
        "\n",
        "for key in keys:\n",
        "    FASTA_PATH = 'data/FASTA/filtered_training_sample_sequences.fasta'\n",
        "    EMB_PATH = data_filtered[key]['embeddings']\n",
        "    for header, _seq in esm.data.read_fasta(FASTA_PATH):\n",
        "        temperature_label = header.split('|')[-1]\n",
        "        Ys.append(int(temperature_label))\n",
        "        file_name = header.split('|')[0][1:]\n",
        "        fn = f'{EMB_PATH}/{file_name}.pt'\n",
        "        embs = torch.load(fn)\n",
        "        Xs.append(embs['mean_representations'][EMB_LAYER])\n",
        "\n",
        "Xs = torch.stack(Xs, dim=0).numpy()"
      ],
      "execution_count": null,
      "outputs": []
    },
    {
      "cell_type": "code",
      "metadata": {
        "id": "1Tsy8QmihjC5"
      },
      "source": [
        "custom_cmap = ListedColormap([\"navy\", \"pink\"])"
      ],
      "execution_count": null,
      "outputs": []
    },
    {
      "cell_type": "code",
      "metadata": {
        "id": "LnMLXXFMKgGs",
        "colab": {
          "base_uri": "https://localhost:8080/",
          "height": 181
        },
        "outputId": "d77c3f23-5aab-487f-c0f6-f58a0793f88d"
      },
      "source": [
        "pca = PCA(60)\n",
        "Xs_train_pca = pca.fit_transform(Xs)"
      ],
      "execution_count": null,
      "outputs": [
        {
          "output_type": "error",
          "ename": "NameError",
          "evalue": "ignored",
          "traceback": [
            "\u001b[0;31m---------------------------------------------------------------------------\u001b[0m",
            "\u001b[0;31mNameError\u001b[0m                                 Traceback (most recent call last)",
            "\u001b[0;32m<ipython-input-15-e10b6416d177>\u001b[0m in \u001b[0;36m<module>\u001b[0;34m()\u001b[0m\n\u001b[1;32m      1\u001b[0m \u001b[0mpca\u001b[0m \u001b[0;34m=\u001b[0m \u001b[0mPCA\u001b[0m\u001b[0;34m(\u001b[0m\u001b[0;36m60\u001b[0m\u001b[0;34m)\u001b[0m\u001b[0;34m\u001b[0m\u001b[0;34m\u001b[0m\u001b[0m\n\u001b[0;32m----> 2\u001b[0;31m \u001b[0mXs_train_pca\u001b[0m \u001b[0;34m=\u001b[0m \u001b[0mpca\u001b[0m\u001b[0;34m.\u001b[0m\u001b[0mfit_transform\u001b[0m\u001b[0;34m(\u001b[0m\u001b[0mXs\u001b[0m\u001b[0;34m)\u001b[0m\u001b[0;34m\u001b[0m\u001b[0;34m\u001b[0m\u001b[0m\n\u001b[0m",
            "\u001b[0;31mNameError\u001b[0m: name 'Xs' is not defined"
          ]
        }
      ]
    },
    {
      "cell_type": "code",
      "metadata": {
        "colab": {
          "base_uri": "https://localhost:8080/",
          "height": 392
        },
        "id": "wBsWxsAZKpWa",
        "outputId": "f43cb952-210b-4c80-b2ca-69d96428637d"
      },
      "source": [
        "fig_dims = (7, 6)\n",
        "fig, ax = plt.subplots(figsize=fig_dims)\n",
        "sc = ax.scatter(Xs_train_pca[:,0], Xs_train_pca[:,1], c=Ys, marker='.', cmap=custom_cmap)\n",
        "ax.set_xlabel('PCA first principal component')\n",
        "ax.set_ylabel('PCA second principal component')\n",
        "plt.colorbar(sc, label='Variant Effect', ticks=numpy.linspace(37, 80, 2))\n",
        "plt.savefig('training_sample_visualisation_matplotlib.png')"
      ],
      "execution_count": null,
      "outputs": [
        {
          "output_type": "display_data",
          "data": {
            "image/png": "[encoded data removed]",
            "text/plain": [
              "<Figure size 504x432 with 2 Axes>"
            ]
          },
          "metadata": {
            "needs_background": "light"
          }
        }
      ]
    },
    {
      "cell_type": "code",
      "metadata": {
        "id": "xW8sG8vAK2AC",
        "colab": {
          "base_uri": "https://localhost:8080/"
        },
        "outputId": "a5cec0d4-d11e-4a22-9868-a2eeda724dab"
      },
      "source": [
        "Xs_torch_train = None\n",
        "\n",
        "Xs_torch_train = torch.from_numpy(Xs)\n",
        "\n",
        "embedding_train = pymde.preserve_neighbors(Xs_torch_train).embed(verbose=True)"
      ],
      "execution_count": null,
      "outputs": [
        {
          "output_type": "stream",
          "name": "stdout",
          "text": [
            "Nov 24 10:04:02 AM: Fitting a centered embedding into R^2, for a graph with 1264 items and 12115 edges.\n",
            "Nov 24 10:04:02 AM: `embed` method parameters: eps=1.0e-05, max_iter=300, memory_size=10\n",
            "Nov 24 10:04:02 AM: iteration 000 | distortion 0.621243 | residual norm 0.232424 | step length 0.193571 | percent change 0.0894813\n",
            "Nov 24 10:04:02 AM: iteration 030 | distortion 0.211123 | residual norm 0.002074 | step length 1 | percent change 0.678645\n",
            "Nov 24 10:04:02 AM: iteration 060 | distortion 0.204533 | residual norm 0.00124083 | step length 1 | percent change 0.428722\n",
            "Nov 24 10:04:02 AM: iteration 090 | distortion 0.202810 | residual norm 0.000602884 | step length 1 | percent change 0.105649\n",
            "Nov 24 10:04:03 AM: iteration 120 | distortion 0.202534 | residual norm 0.00035719 | step length 1 | percent change 0.136279\n",
            "Nov 24 10:04:03 AM: iteration 150 | distortion 0.202260 | residual norm 0.000440381 | step length 1 | percent change 0.102844\n",
            "Nov 24 10:04:03 AM: iteration 180 | distortion 0.202084 | residual norm 0.000359055 | step length 1 | percent change 0.0401783\n",
            "Nov 24 10:04:03 AM: iteration 210 | distortion 0.201973 | residual norm 0.000340439 | step length 1 | percent change 0.312066\n",
            "Nov 24 10:04:03 AM: iteration 240 | distortion 0.201832 | residual norm 0.000273327 | step length 1 | percent change 0.11906\n",
            "Nov 24 10:04:03 AM: iteration 270 | distortion 0.201772 | residual norm 0.000216366 | step length 1 | percent change 0.104146\n",
            "Nov 24 10:04:04 AM: iteration 299 | distortion 0.201708 | residual norm 0.000360728 | step length 1 | percent change 0.114058\n",
            "Nov 24 10:04:04 AM: Finished fitting in 1.630 seconds and 300 iterations.\n",
            "Nov 24 10:04:04 AM: average distortion 0.202 | residual norm 3.6e-04\n"
          ]
        }
      ]
    },
    {
      "cell_type": "code",
      "metadata": {
        "id": "OWckjTy3K447",
        "colab": {
          "base_uri": "https://localhost:8080/",
          "height": 602
        },
        "outputId": "4f35ee46-b82d-435d-9c23-1e24d958de7f"
      },
      "source": [
        "pymde.plot(embedding_train, color_by=Ys, savepath='training_sample_visualisation_PyMDE.png', color_map=custom_cmap, figsize_inches=(8.8, 8.0))"
      ],
      "execution_count": null,
      "outputs": [
        {
          "output_type": "execute_result",
          "data": {
            "text/plain": [
              "<matplotlib.axes._subplots.AxesSubplot at 0x7faa5d66ed10>"
            ]
          },
          "metadata": {},
          "execution_count": 19
        },
        {
          "output_type": "display_data",
          "data": {
            "image/png": "[encoded data removed]",
            "text/plain": [
              "<Figure size 633.6x576 with 2 Axes>"
            ]
          },
          "metadata": {
            "needs_background": "light"
          }
        }
      ]
    },
    {
      "cell_type": "markdown",
      "metadata": {
        "id": "2GFf5j_BAa9Y"
      },
      "source": [
        "### Visualisation of validation and testing dataset embeddings"
      ]
    },
    {
      "cell_type": "code",
      "metadata": {
        "id": "rg52LTBOJgox"
      },
      "source": [
        "Ys = []\n",
        "Xs = []\n",
        "\n",
        "keys = ['validate', 'test']\n",
        "\n",
        "for key in keys:\n",
        "    FASTA_PATH = data_filtered[key]['FASTA_prefix']+'sequences.fasta'\n",
        "    EMB_PATH = data_filtered[key]['embeddings']\n",
        "    for header, _seq in esm.data.read_fasta(FASTA_PATH):\n",
        "        temperature_label = header.split('|')[-1]\n",
        "        Ys.append(int(temperature_label))\n",
        "        file_name = header.split('|')[0][1:]\n",
        "        fn = f'{EMB_PATH}/{file_name}.pt'\n",
        "        embs = torch.load(fn)\n",
        "        Xs.append(embs['mean_representations'][EMB_LAYER])\n",
        "\n",
        "Xs = torch.stack(Xs, dim=0).numpy()\n"
      ],
      "execution_count": null,
      "outputs": []
    },
    {
      "cell_type": "markdown",
      "metadata": {
        "id": "ZqNvOT1wKiKv"
      },
      "source": [
        "Testing the parsing."
      ]
    },
    {
      "cell_type": "code",
      "metadata": {
        "colab": {
          "base_uri": "https://localhost:8080/"
        },
        "id": "si3g-gdHzRP7",
        "outputId": "70e4b7e7-c82a-4e90-d402-b4a3b585b643"
      },
      "source": [
        "print(len(Ys))\n",
        "print(Xs.shape)"
      ],
      "execution_count": null,
      "outputs": [
        {
          "output_type": "stream",
          "name": "stdout",
          "text": [
            "1264\n",
            "(1264, 1280)\n"
          ]
        }
      ]
    },
    {
      "cell_type": "code",
      "metadata": {
        "id": "xfYA1YmFm1Tn"
      },
      "source": [
        "pca = PCA(60)\n",
        "Xs_train_pca = pca.fit_transform(Xs)"
      ],
      "execution_count": null,
      "outputs": []
    },
    {
      "cell_type": "code",
      "metadata": {
        "id": "9xOXDYgCm6K-"
      },
      "source": [
        "fig_dims = (7, 6)\n",
        "fig, ax = plt.subplots(figsize=fig_dims)\n",
        "sc = ax.scatter(Xs_train_pca[:,0], Xs_train_pca[:,1], c=Ys, marker='.')\n",
        "ax.set_xlabel('PCA first principal component')\n",
        "ax.set_ylabel('PCA second principal component')\n",
        "plt.colorbar(sc, label='Variant Effect', ticks=numpy.linspace(37, 80, 2))\n",
        "plt.savefig('validation_and_testing_sequences_visualisation_matplotlib.png')"
      ],
      "execution_count": null,
      "outputs": []
    },
    {
      "cell_type": "code",
      "metadata": {
        "id": "zGW-b6QdrACY",
        "colab": {
          "base_uri": "https://localhost:8080/"
        },
        "outputId": "b0a38a91-0686-4c5f-cfc5-6e4fdc7aa7d0"
      },
      "source": [
        "Xs_torch_validate = torch.from_numpy(Xs)\n",
        "\n",
        "embedding = pymde.preserve_neighbors(Xs_torch_validate).embed(verbose=True)"
      ],
      "execution_count": null,
      "outputs": [
        {
          "output_type": "stream",
          "name": "stdout",
          "text": [
            "Nov 24 04:38:45 AM: Fitting a centered embedding into R^2, for a graph with 1079 items and 8666 edges.\n",
            "Nov 24 04:38:45 AM: `embed` method parameters: eps=1.0e-05, max_iter=300, memory_size=10\n",
            "Nov 24 04:38:45 AM: iteration 000 | distortion 1.442911 | residual norm 7.53011 | step length 0.0107889 | percent change 0.174885\n",
            "Nov 24 04:38:45 AM: iteration 030 | distortion 0.230945 | residual norm 0.00364484 | step length 1 | percent change 1.61362\n",
            "Nov 24 04:38:45 AM: iteration 060 | distortion 0.212735 | residual norm 0.0016108 | step length 1 | percent change 0.519119\n",
            "Nov 24 04:38:46 AM: iteration 090 | distortion 0.205151 | residual norm 0.00107397 | step length 1 | percent change 0.680107\n",
            "Nov 24 04:38:46 AM: iteration 120 | distortion 0.201872 | residual norm 0.000999554 | step length 1 | percent change 0.622068\n",
            "Nov 24 04:38:46 AM: iteration 150 | distortion 0.200445 | residual norm 0.000800306 | step length 1 | percent change 0.538189\n",
            "Nov 24 04:38:46 AM: iteration 180 | distortion 0.199668 | residual norm 0.00069789 | step length 1 | percent change 0.25329\n",
            "Nov 24 04:38:46 AM: iteration 210 | distortion 0.199203 | residual norm 0.000525742 | step length 1 | percent change 0.067717\n",
            "Nov 24 04:38:46 AM: iteration 240 | distortion 0.198618 | residual norm 0.000440799 | step length 1 | percent change 0.0558353\n",
            "Nov 24 04:38:46 AM: iteration 270 | distortion 0.198538 | residual norm 0.000307021 | step length 1 | percent change 0.109621\n",
            "Nov 24 04:38:46 AM: iteration 299 | distortion 0.198412 | residual norm 0.00036929 | step length 1 | percent change 0.122523\n",
            "Nov 24 04:38:46 AM: Finished fitting in 1.129 seconds and 300 iterations.\n",
            "Nov 24 04:38:46 AM: average distortion 0.198 | residual norm 3.7e-04\n"
          ]
        }
      ]
    },
    {
      "cell_type": "code",
      "metadata": {
        "id": "6S0YluhzsBf3"
      },
      "source": [
        "pymde.plot(embedding, color_by=Ys, savepath='validation_and_testing_sequences_visualisation_PyMDE.png', figsize_inches=(8.8, 8.0))"
      ],
      "execution_count": null,
      "outputs": []
    },
    {
      "cell_type": "markdown",
      "metadata": {
        "id": "tsZ9CMA71Mmb"
      },
      "source": [
        "-------------------------------------------"
      ]
    },
    {
      "cell_type": "markdown",
      "metadata": {
        "id": "ch6ykmv2uZu_"
      },
      "source": [
        "## Perceptron\n",
        "\n",
        "Based on: \n",
        "\n",
        "https://machinelearningmastery.com/implement-perceptron-algorithm-scratch-python/"
      ]
    },
    {
      "cell_type": "markdown",
      "metadata": {
        "id": "E43BcyE6QPcq"
      },
      "source": [
        "### Preparing data "
      ]
    },
    {
      "cell_type": "code",
      "metadata": {
        "id": "fs_baQlWP-79"
      },
      "source": [
        "EMB_LAYER = 33\n",
        "\n",
        "Ys_train = []\n",
        "Xs_train = []\n",
        "\n",
        "keys = ['train']\n",
        "\n",
        "for key in keys:\n",
        "    FASTA_PATH = 'data/FASTA/filtered_training_sample_sequences.fasta'\n",
        "    EMB_PATH = data_filtered[key]['embeddings']\n",
        "    for header, _seq in esm.data.read_fasta(FASTA_PATH):\n",
        "        temperature_label = header.split('|')[-1]\n",
        "        Ys_train.append(int(temperature_label))\n",
        "        file_name = header.split('|')[0][1:]\n",
        "        fn = f'{EMB_PATH}/{file_name}.pt'\n",
        "        embs = torch.load(fn)\n",
        "        Xs_train.append(embs['mean_representations'][EMB_LAYER])\n",
        "\n",
        "Xs_train = torch.stack(Xs_train, dim=0).numpy()\n",
        "\n",
        "Xs_torch_train = None\n",
        "\n",
        "Xs_torch_train = torch.from_numpy(Xs_train)\n"
      ],
      "execution_count": null,
      "outputs": []
    },
    {
      "cell_type": "code",
      "metadata": {
        "colab": {
          "base_uri": "https://localhost:8080/"
        },
        "id": "QkFsnePxuBf6",
        "outputId": "a4c61416-1c69-45e3-8ad2-6a25ddfc78d6"
      },
      "source": [
        "embedding_train = pymde.preserve_neighbors(Xs_torch_train).embed(verbose=True)"
      ],
      "execution_count": null,
      "outputs": [
        {
          "output_type": "stream",
          "name": "stdout",
          "text": [
            "Dec 04 01:53:31 PM: Fitting a centered embedding into R^2, for a graph with 1264 items and 12112 edges.\n",
            "Dec 04 01:53:31 PM: `embed` method parameters: eps=1.0e-05, max_iter=300, memory_size=10\n",
            "Dec 04 01:53:31 PM: iteration 000 | distortion 0.620555 | residual norm 0.363411 | step length 0.184278 | percent change 0.133193\n",
            "Dec 04 01:53:32 PM: iteration 030 | distortion 0.209440 | residual norm 0.00197105 | step length 1 | percent change 1.16701\n",
            "Dec 04 01:53:32 PM: iteration 060 | distortion 0.203690 | residual norm 0.00112998 | step length 1 | percent change 0.380244\n",
            "Dec 04 01:53:32 PM: iteration 090 | distortion 0.202464 | residual norm 0.000572271 | step length 1 | percent change 0.289055\n",
            "Dec 04 01:53:32 PM: iteration 120 | distortion 0.202139 | residual norm 0.000258306 | step length 1 | percent change 0.0931606\n",
            "Dec 04 01:53:32 PM: iteration 150 | distortion 0.202034 | residual norm 0.000382103 | step length 1 | percent change 0.680357\n",
            "Dec 04 01:53:32 PM: iteration 180 | distortion 0.201850 | residual norm 0.000242356 | step length 1 | percent change 0.0774576\n",
            "Dec 04 01:53:32 PM: iteration 210 | distortion 0.201686 | residual norm 0.000418396 | step length 1 | percent change 0.133077\n",
            "Dec 04 01:53:32 PM: iteration 240 | distortion 0.201508 | residual norm 0.000321515 | step length 1 | percent change 0.250877\n",
            "Dec 04 01:53:32 PM: iteration 270 | distortion 0.201371 | residual norm 0.000299431 | step length 1 | percent change 0.15337\n",
            "Dec 04 01:53:32 PM: iteration 299 | distortion 0.201288 | residual norm 0.000213731 | step length 1 | percent change 0.258588\n",
            "Dec 04 01:53:32 PM: Finished fitting in 1.212 seconds and 300 iterations.\n",
            "Dec 04 01:53:32 PM: average distortion 0.201 | residual norm 2.1e-04\n"
          ]
        }
      ]
    },
    {
      "cell_type": "code",
      "metadata": {
        "id": "3xzRaqfxudJm"
      },
      "source": [
        "# Preparing labels' data for training.\n",
        "Ys_array_train = numpy.asarray(Ys_train)\n",
        "Ys_array_train = Ys_array_train.astype('float32')\n",
        "Ys_torch_train = torch.from_numpy(Ys_array_train)"
      ],
      "execution_count": null,
      "outputs": []
    },
    {
      "cell_type": "code",
      "metadata": {
        "colab": {
          "base_uri": "https://localhost:8080/"
        },
        "id": "MMDTMcUtug7P",
        "outputId": "4cfb3e64-4fde-4e90-cf6d-34e8a76c0295"
      },
      "source": [
        "print(Xs_torch_train.shape)\n",
        "print(Ys_torch_train.shape)\n",
        "print(Ys_torch_train.size())"
      ],
      "execution_count": null,
      "outputs": [
        {
          "output_type": "stream",
          "name": "stdout",
          "text": [
            "torch.Size([1264, 1280])\n",
            "torch.Size([1264])\n",
            "torch.Size([1264])\n"
          ]
        }
      ]
    },
    {
      "cell_type": "code",
      "metadata": {
        "colab": {
          "base_uri": "https://localhost:8080/"
        },
        "id": "nRz5ZM8kPp2X",
        "outputId": "48de18ce-3ac0-4c9f-e773-b550405f9a7d"
      },
      "source": [
        "Ys_validate = []\n",
        "Xs_validate = []\n",
        "\n",
        "keys = ['validate']\n",
        "\n",
        "for key in keys:\n",
        "    FASTA_PATH = data_filtered[key]['FASTA_prefix']+'sequences.fasta'\n",
        "    EMB_PATH = data_filtered[key]['embeddings']\n",
        "    for header, _seq in esm.data.read_fasta(FASTA_PATH):\n",
        "        temperature_label = header.split('|')[-1]\n",
        "        Ys_validate.append(int(temperature_label))\n",
        "        file_name = header.split('|')[0][1:]\n",
        "        fn = f'{EMB_PATH}/{file_name}.pt'\n",
        "        embs = torch.load(fn)\n",
        "        Xs_validate.append(embs['mean_representations'][EMB_LAYER])\n",
        "\n",
        "Xs_validate = torch.stack(Xs_validate, dim=0).numpy()\n",
        "\n",
        "Xs_torch_validate = torch.from_numpy(Xs_validate)\n",
        "\n",
        "embedding = pymde.preserve_neighbors(Xs_torch_validate).embed(verbose=True)"
      ],
      "execution_count": null,
      "outputs": [
        {
          "output_type": "stream",
          "name": "stdout",
          "text": [
            "Dec 05 06:02:19 AM: Fitting a centered embedding into R^2, for a graph with 1079 items and 8654 edges.\n",
            "Dec 05 06:02:19 AM: `embed` method parameters: eps=1.0e-05, max_iter=300, memory_size=10\n",
            "Dec 05 06:02:19 AM: iteration 000 | distortion 1.450393 | residual norm 21.1339 | step length 0.00873675 | percent change 0.397469\n",
            "Dec 05 06:02:19 AM: iteration 030 | distortion 0.236518 | residual norm 0.00389965 | step length 1 | percent change 2.51759\n",
            "Dec 05 06:02:19 AM: iteration 060 | distortion 0.210114 | residual norm 0.00258052 | step length 1 | percent change 0.939943\n",
            "Dec 05 06:02:19 AM: iteration 090 | distortion 0.201626 | residual norm 0.00109585 | step length 1 | percent change 0.669384\n",
            "Dec 05 06:02:20 AM: iteration 120 | distortion 0.198683 | residual norm 0.00102314 | step length 1 | percent change 0.543423\n",
            "Dec 05 06:02:20 AM: iteration 150 | distortion 0.197381 | residual norm 0.000749343 | step length 1 | percent change 0.0892129\n",
            "Dec 05 06:02:20 AM: iteration 180 | distortion 0.197094 | residual norm 0.000368473 | step length 1 | percent change 0.092174\n",
            "Dec 05 06:02:20 AM: iteration 210 | distortion 0.196981 | residual norm 0.000275426 | step length 1 | percent change 0.0767804\n",
            "Dec 05 06:02:20 AM: iteration 240 | distortion 0.196898 | residual norm 0.000379082 | step length 1 | percent change 0.233759\n",
            "Dec 05 06:02:20 AM: iteration 270 | distortion 0.196722 | residual norm 0.000458086 | step length 1 | percent change 0.300022\n",
            "Dec 05 06:02:20 AM: iteration 299 | distortion 0.196511 | residual norm 0.000484548 | step length 1 | percent change 0.295245\n",
            "Dec 05 06:02:20 AM: Finished fitting in 1.236 seconds and 300 iterations.\n",
            "Dec 05 06:02:20 AM: average distortion 0.197 | residual norm 4.8e-04\n"
          ]
        }
      ]
    },
    {
      "cell_type": "code",
      "metadata": {
        "id": "maqeBewnjV3_"
      },
      "source": [
        "# Preparing labels' data for validation.\n",
        "Ys_array_validate = numpy.asarray(Ys_validate)\n",
        "Ys_torch_validate = torch.from_numpy(Ys_array_validate)"
      ],
      "execution_count": null,
      "outputs": []
    },
    {
      "cell_type": "markdown",
      "metadata": {
        "id": "b6CfBqthb4lD"
      },
      "source": [
        "### Saving training and validation data to NPZ files"
      ]
    },
    {
      "cell_type": "code",
      "metadata": {
        "id": "wW6IhQEvFEqx"
      },
      "source": [
        "names = ['x_train', 'y_train', 'x_validate', 'y_validate']\n",
        "data = [Xs_torch_train, Ys_torch_train, Xs_torch_validate, Ys_torch_validate]\n",
        "numpy.savez('training_and_validation_embeddings.npz', **{name:value for name,value in zip(names,data)})"
      ],
      "execution_count": null,
      "outputs": []
    },
    {
      "cell_type": "markdown",
      "metadata": {
        "id": "X9vb6A6BQaNR"
      },
      "source": [
        "### Defining functions"
      ]
    },
    {
      "cell_type": "markdown",
      "metadata": {
        "id": "yyEbLsaK1n1p"
      },
      "source": [
        "The weights and biases need to be initialized for the model. There are as many weights as dimensions in the input (embedding).\n",
        "\n",
        "We will initialize weights with random numbers from -0.5 to 0.5."
      ]
    },
    {
      "cell_type": "code",
      "metadata": {
        "id": "n1N9n7G23KAw"
      },
      "source": [
        "import random\n",
        "\n",
        "def get_initialized_weights(X):\n",
        "    number_of_weights = len(X[0])\n",
        "    weights = []\n",
        "    for i in range(number_of_weights):\n",
        "        weights.append(random.uniform(-0.5, 0.5))\n",
        "    return weights\n",
        "\n",
        "def activation(X, weights, bias):\n",
        "    activation = bias\n",
        "    for i in range(len(X)):\n",
        "        activation += weights[i] * X[i]\n",
        "    return activation\n",
        "\n",
        "def predict(X, weights, bias):\n",
        "    activ = activation(X, weights, bias)\n",
        "    return 80 if(activ > 0) else 37\n",
        "\n",
        "# Function to train network weights using a stochastic gradient descent.\n",
        "def train_weights(Xs, Ys, weights, bias, learning_rate, number_of_epochs):\n",
        "    for i in range(number_of_epochs):\n",
        "        sum_error = 0.0\n",
        "        for j in range(len(Xs)):\n",
        "            prediction = predict(Xs[i], weights, bias)\n",
        "            error = Ys[i] - prediction\n",
        "            sum_error += error**2\n",
        "            bias = bias + learning_rate * error\n",
        "            for k in range(len(weights)):\n",
        "                weights[j] = weights[j] + learning_rate * error * Xs[j][k]\n",
        "        print('>epoch=%d, learning_rate=%.3f, error=%.3f' % (i, learning_rate, sum_error))\n",
        "    return [weights, bias]\n",
        "\n",
        "def get_accuracy(predictions, Ys):\n",
        "    match_sum = 0\n",
        "    for i in range(len(predictions)):\n",
        "        if(predictions[i] == Ys[i].item()):\n",
        "            match_sum += 1\n",
        "    return (match_sum/len(predictions))*100\n",
        "\n",
        "def get_predictions(Xs, weights, bias):\n",
        "    predictions = []\n",
        "    for i in range(len(Xs)):\n",
        "        predictions.append(predict(Xs[i], weights, bias))\n",
        "    return predictions"
      ],
      "execution_count": null,
      "outputs": []
    },
    {
      "cell_type": "markdown",
      "metadata": {
        "id": "Bm3HtLIM9aHT"
      },
      "source": [
        "### Checking prediction accuracy of an untrained perceptron."
      ]
    },
    {
      "cell_type": "code",
      "metadata": {
        "colab": {
          "base_uri": "https://localhost:8080/"
        },
        "id": "6MEpfPOb7oxY",
        "outputId": "2084c588-3d0d-4816-8cb1-48bf8f0495e5"
      },
      "source": [
        "random.seed(1)\n",
        "\n",
        "weights = get_initialized_weights(Xs_torch_train)\n",
        "bias = -0.1\n",
        "\n",
        "match_sum = 0\n",
        "for i in range(len(Xs_torch_train)):\n",
        "    if(predict(Xs_torch_train[i], weights, bias) == Ys_torch_train[i].item()):\n",
        "        match_sum += 1\n",
        "\n",
        "# Accuracy\n",
        "print('Accuracy with randomly initialized weights:', match_sum/len(Xs_torch_train))"
      ],
      "execution_count": null,
      "outputs": [
        {
          "output_type": "stream",
          "name": "stdout",
          "text": [
            "Accuracy with randomly initialized weights: 0.5941455696202531\n"
          ]
        }
      ]
    },
    {
      "cell_type": "markdown",
      "metadata": {
        "id": "DPJKO8nOQhMA"
      },
      "source": [
        "### Training "
      ]
    },
    {
      "cell_type": "code",
      "metadata": {
        "colab": {
          "base_uri": "https://localhost:8080/"
        },
        "id": "TpzLHd7-Bm0F",
        "outputId": "7d071ea0-f46e-4d7d-d051-bf4454a608e0"
      },
      "source": [
        "learning_rate = 0.1\n",
        "number_of_epochs = 5\n",
        "[weights, bias] = train_weights(Xs_torch_train, Ys_torch_train, weights, bias, learning_rate, number_of_epochs)"
      ],
      "execution_count": null,
      "outputs": [
        {
          "output_type": "stream",
          "name": "stdout",
          "text": [
            ">epoch=0, learning_rate=0.100, error=59168.000\n",
            ">epoch=1, learning_rate=0.100, error=0.000\n",
            ">epoch=2, learning_rate=0.100, error=281048.000\n",
            ">epoch=3, learning_rate=0.100, error=0.000\n",
            ">epoch=4, learning_rate=0.100, error=0.000\n"
          ]
        }
      ]
    },
    {
      "cell_type": "markdown",
      "metadata": {
        "id": "hPrn4edXGbHZ"
      },
      "source": [
        "### Validating the trained model"
      ]
    },
    {
      "cell_type": "code",
      "metadata": {
        "id": "8yLyb1MJGa0u",
        "colab": {
          "base_uri": "https://localhost:8080/"
        },
        "outputId": "fa46d864-0546-49b8-bfad-6ded494725d4"
      },
      "source": [
        "predictions = get_predictions(Xs_torch_validate, weights, bias)\n",
        "print(get_accuracy(predictions, Ys_torch_validate))"
      ],
      "execution_count": null,
      "outputs": [
        {
          "output_type": "stream",
          "name": "stdout",
          "text": [
            "59.49953660797034\n"
          ]
        }
      ]
    },
    {
      "cell_type": "markdown",
      "metadata": {
        "id": "dtjcuarjoamB"
      },
      "source": [
        "# Perceptron II"
      ]
    },
    {
      "cell_type": "markdown",
      "metadata": {
        "id": "UnWqJ4eTcRPl"
      },
      "source": [
        "Loading data from NPZ file."
      ]
    },
    {
      "cell_type": "code",
      "metadata": {
        "id": "n2YjRdA-Mp7C"
      },
      "source": [
        "with numpy.load('data/NPZ/training_and_validation_embeddings.npz') as data_loaded:\n",
        "  train_examples = data_loaded['x_train']\n",
        "  train_labels = data_loaded['y_train']\n",
        "  validate_examples = data_loaded['x_validate']\n",
        "  validate_labels = data_loaded['y_validate']"
      ],
      "execution_count": 43,
      "outputs": []
    },
    {
      "cell_type": "code",
      "metadata": {
        "id": "yNuiS5txM-kp"
      },
      "source": [
        "x_train_torch = torch.from_numpy(train_examples)\n",
        "y_train_torch = torch.from_numpy(train_labels)\n",
        "x_validate_torch = torch.from_numpy(validate_examples)\n",
        "y_validate_torch = torch.from_numpy(validate_labels)"
      ],
      "execution_count": 44,
      "outputs": []
    },
    {
      "cell_type": "code",
      "source": [
        "NUM_OF_BATCHES = 16\n",
        "\n",
        "residual = len(x_validate_torch) % NUM_OF_BATCHES\n",
        "\n",
        "if(residual != 0):\n",
        "    x_validate_torch = x_validate_torch[0:len(x_validate_torch)-residual]\n",
        "    y_validate_torch = y_validate_torch[0:len(y_validate_torch)-residual]\n",
        "\n",
        "print(len(x_validate_torch))\n",
        "print(len(y_validate_torch))"
      ],
      "metadata": {
        "colab": {
          "base_uri": "https://localhost:8080/"
        },
        "id": "K8cfzhqA7E1q",
        "outputId": "f7753724-2375-4d13-8075-cc441071ef16"
      },
      "execution_count": 46,
      "outputs": [
        {
          "output_type": "stream",
          "name": "stdout",
          "text": [
            "1072\n",
            "1072\n"
          ]
        }
      ]
    },
    {
      "cell_type": "markdown",
      "source": [
        "Adjusting data for a binary classification"
      ],
      "metadata": {
        "id": "6PZrCOuj43bZ"
      }
    },
    {
      "cell_type": "code",
      "source": [
        "for i in range(len(y_train_torch)):\n",
        "    if(y_train_torch[i] == 80):\n",
        "        y_train_torch[i] = 1\n",
        "    elif(y_train_torch[i] == 37):\n",
        "        y_train_torch[i] = 0\n",
        "\n",
        "for i in range(len(y_validate_torch)):\n",
        "    if(y_validate_torch[i] == 80):\n",
        "        y_validate_torch[i] = 1\n",
        "    elif(y_validate_torch[i] == 37):\n",
        "        y_validate_torch[i] = 0"
      ],
      "metadata": {
        "id": "7a3JFtJZsPZ5"
      },
      "execution_count": 47,
      "outputs": []
    },
    {
      "cell_type": "markdown",
      "metadata": {
        "id": "qgKpqO9Y_O7o"
      },
      "source": [
        "Preparing Torch Dataset and DataLoader"
      ]
    },
    {
      "cell_type": "code",
      "metadata": {
        "id": "zxcgAyCO-yM6"
      },
      "source": [
        "import torch\n",
        "from torch.utils.data import Dataset\n",
        "from torch.utils.data import DataLoader\n",
        "import seaborn as sns\n",
        "from torch.utils.data import TensorDataset\n",
        "from torch import nn\n",
        "  \n",
        "train_dataset = TensorDataset(x_train_torch, y_train_torch)  \n",
        "trainloader = DataLoader(train_dataset, batch_size=16, shuffle=True)\n",
        "\n",
        "validate_dataset = TensorDataset(x_validate_torch, y_validate_torch)  \n",
        "validateloader = DataLoader(validate_dataset, batch_size=16, shuffle=True)"
      ],
      "execution_count": 48,
      "outputs": []
    },
    {
      "cell_type": "code",
      "metadata": {
        "colab": {
          "base_uri": "https://localhost:8080/"
        },
        "id": "gYLayBEgd3K5",
        "outputId": "cc3360d5-2273-41e1-ed8d-6ddb402201b2"
      },
      "source": [
        "print(len(trainloader.dataset))\n",
        "print(len(validateloader.dataset))"
      ],
      "execution_count": 49,
      "outputs": [
        {
          "output_type": "stream",
          "name": "stdout",
          "text": [
            "1264\n",
            "1072\n"
          ]
        }
      ]
    },
    {
      "cell_type": "markdown",
      "metadata": {
        "id": "PoLSI954_fcz"
      },
      "source": [
        "Initializing the model"
      ]
    },
    {
      "cell_type": "code",
      "metadata": {
        "id": "C-geyhS4_est"
      },
      "source": [
        "class SLP(nn.Module):\n",
        "    def __init__(self):\n",
        "        super().__init__()\n",
        "        self.layers = nn.Sequential(\n",
        "            nn.Linear(1280, 1),\n",
        "        )\n",
        "\n",
        "    def forward(self, x):\n",
        "        return self.layers(x)"
      ],
      "execution_count": 71,
      "outputs": []
    },
    {
      "cell_type": "code",
      "metadata": {
        "colab": {
          "base_uri": "https://localhost:8080/"
        },
        "id": "uvwEwOENBHjs",
        "outputId": "666c17d1-4f89-48f6-be5d-25ff609a10b1"
      },
      "source": [
        "# Set fixed random number seed\n",
        "torch.manual_seed(42)\n",
        "\n",
        "# Initialize the SLP\n",
        "slp = SLP()\n",
        "\n",
        "# Define the loss function (with activation function) and optimizer\n",
        "loss_function = nn.BCEWithLogitsLoss()\n",
        "optimizer = torch.optim.Adam(slp.parameters(), lr=1e-4)\n",
        "\n",
        "def train_epoch(slp, trainloader, loss_function, optimizer):\n",
        "    # Set current loss value\n",
        "    current_loss = 0.0\n",
        "    \n",
        "    # Iterate over the DataLoader for training data\n",
        "    for i, data in enumerate(trainloader, 0):\n",
        "        # Get inputs\n",
        "        inputs, targets = data\n",
        "        targets = targets.reshape(16, 1)\n",
        "        targets = targets.to(torch.float32)\n",
        "        \n",
        "        # Zero the gradients\n",
        "        optimizer.zero_grad()\n",
        "        \n",
        "        # Perform forward pass\n",
        "        outputs = slp(inputs)\n",
        "        \n",
        "        # Compute loss\n",
        "        loss = loss_function(outputs, targets)\n",
        "        \n",
        "        # Perform backward pass\n",
        "        loss.backward()\n",
        "        \n",
        "        # Perform optimization\n",
        "        optimizer.step()\n",
        "        \n",
        "        # Print statistics\n",
        "        current_loss += loss.item()\n",
        "        if i % 16 == 15:\n",
        "            print('Loss after mini-batch %5d: %.3f' %\n",
        "                  (i + 1, current_loss / 16))\n",
        "            current_loss = 0.0\n",
        "\n",
        "def validation_epoch(slp, validateloader, loss_function):\n",
        "    current_loss = 0.0 \n",
        "\n",
        "     # Iterate over the DataLoader for training data\n",
        "    for i, data in enumerate(validateloader, 0):\n",
        "        # Get inputs\n",
        "        inputs, targets = data\n",
        "        targets = targets.reshape(16, 1)\n",
        "        targets = targets.to(torch.float32)\n",
        "        \n",
        "        # Compute loss\n",
        "        outputs = slp(inputs)\n",
        "        loss = loss_function(outputs, targets)\n",
        "        \n",
        "        # Print statistics\n",
        "        current_loss += loss.item()\n",
        "        if i % 16 == 15:\n",
        "            print('Validation loss after mini-batch %5d: %.3f' %\n",
        "                  (i + 1, current_loss / 16))\n",
        "            current_loss = 0.0\n",
        "        \n",
        "\n",
        "for epoch in range(0, 79):\n",
        "    # Print epoch\n",
        "    print(f'Starting epoch {epoch+1}')\n",
        "    \n",
        "    train_epoch(slp, trainloader, loss_function, optimizer)\n",
        "    validation_epoch(slp, trainloader, loss_function)\n",
        "  \n",
        "print('Training and validation process has finished.')"
      ],
      "execution_count": 74,
      "outputs": [
        {
          "output_type": "stream",
          "name": "stdout",
          "text": [
            "Starting epoch 1\n",
            "Loss after mini-batch    16: 0.661\n",
            "Loss after mini-batch    32: 0.639\n",
            "Loss after mini-batch    48: 0.621\n",
            "Loss after mini-batch    64: 0.596\n",
            "Validation loss after mini-batch    16: 0.580\n",
            "Validation loss after mini-batch    32: 0.577\n",
            "Validation loss after mini-batch    48: 0.565\n",
            "Validation loss after mini-batch    64: 0.581\n",
            "Starting epoch 2\n",
            "Loss after mini-batch    16: 0.576\n",
            "Loss after mini-batch    32: 0.542\n",
            "Loss after mini-batch    48: 0.541\n",
            "Loss after mini-batch    64: 0.526\n",
            "Validation loss after mini-batch    16: 0.501\n",
            "Validation loss after mini-batch    32: 0.494\n",
            "Validation loss after mini-batch    48: 0.505\n",
            "Validation loss after mini-batch    64: 0.500\n",
            "Starting epoch 3\n",
            "Loss after mini-batch    16: 0.490\n",
            "Loss after mini-batch    32: 0.483\n",
            "Loss after mini-batch    48: 0.468\n",
            "Loss after mini-batch    64: 0.460\n",
            "Validation loss after mini-batch    16: 0.441\n",
            "Validation loss after mini-batch    32: 0.444\n",
            "Validation loss after mini-batch    48: 0.448\n",
            "Validation loss after mini-batch    64: 0.428\n",
            "Starting epoch 4\n",
            "Loss after mini-batch    16: 0.427\n",
            "Loss after mini-batch    32: 0.441\n",
            "Loss after mini-batch    48: 0.409\n",
            "Loss after mini-batch    64: 0.407\n",
            "Validation loss after mini-batch    16: 0.387\n",
            "Validation loss after mini-batch    32: 0.417\n",
            "Validation loss after mini-batch    48: 0.383\n",
            "Validation loss after mini-batch    64: 0.385\n",
            "Starting epoch 5\n",
            "Loss after mini-batch    16: 0.399\n",
            "Loss after mini-batch    32: 0.378\n",
            "Loss after mini-batch    48: 0.372\n",
            "Loss after mini-batch    64: 0.351\n",
            "Validation loss after mini-batch    16: 0.361\n",
            "Validation loss after mini-batch    32: 0.348\n",
            "Validation loss after mini-batch    48: 0.355\n",
            "Validation loss after mini-batch    64: 0.358\n",
            "Starting epoch 6\n",
            "Loss after mini-batch    16: 0.344\n",
            "Loss after mini-batch    32: 0.338\n",
            "Loss after mini-batch    48: 0.348\n",
            "Loss after mini-batch    64: 0.341\n",
            "Validation loss after mini-batch    16: 0.313\n",
            "Validation loss after mini-batch    32: 0.306\n",
            "Validation loss after mini-batch    48: 0.340\n",
            "Validation loss after mini-batch    64: 0.324\n",
            "Starting epoch 7\n",
            "Loss after mini-batch    16: 0.323\n",
            "Loss after mini-batch    32: 0.310\n",
            "Loss after mini-batch    48: 0.314\n",
            "Loss after mini-batch    64: 0.299\n",
            "Validation loss after mini-batch    16: 0.299\n",
            "Validation loss after mini-batch    32: 0.306\n",
            "Validation loss after mini-batch    48: 0.291\n",
            "Validation loss after mini-batch    64: 0.294\n",
            "Starting epoch 8\n",
            "Loss after mini-batch    16: 0.304\n",
            "Loss after mini-batch    32: 0.278\n",
            "Loss after mini-batch    48: 0.307\n",
            "Loss after mini-batch    64: 0.263\n",
            "Validation loss after mini-batch    16: 0.277\n",
            "Validation loss after mini-batch    32: 0.265\n",
            "Validation loss after mini-batch    48: 0.263\n",
            "Validation loss after mini-batch    64: 0.272\n",
            "Starting epoch 9\n",
            "Loss after mini-batch    16: 0.268\n",
            "Loss after mini-batch    32: 0.261\n",
            "Loss after mini-batch    48: 0.273\n",
            "Loss after mini-batch    64: 0.253\n",
            "Validation loss after mini-batch    16: 0.265\n",
            "Validation loss after mini-batch    32: 0.264\n",
            "Validation loss after mini-batch    48: 0.258\n",
            "Validation loss after mini-batch    64: 0.257\n",
            "Starting epoch 10\n",
            "Loss after mini-batch    16: 0.256\n",
            "Loss after mini-batch    32: 0.256\n",
            "Loss after mini-batch    48: 0.239\n",
            "Loss after mini-batch    64: 0.235\n",
            "Validation loss after mini-batch    16: 0.216\n",
            "Validation loss after mini-batch    32: 0.248\n",
            "Validation loss after mini-batch    48: 0.239\n",
            "Validation loss after mini-batch    64: 0.250\n",
            "Starting epoch 11\n",
            "Loss after mini-batch    16: 0.238\n",
            "Loss after mini-batch    32: 0.236\n",
            "Loss after mini-batch    48: 0.241\n",
            "Loss after mini-batch    64: 0.231\n",
            "Validation loss after mini-batch    16: 0.226\n",
            "Validation loss after mini-batch    32: 0.207\n",
            "Validation loss after mini-batch    48: 0.222\n",
            "Validation loss after mini-batch    64: 0.244\n",
            "Starting epoch 12\n",
            "Loss after mini-batch    16: 0.223\n",
            "Loss after mini-batch    32: 0.219\n",
            "Loss after mini-batch    48: 0.221\n",
            "Loss after mini-batch    64: 0.211\n",
            "Validation loss after mini-batch    16: 0.200\n",
            "Validation loss after mini-batch    32: 0.214\n",
            "Validation loss after mini-batch    48: 0.209\n",
            "Validation loss after mini-batch    64: 0.225\n",
            "Starting epoch 13\n",
            "Loss after mini-batch    16: 0.184\n",
            "Loss after mini-batch    32: 0.230\n",
            "Loss after mini-batch    48: 0.199\n",
            "Loss after mini-batch    64: 0.201\n",
            "Validation loss after mini-batch    16: 0.205\n",
            "Validation loss after mini-batch    32: 0.200\n",
            "Validation loss after mini-batch    48: 0.219\n",
            "Validation loss after mini-batch    64: 0.189\n",
            "Starting epoch 14\n",
            "Loss after mini-batch    16: 0.202\n",
            "Loss after mini-batch    32: 0.192\n",
            "Loss after mini-batch    48: 0.212\n",
            "Loss after mini-batch    64: 0.184\n",
            "Validation loss after mini-batch    16: 0.203\n",
            "Validation loss after mini-batch    32: 0.179\n",
            "Validation loss after mini-batch    48: 0.189\n",
            "Validation loss after mini-batch    64: 0.194\n",
            "Starting epoch 15\n",
            "Loss after mini-batch    16: 0.216\n",
            "Loss after mini-batch    32: 0.177\n",
            "Loss after mini-batch    48: 0.183\n",
            "Loss after mini-batch    64: 0.182\n",
            "Validation loss after mini-batch    16: 0.169\n",
            "Validation loss after mini-batch    32: 0.185\n",
            "Validation loss after mini-batch    48: 0.194\n",
            "Validation loss after mini-batch    64: 0.176\n",
            "Starting epoch 16\n",
            "Loss after mini-batch    16: 0.162\n",
            "Loss after mini-batch    32: 0.178\n",
            "Loss after mini-batch    48: 0.179\n",
            "Loss after mini-batch    64: 0.184\n",
            "Validation loss after mini-batch    16: 0.163\n",
            "Validation loss after mini-batch    32: 0.183\n",
            "Validation loss after mini-batch    48: 0.172\n",
            "Validation loss after mini-batch    64: 0.180\n",
            "Starting epoch 17\n",
            "Loss after mini-batch    16: 0.175\n",
            "Loss after mini-batch    32: 0.175\n",
            "Loss after mini-batch    48: 0.161\n",
            "Loss after mini-batch    64: 0.178\n",
            "Validation loss after mini-batch    16: 0.162\n",
            "Validation loss after mini-batch    32: 0.175\n",
            "Validation loss after mini-batch    48: 0.157\n",
            "Validation loss after mini-batch    64: 0.160\n",
            "Starting epoch 18\n",
            "Loss after mini-batch    16: 0.158\n",
            "Loss after mini-batch    32: 0.172\n",
            "Loss after mini-batch    48: 0.154\n",
            "Loss after mini-batch    64: 0.161\n",
            "Validation loss after mini-batch    16: 0.153\n",
            "Validation loss after mini-batch    32: 0.170\n",
            "Validation loss after mini-batch    48: 0.165\n",
            "Validation loss after mini-batch    64: 0.181\n",
            "Starting epoch 19\n",
            "Loss after mini-batch    16: 0.168\n",
            "Loss after mini-batch    32: 0.156\n",
            "Loss after mini-batch    48: 0.159\n",
            "Loss after mini-batch    64: 0.153\n",
            "Validation loss after mini-batch    16: 0.150\n",
            "Validation loss after mini-batch    32: 0.155\n",
            "Validation loss after mini-batch    48: 0.162\n",
            "Validation loss after mini-batch    64: 0.137\n",
            "Starting epoch 20\n",
            "Loss after mini-batch    16: 0.165\n",
            "Loss after mini-batch    32: 0.152\n",
            "Loss after mini-batch    48: 0.144\n",
            "Loss after mini-batch    64: 0.152\n",
            "Validation loss after mini-batch    16: 0.157\n",
            "Validation loss after mini-batch    32: 0.162\n",
            "Validation loss after mini-batch    48: 0.143\n",
            "Validation loss after mini-batch    64: 0.150\n",
            "Starting epoch 21\n",
            "Loss after mini-batch    16: 0.151\n",
            "Loss after mini-batch    32: 0.162\n",
            "Loss after mini-batch    48: 0.135\n",
            "Loss after mini-batch    64: 0.138\n",
            "Validation loss after mini-batch    16: 0.139\n",
            "Validation loss after mini-batch    32: 0.155\n",
            "Validation loss after mini-batch    48: 0.147\n",
            "Validation loss after mini-batch    64: 0.143\n",
            "Starting epoch 22\n",
            "Loss after mini-batch    16: 0.135\n",
            "Loss after mini-batch    32: 0.151\n",
            "Loss after mini-batch    48: 0.129\n",
            "Loss after mini-batch    64: 0.144\n",
            "Validation loss after mini-batch    16: 0.143\n",
            "Validation loss after mini-batch    32: 0.127\n",
            "Validation loss after mini-batch    48: 0.148\n",
            "Validation loss after mini-batch    64: 0.134\n",
            "Starting epoch 23\n",
            "Loss after mini-batch    16: 0.124\n",
            "Loss after mini-batch    32: 0.149\n",
            "Loss after mini-batch    48: 0.132\n",
            "Loss after mini-batch    64: 0.137\n",
            "Validation loss after mini-batch    16: 0.149\n",
            "Validation loss after mini-batch    32: 0.122\n",
            "Validation loss after mini-batch    48: 0.122\n",
            "Validation loss after mini-batch    64: 0.147\n",
            "Starting epoch 24\n",
            "Loss after mini-batch    16: 0.142\n",
            "Loss after mini-batch    32: 0.117\n",
            "Loss after mini-batch    48: 0.144\n",
            "Loss after mini-batch    64: 0.128\n",
            "Validation loss after mini-batch    16: 0.133\n",
            "Validation loss after mini-batch    32: 0.125\n",
            "Validation loss after mini-batch    48: 0.131\n",
            "Validation loss after mini-batch    64: 0.119\n",
            "Starting epoch 25\n",
            "Loss after mini-batch    16: 0.118\n",
            "Loss after mini-batch    32: 0.124\n",
            "Loss after mini-batch    48: 0.158\n",
            "Loss after mini-batch    64: 0.124\n",
            "Validation loss after mini-batch    16: 0.118\n",
            "Validation loss after mini-batch    32: 0.117\n",
            "Validation loss after mini-batch    48: 0.117\n",
            "Validation loss after mini-batch    64: 0.139\n",
            "Starting epoch 26\n",
            "Loss after mini-batch    16: 0.119\n",
            "Loss after mini-batch    32: 0.130\n",
            "Loss after mini-batch    48: 0.122\n",
            "Loss after mini-batch    64: 0.126\n",
            "Validation loss after mini-batch    16: 0.133\n",
            "Validation loss after mini-batch    32: 0.117\n",
            "Validation loss after mini-batch    48: 0.140\n",
            "Validation loss after mini-batch    64: 0.113\n",
            "Starting epoch 27\n",
            "Loss after mini-batch    16: 0.133\n",
            "Loss after mini-batch    32: 0.122\n",
            "Loss after mini-batch    48: 0.122\n",
            "Loss after mini-batch    64: 0.123\n",
            "Validation loss after mini-batch    16: 0.120\n",
            "Validation loss after mini-batch    32: 0.122\n",
            "Validation loss after mini-batch    48: 0.121\n",
            "Validation loss after mini-batch    64: 0.117\n",
            "Starting epoch 28\n",
            "Loss after mini-batch    16: 0.138\n",
            "Loss after mini-batch    32: 0.124\n",
            "Loss after mini-batch    48: 0.104\n",
            "Loss after mini-batch    64: 0.126\n",
            "Validation loss after mini-batch    16: 0.130\n",
            "Validation loss after mini-batch    32: 0.121\n",
            "Validation loss after mini-batch    48: 0.110\n",
            "Validation loss after mini-batch    64: 0.106\n",
            "Starting epoch 29\n",
            "Loss after mini-batch    16: 0.111\n",
            "Loss after mini-batch    32: 0.111\n",
            "Loss after mini-batch    48: 0.130\n",
            "Loss after mini-batch    64: 0.121\n",
            "Validation loss after mini-batch    16: 0.120\n",
            "Validation loss after mini-batch    32: 0.100\n",
            "Validation loss after mini-batch    48: 0.125\n",
            "Validation loss after mini-batch    64: 0.114\n",
            "Starting epoch 30\n",
            "Loss after mini-batch    16: 0.099\n",
            "Loss after mini-batch    32: 0.118\n",
            "Loss after mini-batch    48: 0.113\n",
            "Loss after mini-batch    64: 0.109\n",
            "Validation loss after mini-batch    16: 0.106\n",
            "Validation loss after mini-batch    32: 0.131\n",
            "Validation loss after mini-batch    48: 0.098\n",
            "Validation loss after mini-batch    64: 0.119\n",
            "Starting epoch 31\n",
            "Loss after mini-batch    16: 0.099\n",
            "Loss after mini-batch    32: 0.104\n",
            "Loss after mini-batch    48: 0.125\n",
            "Loss after mini-batch    64: 0.109\n",
            "Validation loss after mini-batch    16: 0.101\n",
            "Validation loss after mini-batch    32: 0.122\n",
            "Validation loss after mini-batch    48: 0.093\n",
            "Validation loss after mini-batch    64: 0.122\n",
            "Starting epoch 32\n",
            "Loss after mini-batch    16: 0.104\n",
            "Loss after mini-batch    32: 0.121\n",
            "Loss after mini-batch    48: 0.103\n",
            "Loss after mini-batch    64: 0.107\n",
            "Validation loss after mini-batch    16: 0.089\n",
            "Validation loss after mini-batch    32: 0.116\n",
            "Validation loss after mini-batch    48: 0.117\n",
            "Validation loss after mini-batch    64: 0.127\n",
            "Starting epoch 33\n",
            "Loss after mini-batch    16: 0.105\n",
            "Loss after mini-batch    32: 0.093\n",
            "Loss after mini-batch    48: 0.116\n",
            "Loss after mini-batch    64: 0.101\n",
            "Validation loss after mini-batch    16: 0.103\n",
            "Validation loss after mini-batch    32: 0.109\n",
            "Validation loss after mini-batch    48: 0.093\n",
            "Validation loss after mini-batch    64: 0.113\n",
            "Starting epoch 34\n",
            "Loss after mini-batch    16: 0.101\n",
            "Loss after mini-batch    32: 0.113\n",
            "Loss after mini-batch    48: 0.105\n",
            "Loss after mini-batch    64: 0.092\n",
            "Validation loss after mini-batch    16: 0.096\n",
            "Validation loss after mini-batch    32: 0.096\n",
            "Validation loss after mini-batch    48: 0.106\n",
            "Validation loss after mini-batch    64: 0.108\n",
            "Starting epoch 35\n",
            "Loss after mini-batch    16: 0.116\n",
            "Loss after mini-batch    32: 0.106\n",
            "Loss after mini-batch    48: 0.081\n",
            "Loss after mini-batch    64: 0.096\n",
            "Validation loss after mini-batch    16: 0.095\n",
            "Validation loss after mini-batch    32: 0.113\n",
            "Validation loss after mini-batch    48: 0.110\n",
            "Validation loss after mini-batch    64: 0.075\n",
            "Starting epoch 36\n",
            "Loss after mini-batch    16: 0.118\n",
            "Loss after mini-batch    32: 0.095\n",
            "Loss after mini-batch    48: 0.093\n",
            "Loss after mini-batch    64: 0.090\n",
            "Validation loss after mini-batch    16: 0.101\n",
            "Validation loss after mini-batch    32: 0.094\n",
            "Validation loss after mini-batch    48: 0.100\n",
            "Validation loss after mini-batch    64: 0.095\n",
            "Starting epoch 37\n",
            "Loss after mini-batch    16: 0.077\n",
            "Loss after mini-batch    32: 0.119\n",
            "Loss after mini-batch    48: 0.077\n",
            "Loss after mini-batch    64: 0.113\n",
            "Validation loss after mini-batch    16: 0.110\n",
            "Validation loss after mini-batch    32: 0.096\n",
            "Validation loss after mini-batch    48: 0.091\n",
            "Validation loss after mini-batch    64: 0.098\n",
            "Starting epoch 38\n",
            "Loss after mini-batch    16: 0.087\n",
            "Loss after mini-batch    32: 0.116\n",
            "Loss after mini-batch    48: 0.098\n",
            "Loss after mini-batch    64: 0.089\n",
            "Validation loss after mini-batch    16: 0.115\n",
            "Validation loss after mini-batch    32: 0.089\n",
            "Validation loss after mini-batch    48: 0.092\n",
            "Validation loss after mini-batch    64: 0.086\n",
            "Starting epoch 39\n",
            "Loss after mini-batch    16: 0.085\n",
            "Loss after mini-batch    32: 0.109\n",
            "Loss after mini-batch    48: 0.082\n",
            "Loss after mini-batch    64: 0.091\n",
            "Validation loss after mini-batch    16: 0.102\n",
            "Validation loss after mini-batch    32: 0.080\n",
            "Validation loss after mini-batch    48: 0.088\n",
            "Validation loss after mini-batch    64: 0.089\n",
            "Starting epoch 40\n",
            "Loss after mini-batch    16: 0.099\n",
            "Loss after mini-batch    32: 0.079\n",
            "Loss after mini-batch    48: 0.081\n",
            "Loss after mini-batch    64: 0.107\n",
            "Validation loss after mini-batch    16: 0.101\n",
            "Validation loss after mini-batch    32: 0.094\n",
            "Validation loss after mini-batch    48: 0.065\n",
            "Validation loss after mini-batch    64: 0.108\n",
            "Starting epoch 41\n",
            "Loss after mini-batch    16: 0.082\n",
            "Loss after mini-batch    32: 0.108\n",
            "Loss after mini-batch    48: 0.094\n",
            "Loss after mini-batch    64: 0.083\n",
            "Validation loss after mini-batch    16: 0.095\n",
            "Validation loss after mini-batch    32: 0.100\n",
            "Validation loss after mini-batch    48: 0.081\n",
            "Validation loss after mini-batch    64: 0.100\n",
            "Starting epoch 42\n",
            "Loss after mini-batch    16: 0.083\n",
            "Loss after mini-batch    32: 0.068\n",
            "Loss after mini-batch    48: 0.075\n",
            "Loss after mini-batch    64: 0.102\n",
            "Validation loss after mini-batch    16: 0.090\n",
            "Validation loss after mini-batch    32: 0.082\n",
            "Validation loss after mini-batch    48: 0.090\n",
            "Validation loss after mini-batch    64: 0.095\n",
            "Starting epoch 43\n",
            "Loss after mini-batch    16: 0.097\n",
            "Loss after mini-batch    32: 0.083\n",
            "Loss after mini-batch    48: 0.075\n",
            "Loss after mini-batch    64: 0.089\n",
            "Validation loss after mini-batch    16: 0.088\n",
            "Validation loss after mini-batch    32: 0.083\n",
            "Validation loss after mini-batch    48: 0.087\n",
            "Validation loss after mini-batch    64: 0.097\n",
            "Starting epoch 44\n",
            "Loss after mini-batch    16: 0.102\n",
            "Loss after mini-batch    32: 0.088\n",
            "Loss after mini-batch    48: 0.074\n",
            "Loss after mini-batch    64: 0.087\n",
            "Validation loss after mini-batch    16: 0.075\n",
            "Validation loss after mini-batch    32: 0.088\n",
            "Validation loss after mini-batch    48: 0.083\n",
            "Validation loss after mini-batch    64: 0.082\n",
            "Starting epoch 45\n",
            "Loss after mini-batch    16: 0.098\n",
            "Loss after mini-batch    32: 0.101\n",
            "Loss after mini-batch    48: 0.084\n",
            "Loss after mini-batch    64: 0.067\n",
            "Validation loss after mini-batch    16: 0.083\n",
            "Validation loss after mini-batch    32: 0.066\n",
            "Validation loss after mini-batch    48: 0.077\n",
            "Validation loss after mini-batch    64: 0.090\n",
            "Starting epoch 46\n",
            "Loss after mini-batch    16: 0.076\n",
            "Loss after mini-batch    32: 0.074\n",
            "Loss after mini-batch    48: 0.082\n",
            "Loss after mini-batch    64: 0.094\n",
            "Validation loss after mini-batch    16: 0.070\n",
            "Validation loss after mini-batch    32: 0.094\n",
            "Validation loss after mini-batch    48: 0.081\n",
            "Validation loss after mini-batch    64: 0.078\n",
            "Starting epoch 47\n",
            "Loss after mini-batch    16: 0.079\n",
            "Loss after mini-batch    32: 0.075\n",
            "Loss after mini-batch    48: 0.082\n",
            "Loss after mini-batch    64: 0.083\n",
            "Validation loss after mini-batch    16: 0.074\n",
            "Validation loss after mini-batch    32: 0.081\n",
            "Validation loss after mini-batch    48: 0.079\n",
            "Validation loss after mini-batch    64: 0.081\n",
            "Starting epoch 48\n",
            "Loss after mini-batch    16: 0.081\n",
            "Loss after mini-batch    32: 0.069\n",
            "Loss after mini-batch    48: 0.082\n",
            "Loss after mini-batch    64: 0.078\n",
            "Validation loss after mini-batch    16: 0.087\n",
            "Validation loss after mini-batch    32: 0.087\n",
            "Validation loss after mini-batch    48: 0.083\n",
            "Validation loss after mini-batch    64: 0.082\n",
            "Starting epoch 49\n",
            "Loss after mini-batch    16: 0.065\n",
            "Loss after mini-batch    32: 0.072\n",
            "Loss after mini-batch    48: 0.099\n",
            "Loss after mini-batch    64: 0.077\n",
            "Validation loss after mini-batch    16: 0.070\n",
            "Validation loss after mini-batch    32: 0.079\n",
            "Validation loss after mini-batch    48: 0.085\n",
            "Validation loss after mini-batch    64: 0.073\n",
            "Starting epoch 50\n",
            "Loss after mini-batch    16: 0.082\n",
            "Loss after mini-batch    32: 0.073\n",
            "Loss after mini-batch    48: 0.093\n",
            "Loss after mini-batch    64: 0.069\n",
            "Validation loss after mini-batch    16: 0.094\n",
            "Validation loss after mini-batch    32: 0.069\n",
            "Validation loss after mini-batch    48: 0.088\n",
            "Validation loss after mini-batch    64: 0.071\n",
            "Starting epoch 51\n",
            "Loss after mini-batch    16: 0.085\n",
            "Loss after mini-batch    32: 0.073\n",
            "Loss after mini-batch    48: 0.084\n",
            "Loss after mini-batch    64: 0.070\n",
            "Validation loss after mini-batch    16: 0.072\n",
            "Validation loss after mini-batch    32: 0.073\n",
            "Validation loss after mini-batch    48: 0.087\n",
            "Validation loss after mini-batch    64: 0.067\n",
            "Starting epoch 52\n",
            "Loss after mini-batch    16: 0.074\n",
            "Loss after mini-batch    32: 0.071\n",
            "Loss after mini-batch    48: 0.071\n",
            "Loss after mini-batch    64: 0.089\n",
            "Validation loss after mini-batch    16: 0.071\n",
            "Validation loss after mini-batch    32: 0.089\n",
            "Validation loss after mini-batch    48: 0.065\n",
            "Validation loss after mini-batch    64: 0.077\n",
            "Starting epoch 53\n",
            "Loss after mini-batch    16: 0.078\n",
            "Loss after mini-batch    32: 0.094\n",
            "Loss after mini-batch    48: 0.075\n",
            "Loss after mini-batch    64: 0.070\n",
            "Validation loss after mini-batch    16: 0.068\n",
            "Validation loss after mini-batch    32: 0.079\n",
            "Validation loss after mini-batch    48: 0.078\n",
            "Validation loss after mini-batch    64: 0.079\n",
            "Starting epoch 54\n",
            "Loss after mini-batch    16: 0.069\n",
            "Loss after mini-batch    32: 0.067\n",
            "Loss after mini-batch    48: 0.080\n",
            "Loss after mini-batch    64: 0.083\n",
            "Validation loss after mini-batch    16: 0.073\n",
            "Validation loss after mini-batch    32: 0.069\n",
            "Validation loss after mini-batch    48: 0.086\n",
            "Validation loss after mini-batch    64: 0.067\n",
            "Starting epoch 55\n",
            "Loss after mini-batch    16: 0.068\n",
            "Loss after mini-batch    32: 0.071\n",
            "Loss after mini-batch    48: 0.071\n",
            "Loss after mini-batch    64: 0.076\n",
            "Validation loss after mini-batch    16: 0.094\n",
            "Validation loss after mini-batch    32: 0.059\n",
            "Validation loss after mini-batch    48: 0.087\n",
            "Validation loss after mini-batch    64: 0.066\n",
            "Starting epoch 56\n",
            "Loss after mini-batch    16: 0.069\n",
            "Loss after mini-batch    32: 0.086\n",
            "Loss after mini-batch    48: 0.068\n",
            "Loss after mini-batch    64: 0.076\n",
            "Validation loss after mini-batch    16: 0.064\n",
            "Validation loss after mini-batch    32: 0.086\n",
            "Validation loss after mini-batch    48: 0.079\n",
            "Validation loss after mini-batch    64: 0.074\n",
            "Starting epoch 57\n",
            "Loss after mini-batch    16: 0.053\n",
            "Loss after mini-batch    32: 0.074\n",
            "Loss after mini-batch    48: 0.077\n",
            "Loss after mini-batch    64: 0.078\n",
            "Validation loss after mini-batch    16: 0.063\n",
            "Validation loss after mini-batch    32: 0.071\n",
            "Validation loss after mini-batch    48: 0.081\n",
            "Validation loss after mini-batch    64: 0.076\n",
            "Starting epoch 58\n",
            "Loss after mini-batch    16: 0.056\n",
            "Loss after mini-batch    32: 0.069\n",
            "Loss after mini-batch    48: 0.069\n",
            "Loss after mini-batch    64: 0.067\n",
            "Validation loss after mini-batch    16: 0.071\n",
            "Validation loss after mini-batch    32: 0.069\n",
            "Validation loss after mini-batch    48: 0.079\n",
            "Validation loss after mini-batch    64: 0.067\n",
            "Starting epoch 59\n",
            "Loss after mini-batch    16: 0.066\n",
            "Loss after mini-batch    32: 0.071\n",
            "Loss after mini-batch    48: 0.075\n",
            "Loss after mini-batch    64: 0.071\n",
            "Validation loss after mini-batch    16: 0.057\n",
            "Validation loss after mini-batch    32: 0.062\n",
            "Validation loss after mini-batch    48: 0.074\n",
            "Validation loss after mini-batch    64: 0.091\n",
            "Starting epoch 60\n",
            "Loss after mini-batch    16: 0.074\n",
            "Loss after mini-batch    32: 0.067\n",
            "Loss after mini-batch    48: 0.064\n",
            "Loss after mini-batch    64: 0.080\n",
            "Validation loss after mini-batch    16: 0.067\n",
            "Validation loss after mini-batch    32: 0.083\n",
            "Validation loss after mini-batch    48: 0.061\n",
            "Validation loss after mini-batch    64: 0.066\n",
            "Starting epoch 61\n",
            "Loss after mini-batch    16: 0.067\n",
            "Loss after mini-batch    32: 0.070\n",
            "Loss after mini-batch    48: 0.052\n",
            "Loss after mini-batch    64: 0.072\n",
            "Validation loss after mini-batch    16: 0.088\n",
            "Validation loss after mini-batch    32: 0.056\n",
            "Validation loss after mini-batch    48: 0.062\n",
            "Validation loss after mini-batch    64: 0.071\n",
            "Starting epoch 62\n",
            "Loss after mini-batch    16: 0.064\n",
            "Loss after mini-batch    32: 0.066\n",
            "Loss after mini-batch    48: 0.070\n",
            "Loss after mini-batch    64: 0.078\n",
            "Validation loss after mini-batch    16: 0.070\n",
            "Validation loss after mini-batch    32: 0.076\n",
            "Validation loss after mini-batch    48: 0.061\n",
            "Validation loss after mini-batch    64: 0.058\n",
            "Starting epoch 63\n",
            "Loss after mini-batch    16: 0.051\n",
            "Loss after mini-batch    32: 0.065\n",
            "Loss after mini-batch    48: 0.061\n",
            "Loss after mini-batch    64: 0.075\n",
            "Validation loss after mini-batch    16: 0.056\n",
            "Validation loss after mini-batch    32: 0.058\n",
            "Validation loss after mini-batch    48: 0.066\n",
            "Validation loss after mini-batch    64: 0.071\n",
            "Starting epoch 64\n",
            "Loss after mini-batch    16: 0.061\n",
            "Loss after mini-batch    32: 0.060\n",
            "Loss after mini-batch    48: 0.053\n",
            "Loss after mini-batch    64: 0.066\n",
            "Validation loss after mini-batch    16: 0.055\n",
            "Validation loss after mini-batch    32: 0.059\n",
            "Validation loss after mini-batch    48: 0.081\n",
            "Validation loss after mini-batch    64: 0.066\n",
            "Starting epoch 65\n",
            "Loss after mini-batch    16: 0.050\n",
            "Loss after mini-batch    32: 0.062\n",
            "Loss after mini-batch    48: 0.068\n",
            "Loss after mini-batch    64: 0.090\n",
            "Validation loss after mini-batch    16: 0.057\n",
            "Validation loss after mini-batch    32: 0.058\n",
            "Validation loss after mini-batch    48: 0.078\n",
            "Validation loss after mini-batch    64: 0.061\n",
            "Starting epoch 66\n",
            "Loss after mini-batch    16: 0.055\n",
            "Loss after mini-batch    32: 0.054\n",
            "Loss after mini-batch    48: 0.073\n",
            "Loss after mini-batch    64: 0.078\n",
            "Validation loss after mini-batch    16: 0.075\n",
            "Validation loss after mini-batch    32: 0.066\n",
            "Validation loss after mini-batch    48: 0.063\n",
            "Validation loss after mini-batch    64: 0.072\n",
            "Starting epoch 67\n",
            "Loss after mini-batch    16: 0.048\n",
            "Loss after mini-batch    32: 0.083\n",
            "Loss after mini-batch    48: 0.061\n",
            "Loss after mini-batch    64: 0.082\n",
            "Validation loss after mini-batch    16: 0.071\n",
            "Validation loss after mini-batch    32: 0.056\n",
            "Validation loss after mini-batch    48: 0.070\n",
            "Validation loss after mini-batch    64: 0.054\n",
            "Starting epoch 68\n",
            "Loss after mini-batch    16: 0.076\n",
            "Loss after mini-batch    32: 0.057\n",
            "Loss after mini-batch    48: 0.061\n",
            "Loss after mini-batch    64: 0.045\n",
            "Validation loss after mini-batch    16: 0.049\n",
            "Validation loss after mini-batch    32: 0.063\n",
            "Validation loss after mini-batch    48: 0.051\n",
            "Validation loss after mini-batch    64: 0.080\n",
            "Starting epoch 69\n",
            "Loss after mini-batch    16: 0.083\n",
            "Loss after mini-batch    32: 0.063\n",
            "Loss after mini-batch    48: 0.047\n",
            "Loss after mini-batch    64: 0.060\n",
            "Validation loss after mini-batch    16: 0.052\n",
            "Validation loss after mini-batch    32: 0.066\n",
            "Validation loss after mini-batch    48: 0.069\n",
            "Validation loss after mini-batch    64: 0.067\n",
            "Starting epoch 70\n",
            "Loss after mini-batch    16: 0.055\n",
            "Loss after mini-batch    32: 0.065\n",
            "Loss after mini-batch    48: 0.055\n",
            "Loss after mini-batch    64: 0.064\n",
            "Validation loss after mini-batch    16: 0.058\n",
            "Validation loss after mini-batch    32: 0.060\n",
            "Validation loss after mini-batch    48: 0.062\n",
            "Validation loss after mini-batch    64: 0.061\n",
            "Starting epoch 71\n",
            "Loss after mini-batch    16: 0.081\n",
            "Loss after mini-batch    32: 0.056\n",
            "Loss after mini-batch    48: 0.051\n",
            "Loss after mini-batch    64: 0.064\n",
            "Validation loss after mini-batch    16: 0.076\n",
            "Validation loss after mini-batch    32: 0.052\n",
            "Validation loss after mini-batch    48: 0.056\n",
            "Validation loss after mini-batch    64: 0.053\n",
            "Starting epoch 72\n",
            "Loss after mini-batch    16: 0.055\n",
            "Loss after mini-batch    32: 0.066\n",
            "Loss after mini-batch    48: 0.066\n",
            "Loss after mini-batch    64: 0.049\n",
            "Validation loss after mini-batch    16: 0.080\n",
            "Validation loss after mini-batch    32: 0.056\n",
            "Validation loss after mini-batch    48: 0.051\n",
            "Validation loss after mini-batch    64: 0.057\n",
            "Starting epoch 73\n",
            "Loss after mini-batch    16: 0.065\n",
            "Loss after mini-batch    32: 0.075\n",
            "Loss after mini-batch    48: 0.054\n",
            "Loss after mini-batch    64: 0.057\n",
            "Validation loss after mini-batch    16: 0.058\n",
            "Validation loss after mini-batch    32: 0.064\n",
            "Validation loss after mini-batch    48: 0.047\n",
            "Validation loss after mini-batch    64: 0.074\n",
            "Starting epoch 74\n",
            "Loss after mini-batch    16: 0.062\n",
            "Loss after mini-batch    32: 0.060\n",
            "Loss after mini-batch    48: 0.071\n",
            "Loss after mini-batch    64: 0.048\n",
            "Validation loss after mini-batch    16: 0.057\n",
            "Validation loss after mini-batch    32: 0.055\n",
            "Validation loss after mini-batch    48: 0.045\n",
            "Validation loss after mini-batch    64: 0.058\n",
            "Starting epoch 75\n",
            "Loss after mini-batch    16: 0.068\n",
            "Loss after mini-batch    32: 0.052\n",
            "Loss after mini-batch    48: 0.060\n",
            "Loss after mini-batch    64: 0.054\n",
            "Validation loss after mini-batch    16: 0.068\n",
            "Validation loss after mini-batch    32: 0.056\n",
            "Validation loss after mini-batch    48: 0.048\n",
            "Validation loss after mini-batch    64: 0.054\n",
            "Starting epoch 76\n",
            "Loss after mini-batch    16: 0.063\n",
            "Loss after mini-batch    32: 0.053\n",
            "Loss after mini-batch    48: 0.050\n",
            "Loss after mini-batch    64: 0.060\n",
            "Validation loss after mini-batch    16: 0.048\n",
            "Validation loss after mini-batch    32: 0.051\n",
            "Validation loss after mini-batch    48: 0.070\n",
            "Validation loss after mini-batch    64: 0.045\n",
            "Starting epoch 77\n",
            "Loss after mini-batch    16: 0.063\n",
            "Loss after mini-batch    32: 0.058\n",
            "Loss after mini-batch    48: 0.065\n",
            "Loss after mini-batch    64: 0.045\n",
            "Validation loss after mini-batch    16: 0.064\n",
            "Validation loss after mini-batch    32: 0.057\n",
            "Validation loss after mini-batch    48: 0.067\n",
            "Validation loss after mini-batch    64: 0.043\n",
            "Starting epoch 78\n",
            "Loss after mini-batch    16: 0.064\n",
            "Loss after mini-batch    32: 0.064\n",
            "Loss after mini-batch    48: 0.056\n",
            "Loss after mini-batch    64: 0.058\n",
            "Validation loss after mini-batch    16: 0.053\n",
            "Validation loss after mini-batch    32: 0.066\n",
            "Validation loss after mini-batch    48: 0.043\n",
            "Validation loss after mini-batch    64: 0.047\n",
            "Starting epoch 79\n",
            "Loss after mini-batch    16: 0.052\n",
            "Loss after mini-batch    32: 0.079\n",
            "Loss after mini-batch    48: 0.047\n",
            "Loss after mini-batch    64: 0.063\n",
            "Validation loss after mini-batch    16: 0.041\n",
            "Validation loss after mini-batch    32: 0.052\n",
            "Validation loss after mini-batch    48: 0.060\n",
            "Validation loss after mini-batch    64: 0.070\n",
            "Training and validation process has finished.\n"
          ]
        }
      ]
    }
  ]
}
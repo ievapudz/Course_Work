{
  "nbformat": 4,
  "nbformat_minor": 0,
  "metadata": {
    "colab": {
      "name": "classificator.ipynb",
      "provenance": [],
      "collapsed_sections": [
        "45TFJZTLykgW",
        "UE4f6R78ykgX",
        "KUZVjOUWykgZ",
        "W73lIrirFMbT",
        "NhwuRL0Eykga",
        "sp9jacV9Q6kL",
        "9boajW5lytuW"
      ]
    },
    "interpreter": {
      "hash": "dcc5f0745bb73c331ddcb9e6e17cfcf1d7c30043bb04caa6bbf9dd8843d7acb0"
    },
    "kernelspec": {
      "display_name": "Python 3.7.4 64-bit ('base': conda)",
      "name": "python3"
    },
    "language_info": {
      "codemirror_mode": {
        "name": "ipython",
        "version": 3
      },
      "file_extension": ".py",
      "mimetype": "text/x-python",
      "name": "python",
      "nbconvert_exporter": "python",
      "pygments_lexer": "ipython3",
      "version": "3.7.4"
    },
    "orig_nbformat": 4
  },
  "cells": [
    {
      "cell_type": "markdown",
      "metadata": {
        "id": "YelAWkSQykgR"
      },
      "source": [
        "# Protein Classificator"
      ]
    },
    {
      "cell_type": "markdown",
      "metadata": {
        "id": "xFETk-0UykgU"
      },
      "source": [
        "## Importing required packages"
      ]
    },
    {
      "cell_type": "code",
      "metadata": {
        "colab": {
          "base_uri": "https://localhost:8080/"
        },
        "id": "HiZQxC_wAMmp",
        "outputId": "1bffc492-bcb5-48fb-96b7-4b6abc746521"
      },
      "source": [
        "!pip3.7 install biopython"
      ],
      "execution_count": 1,
      "outputs": [
        {
          "output_type": "stream",
          "name": "stdout",
          "text": [
            "Collecting biopython\n",
            "  Downloading biopython-1.79-cp37-cp37m-manylinux_2_5_x86_64.manylinux1_x86_64.whl (2.3 MB)\n",
            "\u001b[K     |████████████████████████████████| 2.3 MB 5.1 MB/s \n",
            "\u001b[?25hRequirement already satisfied: numpy in /usr/local/lib/python3.7/dist-packages (from biopython) (1.19.5)\n",
            "Installing collected packages: biopython\n",
            "Successfully installed biopython-1.79\n"
          ]
        }
      ]
    },
    {
      "cell_type": "code",
      "metadata": {
        "colab": {
          "base_uri": "https://localhost:8080/"
        },
        "id": "3Qni2mfUykge",
        "outputId": "3b74dac4-f187-4caf-890b-b961c240f26a"
      },
      "source": [
        " !pip3.7 install fair-esm"
      ],
      "execution_count": 2,
      "outputs": [
        {
          "output_type": "stream",
          "name": "stdout",
          "text": [
            "Collecting fair-esm\n",
            "  Downloading fair_esm-0.4.0-py3-none-any.whl (37 kB)\n",
            "Installing collected packages: fair-esm\n",
            "Successfully installed fair-esm-0.4.0\n"
          ]
        }
      ]
    },
    {
      "cell_type": "code",
      "metadata": {
        "id": "WE6NsiN_ykgV"
      },
      "source": [
        "import matplotlib as mpl\n",
        "import matplotlib.pyplot as plt\n",
        "from matplotlib import colors\n",
        "import numpy\n",
        "\n",
        "from Bio import SeqIO\n",
        "from sklearn.model_selection import train_test_split\n",
        "from sklearn.utils import shuffle\n",
        "from sklearn.decomposition import PCA"
      ],
      "execution_count": 3,
      "outputs": []
    },
    {
      "cell_type": "markdown",
      "metadata": {
        "id": "L1qytLnjUgl1"
      },
      "source": [
        "Command to run to open data files in Google Colab environment."
      ]
    },
    {
      "cell_type": "code",
      "metadata": {
        "colab": {
          "base_uri": "https://localhost:8080/"
        },
        "id": "VJyU4CJ7Ry1J",
        "outputId": "cc4e19f0-1966-4d4a-9e5f-c5e00682dddf"
      },
      "source": [
        "!unzip data.zip"
      ],
      "execution_count": 4,
      "outputs": [
        {
          "output_type": "stream",
          "name": "stdout",
          "text": [
            "Archive:  data.zip\n",
            "   creating: data/\n",
            "  inflating: data/.DS_Store          \n",
            "   creating: data/proteomes/\n",
            "  inflating: data/proteomes/UP000001974_273057.fasta  \n",
            "  inflating: data/proteomes/UP000000625_83333.fasta  \n",
            "   creating: data/FASTA/\n",
            "  inflating: data/FASTA/training_sequences_sample.fasta  \n",
            "  inflating: data/FASTA/filtered_testing_sequences.fasta  \n",
            "  inflating: data/FASTA/.DS_Store    \n",
            "  inflating: data/FASTA/filtered_training_sample_sequences.fasta  \n",
            "  inflating: data/FASTA/testing_sequences.fasta  \n",
            "  inflating: data/FASTA/training_sequences.fasta  \n",
            "  inflating: data/FASTA/validation_sequences.fasta  \n",
            "  inflating: data/FASTA/filtered_validation_sequences.fasta  \n",
            "  inflating: data/FASTA/filtered_training_sequences.fasta  \n",
            "   creating: data/CSV/\n",
            "  inflating: data/CSV/validation_temperature_annotations.csv  \n",
            "  inflating: data/CSV/testing_temperature_annotations.csv  \n",
            "  inflating: data/CSV/training_temperature_annotations.csv  \n",
            "   creating: data/visualisation/\n",
            "  inflating: data/visualisation/validation_and_testing_sequences_visualisation_PyMDE.png  \n",
            "  inflating: data/visualisation/.DS_Store  \n",
            "  inflating: data/visualisation/testing_sequences_visualisation_matplotlib.png  \n",
            "  inflating: data/visualisation/validation_sequences_visualisation_PyMDE.png  \n",
            "  inflating: data/visualisation/training_embeddings_sample_visualisation_matplotlib.png  \n",
            "  inflating: data/visualisation/training_embeddings_sample_visualisation_PyMDE.png  \n",
            "  inflating: data/visualisation/validation_sequences_visualization_MatPlotLib.png  \n",
            "  inflating: data/visualisation/validation_and_testing_sequences_visualisation_matplotlib.png  \n",
            "  inflating: data/visualisation/testing_sequences_visualisation_PyMDE.png  \n",
            "   creating: data/EMB_ESM1b/\n",
            "  inflating: data/EMB_ESM1b/training_embeddings.lst  \n",
            "  inflating: data/EMB_ESM1b/.DS_Store  \n",
            "  inflating: data/EMB_ESM1b/sample_ids.lst  \n",
            "  inflating: data/EMB_ESM1b/training_emb_info  \n",
            "  inflating: data/EMB_ESM1b/validation_emb_info  \n",
            "  inflating: data/EMB_ESM1b/testing_embeddings.lst  \n",
            "  inflating: data/EMB_ESM1b/training_embeddings_sample.lst  \n",
            "  inflating: data/EMB_ESM1b/validation_embeddings.lst  \n"
          ]
        }
      ]
    },
    {
      "cell_type": "markdown",
      "metadata": {
        "id": "45TFJZTLykgW"
      },
      "source": [
        "## Configuration of temperature labels and input files"
      ]
    },
    {
      "cell_type": "code",
      "metadata": {
        "id": "ho9rDAgvykgX"
      },
      "source": [
        "temperature_labels_full = [37, 80]\n",
        "\n",
        "files = ['data/proteomes/UP000000625_83333.fasta', 'data/proteomes/UP000001974_273057.fasta']"
      ],
      "execution_count": 5,
      "outputs": []
    },
    {
      "cell_type": "markdown",
      "metadata": {
        "id": "UE4f6R78ykgX"
      },
      "source": [
        "## Splitting the dataset for training, validation and testing\n",
        "\n",
        "The proportions for splitting were chosen to be 70%, 15% and 15% for training, validation and testing respectively."
      ]
    },
    {
      "cell_type": "code",
      "metadata": {
        "id": "zHfA3icmykgY"
      },
      "source": [
        "# Initialisation of the dataset container\n",
        "data = {\n",
        "    'train': {\n",
        "        'X' : [],\n",
        "        'Y' : [],\n",
        "        'FASTA_prefix': 'data/FASTA/training_',\n",
        "        'CSV_prefix': 'data/CSV/training_',\n",
        "    },\n",
        "    'validate': {\n",
        "        'X' : [],\n",
        "        'Y' : [],\n",
        "        'FASTA_prefix': 'data/FASTA/validation_',\n",
        "        'CSV_prefix': 'data/CSV/validation_'\n",
        "    },\n",
        "    'test': {\n",
        "        'X' : [],\n",
        "        'Y' : [],\n",
        "        'FASTA_prefix': 'data/FASTA/testing_',\n",
        "        'CSV_prefix': 'data/CSV/testing_'\n",
        "    }\n",
        "}\n",
        "\n",
        "# Removing duplicate sequences in the dataset\n",
        "seen = set()\n",
        "\n",
        "for i in range(len(temperature_labels_full)):\n",
        "    records = [] \n",
        "    # Parsing sequences (X dataset) from one dataset \n",
        "    for record in SeqIO.parse(files[i], \"fasta\"):\n",
        "        if record.seq not in seen:\n",
        "            seen.add(record.seq)\n",
        "            records.append(record)\n",
        "\n",
        "    # Creating Y dataset from temperature labels \n",
        "    temperature_labels = [temperature_labels_full[i]] * len(records)\n",
        "\n",
        "    # Spliting the dataset to 70% (training) and 30% (trying)\n",
        "    X_train, X_try, Y_train, Y_try = train_test_split(records, temperature_labels, test_size=0.3, shuffle=True, random_state=1)\n",
        "\n",
        "    # Splitting 30% from the initial set in half for calidation and testing\n",
        "    X_validate, X_test, Y_validate, Y_test = train_test_split(X_try, Y_try, test_size=0.5, shuffle=True, random_state=1)\n",
        "\n",
        "    data['train']['X'] = data['train']['X'] + X_train\n",
        "    data['train']['Y'] = data['train']['Y'] + Y_train\n",
        "    data['validate']['X'] = data['validate']['X'] + X_validate\n",
        "    data['validate']['Y'] = data['validate']['Y'] + Y_validate\n",
        "    data['test']['X'] = data['test']['X'] + X_test\n",
        "    data['test']['Y'] = data['test']['Y'] + Y_test\n",
        "\n",
        "# Shuffling the datasets\n",
        "for element in data.keys():\n",
        "    data[element]['X'], data[element]['Y'] = shuffle(data[element]['X'], data[element]['Y'], random_state=1)\n",
        "\n"
      ],
      "execution_count": 6,
      "outputs": []
    },
    {
      "cell_type": "markdown",
      "metadata": {
        "id": "KUZVjOUWykgZ"
      },
      "source": [
        "## Checking the success of parsing"
      ]
    },
    {
      "cell_type": "code",
      "metadata": {
        "colab": {
          "base_uri": "https://localhost:8080/"
        },
        "id": "oag6UzGoykgZ",
        "outputId": "33122abe-2a78-4b48-8d00-de925e2756e0"
      },
      "source": [
        "print(len(seen))\n",
        "print(len(data['train']['X']))\n",
        "print(len(data['validate']['X']))\n",
        "print(len(data['test']['X']))"
      ],
      "execution_count": null,
      "outputs": [
        {
          "output_type": "stream",
          "name": "stdout",
          "text": [
            "7288\n",
            "5101\n",
            "1093\n",
            "1094\n"
          ]
        }
      ]
    },
    {
      "cell_type": "markdown",
      "metadata": {
        "id": "W73lIrirFMbT"
      },
      "source": [
        "## Checking the maximum length"
      ]
    },
    {
      "cell_type": "code",
      "metadata": {
        "colab": {
          "base_uri": "https://localhost:8080/"
        },
        "id": "KOX6LQI0BRVv",
        "outputId": "db2a670a-ca8e-4e11-c243-07fca2c41608"
      },
      "source": [
        "max_length = 0\n",
        "max_length_seq = None\n",
        "\n",
        "for element in data.keys():\n",
        "    for i in range(len(data[element]['X'])):\n",
        "        if(len(data[element]['X'][i].seq) > max_length):\n",
        "            max_length = len(data[element]['X'][i].seq)\n",
        "            max_length_seq = data[element]['X'][i]\n",
        "\n",
        "print(max_length)\n",
        "print(max_length_seq)"
      ],
      "execution_count": null,
      "outputs": [
        {
          "output_type": "stream",
          "name": "stdout",
          "text": [
            "2358\n",
            "ID: sp|P76347|YEEJ_ECOLI\n",
            "Name: sp|P76347|YEEJ_ECOLI\n",
            "Description: sp|P76347|YEEJ_ECOLI Uncharacterized protein YeeJ OS=Escherichia coli (strain K12) OX=83333 GN=yeeJ PE=3 SV=3\n",
            "Number of features: 0\n",
            "Seq('MATKKRSGEEINDRQILCGMGIKLRRLTAGICLITQLAFPMAAAAQGVVNAATQ...KNL')\n"
          ]
        }
      ]
    },
    {
      "cell_type": "markdown",
      "metadata": {
        "id": "NhwuRL0Eykga"
      },
      "source": [
        "## Creating files "
      ]
    },
    {
      "cell_type": "markdown",
      "metadata": {
        "id": "HU0InoZBykga"
      },
      "source": [
        "`[training|validation|testing]_sequences.fasta`"
      ]
    },
    {
      "cell_type": "code",
      "metadata": {
        "id": "txP8JgWtykgb"
      },
      "source": [
        "# Creating data/FASTA/*_sequences.fasta files\n",
        "\n",
        "for element in data.keys():\n",
        "    file_name = data[element]['FASTA_prefix']+'sequences.fasta'\n",
        "    file_handle = open(file_name, 'w')\n",
        "    for record in data[element]['X']:\n",
        "        file_handle.write('>'+record.name.split('|')[1])\n",
        "        file_handle.write(\"\\n\")\n",
        "        file_handle.write(str(record.seq))\n",
        "        file_handle.write(\"\\n\")\n",
        "    file_handle.close()"
      ],
      "execution_count": null,
      "outputs": []
    },
    {
      "cell_type": "markdown",
      "metadata": {
        "id": "zSXdGqS8ykgb"
      },
      "source": [
        "  `[training|validation|testing]_temperature_annotations.csv`"
      ]
    },
    {
      "cell_type": "code",
      "metadata": {
        "id": "LnrHY7UVykgc"
      },
      "source": [
        "# Creating data/*_temperature_annotations.csv files\n",
        "\n",
        "for element in data.keys():\n",
        "    file_name = data[element]['CSV_prefix']+'temperature_annotations.csv'\n",
        "    file_handle = open(file_name, 'w')\n",
        "    file_handle.write('identifier,label'+\"\\n\")\n",
        "    for i in range(len(data[element]['X'])):\n",
        "        file_handle.write(data[element]['X'][i].name.split('|')[1]+','+str(data[element]['Y'][i]))\n",
        "        file_handle.write(\"\\n\")\n",
        "    file_handle.close()"
      ],
      "execution_count": null,
      "outputs": []
    },
    {
      "cell_type": "markdown",
      "metadata": {
        "id": "Vpls7v68iiyd"
      },
      "source": [
        "## Filtering sequences from initial FASTA files \n",
        "\n",
        "Since the visualisation is not allowed without embedding for each FASTA sequence, it was required to filter all sequences and keep only those that have their embeddings."
      ]
    },
    {
      "cell_type": "code",
      "metadata": {
        "id": "hxKMiUVfsNd0"
      },
      "source": [
        "data_filtered = {\n",
        "    'train': {\n",
        "        'X': [],\n",
        "        'Y': [],\n",
        "        'FASTA_prefix': 'data/FASTA/filtered_training_',\n",
        "        'CSV_prefix': 'data/CSV/filtered_training_',\n",
        "        'embedding_list': './data/EMB_ESM1b/training_embeddings_sample.lst',\n",
        "        'embeddings': 'training_embeddings_sample'\n",
        "    },\n",
        "    'validate': {\n",
        "        'X': [],\n",
        "        'Y': [],\n",
        "        'FASTA_prefix': 'data/FASTA/filtered_validation_',\n",
        "        'CSV_prefix': 'data/CSV/filtered_validation_',\n",
        "        'embedding_list': './data/EMB_ESM1b/validation_embeddings.lst',\n",
        "        'embeddings': '/content/drive/MyDrive/validation_sequences'\n",
        "    },\n",
        "    'test': {\n",
        "        'X' : [],\n",
        "        'Y' : [],\n",
        "        'FASTA_prefix': 'data/FASTA/filtered_testing_',\n",
        "        'CSV_prefix': 'data/CSV/filtered_testing_',\n",
        "        'embedding_list': './data/EMB_ESM1b/testing_embeddings.lst',\n",
        "        'embeddings': '/content/drive/MyDrive/testing_sequences'\n",
        "    }\n",
        "}\n",
        "\n",
        "for element in data.keys():\n",
        "    emb_list_handle = open(data_filtered[element]['embedding_list'], 'r')\n",
        "    emb_list = emb_list_handle.readlines()\n",
        "    emb_list_handle.close()\n",
        "    emb_set = set()\n",
        "    for j in range(len(emb_list)):\n",
        "        emb_set.add(emb_list[j].split('.')[0])\n",
        "    for i in range(len(data[element]['X'])):\n",
        "        if(data[element]['X'][i].id.split('|')[1] in emb_set):\n",
        "            data_filtered[element]['X'].append(data[element]['X'][i])\n",
        "            data_filtered[element]['Y'].append(data[element]['Y'][i])\n"
      ],
      "execution_count": 7,
      "outputs": []
    },
    {
      "cell_type": "markdown",
      "metadata": {
        "id": "e6pz1E02Q6kK"
      },
      "source": [
        "Testing, whether the filtration was successful."
      ]
    },
    {
      "cell_type": "code",
      "metadata": {
        "colab": {
          "base_uri": "https://localhost:8080/"
        },
        "id": "y2x1icbPQ6kK",
        "outputId": "69148661-2b27-40fd-bc6a-30335c00f704"
      },
      "source": [
        "print(len(data_filtered['train']['X']))\n",
        "print(len(data_filtered['validate']['X']))\n",
        "print(len(data_filtered['test']['X']))"
      ],
      "execution_count": 8,
      "outputs": [
        {
          "output_type": "stream",
          "name": "stdout",
          "text": [
            "1264\n",
            "1079\n",
            "1080\n"
          ]
        }
      ]
    },
    {
      "cell_type": "markdown",
      "metadata": {
        "id": "sp9jacV9Q6kL"
      },
      "source": [
        "## Creating filtered FASTA files"
      ]
    },
    {
      "cell_type": "code",
      "metadata": {
        "id": "-Nx5lg2wQ6kL"
      },
      "source": [
        "# Creating data/FASTA/filtered_*_sequences.fasta files\n",
        "\n",
        "for element in data_filtered.keys():\n",
        "    file_name = data_filtered[element]['FASTA_prefix']+'sequences.fasta'\n",
        "    file_handle = open(file_name, 'w')\n",
        "    for i in range(len(data_filtered[element]['X'])):\n",
        "    #for i in range(5):\n",
        "        #file_handle.write('>'+record.name.split('|')[1])\n",
        "        file_handle.write('>'+data_filtered[element]['X'][i].name.split('|')[1]+'|'+str(data_filtered[element]['Y'][i]))\n",
        "        #print('>'+data_filtered[element]['X'][i].name.split('|')[1]+'|'+str(data_filtered[element]['Y'][i]))\n",
        "        file_handle.write(\"\\n\")\n",
        "        file_handle.write(str(record.seq))\n",
        "        file_handle.write(\"\\n\")\n",
        "    file_handle.close()"
      ],
      "execution_count": null,
      "outputs": []
    },
    {
      "cell_type": "markdown",
      "metadata": {
        "id": "BvPzHeRz3VP8"
      },
      "source": [
        "## Visualisation of embeddings"
      ]
    },
    {
      "cell_type": "code",
      "metadata": {
        "colab": {
          "base_uri": "https://localhost:8080/"
        },
        "id": "AgsrP8XIExVc",
        "outputId": "26409148-e76e-449e-e0c4-3f68bed39c90"
      },
      "source": [
        "!pip3.7 install pymde"
      ],
      "execution_count": 9,
      "outputs": [
        {
          "output_type": "stream",
          "name": "stdout",
          "text": [
            "Collecting pymde\n",
            "  Downloading pymde-0.1.13-cp37-cp37m-manylinux2010_x86_64.whl (139 kB)\n",
            "\u001b[K     |████████████████████████████████| 139 kB 5.0 MB/s \n",
            "\u001b[?25hRequirement already satisfied: matplotlib in /usr/local/lib/python3.7/dist-packages (from pymde) (3.2.2)\n",
            "Requirement already satisfied: torch>=1.7.1 in /usr/local/lib/python3.7/dist-packages (from pymde) (1.10.0+cu111)\n",
            "Requirement already satisfied: scipy in /usr/local/lib/python3.7/dist-packages (from pymde) (1.4.1)\n",
            "Requirement already satisfied: requests in /usr/local/lib/python3.7/dist-packages (from pymde) (2.23.0)\n",
            "Requirement already satisfied: numpy>=1.17.5 in /usr/local/lib/python3.7/dist-packages (from pymde) (1.19.5)\n",
            "Collecting pynndescent\n",
            "  Downloading pynndescent-0.5.5.tar.gz (1.1 MB)\n",
            "\u001b[K     |████████████████████████████████| 1.1 MB 34.4 MB/s \n",
            "\u001b[?25hRequirement already satisfied: torchvision>=0.8.2 in /usr/local/lib/python3.7/dist-packages (from pymde) (0.11.1+cu111)\n",
            "Requirement already satisfied: typing-extensions in /usr/local/lib/python3.7/dist-packages (from torch>=1.7.1->pymde) (3.10.0.2)\n",
            "Requirement already satisfied: pillow!=8.3.0,>=5.3.0 in /usr/local/lib/python3.7/dist-packages (from torchvision>=0.8.2->pymde) (7.1.2)\n",
            "Requirement already satisfied: cycler>=0.10 in /usr/local/lib/python3.7/dist-packages (from matplotlib->pymde) (0.11.0)\n",
            "Requirement already satisfied: kiwisolver>=1.0.1 in /usr/local/lib/python3.7/dist-packages (from matplotlib->pymde) (1.3.2)\n",
            "Requirement already satisfied: python-dateutil>=2.1 in /usr/local/lib/python3.7/dist-packages (from matplotlib->pymde) (2.8.2)\n",
            "Requirement already satisfied: pyparsing!=2.0.4,!=2.1.2,!=2.1.6,>=2.0.1 in /usr/local/lib/python3.7/dist-packages (from matplotlib->pymde) (3.0.6)\n",
            "Requirement already satisfied: six>=1.5 in /usr/local/lib/python3.7/dist-packages (from python-dateutil>=2.1->matplotlib->pymde) (1.15.0)\n",
            "Requirement already satisfied: scikit-learn>=0.18 in /usr/local/lib/python3.7/dist-packages (from pynndescent->pymde) (1.0.1)\n",
            "Requirement already satisfied: numba>=0.51.2 in /usr/local/lib/python3.7/dist-packages (from pynndescent->pymde) (0.51.2)\n",
            "Requirement already satisfied: llvmlite>=0.30 in /usr/local/lib/python3.7/dist-packages (from pynndescent->pymde) (0.34.0)\n",
            "Requirement already satisfied: joblib>=0.11 in /usr/local/lib/python3.7/dist-packages (from pynndescent->pymde) (1.1.0)\n",
            "Requirement already satisfied: setuptools in /usr/local/lib/python3.7/dist-packages (from numba>=0.51.2->pynndescent->pymde) (57.4.0)\n",
            "Requirement already satisfied: threadpoolctl>=2.0.0 in /usr/local/lib/python3.7/dist-packages (from scikit-learn>=0.18->pynndescent->pymde) (3.0.0)\n",
            "Requirement already satisfied: chardet<4,>=3.0.2 in /usr/local/lib/python3.7/dist-packages (from requests->pymde) (3.0.4)\n",
            "Requirement already satisfied: urllib3!=1.25.0,!=1.25.1,<1.26,>=1.21.1 in /usr/local/lib/python3.7/dist-packages (from requests->pymde) (1.24.3)\n",
            "Requirement already satisfied: idna<3,>=2.5 in /usr/local/lib/python3.7/dist-packages (from requests->pymde) (2.10)\n",
            "Requirement already satisfied: certifi>=2017.4.17 in /usr/local/lib/python3.7/dist-packages (from requests->pymde) (2021.10.8)\n",
            "Building wheels for collected packages: pynndescent\n",
            "  Building wheel for pynndescent (setup.py) ... \u001b[?25l\u001b[?25hdone\n",
            "  Created wheel for pynndescent: filename=pynndescent-0.5.5-py3-none-any.whl size=52603 sha256=b90d6d966d0fff0a9caae8b3ad28d13780995a40b9f6d3b549dd040b628afac0\n",
            "  Stored in directory: /root/.cache/pip/wheels/af/e9/33/04db1436df0757c42fda8ea6796d7a8586e23c85fac355f476\n",
            "Successfully built pynndescent\n",
            "Installing collected packages: pynndescent, pymde\n",
            "Successfully installed pymde-0.1.13 pynndescent-0.5.5\n"
          ]
        }
      ]
    },
    {
      "cell_type": "code",
      "metadata": {
        "id": "UzV7GoUrjC_5",
        "colab": {
          "base_uri": "https://localhost:8080/"
        },
        "outputId": "33e30295-0313-44f6-e62b-0d6354eb89de"
      },
      "source": [
        "from google.colab import drive\n",
        "drive.mount('/content/drive')"
      ],
      "execution_count": 10,
      "outputs": [
        {
          "output_type": "stream",
          "name": "stdout",
          "text": [
            "Mounted at /content/drive\n"
          ]
        }
      ]
    },
    {
      "cell_type": "code",
      "metadata": {
        "id": "J-zZzKamACQ3",
        "colab": {
          "base_uri": "https://localhost:8080/"
        },
        "outputId": "17acdddf-d049-426e-f7a0-a7840c36be1e"
      },
      "source": [
        "!unzip ./drive/MyDrive/training_embeddings_sample.zip"
      ],
      "execution_count": 11,
      "outputs": [
        {
          "output_type": "stream",
          "name": "stdout",
          "text": [
            "Archive:  ./drive/MyDrive/training_embeddings_sample.zip\n",
            "   creating: training_embeddings_sample/\n",
            "  inflating: training_embeddings_sample/Q7LXV2.pt  \n",
            "  inflating: training_embeddings_sample/Q97WT5.pt  \n",
            "  inflating: training_embeddings_sample/Q97VB4.pt  \n",
            "  inflating: training_embeddings_sample/Q97UY4.pt  \n",
            "  inflating: training_embeddings_sample/Q97ZY7.pt  \n",
            "  inflating: training_embeddings_sample/Q97Y16.pt  \n",
            "  inflating: training_embeddings_sample/Q97Z87.pt  \n",
            "  inflating: training_embeddings_sample/P0ACL9.pt  \n",
            "  inflating: training_embeddings_sample/Q7LXN1.pt  \n",
            "  inflating: training_embeddings_sample/Q97UA7.pt  \n",
            "  inflating: training_embeddings_sample/P0A9H9.pt  \n",
            "  inflating: training_embeddings_sample/Q7LXY1.pt  \n",
            "  inflating: training_embeddings_sample/Q97ZD5.pt  \n",
            "  inflating: training_embeddings_sample/P23481.pt  \n",
            "  inflating: training_embeddings_sample/Q97V70.pt  \n",
            "  inflating: training_embeddings_sample/Q97YD2.pt  \n",
            "  inflating: training_embeddings_sample/Q97X33.pt  \n",
            "  inflating: training_embeddings_sample/Q97W30.pt  \n",
            "  inflating: training_embeddings_sample/Q97UH1.pt  \n",
            "  inflating: training_embeddings_sample/Q97VA0.pt  \n",
            "  inflating: training_embeddings_sample/P77732.pt  \n",
            "  inflating: training_embeddings_sample/P18956.pt  \n",
            "  inflating: training_embeddings_sample/Q97ZZ3.pt  \n",
            "  inflating: training_embeddings_sample/Q97YA3.pt  \n",
            "  inflating: training_embeddings_sample/P39394.pt  \n",
            "  inflating: training_embeddings_sample/Q7LXG7.pt  \n",
            "  inflating: training_embeddings_sample/P77672.pt  \n",
            "  inflating: training_embeddings_sample/Q97WE0.pt  \n",
            "  inflating: training_embeddings_sample/Q97ZG1.pt  \n",
            "  inflating: training_embeddings_sample/Q97XJ0.pt  \n",
            "  inflating: training_embeddings_sample/Q97Y80.pt  \n",
            "  inflating: training_embeddings_sample/Q97YK1.pt  \n",
            "  inflating: training_embeddings_sample/Q97ZB0.pt  \n",
            "  inflating: training_embeddings_sample/P58192.pt  \n",
            "  inflating: training_embeddings_sample/Q97VK2.pt  \n",
            "  inflating: training_embeddings_sample/P95997.pt  \n",
            "  inflating: training_embeddings_sample/Q980P4.pt  \n",
            "  inflating: training_embeddings_sample/P0ADA1.pt  \n",
            "  inflating: training_embeddings_sample/P0AEE1.pt  \n",
            "  inflating: training_embeddings_sample/P0DMC7.pt  \n",
            "  inflating: training_embeddings_sample/P0AEJ2.pt  \n",
            "  inflating: training_embeddings_sample/P33341.pt  \n",
            "  inflating: training_embeddings_sample/P30128.pt  \n",
            "  inflating: training_embeddings_sample/P0C0R7.pt  \n",
            "  inflating: training_embeddings_sample/P76201.pt  \n",
            "  inflating: training_embeddings_sample/P76190.pt  \n",
            "  inflating: training_embeddings_sample/P0AGK4.pt  \n",
            "  inflating: training_embeddings_sample/P0AFJ5.pt  \n",
            "  inflating: training_embeddings_sample/P0AFX4.pt  \n",
            "  inflating: training_embeddings_sample/P76157.pt  \n",
            "  inflating: training_embeddings_sample/P06134.pt  \n",
            "  inflating: training_embeddings_sample/P0AGA6.pt  \n",
            "  inflating: training_embeddings_sample/P0ADH7.pt  \n",
            "  inflating: training_embeddings_sample/P0AGD7.pt  \n",
            "  inflating: training_embeddings_sample/P26459.pt  \n",
            "  inflating: training_embeddings_sample/P46853.pt  \n",
            "  inflating: training_embeddings_sample/P0AEZ7.pt  \n",
            "  inflating: training_embeddings_sample/Q980X2.pt  \n",
            "  inflating: training_embeddings_sample/P21338.pt  \n",
            "  inflating: training_embeddings_sample/Q981A0.pt  \n",
            "  inflating: training_embeddings_sample/P52132.pt  \n",
            "  inflating: training_embeddings_sample/P0AF43.pt  \n",
            "  inflating: training_embeddings_sample/P0ADJ3.pt  \n",
            "  inflating: training_embeddings_sample/P0DN74.pt  \n",
            "  inflating: training_embeddings_sample/P76062.pt  \n",
            "  inflating: training_embeddings_sample/P0ADR0.pt  \n",
            "  inflating: training_embeddings_sample/Q980C5.pt  \n",
            "  inflating: training_embeddings_sample/Q97ZQ1.pt  \n",
            "  inflating: training_embeddings_sample/P31678.pt  \n",
            "  inflating: training_embeddings_sample/P42590.pt  \n",
            "  inflating: training_embeddings_sample/P75897.pt  \n",
            "  inflating: training_embeddings_sample/P05704.pt  \n",
            "  inflating: training_embeddings_sample/Q97ZF1.pt  \n",
            "  inflating: training_embeddings_sample/Q97ZT0.pt  \n",
            "  inflating: training_embeddings_sample/P37325.pt  \n",
            "  inflating: training_embeddings_sample/Q97ZI2.pt  \n",
            "  inflating: training_embeddings_sample/Q97UL0.pt  \n",
            "  inflating: training_embeddings_sample/P12008.pt  \n",
            "  inflating: training_embeddings_sample/Q97WZ6.pt  \n",
            "  inflating: training_embeddings_sample/Q97XZ5.pt  \n",
            "  inflating: training_embeddings_sample/Q97U36.pt  \n",
            "  inflating: training_embeddings_sample/P0DPM8.pt  \n",
            "  inflating: training_embeddings_sample/Q97XM5.pt  \n",
            "  inflating: training_embeddings_sample/P64536.pt  \n",
            "  inflating: training_embeddings_sample/Q97V54.pt  \n",
            "  inflating: training_embeddings_sample/P0ACM9.pt  \n",
            "  inflating: training_embeddings_sample/P0A6F9.pt  \n",
            "  inflating: training_embeddings_sample/Q97XB6.pt  \n",
            "  inflating: training_embeddings_sample/P28304.pt  \n",
            "  inflating: training_embeddings_sample/P77607.pt  \n",
            "  inflating: training_embeddings_sample/P64567.pt  \n",
            "  inflating: training_embeddings_sample/Q97U94.pt  \n",
            "  inflating: training_embeddings_sample/Q97V05.pt  \n",
            "  inflating: training_embeddings_sample/Q97Z97.pt  \n",
            "  inflating: training_embeddings_sample/P75910.pt  \n",
            "  inflating: training_embeddings_sample/P39161.pt  \n",
            "  inflating: training_embeddings_sample/Q7LX62.pt  \n",
            "  inflating: training_embeddings_sample/Q97UH5.pt  \n",
            "  inflating: training_embeddings_sample/Q97VS5.pt  \n",
            "  inflating: training_embeddings_sample/Q97X66.pt  \n",
            "  inflating: training_embeddings_sample/P39390.pt  \n",
            "  inflating: training_embeddings_sample/P32676.pt  \n",
            "  inflating: training_embeddings_sample/Q97Y77.pt  \n",
            "  inflating: training_embeddings_sample/P0A6V8.pt  \n",
            "  inflating: training_embeddings_sample/Q97VD5.pt  \n",
            "  inflating: training_embeddings_sample/Q97VV4.pt  \n",
            "  inflating: training_embeddings_sample/Q97XR7.pt  \n",
            "  inflating: training_embeddings_sample/Q97Y84.pt  \n",
            "  inflating: training_embeddings_sample/P39332.pt  \n",
            "  inflating: training_embeddings_sample/Q97ZU4.pt  \n",
            "  inflating: training_embeddings_sample/Q97Z44.pt  \n",
            "  inflating: training_embeddings_sample/Q47005.pt  \n",
            "  inflating: training_embeddings_sample/P75883.pt  \n",
            "  inflating: training_embeddings_sample/Q97XJ4.pt  \n",
            "  inflating: training_embeddings_sample/Q97W96.pt  \n",
            "  inflating: training_embeddings_sample/Q97W00.pt  \n",
            "  inflating: training_embeddings_sample/Q97XQ3.pt  \n",
            "  inflating: training_embeddings_sample/Q7LXS7.pt  \n",
            "  inflating: training_embeddings_sample/Q97XC2.pt  \n",
            "  inflating: training_embeddings_sample/P75955.pt  \n",
            "  inflating: training_embeddings_sample/Q97VU0.pt  \n",
            "  inflating: training_embeddings_sample/Q97WT1.pt  \n",
            "  inflating: training_embeddings_sample/Q7LX76.pt  \n",
            "  inflating: training_embeddings_sample/Q97ZK2.pt  \n",
            "  inflating: training_embeddings_sample/Q97VB0.pt  \n",
            "  inflating: training_embeddings_sample/P35340.pt  \n",
            "  inflating: training_embeddings_sample/Q97UV3.pt  \n",
            "  inflating: training_embeddings_sample/Q97Z70.pt  \n",
            "  inflating: training_embeddings_sample/Q97TW2.pt  \n",
            "  inflating: training_embeddings_sample/Q97ZS1.pt  \n",
            "  inflating: training_embeddings_sample/Q97Z21.pt  \n",
            "  inflating: training_embeddings_sample/P0AF90.pt  \n",
            "  inflating: training_embeddings_sample/P0AEC0.pt  \n",
            "  inflating: training_embeddings_sample/P30149.pt  \n",
            "  inflating: training_embeddings_sample/Q980K7.pt  \n",
            "  inflating: training_embeddings_sample/P38506.pt  \n",
            "  inflating: training_embeddings_sample/P33371.pt  \n",
            "  inflating: training_embeddings_sample/P0ADV5.pt  \n",
            "  inflating: training_embeddings_sample/P09158.pt  \n",
            "  inflating: training_embeddings_sample/P60651.pt  \n",
            "  inflating: training_embeddings_sample/Q980H3.pt  \n",
            "  inflating: training_embeddings_sample/P45799.pt  \n",
            "  inflating: training_embeddings_sample/Q47538.pt  \n",
            "  inflating: training_embeddings_sample/P25740.pt  \n",
            "  inflating: training_embeddings_sample/P32128.pt  \n",
            "  inflating: training_embeddings_sample/P33355.pt  \n",
            "  inflating: training_embeddings_sample/P96036.pt  \n",
            "  inflating: training_embeddings_sample/Q980F0.pt  \n",
            "  inflating: training_embeddings_sample/P0AGL5.pt  \n",
            "  inflating: training_embeddings_sample/P0AE74.pt  \n",
            "  inflating: training_embeddings_sample/P0AF73.pt  \n",
            "  inflating: training_embeddings_sample/P46857.pt  \n",
            "  inflating: training_embeddings_sample/P19317.pt  \n",
            "  inflating: training_embeddings_sample/Q980R4.pt  \n",
            "  inflating: training_embeddings_sample/P60546.pt  \n",
            "  inflating: training_embeddings_sample/Q980W5.pt  \n",
            "  inflating: training_embeddings_sample/P52076.pt  \n",
            "  inflating: training_embeddings_sample/P0AEB0.pt  \n",
            "  inflating: training_embeddings_sample/P37344.pt  \n",
            "  inflating: training_embeddings_sample/P37195.pt  \n",
            "  inflating: training_embeddings_sample/Q97TV2.pt  \n",
            "  inflating: training_embeddings_sample/Q97VL3.pt  \n",
            "  inflating: training_embeddings_sample/Q97XZ1.pt  \n",
            "  inflating: training_embeddings_sample/Q97Y02.pt  \n",
            "  inflating: training_embeddings_sample/Q97UX0.pt  \n",
            "  inflating: training_embeddings_sample/Q97VC0.pt  \n",
            "  inflating: training_embeddings_sample/Q97U90.pt  \n",
            "  inflating: training_embeddings_sample/Q97UJ1.pt  \n",
            "  inflating: training_embeddings_sample/Q97WU1.pt  \n",
            "  inflating: training_embeddings_sample/Q97XG3.pt  \n",
            "  inflating: training_embeddings_sample/Q97YF2.pt  \n",
            "  inflating: training_embeddings_sample/Q97YT3.pt  \n",
            "  inflating: training_embeddings_sample/Q47083.pt  \n",
            "  inflating: training_embeddings_sample/P75893.pt  \n",
            "  inflating: training_embeddings_sample/P63284.pt  \n",
            "  inflating: training_embeddings_sample/Q7LXI0.pt  \n",
            "  inflating: training_embeddings_sample/Q97WK7.pt  \n",
            "  inflating: training_embeddings_sample/Q97VJ6.pt  \n",
            "  inflating: training_embeddings_sample/Q97UC7.pt  \n",
            "  inflating: training_embeddings_sample/P75982.pt  \n",
            "  inflating: training_embeddings_sample/Q97WS4.pt  \n",
            "  inflating: training_embeddings_sample/Q97WA5.pt  \n",
            "  inflating: training_embeddings_sample/P95970.pt  \n",
            "  inflating: training_embeddings_sample/Q97X27.pt  \n",
            "  inflating: training_embeddings_sample/Q97ZL7.pt  \n",
            "  inflating: training_embeddings_sample/Q97VE5.pt  \n",
            "  inflating: training_embeddings_sample/Q97WV5.pt  \n",
            "  inflating: training_embeddings_sample/Q97WD4.pt  \n",
            "  inflating: training_embeddings_sample/Q97W75.pt  \n",
            "  inflating: training_embeddings_sample/Q97XV6.pt  \n",
            "  inflating: training_embeddings_sample/Q97YR6.pt  \n",
            "  inflating: training_embeddings_sample/P0ACK8.pt  \n",
            "  inflating: training_embeddings_sample/P32677.pt  \n",
            "  inflating: training_embeddings_sample/P64517.pt  \n",
            "  inflating: training_embeddings_sample/Q97YV6.pt  \n",
            "  inflating: training_embeddings_sample/Q97YD7.pt  \n",
            "  inflating: training_embeddings_sample/P75820.pt  \n",
            "  inflating: training_embeddings_sample/P0AB89.pt  \n",
            "  inflating: training_embeddings_sample/Q97WR5.pt  \n",
            "  inflating: training_embeddings_sample/P23873.pt  \n",
            "  inflating: training_embeddings_sample/Q97UP7.pt  \n",
            "  inflating: training_embeddings_sample/Q97ZG4.pt  \n",
            "  inflating: training_embeddings_sample/Q97UU6.pt  \n",
            "  inflating: training_embeddings_sample/Q97WJ6.pt  \n",
            "  inflating: training_embeddings_sample/Q97W97.pt  \n",
            "  inflating: training_embeddings_sample/Q97W01.pt  \n",
            "  inflating: training_embeddings_sample/P64463.pt  \n",
            "  inflating: training_embeddings_sample/P37177.pt  \n",
            "  inflating: training_embeddings_sample/Q97YU2.pt  \n",
            "  inflating: training_embeddings_sample/P75954.pt  \n",
            "  inflating: training_embeddings_sample/Q97WF1.pt  \n",
            "  inflating: training_embeddings_sample/P64432.pt  \n",
            "  inflating: training_embeddings_sample/Q97Y13.pt  \n",
            "  inflating: training_embeddings_sample/P42620.pt  \n",
            "  inflating: training_embeddings_sample/P39187.pt  \n",
            "  inflating: training_embeddings_sample/P37095.pt  \n",
            "  inflating: training_embeddings_sample/P24175.pt  \n",
            "  inflating: training_embeddings_sample/Q97VM2.pt  \n",
            "  inflating: training_embeddings_sample/P64610.pt  \n",
            "  inflating: training_embeddings_sample/Q97YH0.pt  \n",
            "  inflating: training_embeddings_sample/P76261.pt  \n",
            "  inflating: training_embeddings_sample/Q980N7.pt  \n",
            "  inflating: training_embeddings_sample/P33230.pt  \n",
            "  inflating: training_embeddings_sample/P27862.pt  \n",
            "  inflating: training_embeddings_sample/P60664.pt  \n",
            "  inflating: training_embeddings_sample/Q980K6.pt  \n",
            "  inflating: training_embeddings_sample/P52094.pt  \n",
            "  inflating: training_embeddings_sample/P76077.pt  \n",
            "  inflating: training_embeddings_sample/Q980B0.pt  \n",
            "  inflating: training_embeddings_sample/P0ADD5.pt  \n",
            "  inflating: training_embeddings_sample/Q980U0.pt  \n",
            "  inflating: training_embeddings_sample/P0AE34.pt  \n",
            "  inflating: training_embeddings_sample/P0ADK6.pt  \n",
            "  inflating: training_embeddings_sample/P76344.pt  \n",
            "  inflating: training_embeddings_sample/P36561.pt  \n",
            "  inflating: training_embeddings_sample/P62615.pt  \n",
            "  inflating: training_embeddings_sample/Q46907.pt  \n",
            "  inflating: training_embeddings_sample/Q46806.pt  \n",
            "  inflating: training_embeddings_sample/P0AEA5.pt  \n",
            "  inflating: training_embeddings_sample/P17315.pt  \n",
            "  inflating: training_embeddings_sample/Q46832.pt  \n",
            "  inflating: training_embeddings_sample/P76220.pt  \n",
            "  inflating: training_embeddings_sample/P55914.pt  \n",
            "  inflating: training_embeddings_sample/Q980E5.pt  \n",
            "  inflating: training_embeddings_sample/P0AFK0.pt  \n",
            "  inflating: training_embeddings_sample/P76142.pt  \n",
            "  inflating: training_embeddings_sample/Q97YI0.pt  \n",
            "  inflating: training_embeddings_sample/P23857.pt  \n",
            "  inflating: training_embeddings_sample/Q97VI3.pt  \n",
            "  inflating: training_embeddings_sample/P39317.pt  \n",
            "  inflating: training_embeddings_sample/Q7LXX4.pt  \n",
            "  inflating: training_embeddings_sample/P58111.pt  \n",
            "  inflating: training_embeddings_sample/P64562.pt  \n",
            "  inflating: training_embeddings_sample/Q97Z92.pt  \n",
            "  inflating: training_embeddings_sample/Q97XG2.pt  \n",
            "  inflating: training_embeddings_sample/P75855.pt  \n",
            "  inflating: training_embeddings_sample/Q7LX67.pt  \n",
            "  inflating: training_embeddings_sample/P09551.pt  \n",
            "  inflating: training_embeddings_sample/Q97VF0.pt  \n",
            "  inflating: training_embeddings_sample/Q97Y52.pt  \n",
            "  inflating: training_embeddings_sample/P16677.pt  \n",
            "  inflating: training_embeddings_sample/Q97WP1.pt  \n",
            "  inflating: training_embeddings_sample/P42604.pt  \n",
            "  inflating: training_embeddings_sample/P32694.pt  \n",
            "  inflating: training_embeddings_sample/P07604.pt  \n",
            "  inflating: training_embeddings_sample/P27278.pt  \n",
            "  inflating: training_embeddings_sample/Q97ZT5.pt  \n",
            "  inflating: training_embeddings_sample/P64634.pt  \n",
            "  inflating: training_embeddings_sample/Q97UT6.pt  \n",
            "  inflating: training_embeddings_sample/P77554.pt  \n",
            "  inflating: training_embeddings_sample/Q97XN4.pt  \n",
            "  inflating: training_embeddings_sample/Q97ZQ4.pt  \n",
            "  inflating: training_embeddings_sample/Q7LXQ2.pt  \n",
            "  inflating: training_embeddings_sample/Q97X26.pt  \n",
            "  inflating: training_embeddings_sample/P75830.pt  \n",
            "  inflating: training_embeddings_sample/Q97TZ4.pt  \n",
            "  inflating: training_embeddings_sample/P21507.pt  \n",
            "  inflating: training_embeddings_sample/Q7LXT3.pt  \n",
            "  inflating: training_embeddings_sample/Q97XD6.pt  \n",
            "  inflating: training_embeddings_sample/Q7LX53.pt  \n",
            "  inflating: training_embeddings_sample/Q97W74.pt  \n",
            "  inflating: training_embeddings_sample/P28224.pt  \n",
            "  inflating: training_embeddings_sample/Q97YR7.pt  \n",
            "  inflating: training_embeddings_sample/Q97WT4.pt  \n",
            "  inflating: training_embeddings_sample/Q97YP7.pt  \n",
            "  inflating: training_embeddings_sample/Q97Y17.pt  \n",
            "  inflating: training_embeddings_sample/Q97V14.pt  \n",
            "  inflating: training_embeddings_sample/P77616.pt  \n",
            "  inflating: training_embeddings_sample/Q97XQ6.pt  \n",
            "  inflating: training_embeddings_sample/Q97XC7.pt  \n",
            "  inflating: training_embeddings_sample/P0DSE8.pt  \n",
            "  inflating: training_embeddings_sample/P77434.pt  \n",
            "  inflating: training_embeddings_sample/Q9UXF3.pt  \n",
            "  inflating: training_embeddings_sample/Q97UV6.pt  \n",
            "  inflating: training_embeddings_sample/Q97ZV5.pt  \n",
            "  inflating: training_embeddings_sample/Q97VD0.pt  \n",
            "  inflating: training_embeddings_sample/Q97WR1.pt  \n",
            "  inflating: training_embeddings_sample/Q97ZZ2.pt  \n",
            "  inflating: training_embeddings_sample/Q97V20.pt  \n",
            "  inflating: training_embeddings_sample/Q97UH0.pt  \n",
            "  inflating: training_embeddings_sample/Q97UZ1.pt  \n",
            "  inflating: training_embeddings_sample/P37056.pt  \n",
            "  inflating: training_embeddings_sample/Q7LYL5.pt  \n",
            "  inflating: training_embeddings_sample/Q97Z41.pt  \n",
            "  inflating: training_embeddings_sample/P42913.pt  \n",
            "  inflating: training_embeddings_sample/P32680.pt  \n",
            "  inflating: training_embeddings_sample/P52599.pt  \n",
            "  inflating: training_embeddings_sample/P77400.pt  \n",
            "  inflating: training_embeddings_sample/Q97VY2.pt  \n",
            "  inflating: training_embeddings_sample/P23877.pt  \n",
            "  inflating: training_embeddings_sample/Q97YY1.pt  \n",
            "  inflating: training_embeddings_sample/P0AD70.pt  \n",
            "  inflating: training_embeddings_sample/Q980G5.pt  \n",
            "  inflating: training_embeddings_sample/Q980P5.pt  \n",
            "  inflating: training_embeddings_sample/Q2EES1.pt  \n",
            "  inflating: training_embeddings_sample/Q46843.pt  \n",
            "  inflating: training_embeddings_sample/P30178.pt  \n",
            "  inflating: training_embeddings_sample/P76080.pt  \n",
            "  inflating: training_embeddings_sample/P60906.pt  \n",
            "  inflating: training_embeddings_sample/P25745.pt  \n",
            "  inflating: training_embeddings_sample/P0AGB3.pt  \n",
            "  inflating: training_embeddings_sample/Q980Z7.pt  \n",
            "  inflating: training_embeddings_sample/Q981E0.pt  \n",
            "  inflating: training_embeddings_sample/P0AG84.pt  \n",
            "  inflating: training_embeddings_sample/P0ADB4.pt  \n",
            "  inflating: training_embeddings_sample/P25553.pt  \n",
            "  inflating: training_embeddings_sample/P76387.pt  \n",
            "  inflating: training_embeddings_sample/P33234.pt  \n",
            "  inflating: training_embeddings_sample/P0AFR7.pt  \n",
            "  inflating: training_embeddings_sample/P60872.pt  \n",
            "  inflating: training_embeddings_sample/P76335.pt  \n",
            "  inflating: training_embeddings_sample/P0AGE6.pt  \n",
            "  inflating: training_embeddings_sample/P76275.pt  \n",
            "  inflating: training_embeddings_sample/Q980J2.pt  \n",
            "  inflating: training_embeddings_sample/Q47688.pt  \n",
            "  inflating: training_embeddings_sample/P52133.pt  \n",
            "  inflating: training_embeddings_sample/Q981A1.pt  \n",
            "  inflating: training_embeddings_sample/P0ADQ5.pt  \n",
            "  inflating: training_embeddings_sample/P0AGJ5.pt  \n",
            "  inflating: training_embeddings_sample/P08244.pt  \n",
            "  inflating: training_embeddings_sample/Q981D0.pt  \n",
            "  inflating: training_embeddings_sample/P0AFU2.pt  \n",
            "  inflating: training_embeddings_sample/P27842.pt  \n",
            "  inflating: training_embeddings_sample/P76241.pt  \n",
            "  inflating: training_embeddings_sample/P60584.pt  \n",
            "  inflating: training_embeddings_sample/P25437.pt  \n",
            "  inflating: training_embeddings_sample/P0AED0.pt  \n",
            "  inflating: training_embeddings_sample/P11988.pt  \n",
            "  inflating: training_embeddings_sample/P0AES0.pt  \n",
            "  inflating: training_embeddings_sample/Q980T4.pt  \n",
            "  inflating: training_embeddings_sample/P25526.pt  \n",
            "  inflating: training_embeddings_sample/P16525.pt  \n",
            "  inflating: training_embeddings_sample/Q97VX2.pt  \n",
            "  inflating: training_embeddings_sample/P77781.pt  \n",
            "  inflating: training_embeddings_sample/P68767.pt  \n",
            "  inflating: training_embeddings_sample/Q97U52.pt  \n",
            "  inflating: training_embeddings_sample/Q97Z51.pt  \n",
            "  inflating: training_embeddings_sample/Q97Y33.pt  \n",
            "  inflating: training_embeddings_sample/Q97TZ0.pt  \n",
            "  inflating: training_embeddings_sample/Q7LXQ6.pt  \n",
            "  inflating: training_embeddings_sample/P21503.pt  \n",
            "  inflating: training_embeddings_sample/P75677.pt  \n",
            "  inflating: training_embeddings_sample/Q97VE0.pt  \n",
            "  inflating: training_embeddings_sample/P23894.pt  \n",
            "  inflating: training_embeddings_sample/P37017.pt  \n",
            "  inflating: training_embeddings_sample/P64604.pt  \n",
            "  inflating: training_embeddings_sample/Q97UR7.pt  \n",
            "  inflating: training_embeddings_sample/Q97U37.pt  \n",
            "  inflating: training_embeddings_sample/Q97VI7.pt  \n",
            "  inflating: training_embeddings_sample/Q97Z34.pt  \n",
            "  inflating: training_embeddings_sample/P0DPM9.pt  \n",
            "  inflating: training_embeddings_sample/Q97YT6.pt  \n",
            "  inflating: training_embeddings_sample/Q97V55.pt  \n",
            "  inflating: training_embeddings_sample/P0AAR8.pt  \n",
            "  inflating: training_embeddings_sample/P0A7B8.pt  \n",
            "  inflating: training_embeddings_sample/Q97X16.pt  \n",
            "  inflating: training_embeddings_sample/P75800.pt  \n",
            "  inflating: training_embeddings_sample/Q97YQ7.pt  \n",
            "  inflating: training_embeddings_sample/Q97UX5.pt  \n",
            "  inflating: training_embeddings_sample/Q97UJ4.pt  \n",
            "  inflating: training_embeddings_sample/P0ACZ8.pt  \n",
            "  inflating: training_embeddings_sample/Q97XG6.pt  \n",
            "  inflating: training_embeddings_sample/P0AEX9.pt  \n",
            "  inflating: training_embeddings_sample/P00894.pt  \n",
            "  inflating: training_embeddings_sample/P21165.pt  \n",
            "  inflating: training_embeddings_sample/P32153.pt  \n",
            "  inflating: training_embeddings_sample/P30147.pt  \n",
            "  inflating: training_embeddings_sample/P31058.pt  \n",
            "  inflating: training_embeddings_sample/P23908.pt  \n",
            "  inflating: training_embeddings_sample/P30749.pt  \n",
            "  inflating: training_embeddings_sample/P76520.pt  \n",
            "  inflating: training_embeddings_sample/P0A9P0.pt  \n",
            "  inflating: training_embeddings_sample/Q97U49.pt  \n",
            "  inflating: training_embeddings_sample/P0A6Y5.pt  \n",
            "  inflating: training_embeddings_sample/P0A986.pt  \n",
            "  inflating: training_embeddings_sample/Q97U18.pt  \n",
            "  inflating: training_embeddings_sample/Q97V89.pt  \n",
            "  inflating: training_embeddings_sample/P67553.pt  \n",
            "  inflating: training_embeddings_sample/Q97YV9.pt  \n",
            "  inflating: training_embeddings_sample/P67660.pt  \n",
            "  inflating: training_embeddings_sample/P27294.pt  \n",
            "  inflating: training_embeddings_sample/P0A8E5.pt  \n",
            "  inflating: training_embeddings_sample/P06846.pt  \n",
            "  inflating: training_embeddings_sample/P63228.pt  \n",
            "  inflating: training_embeddings_sample/P0A825.pt  \n",
            "  inflating: training_embeddings_sample/P0AAC6.pt  \n",
            "  inflating: training_embeddings_sample/Q97YW9.pt  \n",
            "  inflating: training_embeddings_sample/P0ABW5.pt  \n",
            "  inflating: training_embeddings_sample/P0DSG7.pt  \n",
            "  inflating: training_embeddings_sample/P0A8N7.pt  \n",
            "  inflating: training_embeddings_sample/Q97WN8.pt  \n",
            "  inflating: training_embeddings_sample/Q97UQ8.pt  \n",
            "  inflating: training_embeddings_sample/Q97WK9.pt  \n",
            "  inflating: training_embeddings_sample/Q97UT9.pt  \n",
            "  inflating: training_embeddings_sample/P71241.pt  \n",
            "  inflating: training_embeddings_sample/P0A6F3.pt  \n",
            "  inflating: training_embeddings_sample/Q7LXR9.pt  \n",
            "  inflating: training_embeddings_sample/P0ACU0.pt  \n",
            "  inflating: training_embeddings_sample/P0ABQ0.pt  \n",
            "  inflating: training_embeddings_sample/P0AA91.pt  \n",
            "  inflating: training_embeddings_sample/Q9UX49.pt  \n",
            "  inflating: training_embeddings_sample/P0A7Z0.pt  \n",
            "  inflating: training_embeddings_sample/P08550.pt  \n",
            "  inflating: training_embeddings_sample/P41407.pt  \n",
            "  inflating: training_embeddings_sample/P39407.pt  \n",
            "  inflating: training_embeddings_sample/P46859.pt  \n",
            "  inflating: training_embeddings_sample/P21363.pt  \n",
            "  inflating: training_embeddings_sample/P76128.pt  \n",
            "  inflating: training_embeddings_sample/P77304.pt  \n",
            "  inflating: training_embeddings_sample/P20099.pt  \n",
            "  inflating: training_embeddings_sample/P96038.pt  \n",
            "  inflating: training_embeddings_sample/P12999.pt  \n",
            "  inflating: training_embeddings_sample/Q46858.pt  \n",
            "  inflating: training_embeddings_sample/P68191.pt  \n",
            "  inflating: training_embeddings_sample/P37663.pt  \n",
            "  inflating: training_embeddings_sample/P77297.pt  \n",
            "  inflating: training_embeddings_sample/P30143.pt  \n",
            "  inflating: training_embeddings_sample/P0AFE8.pt  \n",
            "  inflating: training_embeddings_sample/P32157.pt  \n",
            "  inflating: training_embeddings_sample/Q46829.pt  \n",
            "  inflating: training_embeddings_sample/P76108.pt  \n",
            "  inflating: training_embeddings_sample/P40120.pt  \n",
            "  inflating: training_embeddings_sample/P00946.pt  \n",
            "  inflating: training_embeddings_sample/P11875.pt  \n",
            "  inflating: training_embeddings_sample/Q980M8.pt  \n",
            "  inflating: training_embeddings_sample/P0DMC9.pt  \n",
            "  inflating: training_embeddings_sample/P0AB71.pt  \n",
            "  inflating: training_embeddings_sample/P0DPO2.pt  \n",
            "  inflating: training_embeddings_sample/P0AAH0.pt  \n",
            "  inflating: training_embeddings_sample/P0A8E1.pt  \n",
            "  inflating: training_embeddings_sample/P29013.pt  \n",
            "  inflating: training_embeddings_sample/P0ABY2.pt  \n",
            "  inflating: training_embeddings_sample/G3MTW7.pt  \n",
            "  inflating: training_embeddings_sample/Q97U79.pt  \n",
            "  inflating: training_embeddings_sample/P76586.pt  \n",
            "  inflating: training_embeddings_sample/P0AC05.pt  \n",
            "  inflating: training_embeddings_sample/Q97US8.pt  \n",
            "  inflating: training_embeddings_sample/Q97UA9.pt  \n",
            "  inflating: training_embeddings_sample/P77588.pt  \n",
            "  inflating: training_embeddings_sample/Q97XC8.pt  \n",
            "  inflating: training_embeddings_sample/P0A6G7.pt  \n",
            "  inflating: training_embeddings_sample/P0A9G4.pt  \n",
            "  inflating: training_embeddings_sample/Q97YP8.pt  \n",
            "  inflating: training_embeddings_sample/P0ACI6.pt  \n",
            "  inflating: training_embeddings_sample/P32718.pt  \n",
            "  inflating: training_embeddings_sample/Q97YQ8.pt  \n",
            "  inflating: training_embeddings_sample/Q97Z99.pt  \n",
            "  inflating: training_embeddings_sample/Q97YC9.pt  \n",
            "  inflating: training_embeddings_sample/Q97XG9.pt  \n",
            "  inflating: training_embeddings_sample/P0A7G6.pt  \n",
            "  inflating: training_embeddings_sample/Q97YT9.pt  \n",
            "  inflating: training_embeddings_sample/P77598.pt  \n",
            "  inflating: training_embeddings_sample/Q97X19.pt  \n",
            "  inflating: training_embeddings_sample/Q97VI8.pt  \n",
            "  inflating: training_embeddings_sample/P0DPM6.pt  \n",
            "  inflating: training_embeddings_sample/P0ABF4.pt  \n",
            "  inflating: training_embeddings_sample/Q97U69.pt  \n",
            "  inflating: training_embeddings_sample/P0A8Z7.pt  \n",
            "  inflating: training_embeddings_sample/Q7LXQ9.pt  \n",
            "  inflating: training_embeddings_sample/P0A8V0.pt  \n",
            "  inflating: training_embeddings_sample/P0A870.pt  \n",
            "  inflating: training_embeddings_sample/P0A7V3.pt  \n",
            "  inflating: training_embeddings_sample/Q7LXT8.pt  \n",
            "  inflating: training_embeddings_sample/P37049.pt  \n",
            "  inflating: training_embeddings_sample/Q9UX79.pt  \n",
            "  inflating: training_embeddings_sample/P39328.pt  \n",
            "  inflating: training_embeddings_sample/P76633.pt  \n",
            "  inflating: training_embeddings_sample/P68739.pt  \n",
            "  inflating: training_embeddings_sample/P0DSG3.pt  \n",
            "  inflating: training_embeddings_sample/P0AB61.pt  \n",
            "  inflating: training_embeddings_sample/P52108.pt  \n",
            "  inflating: training_embeddings_sample/P07001.pt  \n",
            "  inflating: training_embeddings_sample/P0CG19.pt  \n",
            "  inflating: training_embeddings_sample/Q980L8.pt  \n",
            "  inflating: training_embeddings_sample/P32173.pt  \n",
            "  inflating: training_embeddings_sample/P45956.pt  \n",
            "  inflating: training_embeddings_sample/P76118.pt  \n",
            "  inflating: training_embeddings_sample/P37680.pt  \n",
            "  inflating: training_embeddings_sample/P77365.pt  \n",
            "  inflating: training_embeddings_sample/P76149.pt  \n",
            "  inflating: training_embeddings_sample/P0ADI9.pt  \n",
            "  inflating: training_embeddings_sample/P32056.pt  \n",
            "  inflating: training_embeddings_sample/P0AGE9.pt  \n",
            "  inflating: training_embeddings_sample/P0AEH8.pt  \n",
            "  inflating: training_embeddings_sample/P81552.pt  \n",
            "  inflating: training_embeddings_sample/A5A607.pt  \n",
            "  inflating: training_embeddings_sample/P0AEL8.pt  \n",
            "  inflating: training_embeddings_sample/P43319.pt  \n",
            "  inflating: training_embeddings_sample/P33018.pt  \n",
            "  inflating: training_embeddings_sample/P76298.pt  \n",
            "  inflating: training_embeddings_sample/P76049.pt  \n",
            "  inflating: training_embeddings_sample/P37440.pt  \n",
            "  inflating: training_embeddings_sample/P32162.pt  \n",
            "  inflating: training_embeddings_sample/P07010.pt  \n",
            "  inflating: training_embeddings_sample/P09153.pt  \n",
            "  inflating: training_embeddings_sample/P68066.pt  \n",
            "  inflating: training_embeddings_sample/P0A6K1.pt  \n",
            "  inflating: training_embeddings_sample/P31667.pt  \n",
            "  inflating: training_embeddings_sample/P0AAZ0.pt  \n",
            "  inflating: training_embeddings_sample/P39368.pt  \n",
            "  inflating: training_embeddings_sample/P0AC92.pt  \n",
            "  inflating: training_embeddings_sample/P31554.pt  \n",
            "  inflating: training_embeddings_sample/P0A830.pt  \n",
            "  inflating: training_embeddings_sample/P22634.pt  \n",
            "  inflating: training_embeddings_sample/P0AA84.pt  \n",
            "  inflating: training_embeddings_sample/P41443.pt  \n",
            "  inflating: training_embeddings_sample/Q97TW9.pt  \n",
            "  inflating: training_embeddings_sample/P33915.pt  \n",
            "  inflating: training_embeddings_sample/P0A6H5.pt  \n",
            "  inflating: training_embeddings_sample/P0ACQ4.pt  \n",
            "  inflating: training_embeddings_sample/P0A7C6.pt  \n",
            "  inflating: training_embeddings_sample/P31471.pt  \n",
            "  inflating: training_embeddings_sample/P0AAA7.pt  \n",
            "  inflating: training_embeddings_sample/Q97ZN8.pt  \n",
            "  inflating: training_embeddings_sample/O33768.pt  \n",
            "  inflating: training_embeddings_sample/P0A756.pt  \n",
            "  inflating: training_embeddings_sample/P0A855.pt  \n",
            "  inflating: training_embeddings_sample/Q97ZK9.pt  \n",
            "  inflating: training_embeddings_sample/Q97ZY8.pt  \n",
            "  inflating: training_embeddings_sample/Q97YP9.pt  \n",
            "  inflating: training_embeddings_sample/P76535.pt  \n",
            "  inflating: training_embeddings_sample/Q47319.pt  \n",
            "  inflating: training_embeddings_sample/Q97Y58.pt  \n",
            "  inflating: training_embeddings_sample/Q97XP8.pt  \n",
            "  inflating: training_embeddings_sample/P10371.pt  \n",
            "  inflating: training_embeddings_sample/P77608.pt  \n",
            "  inflating: training_embeddings_sample/P08555.pt  \n",
            "  inflating: training_embeddings_sample/Q97U39.pt  \n",
            "  inflating: training_embeddings_sample/Q97VI9.pt  \n",
            "  inflating: training_embeddings_sample/Q97TV9.pt  \n",
            "  inflating: training_embeddings_sample/Q97U68.pt  \n",
            "  inflating: training_embeddings_sample/P0ACG4.pt  \n",
            "  inflating: training_embeddings_sample/Q97WZ9.pt  \n",
            "  inflating: training_embeddings_sample/P67624.pt  \n",
            "  inflating: training_embeddings_sample/Q7LXQ8.pt  \n",
            "  inflating: training_embeddings_sample/P0ABR1.pt  \n",
            "  inflating: training_embeddings_sample/Q9UX29.pt  \n",
            "  inflating: training_embeddings_sample/P77181.pt  \n",
            "  inflating: training_embeddings_sample/P17109.pt  \n",
            "  inflating: training_embeddings_sample/P00963.pt  \n",
            "  inflating: training_embeddings_sample/Q980L9.pt  \n",
            "  inflating: training_embeddings_sample/Q46799.pt  \n",
            "  inflating: training_embeddings_sample/P76008.pt  \n",
            "  inflating: training_embeddings_sample/P0AGG8.pt  \n",
            "  inflating: training_embeddings_sample/P0AE98.pt  \n",
            "  inflating: training_embeddings_sample/Q46909.pt  \n",
            "  inflating: training_embeddings_sample/P00547.pt  \n",
            "  inflating: training_embeddings_sample/P0AFT8.pt  \n",
            "  inflating: training_embeddings_sample/P32166.pt  \n",
            "  inflating: training_embeddings_sample/P76168.pt  \n",
            "  inflating: training_embeddings_sample/P0CF29.pt  \n",
            "  inflating: training_embeddings_sample/Q980K8.pt  \n",
            "  inflating: training_embeddings_sample/P37666.pt  \n",
            "  inflating: training_embeddings_sample/P31119.pt  \n",
            "  inflating: training_embeddings_sample/Q9UX09.pt  \n",
            "  inflating: training_embeddings_sample/P0ACQ0.pt  \n",
            "  inflating: training_embeddings_sample/P0A8I3.pt  \n",
            "  inflating: training_embeddings_sample/P69425.pt  \n",
            "  inflating: training_embeddings_sample/P37128.pt  \n",
            "  inflating: training_embeddings_sample/P0A752.pt  \n",
            "  inflating: training_embeddings_sample/Q7LXV9.pt  \n",
            "  inflating: training_embeddings_sample/P0A800.pt  \n",
            "  inflating: training_embeddings_sample/P33570.pt  \n",
            "  inflating: training_embeddings_sample/P0A940.pt  \n",
            "  inflating: training_embeddings_sample/P0AC65.pt  \n",
            "  inflating: training_embeddings_sample/Q97W99.pt  \n",
            "  inflating: training_embeddings_sample/P0ABA4.pt  \n",
            "  inflating: training_embeddings_sample/Q97VY8.pt  \n",
            "  inflating: training_embeddings_sample/Q97UP9.pt  \n",
            "  inflating: training_embeddings_sample/Q97V88.pt  \n",
            "  inflating: training_embeddings_sample/P38051.pt  \n",
            "  inflating: training_embeddings_sample/Q97YV8.pt  \n",
            "  inflating: training_embeddings_sample/P77768.pt  \n",
            "  inflating: training_embeddings_sample/P0A8R4.pt  \n",
            "  inflating: training_embeddings_sample/Q97X38.pt  \n",
            "  inflating: training_embeddings_sample/P31550.pt  \n",
            "  inflating: training_embeddings_sample/P0A9S5.pt  \n",
            "  inflating: training_embeddings_sample/P21418.pt  \n",
            "  inflating: training_embeddings_sample/Q97XV9.pt  \n",
            "  inflating: training_embeddings_sample/P22731.pt  \n",
            "  inflating: training_embeddings_sample/Q97YW8.pt  \n",
            "  inflating: training_embeddings_sample/P06715.pt  \n",
            "  inflating: training_embeddings_sample/Q97V98.pt  \n",
            "  inflating: training_embeddings_sample/P0AAI5.pt  \n",
            "  inflating: training_embeddings_sample/Q97WK8.pt  \n",
            "  inflating: training_embeddings_sample/Q97UF9.pt  \n",
            "  inflating: training_embeddings_sample/Q97UT8.pt  \n",
            "  inflating: training_embeddings_sample/P0ACD4.pt  \n",
            "  inflating: training_embeddings_sample/P65556.pt  \n",
            "  inflating: training_embeddings_sample/Q7LXR8.pt  \n",
            "  inflating: training_embeddings_sample/P0A9Q1.pt  \n",
            "  inflating: training_embeddings_sample/P0AAE2.pt  \n",
            "  inflating: training_embeddings_sample/P0AA63.pt  \n",
            "  inflating: training_embeddings_sample/Q7LXW9.pt  \n",
            "  inflating: training_embeddings_sample/P76482.pt  \n",
            "  inflating: training_embeddings_sample/P0ABC0.pt  \n",
            "  inflating: training_embeddings_sample/P37794.pt  \n",
            "  inflating: training_embeddings_sample/P18196.pt  \n",
            "  inflating: training_embeddings_sample/P39406.pt  \n",
            "  inflating: training_embeddings_sample/P19318.pt  \n",
            "  inflating: training_embeddings_sample/P45472.pt  \n",
            "  inflating: training_embeddings_sample/P77393.pt  \n",
            "  inflating: training_embeddings_sample/Q980J8.pt  \n",
            "  inflating: training_embeddings_sample/P15288.pt  \n",
            "  inflating: training_embeddings_sample/P96039.pt  \n",
            "  inflating: training_embeddings_sample/P76038.pt  \n",
            "  inflating: training_embeddings_sample/P00936.pt  \n",
            "  inflating: training_embeddings_sample/Q2MB16.pt  \n",
            "  inflating: training_embeddings_sample/P27848.pt  \n",
            "  inflating: training_embeddings_sample/A5A627.pt  \n",
            "  inflating: training_embeddings_sample/P00944.pt  \n",
            "  inflating: training_embeddings_sample/P77237.pt  \n",
            "  inflating: training_embeddings_sample/P62768.pt  \n",
            "  inflating: training_embeddings_sample/P77295.pt  \n",
            "  inflating: training_embeddings_sample/P37661.pt  \n",
            "  inflating: training_embeddings_sample/Q980G8.pt  \n",
            "  inflating: training_embeddings_sample/Q980P8.pt  \n",
            "  inflating: training_embeddings_sample/P09323.pt  \n",
            "  inflating: training_embeddings_sample/P37595.pt  \n",
            "  inflating: training_embeddings_sample/P75969.pt  \n",
            "  inflating: training_embeddings_sample/P75938.pt  \n",
            "  inflating: training_embeddings_sample/P69937.pt  \n",
            "  inflating: training_embeddings_sample/P76512.pt  \n",
            "  inflating: training_embeddings_sample/P0A8W2.pt  \n",
            "  inflating: training_embeddings_sample/P17846.pt  \n",
            "  inflating: training_embeddings_sample/P0ACE3.pt  \n",
            "  inflating: training_embeddings_sample/Q7DFV3.pt  \n",
            "  inflating: training_embeddings_sample/P76621.pt  \n",
            "  inflating: training_embeddings_sample/Q97VP9.pt  \n",
            "  inflating: training_embeddings_sample/P0A6B4.pt  \n",
            "  inflating: training_embeddings_sample/Q97WQ8.pt  \n",
            "  inflating: training_embeddings_sample/Q97VU8.pt  \n",
            "  inflating: training_embeddings_sample/P0A6G5.pt  \n",
            "  inflating: training_embeddings_sample/P33916.pt  \n",
            "  inflating: training_embeddings_sample/Q97XL9.pt  \n",
            "  inflating: training_embeddings_sample/Q7SI94.pt  \n",
            "  inflating: training_embeddings_sample/Q97YZ8.pt  \n",
            "  inflating: training_embeddings_sample/P77439.pt  \n",
            "  inflating: training_embeddings_sample/P0AC07.pt  \n",
            "  inflating: training_embeddings_sample/P0ABP6.pt  \n",
            "  inflating: training_embeddings_sample/P15977.pt  \n",
            "  inflating: training_embeddings_sample/P76485.pt  \n",
            "  inflating: training_embeddings_sample/P04982.pt  \n",
            "  inflating: training_embeddings_sample/Q97Z39.pt  \n",
            "  inflating: training_embeddings_sample/P33594.pt  \n",
            "  inflating: training_embeddings_sample/P0ABF6.pt  \n",
            "  inflating: training_embeddings_sample/Q97VF9.pt  \n",
            "  inflating: training_embeddings_sample/P0ACM5.pt  \n",
            "  inflating: training_embeddings_sample/P28248.pt  \n",
            "  inflating: training_embeddings_sample/P06965.pt  \n",
            "  inflating: training_embeddings_sample/P0AAR5.pt  \n",
            "  inflating: training_embeddings_sample/P0DPP6.pt  \n",
            "  inflating: training_embeddings_sample/Q97UX8.pt  \n",
            "  inflating: training_embeddings_sample/P0A8U6.pt  \n",
            "  inflating: training_embeddings_sample/P0DSG1.pt  \n",
            "  inflating: training_embeddings_sample/P0ABW3.pt  \n",
            "  inflating: training_embeddings_sample/Q7LXI8.pt  \n",
            "  inflating: training_embeddings_sample/P55135.pt  \n",
            "  inflating: training_embeddings_sample/P31547.pt  \n",
            "  inflating: training_embeddings_sample/P0AC81.pt  \n",
            "  inflating: training_embeddings_sample/P0A720.pt  \n",
            "  inflating: training_embeddings_sample/P0ABJ1.pt  \n",
            "  inflating: training_embeddings_sample/P0A8A2.pt  \n",
            "  inflating: training_embeddings_sample/P68688.pt  \n",
            "  inflating: training_embeddings_sample/P0A6E1.pt  \n",
            "  inflating: training_embeddings_sample/Q06129.pt  \n",
            "  inflating: training_embeddings_sample/P37645.pt  \n",
            "  inflating: training_embeddings_sample/P33229.pt  \n",
            "  inflating: training_embeddings_sample/P39401.pt  \n",
            "  inflating: training_embeddings_sample/P0AGM9.pt  \n",
            "  inflating: training_embeddings_sample/P77196.pt  \n",
            "  inflating: training_embeddings_sample/P76349.pt  \n",
            "  inflating: training_embeddings_sample/P45544.pt  \n",
            "  inflating: training_embeddings_sample/P18393.pt  \n",
            "  inflating: training_embeddings_sample/P45795.pt  \n",
            "  inflating: training_embeddings_sample/P76318.pt  \n",
            "  inflating: training_embeddings_sample/Q980V9.pt  \n",
            "  inflating: training_embeddings_sample/P45800.pt  \n",
            "  inflating: training_embeddings_sample/Q980S8.pt  \n",
            "  inflating: training_embeddings_sample/P45570.pt  \n",
            "  inflating: training_embeddings_sample/C1P602.pt  \n",
            "  inflating: training_embeddings_sample/P17994.pt  \n",
            "  inflating: training_embeddings_sample/P0A700.pt  \n",
            "  inflating: training_embeddings_sample/P0A9U3.pt  \n",
            "  inflating: training_embeddings_sample/P76462.pt  \n",
            "  inflating: training_embeddings_sample/P76491.pt  \n",
            "  inflating: training_embeddings_sample/P0A8L1.pt  \n",
            "  inflating: training_embeddings_sample/P0A9H1.pt  \n",
            "  inflating: training_embeddings_sample/P0A6Z3.pt  \n",
            "  inflating: training_embeddings_sample/P31553.pt  \n",
            "  inflating: training_embeddings_sample/Q97WE8.pt  \n",
            "  inflating: training_embeddings_sample/P76407.pt  \n",
            "  inflating: training_embeddings_sample/Q97VV8.pt  \n",
            "  inflating: training_embeddings_sample/P0ABY4.pt  \n",
            "  inflating: training_embeddings_sample/P0A6K6.pt  \n",
            "  inflating: training_embeddings_sample/Q97YK9.pt  \n",
            "  inflating: training_embeddings_sample/Q97Y88.pt  \n",
            "  inflating: training_embeddings_sample/P0AB77.pt  \n",
            "  inflating: training_embeddings_sample/Q97ZU8.pt  \n",
            "  inflating: training_embeddings_sample/P0A7J7.pt  \n",
            "  inflating: training_embeddings_sample/Q47149.pt  \n",
            "  inflating: training_embeddings_sample/Q97XJ8.pt  \n",
            "  inflating: training_embeddings_sample/Q97XX9.pt  \n",
            "  inflating: training_embeddings_sample/P0AB26.pt  \n",
            "  inflating: training_embeddings_sample/Q97ZF9.pt  \n",
            "  inflating: training_embeddings_sample/P0AB67.pt  \n",
            "  inflating: training_embeddings_sample/Q97ZC8.pt  \n",
            "  inflating: training_embeddings_sample/P0AAC4.pt  \n",
            "  inflating: training_embeddings_sample/Q97VW8.pt  \n",
            "  inflating: training_embeddings_sample/P58179.pt  \n",
            "  inflating: training_embeddings_sample/P0A8V6.pt  \n",
            "  inflating: training_embeddings_sample/P0A7D4.pt  \n",
            "  inflating: training_embeddings_sample/P76446.pt  \n",
            "  inflating: training_embeddings_sample/P19925.pt  \n",
            "  inflating: training_embeddings_sample/P0AC13.pt  \n",
            "  inflating: training_embeddings_sample/P0ACB2.pt  \n",
            "  inflating: training_embeddings_sample/P0A7M2.pt  \n",
            "  inflating: training_embeddings_sample/P76481.pt  \n",
            "  inflating: training_embeddings_sample/Q7LX99.pt  \n",
            "  inflating: training_embeddings_sample/Q7LXJ8.pt  \n",
            "  inflating: training_embeddings_sample/P0A8U2.pt  \n",
            "  inflating: training_embeddings_sample/P75858.pt  \n",
            "  inflating: training_embeddings_sample/P71243.pt  \n",
            "  inflating: training_embeddings_sample/P0A710.pt  \n",
            "  inflating: training_embeddings_sample/P05194.pt  \n",
            "  inflating: training_embeddings_sample/C1P612.pt  \n",
            "  inflating: training_embeddings_sample/P16256.pt  \n",
            "  inflating: training_embeddings_sample/Q981A8.pt  \n",
            "  inflating: training_embeddings_sample/P76359.pt  \n",
            "  inflating: training_embeddings_sample/P00935.pt  \n",
            "  inflating: training_embeddings_sample/P77257.pt  \n",
            "  inflating: training_embeddings_sample/P0AEW9.pt  \n",
            "  inflating: training_embeddings_sample/P0ADD9.pt  \n",
            "  inflating: training_embeddings_sample/Q980V8.pt  \n",
            "  inflating: training_embeddings_sample/P25889.pt  \n",
            "  inflating: training_embeddings_sample/P77263.pt  \n",
            "  inflating: training_embeddings_sample/P0CF89.pt  \n",
            "  inflating: training_embeddings_sample/C1P603.pt  \n",
            "  inflating: training_embeddings_sample/Q9Y8K9.pt  \n",
            "  inflating: training_embeddings_sample/P0ABZ1.pt  \n",
            "  inflating: training_embeddings_sample/P0A853.pt  \n",
            "  inflating: training_embeddings_sample/P0A9B2.pt  \n",
            "  inflating: training_embeddings_sample/P27250.pt  \n",
            "  inflating: training_embeddings_sample/P33913.pt  \n",
            "  inflating: training_embeddings_sample/P19934.pt  \n",
            "  inflating: training_embeddings_sample/P71237.pt  \n",
            "  inflating: training_embeddings_sample/Q97UZ9.pt  \n",
            "  inflating: training_embeddings_sample/Q97V28.pt  \n",
            "  inflating: training_embeddings_sample/P0A7E5.pt  \n",
            "  inflating: training_embeddings_sample/P80053.pt  \n",
            "  inflating: training_embeddings_sample/P0A6V5.pt  \n",
            "  inflating: training_embeddings_sample/P0A7R5.pt  \n",
            "  inflating: training_embeddings_sample/P31443.pt  \n",
            "  inflating: training_embeddings_sample/Q97Y89.pt  \n",
            "  inflating: training_embeddings_sample/P0DSF4.pt  \n",
            "  inflating: training_embeddings_sample/P0DPO5.pt  \n",
            "  inflating: training_embeddings_sample/P17952.pt  \n",
            "  inflating: training_embeddings_sample/P0A894.pt  \n",
            "  inflating: training_embeddings_sample/P38393.pt  \n",
            "  inflating: training_embeddings_sample/P52600.pt  \n",
            "  inflating: training_embeddings_sample/Q97XK9.pt  \n",
            "  inflating: training_embeddings_sample/Q97ZT9.pt  \n",
            "  inflating: training_embeddings_sample/Q97YX9.pt  \n",
            "  inflating: training_embeddings_sample/Q97YJ8.pt  \n",
            "  inflating: training_embeddings_sample/P31453.pt  \n",
            "  inflating: training_embeddings_sample/P0DSH7.pt  \n",
            "  inflating: training_embeddings_sample/P0A9W6.pt  \n",
            "  inflating: training_embeddings_sample/Q97V69.pt  \n",
            "  inflating: training_embeddings_sample/P76507.pt  \n",
            "  inflating: training_embeddings_sample/P21888.pt  \n",
            "  inflating: training_embeddings_sample/Q97WV8.pt  \n",
            "  inflating: training_embeddings_sample/P0A9R7.pt  \n",
            "  inflating: training_embeddings_sample/P33591.pt  \n",
            "  inflating: training_embeddings_sample/P15770.pt  \n",
            "  inflating: training_embeddings_sample/P0AB03.pt  \n",
            "  inflating: training_embeddings_sample/P0A903.pt  \n",
            "  inflating: training_embeddings_sample/P16869.pt  \n",
            "  inflating: training_embeddings_sample/P76422.pt  \n",
            "  inflating: training_embeddings_sample/P0AAR0.pt  \n",
            "  inflating: training_embeddings_sample/A5A611.pt  \n",
            "  inflating: training_embeddings_sample/P36979.pt  \n",
            "  inflating: training_embeddings_sample/P39404.pt  \n",
            "  inflating: training_embeddings_sample/A5A625.pt  \n",
            "  inflating: training_embeddings_sample/P77174.pt  \n",
            "  inflating: training_embeddings_sample/P77187.pt  \n",
            "  inflating: training_embeddings_sample/P07117.pt  \n",
            "  inflating: training_embeddings_sample/P77247.pt  \n",
            "  inflating: training_embeddings_sample/P0AD19.pt  \n",
            "  inflating: training_embeddings_sample/P45464.pt  \n",
            "  inflating: training_embeddings_sample/Q980U8.pt  \n",
            "  inflating: training_embeddings_sample/P11557.pt  \n",
            "  inflating: training_embeddings_sample/P23305.pt  \n",
            "  inflating: training_embeddings_sample/P32131.pt  \n",
            "  inflating: training_embeddings_sample/P0A7R1.pt  \n",
            "  inflating: training_embeddings_sample/P76542.pt  \n",
            "  inflating: training_embeddings_sample/P0A9A2.pt  \n",
            "  inflating: training_embeddings_sample/P37338.pt  \n",
            "  inflating: training_embeddings_sample/P0A890.pt  \n",
            "  inflating: training_embeddings_sample/P0ACR2.pt  \n",
            "  inflating: training_embeddings_sample/P0ABD3.pt  \n",
            "  inflating: training_embeddings_sample/Q97WT8.pt  \n",
            "  inflating: training_embeddings_sample/P50457.pt  \n",
            "  inflating: training_embeddings_sample/P0ABH4.pt  \n",
            "  inflating: training_embeddings_sample/P0DPC6.pt  \n",
            "  inflating: training_embeddings_sample/P09549.pt  \n",
            "  inflating: training_embeddings_sample/P12295.pt  \n",
            "  inflating: training_embeddings_sample/P0DSE4.pt  \n",
            "  inflating: training_embeddings_sample/Q97ZA9.pt  \n",
            "  inflating: training_embeddings_sample/Q97Z28.pt  \n",
            "  inflating: training_embeddings_sample/P0AAY6.pt  \n",
            "  inflating: training_embeddings_sample/P77529.pt  \n",
            "  inflating: training_embeddings_sample/P31600.pt  \n",
            "  inflating: training_embeddings_sample/Q97YL9.pt  \n",
            "  inflating: training_embeddings_sample/Q97ZE8.pt  \n",
            "  inflating: training_embeddings_sample/P76484.pt  \n",
            "  inflating: training_embeddings_sample/P21599.pt  \n",
            "  inflating: training_embeddings_sample/P04983.pt  \n",
            "  inflating: training_embeddings_sample/P08506.pt  \n",
            "  inflating: training_embeddings_sample/Q97XH9.pt  \n",
            "  inflating: training_embeddings_sample/P77539.pt  \n",
            "  inflating: training_embeddings_sample/P64488.pt  \n",
            "  inflating: training_embeddings_sample/Q97VF8.pt  \n",
            "  inflating: training_embeddings_sample/Q97WB8.pt  \n",
            "  inflating: training_embeddings_sample/P0ABL5.pt  \n",
            "  inflating: training_embeddings_sample/Q97W48.pt  \n",
            "  inflating: training_embeddings_sample/P27126.pt  \n",
            "  inflating: training_embeddings_sample/P76630.pt  \n",
            "  inflating: training_embeddings_sample/Q7LXL8.pt  \n",
            "  inflating: training_embeddings_sample/P43531.pt  \n",
            "  inflating: training_embeddings_sample/P0DSG0.pt  \n",
            "  inflating: training_embeddings_sample/P0A8N0.pt  \n",
            "  inflating: training_embeddings_sample/P0A9J0.pt  \n",
            "  inflating: training_embeddings_sample/P76692.pt  \n",
            "  inflating: training_embeddings_sample/P76503.pt  \n",
            "  inflating: training_embeddings_sample/P95928.pt  \n",
            "  inflating: training_embeddings_sample/P0A6R0.pt  \n",
            "  inflating: training_embeddings_sample/P0DSH3.pt  \n",
            "  inflating: training_embeddings_sample/P76552.pt  \n",
            "  inflating: training_embeddings_sample/P55798.pt  \n",
            "  inflating: training_embeddings_sample/P28903.pt  \n",
            "  inflating: training_embeddings_sample/P39830.pt  \n",
            "  inflating: training_embeddings_sample/Q2M7X4.pt  \n",
            "  inflating: training_embeddings_sample/P76228.pt  \n",
            "  inflating: training_embeddings_sample/P00904.pt  \n",
            "  inflating: training_embeddings_sample/P77277.pt  \n",
            "  inflating: training_embeddings_sample/Q97U45.pt  \n",
            "  inflating: training_embeddings_sample/P0ACW8.pt  \n",
            "  inflating: training_embeddings_sample/Q97WJ5.pt  \n",
            "  inflating: training_embeddings_sample/P75782.pt  \n",
            "  inflating: training_embeddings_sample/P68661.pt  \n",
            "  inflating: training_embeddings_sample/P0ABD8.pt  \n",
            "  inflating: training_embeddings_sample/P56257.pt  \n",
            "  inflating: training_embeddings_sample/Q97XR5.pt  \n",
            "  inflating: training_embeddings_sample/Q7LXP1.pt  \n",
            "  inflating: training_embeddings_sample/Q47274.pt  \n",
            "  inflating: training_embeddings_sample/P37051.pt  \n",
            "  inflating: training_embeddings_sample/Q7LY00.pt  \n",
            "  inflating: training_embeddings_sample/Q97YA5.pt  \n",
            "  inflating: training_embeddings_sample/P32674.pt  \n",
            "  inflating: training_embeddings_sample/Q97XW4.pt  \n",
            "  inflating: training_embeddings_sample/Q7LXG1.pt  \n",
            "  inflating: training_embeddings_sample/Q7LXU0.pt  \n",
            "  inflating: training_embeddings_sample/Q97TW0.pt  \n",
            "  inflating: training_embeddings_sample/Q97WI1.pt  \n",
            "  inflating: training_embeddings_sample/P05825.pt  \n",
            "  inflating: training_embeddings_sample/Q7LXK6.pt  \n",
            "  inflating: training_embeddings_sample/Q7LXY7.pt  \n",
            "  inflating: training_embeddings_sample/Q97U71.pt  \n",
            "  inflating: training_embeddings_sample/Q97X50.pt  \n",
            "  inflating: training_embeddings_sample/P75745.pt  \n",
            "  inflating: training_embeddings_sample/Q97WT3.pt  \n",
            "  inflating: training_embeddings_sample/Q97ZY1.pt  \n",
            "  inflating: training_embeddings_sample/Q97YB1.pt  \n",
            "  inflating: training_embeddings_sample/Q97XQ1.pt  \n",
            "  inflating: training_embeddings_sample/P77580.pt  \n",
            "  inflating: training_embeddings_sample/Q97TX3.pt  \n",
            "  inflating: training_embeddings_sample/Q97VU2.pt  \n",
            "  inflating: training_embeddings_sample/P75957.pt  \n",
            "  inflating: training_embeddings_sample/Q97Y41.pt  \n",
            "  inflating: training_embeddings_sample/Q980K5.pt  \n",
            "  inflating: training_embeddings_sample/P0AGD1.pt  \n",
            "  inflating: training_embeddings_sample/P27830.pt  \n",
            "  inflating: training_embeddings_sample/P36937.pt  \n",
            "  inflating: training_embeddings_sample/P76316.pt  \n",
            "  inflating: training_embeddings_sample/Q46844.pt  \n",
            "  inflating: training_embeddings_sample/Q980Z0.pt  \n",
            "  inflating: training_embeddings_sample/P09378.pt  \n",
            "  inflating: training_embeddings_sample/P0AFT5.pt  \n",
            "  inflating: training_embeddings_sample/P27434.pt  \n",
            "  inflating: training_embeddings_sample/P0AGM7.pt  \n",
            "  inflating: training_embeddings_sample/P0AE37.pt  \n",
            "  inflating: training_embeddings_sample/Q981C2.pt  \n",
            "  inflating: training_embeddings_sample/P31060.pt  \n",
            "  inflating: training_embeddings_sample/P76165.pt  \n",
            "  inflating: training_embeddings_sample/P76134.pt  \n",
            "  inflating: training_embeddings_sample/P0AED7.pt  \n",
            "  inflating: training_embeddings_sample/P0ADR6.pt  \n",
            "  inflating: training_embeddings_sample/P76175.pt  \n",
            "  inflating: training_embeddings_sample/Q980F2.pt  \n",
            "  inflating: training_embeddings_sample/P0ADJ5.pt  \n",
            "  inflating: training_embeddings_sample/P60752.pt  \n",
            "  inflating: training_embeddings_sample/P76097.pt  \n",
            "  inflating: training_embeddings_sample/P0C0V0.pt  \n",
            "  inflating: training_embeddings_sample/P76001.pt  \n",
            "  inflating: training_embeddings_sample/P0AEP3.pt  \n",
            "  inflating: training_embeddings_sample/P76141.pt  \n",
            "  inflating: training_embeddings_sample/Q46893.pt  \n",
            "  inflating: training_embeddings_sample/P0C0U4.pt  \n",
            "  inflating: training_embeddings_sample/P22106.pt  \n",
            "  inflating: training_embeddings_sample/P37024.pt  \n",
            "  inflating: training_embeddings_sample/Q97YT1.pt  \n",
            "  inflating: training_embeddings_sample/Q97XP1.pt  \n",
            "  inflating: training_embeddings_sample/P10378.pt  \n",
            "  inflating: training_embeddings_sample/P75704.pt  \n",
            "  inflating: training_embeddings_sample/P77601.pt  \n",
            "  inflating: training_embeddings_sample/Q97UX2.pt  \n",
            "  inflating: training_embeddings_sample/Q97U92.pt  \n",
            "  inflating: training_embeddings_sample/Q97WU3.pt  \n",
            "  inflating: training_embeddings_sample/Q97ZE3.pt  \n",
            "  inflating: training_embeddings_sample/Q97U61.pt  \n",
            "  inflating: training_embeddings_sample/Q97WH1.pt  \n",
            "  inflating: training_embeddings_sample/Q97U30.pt  \n",
            "  inflating: training_embeddings_sample/P24077.pt  \n",
            "  inflating: training_embeddings_sample/P37197.pt  \n",
            "  inflating: training_embeddings_sample/Q7LXT0.pt  \n",
            "  inflating: training_embeddings_sample/P39382.pt  \n",
            "  inflating: training_embeddings_sample/P32664.pt  \n",
            "  inflating: training_embeddings_sample/P0A8D9.pt  \n",
            "  inflating: training_embeddings_sample/Q97WV7.pt  \n",
            "  inflating: training_embeddings_sample/Q97WD6.pt  \n",
            "  inflating: training_embeddings_sample/Q97Y34.pt  \n",
            "  inflating: training_embeddings_sample/Q97WS6.pt  \n",
            "  inflating: training_embeddings_sample/Q97WA7.pt  \n",
            "  inflating: training_embeddings_sample/Q97W26.pt  \n",
            "  inflating: training_embeddings_sample/P39293.pt  \n",
            "  inflating: training_embeddings_sample/Q97WN4.pt  \n",
            "  inflating: training_embeddings_sample/Q97Y96.pt  \n",
            "  inflating: training_embeddings_sample/P75980.pt  \n",
            "  inflating: training_embeddings_sample/P75683.pt  \n",
            "  inflating: training_embeddings_sample/Q97UC5.pt  \n",
            "  inflating: training_embeddings_sample/P77506.pt  \n",
            "  inflating: training_embeddings_sample/Q97WK5.pt  \n",
            "  inflating: training_embeddings_sample/Q97XK6.pt  \n",
            "  inflating: training_embeddings_sample/Q97XY7.pt  \n",
            "  inflating: training_embeddings_sample/Q7LXI2.pt  \n",
            "  inflating: training_embeddings_sample/P0AB18.pt  \n",
            "  inflating: training_embeddings_sample/Q97UV5.pt  \n",
            "  inflating: training_embeddings_sample/P23840.pt  \n",
            "  inflating: training_embeddings_sample/P77437.pt  \n",
            "  inflating: training_embeddings_sample/Q97YZ6.pt  \n",
            "  inflating: training_embeddings_sample/Q97ZA6.pt  \n",
            "  inflating: training_embeddings_sample/P0A809.pt  \n",
            "  inflating: training_embeddings_sample/Q97TX7.pt  \n",
            "  inflating: training_embeddings_sample/Q7LXS1.pt  \n",
            "  inflating: training_embeddings_sample/Q97VG7.pt  \n",
            "  inflating: training_embeddings_sample/P24241.pt  \n",
            "  inflating: training_embeddings_sample/Q7LX70.pt  \n",
            "  inflating: training_embeddings_sample/Q97X54.pt  \n",
            "  inflating: training_embeddings_sample/Q97UB1.pt  \n",
            "  inflating: training_embeddings_sample/P75697.pt  \n",
            "  inflating: training_embeddings_sample/P39274.pt  \n",
            "  inflating: training_embeddings_sample/Q97ZP3.pt  \n",
            "  inflating: training_embeddings_sample/Q97VN1.pt  \n",
            "  inflating: training_embeddings_sample/Q97YN2.pt  \n",
            "  inflating: training_embeddings_sample/Q97YS0.pt  \n",
            "  inflating: training_embeddings_sample/Q97YA1.pt  \n",
            "  inflating: training_embeddings_sample/Q97VA2.pt  \n",
            "  inflating: training_embeddings_sample/Q97WE2.pt  \n",
            "  inflating: training_embeddings_sample/Q97XW0.pt  \n",
            "  inflating: training_embeddings_sample/Q7LXG5.pt  \n",
            "  inflating: training_embeddings_sample/Q97X60.pt  \n",
            "  inflating: training_embeddings_sample/P75967.pt  \n",
            "  inflating: training_embeddings_sample/Q97WR2.pt  \n",
            "  inflating: training_embeddings_sample/P33343.pt  \n",
            "  inflating: training_embeddings_sample/P37909.pt  \n",
            "  inflating: training_embeddings_sample/Q980P6.pt  \n",
            "  inflating: training_embeddings_sample/P0AEE3.pt  \n",
            "  inflating: training_embeddings_sample/P0DMC5.pt  \n",
            "  inflating: training_embeddings_sample/P0AFE4.pt  \n",
            "  inflating: training_embeddings_sample/P27896.pt  \n",
            "  inflating: training_embeddings_sample/P77379.pt  \n",
            "  inflating: training_embeddings_sample/P36661.pt  \n",
            "  inflating: training_embeddings_sample/P77268.pt  \n",
            "  inflating: training_embeddings_sample/Q981E3.pt  \n",
            "  inflating: training_embeddings_sample/P25550.pt  \n",
            "  inflating: training_embeddings_sample/Q980W3.pt  \n",
            "  inflating: training_embeddings_sample/P0AFY6.pt  \n",
            "  inflating: training_embeddings_sample/Q46835.pt  \n",
            "  inflating: training_embeddings_sample/C1P618.pt  \n",
            "  inflating: training_embeddings_sample/P31134.pt  \n",
            "  inflating: training_embeddings_sample/P52044.pt  \n",
            "  inflating: training_embeddings_sample/P36645.pt  \n",
            "  inflating: training_embeddings_sample/Q980Q6.pt  \n",
            "  inflating: training_embeddings_sample/P0AFB1.pt  \n",
            "  inflating: training_embeddings_sample/P0AF10.pt  \n",
            "  inflating: training_embeddings_sample/P0AEK0.pt  \n",
            "  inflating: training_embeddings_sample/P76093.pt  \n",
            "  inflating: training_embeddings_sample/P0DUM3.pt  \n",
            "  inflating: training_embeddings_sample/Q46801.pt  \n",
            "  inflating: training_embeddings_sample/Q06067.pt  \n",
            "  inflating: training_embeddings_sample/P0AGC0.pt  \n",
            "  inflating: training_embeddings_sample/Q97WD2.pt  \n",
            "  inflating: training_embeddings_sample/Q97X70.pt  \n",
            "  inflating: training_embeddings_sample/Q7LXF5.pt  \n",
            "  inflating: training_embeddings_sample/P31549.pt  \n",
            "  inflating: training_embeddings_sample/Q97XN3.pt  \n",
            "  inflating: training_embeddings_sample/Q97UQ0.pt  \n",
            "  inflating: training_embeddings_sample/Q97U00.pt  \n",
            "  inflating: training_embeddings_sample/Q97V91.pt  \n",
            "  inflating: training_embeddings_sample/Q97Z03.pt  \n",
            "  inflating: training_embeddings_sample/Q97ZC2.pt  \n",
            "  inflating: training_embeddings_sample/P32714.pt  \n",
            "  inflating: training_embeddings_sample/Q97V07.pt  \n",
            "  inflating: training_embeddings_sample/P77714.pt  \n",
            "  inflating: training_embeddings_sample/Q7LXW0.pt  \n",
            "  inflating: training_embeddings_sample/Q7LX60.pt  \n",
            "  inflating: training_embeddings_sample/Q7LXE1.pt  \n",
            "  inflating: training_embeddings_sample/Q97WP6.pt  \n",
            "  inflating: training_embeddings_sample/P76569.pt  \n",
            "  inflating: training_embeddings_sample/P28306.pt  \n",
            "  inflating: training_embeddings_sample/Q97U34.pt  \n",
            "  inflating: training_embeddings_sample/Q97XM7.pt  \n",
            "  inflating: training_embeddings_sample/P39310.pt  \n",
            "  inflating: training_embeddings_sample/P23910.pt  \n",
            "  inflating: training_embeddings_sample/Q97XH6.pt  \n",
            "  inflating: training_embeddings_sample/Q7LX93.pt  \n",
            "  inflating: training_embeddings_sample/Q97WI4.pt  \n",
            "  inflating: training_embeddings_sample/P42626.pt  \n",
            "  inflating: training_embeddings_sample/Q97ZV7.pt  \n",
            "  inflating: training_embeddings_sample/Q97ZD6.pt  \n",
            "  inflating: training_embeddings_sample/P23482.pt  \n",
            "  inflating: training_embeddings_sample/P24173.pt  \n",
            "  inflating: training_embeddings_sample/Q97UD5.pt  \n",
            "  inflating: training_embeddings_sample/P37182.pt  \n",
            "  inflating: training_embeddings_sample/P64496.pt  \n",
            "  inflating: training_embeddings_sample/Q97TW5.pt  \n",
            "  inflating: training_embeddings_sample/P39301.pt  \n",
            "  inflating: training_embeddings_sample/Q97VZ4.pt  \n",
            "  inflating: training_embeddings_sample/Q97US5.pt  \n",
            "  inflating: training_embeddings_sample/P77585.pt  \n",
            "  inflating: training_embeddings_sample/P58156.pt  \n",
            "  inflating: training_embeddings_sample/P0A948.pt  \n",
            "  inflating: training_embeddings_sample/Q97VG6.pt  \n",
            "  inflating: training_embeddings_sample/P75843.pt  \n",
            "  inflating: training_embeddings_sample/P08839.pt  \n",
            "  inflating: training_embeddings_sample/P0A8F8.pt  \n",
            "  inflating: training_embeddings_sample/Q97WF7.pt  \n",
            "  inflating: training_embeddings_sample/Q97V16.pt  \n",
            "  inflating: training_embeddings_sample/P24211.pt  \n",
            "  inflating: training_embeddings_sample/Q97ZY4.pt  \n",
            "  inflating: training_embeddings_sample/Q97YP5.pt  \n",
            "  inflating: training_embeddings_sample/Q97YB4.pt  \n",
            "  inflating: training_embeddings_sample/Q97YY3.pt  \n",
            "  inflating: training_embeddings_sample/P75995.pt  \n",
            "  inflating: training_embeddings_sample/Q97VY0.pt  \n",
            "  inflating: training_embeddings_sample/P77682.pt  \n",
            "  inflating: training_embeddings_sample/Q97WX1.pt  \n",
            "  inflating: training_embeddings_sample/Q97XX2.pt  \n",
            "  inflating: training_embeddings_sample/P77731.pt  \n",
            "  inflating: training_embeddings_sample/P64540.pt  \n",
            "  inflating: training_embeddings_sample/Q97ZH1.pt  \n",
            "  inflating: training_embeddings_sample/P67729.pt  \n",
            "  inflating: training_embeddings_sample/Q7LXU5.pt  \n",
            "  inflating: training_embeddings_sample/Q97WW2.pt  \n",
            "  inflating: training_embeddings_sample/P80148.pt  \n",
            "  inflating: training_embeddings_sample/P46068.pt  \n",
            "  inflating: training_embeddings_sample/P37005.pt  \n",
            "  inflating: training_embeddings_sample/P75826.pt  \n",
            "  inflating: training_embeddings_sample/Q7LXP4.pt  \n",
            "  inflating: training_embeddings_sample/Q980Z5.pt  \n",
            "  inflating: training_embeddings_sample/Q46810.pt  \n",
            "  inflating: training_embeddings_sample/P0AF50.pt  \n",
            "  inflating: training_embeddings_sample/P67127.pt  \n",
            "  inflating: training_embeddings_sample/P17115.pt  \n",
            "  inflating: training_embeddings_sample/Q981C7.pt  \n",
            "  inflating: training_embeddings_sample/P08373.pt  \n",
            "  inflating: training_embeddings_sample/Q980N1.pt  \n",
            "  inflating: training_embeddings_sample/P10423.pt  \n",
            "  inflating: training_embeddings_sample/P0AFX7.pt  \n",
            "  inflating: training_embeddings_sample/P36771.pt  \n",
            "  inflating: training_embeddings_sample/P76014.pt  \n",
            "  inflating: training_embeddings_sample/P33014.pt  \n",
            "  inflating: training_embeddings_sample/Q981E2.pt  \n",
            "  inflating: training_embeddings_sample/P56579.pt  \n",
            "  inflating: training_embeddings_sample/Q980S3.pt  \n",
            "  inflating: training_embeddings_sample/P0ADC6.pt  \n",
            "  inflating: training_embeddings_sample/P0AD07.pt  \n",
            "  inflating: training_embeddings_sample/P0AEU7.pt  \n",
            "  inflating: training_embeddings_sample/P76004.pt  \n",
            "  inflating: training_embeddings_sample/P77368.pt  \n",
            "  inflating: training_embeddings_sample/P77228.pt  \n",
            "  inflating: training_embeddings_sample/Q46834.pt  \n",
            "  inflating: training_embeddings_sample/P76226.pt  \n",
            "  inflating: training_embeddings_sample/P0AGE4.pt  \n",
            "  inflating: training_embeddings_sample/P0AFZ3.pt  \n",
            "  inflating: training_embeddings_sample/Q980F7.pt  \n",
            "  inflating: training_embeddings_sample/P0AGL2.pt  \n",
            "  inflating: training_embeddings_sample/P76243.pt  \n",
            "  inflating: training_embeddings_sample/P60757.pt  \n",
            "  inflating: training_embeddings_sample/P0AFU0.pt  \n",
            "  inflating: training_embeddings_sample/P06282.pt  \n",
            "  inflating: training_embeddings_sample/Q97VE2.pt  \n",
            "  inflating: training_embeddings_sample/Q97Y60.pt  \n",
            "  inflating: training_embeddings_sample/Q7LXF4.pt  \n",
            "  inflating: training_embeddings_sample/P75764.pt  \n",
            "  inflating: training_embeddings_sample/Q97WV2.pt  \n",
            "  inflating: training_embeddings_sample/P31548.pt  \n",
            "  inflating: training_embeddings_sample/Q97UI2.pt  \n",
            "  inflating: training_embeddings_sample/Q97YR1.pt  \n",
            "  inflating: training_embeddings_sample/Q97WK0.pt  \n",
            "  inflating: training_embeddings_sample/Q97Z53.pt  \n",
            "  inflating: training_embeddings_sample/Q97UF1.pt  \n",
            "  inflating: training_embeddings_sample/Q97YX3.pt  \n",
            "  inflating: training_embeddings_sample/Q97UX7.pt  \n",
            "  inflating: training_embeddings_sample/Q97YC4.pt  \n",
            "  inflating: training_embeddings_sample/Q7LXE0.pt  \n",
            "  inflating: training_embeddings_sample/Q7LX61.pt  \n",
            "  inflating: training_embeddings_sample/P75750.pt  \n",
            "  inflating: training_embeddings_sample/Q97W46.pt  \n",
            "  inflating: training_embeddings_sample/P0A9F9.pt  \n",
            "  inflating: training_embeddings_sample/P75942.pt  \n",
            "  inflating: training_embeddings_sample/Q97TY6.pt  \n",
            "  inflating: training_embeddings_sample/Q97W17.pt  \n",
            "  inflating: training_embeddings_sample/Q97U35.pt  \n",
            "  inflating: training_embeddings_sample/P63177.pt  \n",
            "  inflating: training_embeddings_sample/Q97ZW7.pt  \n",
            "  inflating: training_embeddings_sample/Q97UW4.pt  \n",
            "  inflating: training_embeddings_sample/Q7LXX2.pt  \n",
            "  inflating: training_embeddings_sample/Q7LXJ3.pt  \n",
            "  inflating: training_embeddings_sample/Q7LX92.pt  \n",
            "  inflating: training_embeddings_sample/Q97U44.pt  \n",
            "  inflating: training_embeddings_sample/Q97ZU7.pt  \n",
            "  inflating: training_embeddings_sample/P39360.pt  \n",
            "  inflating: training_embeddings_sample/Q97XX6.pt  \n",
            "  inflating: training_embeddings_sample/P42616.pt  \n",
            "  inflating: training_embeddings_sample/Q97UP5.pt  \n",
            "  inflating: training_embeddings_sample/P75991.pt  \n",
            "  inflating: training_embeddings_sample/Q97Z16.pt  \n",
            "  inflating: training_embeddings_sample/Q7LXM2.pt  \n",
            "  inflating: training_embeddings_sample/P56256.pt  \n",
            "  inflating: training_embeddings_sample/P77546.pt  \n",
            "  inflating: training_embeddings_sample/P37001.pt  \n",
            "  inflating: training_embeddings_sample/P0A978.pt  \n",
            "  inflating: training_embeddings_sample/Q97VD6.pt  \n",
            "  inflating: training_embeddings_sample/Q97V77.pt  \n",
            "  inflating: training_embeddings_sample/Q7LXP0.pt  \n",
            "  inflating: training_embeddings_sample/Q7LY01.pt  \n",
            "  inflating: training_embeddings_sample/Q97ZZ4.pt  \n",
            "  inflating: training_embeddings_sample/Q9UX93.pt  \n",
            "  inflating: training_embeddings_sample/Q7LXU1.pt  \n",
            "  inflating: training_embeddings_sample/Q7LXN6.pt  \n",
            "  inflating: training_embeddings_sample/Q97WL1.pt  \n",
            "  inflating: training_embeddings_sample/Q9UX05.pt  \n",
            "  inflating: training_embeddings_sample/Q9UXC4.pt  \n",
            "  inflating: training_embeddings_sample/Q97US1.pt  \n",
            "  inflating: training_embeddings_sample/Q97ZS2.pt  \n",
            "  inflating: training_embeddings_sample/Q97XI3.pt  \n",
            "  inflating: training_embeddings_sample/P38038.pt  \n",
            "  inflating: training_embeddings_sample/Q97YM3.pt  \n",
            "  inflating: training_embeddings_sample/Q97XF0.pt  \n",
            "  inflating: training_embeddings_sample/P68567.pt  \n",
            "  inflating: training_embeddings_sample/Q97Y11.pt  \n",
            "  inflating: training_embeddings_sample/Q97ZK1.pt  \n",
            "  inflating: training_embeddings_sample/P77802.pt  \n",
            "  inflating: training_embeddings_sample/Q97UK2.pt  \n",
            "  inflating: training_embeddings_sample/P18777.pt  \n",
            "  inflating: training_embeddings_sample/Q7LXA5.pt  \n",
            "  inflating: training_embeddings_sample/P95957.pt  \n",
            "  inflating: training_embeddings_sample/Q97X00.pt  \n",
            "  inflating: training_embeddings_sample/Q97ZN0.pt  \n",
            "  inflating: training_embeddings_sample/Q97YG1.pt  \n",
            "  inflating: training_embeddings_sample/P64521.pt  \n",
            "  inflating: training_embeddings_sample/P24244.pt  \n",
            "  inflating: training_embeddings_sample/P33232.pt  \n",
            "  inflating: training_embeddings_sample/P41036.pt  \n",
            "  inflating: training_embeddings_sample/P0AG20.pt  \n",
            "  inflating: training_embeddings_sample/P08312.pt  \n",
            "  inflating: training_embeddings_sample/P76290.pt  \n",
            "  inflating: training_embeddings_sample/P08203.pt  \n",
            "  inflating: training_embeddings_sample/P76346.pt  \n",
            "  inflating: training_embeddings_sample/Q46814.pt  \n",
            "  inflating: training_embeddings_sample/Q980H0.pt  \n",
            "  inflating: training_embeddings_sample/Q980U2.pt  \n",
            "  inflating: training_embeddings_sample/P31121.pt  \n",
            "  inflating: training_embeddings_sample/P77348.pt  \n",
            "  inflating: training_embeddings_sample/Q47719.pt  \n",
            "  inflating: training_embeddings_sample/P0AD27.pt  \n",
            "  inflating: training_embeddings_sample/Q980B2.pt  \n",
            "  inflating: training_embeddings_sample/P07018.pt  \n",
            "  inflating: training_embeddings_sample/P46883.pt  \n",
            "  inflating: training_embeddings_sample/P76135.pt  \n",
            "  inflating: training_embeddings_sample/P77309.pt  \n",
            "  inflating: training_embeddings_sample/P31131.pt  \n",
            "  inflating: training_embeddings_sample/P0ADX5.pt  \n",
            "  inflating: training_embeddings_sample/P76096.pt  \n",
            "  inflating: training_embeddings_sample/Q980L1.pt  \n",
            "  inflating: training_embeddings_sample/P0ADT2.pt  \n",
            "  inflating: training_embeddings_sample/P76000.pt  \n",
            "  inflating: training_embeddings_sample/P0AD03.pt  \n",
            "  inflating: training_embeddings_sample/A8DYP9.pt  \n",
            "  inflating: training_embeddings_sample/P0ADI0.pt  \n",
            "  inflating: training_embeddings_sample/P36547.pt  \n",
            "  inflating: training_embeddings_sample/P25736.pt  \n",
            "  inflating: training_embeddings_sample/Q97YF1.pt  \n",
            "  inflating: training_embeddings_sample/Q97TY2.pt  \n",
            "  inflating: training_embeddings_sample/Q97WP3.pt  \n",
            "  inflating: training_embeddings_sample/P75917.pt  \n",
            "  inflating: training_embeddings_sample/P13001.pt  \n",
            "  inflating: training_embeddings_sample/Q97U93.pt  \n",
            "  inflating: training_embeddings_sample/Q97VC3.pt  \n",
            "  inflating: training_embeddings_sample/P24205.pt  \n",
            "  inflating: training_embeddings_sample/Q97WU2.pt  \n",
            "  inflating: training_embeddings_sample/O33770.pt  \n",
            "  inflating: training_embeddings_sample/Q97VL0.pt  \n",
            "  inflating: training_embeddings_sample/Q97ZE2.pt  \n",
            "  inflating: training_embeddings_sample/Q7LX96.pt  \n",
            "  inflating: training_embeddings_sample/Q97UR1.pt  \n",
            "  inflating: training_embeddings_sample/Q97VI1.pt  \n",
            "  inflating: training_embeddings_sample/Q97ZR2.pt  \n",
            "  inflating: training_embeddings_sample/P68644.pt  \n",
            "  inflating: training_embeddings_sample/P31808.pt  \n",
            "  inflating: training_embeddings_sample/P39315.pt  \n",
            "  inflating: training_embeddings_sample/P39383.pt  \n",
            "  inflating: training_embeddings_sample/Q97XV5.pt  \n",
            "  inflating: training_embeddings_sample/Q7LXF0.pt  \n",
            "  inflating: training_embeddings_sample/P75620.pt  \n",
            "  inflating: training_embeddings_sample/Q97V36.pt  \n",
            "  inflating: training_embeddings_sample/P0A828.pt  \n",
            "  inflating: training_embeddings_sample/P0DSH9.pt  \n",
            "  inflating: training_embeddings_sample/Q97WS7.pt  \n",
            "  inflating: training_embeddings_sample/Q97WA6.pt  \n",
            "  inflating: training_embeddings_sample/Q97Y64.pt  \n",
            "  inflating: training_embeddings_sample/P75972.pt  \n",
            "  inflating: training_embeddings_sample/P58176.pt  \n",
            "  inflating: training_embeddings_sample/P0A7N9.pt  \n",
            "  inflating: training_embeddings_sample/Q97XN6.pt  \n",
            "  inflating: training_embeddings_sample/Q97UC4.pt  \n",
            "  inflating: training_embeddings_sample/P75981.pt  \n",
            "  inflating: training_embeddings_sample/Q97ZQ6.pt  \n",
            "  inflating: training_embeddings_sample/P39370.pt  \n",
            "  inflating: training_embeddings_sample/P0AAI9.pt  \n",
            "  inflating: training_embeddings_sample/P75793.pt  \n",
            "  inflating: training_embeddings_sample/Q97W85.pt  \n",
            "  inflating: training_embeddings_sample/P23830.pt  \n"
          ]
        }
      ]
    },
    {
      "cell_type": "code",
      "metadata": {
        "id": "bORFLR2GAXg5"
      },
      "source": [
        "import esm\n",
        "import torch\n",
        "import pymde\n",
        "from matplotlib import colors\n",
        "from matplotlib.colors import ListedColormap\n",
        "\n",
        "EMB_LAYER = 33"
      ],
      "execution_count": 12,
      "outputs": []
    },
    {
      "cell_type": "code",
      "metadata": {
        "id": "1Tsy8QmihjC5"
      },
      "source": [
        "custom_cmap = ListedColormap([\"navy\", \"pink\"])"
      ],
      "execution_count": 13,
      "outputs": []
    },
    {
      "cell_type": "markdown",
      "metadata": {
        "id": "eBDlJQxzxe8u"
      },
      "source": [
        "## Making NumPy array from embeddings"
      ]
    },
    {
      "cell_type": "code",
      "metadata": {
        "id": "MQGH3UfTAabJ"
      },
      "source": [
        "Ys = []\n",
        "Xs = []\n",
        "\n",
        "keys = ['train']\n",
        "\n",
        "for key in keys:\n",
        "    FASTA_PATH = 'data/FASTA/filtered_training_sample_sequences.fasta'\n",
        "    EMB_PATH = data_filtered[key]['embeddings']\n",
        "    for header, _seq in esm.data.read_fasta(FASTA_PATH):\n",
        "        temperature_label = header.split('|')[-1]\n",
        "        Ys.append(int(temperature_label))\n",
        "        file_name = header.split('|')[0][1:]\n",
        "        fn = f'{EMB_PATH}/{file_name}.pt'\n",
        "        embs = torch.load(fn)\n",
        "        Xs.append(embs['mean_representations'][EMB_LAYER])\n",
        "\n",
        "Xs = torch.stack(Xs, dim=0).numpy()"
      ],
      "execution_count": 14,
      "outputs": []
    },
    {
      "cell_type": "markdown",
      "metadata": {
        "id": "_8-7For9AytP"
      },
      "source": [
        "### Visualisation of training dataset sample embeddings"
      ]
    },
    {
      "cell_type": "code",
      "metadata": {
        "id": "LnMLXXFMKgGs"
      },
      "source": [
        "pca = PCA(60)\n",
        "Xs_train_pca = pca.fit_transform(Xs)"
      ],
      "execution_count": null,
      "outputs": []
    },
    {
      "cell_type": "code",
      "metadata": {
        "colab": {
          "base_uri": "https://localhost:8080/",
          "height": 392
        },
        "id": "wBsWxsAZKpWa",
        "outputId": "f43cb952-210b-4c80-b2ca-69d96428637d"
      },
      "source": [
        "fig_dims = (7, 6)\n",
        "fig, ax = plt.subplots(figsize=fig_dims)\n",
        "sc = ax.scatter(Xs_train_pca[:,0], Xs_train_pca[:,1], c=Ys, marker='.', cmap=custom_cmap)\n",
        "ax.set_xlabel('PCA first principal component')\n",
        "ax.set_ylabel('PCA second principal component')\n",
        "plt.colorbar(sc, label='Variant Effect', ticks=numpy.linspace(37, 80, 2))\n",
        "plt.savefig('training_sample_visualisation_matplotlib.png')"
      ],
      "execution_count": null,
      "outputs": [
        {
          "output_type": "display_data",
          "data": {
            "image/png": "[encoded data removed]",
            "text/plain": [
              "<Figure size 504x432 with 2 Axes>"
            ]
          },
          "metadata": {
            "needs_background": "light"
          }
        }
      ]
    },
    {
      "cell_type": "code",
      "metadata": {
        "id": "xW8sG8vAK2AC",
        "colab": {
          "base_uri": "https://localhost:8080/"
        },
        "outputId": "8ff2d526-16db-4ea6-cb9d-67e79224143e"
      },
      "source": [
        "Xs_torch = None\n",
        "\n",
        "Xs_torch = torch.from_numpy(Xs)\n",
        "\n",
        "embedding = pymde.preserve_neighbors(Xs_torch).embed(verbose=True)"
      ],
      "execution_count": 15,
      "outputs": [
        {
          "output_type": "stream",
          "name": "stdout",
          "text": [
            "Nov 23 05:10:50 PM: Fitting a centered embedding into R^2, for a graph with 1264 items and 12116 edges.\n",
            "Nov 23 05:10:50 PM: `embed` method parameters: eps=1.0e-05, max_iter=300, memory_size=10\n",
            "Nov 23 05:10:51 PM: iteration 000 | distortion 0.617171 | residual norm 0.211011 | step length 0.207532 | percent change 0.0870966\n",
            "Nov 23 05:10:51 PM: iteration 030 | distortion 0.212341 | residual norm 0.00213903 | step length 1 | percent change 1.27144\n",
            "Nov 23 05:10:51 PM: iteration 060 | distortion 0.204922 | residual norm 0.0012716 | step length 1 | percent change 0.745097\n",
            "Nov 23 05:10:51 PM: iteration 090 | distortion 0.202019 | residual norm 0.0006032 | step length 1 | percent change 0.371998\n",
            "Nov 23 05:10:51 PM: iteration 120 | distortion 0.201565 | residual norm 0.000437313 | step length 1 | percent change 0.140013\n",
            "Nov 23 05:10:51 PM: iteration 150 | distortion 0.201273 | residual norm 0.000410624 | step length 1 | percent change 0.137807\n",
            "Nov 23 05:10:52 PM: iteration 180 | distortion 0.200943 | residual norm 0.000493554 | step length 1 | percent change 0.598912\n",
            "Nov 23 05:10:52 PM: iteration 210 | distortion 0.200207 | residual norm 0.000496976 | step length 1 | percent change 0.147312\n",
            "Nov 23 05:10:52 PM: iteration 240 | distortion 0.200016 | residual norm 0.000340289 | step length 1 | percent change 0.155443\n",
            "Nov 23 05:10:52 PM: iteration 270 | distortion 0.199899 | residual norm 0.000357404 | step length 1 | percent change 0.051482\n",
            "Nov 23 05:10:52 PM: iteration 299 | distortion 0.199822 | residual norm 0.000247725 | step length 1 | percent change 0.184152\n",
            "Nov 23 05:10:52 PM: Finished fitting in 1.912 seconds and 300 iterations.\n",
            "Nov 23 05:10:52 PM: average distortion 0.2 | residual norm 2.5e-04\n"
          ]
        }
      ]
    },
    {
      "cell_type": "code",
      "metadata": {
        "id": "OWckjTy3K447"
      },
      "source": [
        "pymde.plot(embedding, color_by=Ys, savepath='training_sample_visualisation_PyMDE.png', color_map=custom_cmap)"
      ],
      "execution_count": null,
      "outputs": []
    },
    {
      "cell_type": "markdown",
      "metadata": {
        "id": "ch6ykmv2uZu_"
      },
      "source": [
        "## Perceptron\n",
        "\n",
        "Based on: \n",
        "\n",
        "https://machinelearningmastery.com/implement-perceptron-algorithm-scratch-python/"
      ]
    },
    {
      "cell_type": "code",
      "metadata": {
        "id": "maqeBewnjV3_"
      },
      "source": [
        "# Preparing labels' data for training.\n",
        "Ys_array = numpy.asarray(Ys)\n",
        "Ys_torch = torch.from_numpy(Ys_array)"
      ],
      "execution_count": 17,
      "outputs": []
    },
    {
      "cell_type": "code",
      "metadata": {
        "colab": {
          "base_uri": "https://localhost:8080/"
        },
        "id": "aEN5MvPOmpF4",
        "outputId": "543d7c9e-4a4e-431c-eab8-53cf3394951e"
      },
      "source": [
        "print(Xs_torch.shape)\n",
        "print(Ys_torch.shape)"
      ],
      "execution_count": 18,
      "outputs": [
        {
          "output_type": "stream",
          "name": "stdout",
          "text": [
            "torch.Size([1264, 1280])\n",
            "torch.Size([1264])\n"
          ]
        }
      ]
    },
    {
      "cell_type": "markdown",
      "metadata": {
        "id": "yyEbLsaK1n1p"
      },
      "source": [
        "The weights and biases need to be initialized for the model. There are as many weights as dimensions in the input (embedding).\n",
        "\n",
        "We will initialize weights with random numbers from -0.5 to 0.5."
      ]
    },
    {
      "cell_type": "code",
      "metadata": {
        "id": "n1N9n7G23KAw"
      },
      "source": [
        "import random\n",
        "\n",
        "def get_initialized_weights(X):\n",
        "    number_of_weights = len(X[0])\n",
        "    weights = []\n",
        "    for i in range(number_of_weights):\n",
        "        weights.append(random.uniform(-0.5, 0.5))\n",
        "    return weights\n",
        "\n",
        "def activation(X, weights, bias):\n",
        "    activation = bias\n",
        "    for i in range(len(X)):\n",
        "        activation += weights[i] * X[i]\n",
        "    return activation\n",
        "\n",
        "def predict(X, weights, bias):\n",
        "    activ = activation(X, weights, bias)\n",
        "    return 80 if(activ > 0) else 37"
      ],
      "execution_count": 49,
      "outputs": []
    },
    {
      "cell_type": "markdown",
      "metadata": {
        "id": "Bm3HtLIM9aHT"
      },
      "source": [
        "Checking prediction accuracy of an untrained perceptron."
      ]
    },
    {
      "cell_type": "code",
      "metadata": {
        "colab": {
          "base_uri": "https://localhost:8080/"
        },
        "id": "6MEpfPOb7oxY",
        "outputId": "ec51d013-acc9-4c04-e495-04fa6040df95"
      },
      "source": [
        "random.seed(1)\n",
        "\n",
        "weights = get_initialized_weights(Xs_torch)\n",
        "bias = -0.1\n",
        "\n",
        "match_sum = 0\n",
        "for i in range(len(Xs_torch)):\n",
        "    if(predict(Xs_torch[i], weights, bias) == Ys_torch[i].item()):\n",
        "        match_sum += 1\n",
        "\n",
        "# Accuracy\n",
        "print(match_sum/len(Xs_torch))"
      ],
      "execution_count": 58,
      "outputs": [
        {
          "output_type": "stream",
          "name": "stdout",
          "text": [
            "0.5941455696202531\n"
          ]
        }
      ]
    },
    {
      "cell_type": "markdown",
      "metadata": {
        "id": "3I93thJX9wO3"
      },
      "source": [
        "Training network weights using a stochastic gradient descent."
      ]
    },
    {
      "cell_type": "code",
      "metadata": {
        "id": "6nvBzyVN9zbY"
      },
      "source": [
        "def train_weights(Xs, Ys, weights, bias, learning_rate, number_of_epochs):\n",
        "    for i in range(number_of_epochs):\n",
        "        sum_error = 0.0\n",
        "        for j in range(len(Xs)):\n",
        "            prediction = predict(Xs[i], weights, bias)\n",
        "            error = Ys[i] - prediction\n",
        "            sum_error += error**2\n",
        "            bias = bias + learning_rate * error\n",
        "            for k in range(len(weights)):\n",
        "                weights[j] = weights[j] + learning_rate * error * Xs[j][k]\n",
        "        print('>epoch=%d, learning_rate=%.3f, error=%.3f' % (i, learning_rate, sum_error))\n",
        "    return [weights, bias]"
      ],
      "execution_count": 61,
      "outputs": []
    },
    {
      "cell_type": "code",
      "metadata": {
        "id": "Qk-czOrXDS9b"
      },
      "source": [
        "def get_accuracy(predictions, Y):\n",
        "    match_sum = 0\n",
        "    for i in range(len(predictions)):\n",
        "        if(predictions[i] == Ys_torch[i].item()):\n",
        "            match_sum += 1\n",
        "    return (match_sum/len(predictions))*100"
      ],
      "execution_count": null,
      "outputs": []
    },
    {
      "cell_type": "code",
      "metadata": {
        "id": "fCbF2YYqF0x9"
      },
      "source": [
        "def get_predictions(Xs, weights, bias):\n",
        "    predictions = []\n",
        "    for i in range(len(Xs_torch)):\n",
        "        predictions.append(predict(Xs[i], weights, bias))\n",
        "    return predictions"
      ],
      "execution_count": null,
      "outputs": []
    },
    {
      "cell_type": "code",
      "metadata": {
        "colab": {
          "base_uri": "https://localhost:8080/"
        },
        "id": "TpzLHd7-Bm0F",
        "outputId": "71db418c-8b9e-40b7-8d33-1a68cd37976e"
      },
      "source": [
        "learning_rate = 0.1\n",
        "number_of_epochs = 5\n",
        "[weights, bias] = train_weights(Xs_torch, Ys_torch, weights, bias, learning_rate, number_of_epochs)"
      ],
      "execution_count": 60,
      "outputs": [
        {
          "output_type": "stream",
          "name": "stdout",
          "text": [
            ">epoch=0, learning_rate=0.100, error=59168.000\n",
            ">epoch=1, learning_rate=0.100, error=0.000\n",
            ">epoch=2, learning_rate=0.100, error=281048.000\n",
            ">epoch=3, learning_rate=0.100, error=0.000\n",
            ">epoch=4, learning_rate=0.100, error=0.000\n"
          ]
        }
      ]
    },
    {
      "cell_type": "markdown",
      "metadata": {
        "id": "hPrn4edXGbHZ"
      },
      "source": [
        "Make predictions with these weights on a validation dataset."
      ]
    },
    {
      "cell_type": "code",
      "metadata": {
        "id": "8yLyb1MJGa0u"
      },
      "source": [
        "# Xs_validate_torch =\n",
        "# Ys_validate_torch =\n",
        "\n",
        "predictions = get_predictions(Xs_validate_torch, weights, bias)\n",
        "print(get_accuracy(predictions, Ys_validate_torch))"
      ],
      "execution_count": null,
      "outputs": []
    },
    {
      "cell_type": "markdown",
      "metadata": {
        "id": "tsZ9CMA71Mmb"
      },
      "source": [
        "-------------------------------------------"
      ]
    },
    {
      "cell_type": "markdown",
      "metadata": {
        "id": "2GFf5j_BAa9Y"
      },
      "source": [
        "### Visualisation of validation and testing dataset embeddings"
      ]
    },
    {
      "cell_type": "code",
      "metadata": {
        "id": "rg52LTBOJgox"
      },
      "source": [
        "Ys = []\n",
        "Xs = []\n",
        "\n",
        "keys = ['validate', 'test']\n",
        "\n",
        "for key in keys:\n",
        "    FASTA_PATH = data_filtered[key]['FASTA_prefix']+'sequences.fasta'\n",
        "    EMB_PATH = data_filtered[key]['embeddings']\n",
        "    for header, _seq in esm.data.read_fasta(FASTA_PATH):\n",
        "        temperature_label = header.split('|')[-1]\n",
        "        Ys.append(int(temperature_label))\n",
        "        file_name = header.split('|')[0][1:]\n",
        "        fn = f'{EMB_PATH}/{file_name}.pt'\n",
        "        embs = torch.load(fn)\n",
        "        Xs.append(embs['mean_representations'][EMB_LAYER])\n",
        "\n",
        "Xs = torch.stack(Xs, dim=0).numpy()\n"
      ],
      "execution_count": null,
      "outputs": []
    },
    {
      "cell_type": "markdown",
      "metadata": {
        "id": "ZqNvOT1wKiKv"
      },
      "source": [
        "Testing the parsing."
      ]
    },
    {
      "cell_type": "code",
      "metadata": {
        "colab": {
          "base_uri": "https://localhost:8080/"
        },
        "id": "si3g-gdHzRP7",
        "outputId": "70e4b7e7-c82a-4e90-d402-b4a3b585b643"
      },
      "source": [
        "print(len(Ys))\n",
        "print(Xs.shape)"
      ],
      "execution_count": null,
      "outputs": [
        {
          "output_type": "stream",
          "name": "stdout",
          "text": [
            "1264\n",
            "(1264, 1280)\n"
          ]
        }
      ]
    },
    {
      "cell_type": "code",
      "metadata": {
        "id": "xfYA1YmFm1Tn"
      },
      "source": [
        "pca = PCA(60)\n",
        "Xs_train_pca = pca.fit_transform(Xs)"
      ],
      "execution_count": null,
      "outputs": []
    },
    {
      "cell_type": "code",
      "metadata": {
        "id": "9xOXDYgCm6K-"
      },
      "source": [
        "fig_dims = (7, 6)\n",
        "fig, ax = plt.subplots(figsize=fig_dims)\n",
        "sc = ax.scatter(Xs_train_pca[:,0], Xs_train_pca[:,1], c=Ys, marker='.')\n",
        "ax.set_xlabel('PCA first principal component')\n",
        "ax.set_ylabel('PCA second principal component')\n",
        "plt.colorbar(sc, label='Variant Effect', ticks=numpy.linspace(37, 80, 2))\n",
        "plt.savefig('validation_and_testing_sequences_visualisation_matplotlib.png')"
      ],
      "execution_count": null,
      "outputs": []
    },
    {
      "cell_type": "code",
      "metadata": {
        "id": "zGW-b6QdrACY"
      },
      "source": [
        "Xs_torch = torch.from_numpy(Xs)\n",
        "\n",
        "embedding = pymde.preserve_neighbors(Xs_torch).embed(verbose=True)"
      ],
      "execution_count": null,
      "outputs": []
    },
    {
      "cell_type": "code",
      "metadata": {
        "id": "6S0YluhzsBf3"
      },
      "source": [
        "pymde.plot(embedding, color_by=Ys, savepath='validation_and_testing_sequences_visualisation_PyMDE.png')"
      ],
      "execution_count": null,
      "outputs": []
    },
    {
      "cell_type": "markdown",
      "metadata": {
        "id": "9boajW5lytuW"
      },
      "source": [
        "## Creating a simple feed-forward neural network with Keras.\n",
        "\n",
        "`LabelBinarizer` - package that is used to one-hot encode integer labels as vector labels.\n",
        "\n",
        "`classification_report` - function that gives a nicely formatted report to display the total accuracy of the model. Also it might show breakdown on the classification accuracy for wach digit.\n",
        "\n",
        "`Sequential` - class that indicates that the network will be feed-forward and layers will be added to the class sequentially (one on top of the other).\n",
        "\n",
        "`Dense` - class that is the implementation of the fully connected layers.\n",
        "\n",
        "Stochastic gradient descent (`SGD`) - required for the network to actually learn - it optimizes the parameters of the network.\n",
        "\n",
        "`mnist` - helper function that provides access to full MNIST dataset."
      ]
    },
    {
      "cell_type": "code",
      "metadata": {
        "id": "J58xOgw7yteU"
      },
      "source": [
        "from sklearn.preprocessing import LabelBinarizer\n",
        "from sklearn.metrics import classification_report\n",
        "from tensorflow.keras.models import Sequential\n",
        "from tensorflow.keras.layers import Dense\n",
        "from tensorflow.keras.optimizers import SGD\n",
        "from tensorflow.keras.datasets import mnist\n",
        "from tensorflow.keras import backend as K\n",
        "import matplotlib.pyplot as plt\n",
        "import numpy as np\n",
        "import argparse"
      ],
      "execution_count": null,
      "outputs": []
    },
    {
      "cell_type": "markdown",
      "metadata": {
        "id": "MXGLaPah24ez"
      },
      "source": [
        "### Loading dataset"
      ]
    },
    {
      "cell_type": "code",
      "metadata": {
        "colab": {
          "base_uri": "https://localhost:8080/"
        },
        "id": "CB6IWNEn0M8a",
        "outputId": "234e738a-1024-4df2-ea00-606cfa6c6b4f"
      },
      "source": [
        "print(\"[INFO] accessing datasets...\")\n",
        "#trainX = data['train']['X']\n",
        "#trainY = data['train']['Y']\n",
        "#testX = data['validation']['X']\n",
        "#testY = data['validation']['Y']\n",
        "((trainX, trainY), (testX, testY)) = mnist.load_data()\n",
        "\n",
        "# Reshape\n",
        "trainX = trainX.reshape((trainX.shape[0], 28 * 28 * 1))\n",
        "testX = testX.reshape((testX.shape[0], 28 * 28 * 1))\n",
        "\n",
        "# scale data to the range of [0, 1]\n",
        "trainX = trainX.astype(\"float32\") / 255.0\n",
        "testX = testX.astype(\"float32\") / 255.0"
      ],
      "execution_count": null,
      "outputs": [
        {
          "name": "stdout",
          "output_type": "stream",
          "text": [
            "[INFO] accessing datasets...\n"
          ]
        }
      ]
    },
    {
      "cell_type": "markdown",
      "metadata": {
        "id": "E4hsT4je26F-"
      },
      "source": [
        "### Encoding the labels \n",
        "\n",
        "Firstly, integer labels are transformed into vector labels."
      ]
    },
    {
      "cell_type": "code",
      "metadata": {
        "id": "pKykia8C1Kuk"
      },
      "source": [
        "# convert the labels from integers to vectors\n",
        "lb = LabelBinarizer()\n",
        "trainY = lb.fit_transform(trainY)\n",
        "testY = lb.transform(testY)"
      ],
      "execution_count": null,
      "outputs": []
    },
    {
      "cell_type": "markdown",
      "metadata": {
        "id": "CcQLLEd84qZC"
      },
      "source": [
        "### Defining network architecture\n",
        "\n",
        "`Sequential()` - instantiates the feedforward architecture.\n",
        "\n",
        "`model.add(Dense(...))` - defines the fully connected layer in the network. \n",
        "\n",
        "1. The dimension is equal to the number of each MNIST data points. This layer learns 256 weights and applies sigmoid activation function.\n",
        "\n",
        "2. The layer learns 128 weights. Activation function is also sigmoid.\n",
        "\n",
        "3. The layer that learns 10 weights. The activation function is softmax. This activation function obtains normalized class probabilities for each prediction.\n",
        "\n"
      ]
    },
    {
      "cell_type": "code",
      "metadata": {
        "id": "Iod9v-cT4svT"
      },
      "source": [
        "# define the ?-?-?-? architecture using Keras\n",
        "model = Sequential()\n",
        "model.add(Dense(256, input_shape=(784,), activation=\"sigmoid\"))\n",
        "model.add(Dense(128, activation=\"sigmoid\"))\n",
        "model.add(Dense(10, activation=\"softmax\"))"
      ],
      "execution_count": null,
      "outputs": []
    },
    {
      "cell_type": "markdown",
      "metadata": {
        "id": "mtNuFmoM6YV8"
      },
      "source": [
        "### Training the network\n",
        "\n",
        "1. Initializing the SGD optimizer with a learning rate of 0.01 (common notation 1e-2)\n",
        "2. categorical_crossentropy loss function is used as the loss metric.\n",
        "3. Calling `model.fit()` method to start the training of the network. This method returns a dictionary (`H`), which will be later used for accuracy plotting.\n"
      ]
    },
    {
      "cell_type": "code",
      "metadata": {
        "id": "cNWiLYSb6cIQ"
      },
      "source": [
        "# train the model using SGD\n",
        "print(\"[INFO] training network...\")\n",
        "sgd = SGD(0.01)\n",
        "model.compile(loss=\"categorical_crossentropy\", optimizer=sgd, metrics=[\"accuracy\"])\n",
        "H = model.fit(trainX, trainY, validation_data=(testX, testY), epochs=100, batch_size=128)"
      ],
      "execution_count": null,
      "outputs": []
    },
    {
      "cell_type": "markdown",
      "metadata": {
        "id": "bfCX51rX70Do"
      },
      "source": [
        "### Evaluating the accuracy of the model\n",
        "\n",
        "1. `model.predict()` method returns all of the class label probabilities for every data point in testX. In other words, `predictions` NumPy array has the shape `(X, 10)`, where `X` is the total number of data points in the testing set and `10` stands for the number of possible class labels.\n",
        "2. `argmax(axis=1)` function will give the index of the class label that has the largest probability (final output classification).\n",
        "\n",
        "The final output is tabulated."
      ]
    },
    {
      "cell_type": "code",
      "metadata": {
        "colab": {
          "base_uri": "https://localhost:8080/"
        },
        "id": "hUwAk5i68Igd",
        "outputId": "9d3e83a8-e780-4aee-d038-bdcf501428cd"
      },
      "source": [
        "# evaluate the network\n",
        "print(\"[INFO] evaluating network...\")\n",
        "predictions = model.predict(testX, batch_size=128)\n",
        "print(classification_report(testY.argmax(axis=1), predictions.argmax(axis=1),target_names=[str(x) for x in lb.classes_]))"
      ],
      "execution_count": null,
      "outputs": [
        {
          "name": "stdout",
          "output_type": "stream",
          "text": [
            "[INFO] evaluating network...\n",
            "              precision    recall  f1-score   support\n",
            "\n",
            "           0       0.94      0.98      0.96       980\n",
            "           1       0.97      0.97      0.97      1135\n",
            "           2       0.92      0.90      0.91      1032\n",
            "           3       0.91      0.90      0.91      1010\n",
            "           4       0.92      0.94      0.93       982\n",
            "           5       0.90      0.87      0.88       892\n",
            "           6       0.93      0.95      0.94       958\n",
            "           7       0.93      0.93      0.93      1028\n",
            "           8       0.89      0.90      0.89       974\n",
            "           9       0.92      0.90      0.91      1009\n",
            "\n",
            "    accuracy                           0.92     10000\n",
            "   macro avg       0.92      0.92      0.92     10000\n",
            "weighted avg       0.92      0.92      0.92     10000\n",
            "\n"
          ]
        }
      ]
    },
    {
      "cell_type": "markdown",
      "metadata": {
        "id": "1FTTRv3i9aIX"
      },
      "source": [
        "### Visualization of the results\n",
        "\n",
        "Plotting the training loss, training accuracy, validation loss, and validation accuracy."
      ]
    },
    {
      "cell_type": "code",
      "metadata": {
        "colab": {
          "base_uri": "https://localhost:8080/",
          "height": 299
        },
        "id": "rNZn2p_H9aww",
        "outputId": "fe11dfbf-16d2-458b-c8bd-221e4eb1fc25"
      },
      "source": [
        "# plot the training loss and accuracy\n",
        "plt.style.use(\"ggplot\")\n",
        "plt.figure()\n",
        "plt.plot(np.arange(0, 100), H.history[\"loss\"], label=\"train_loss\")\n",
        "plt.plot(np.arange(0, 100), H.history[\"val_loss\"], label=\"val_loss\")\n",
        "plt.plot(np.arange(0, 100), H.history[\"accuracy\"], label=\"train_acc\")\n",
        "plt.plot(np.arange(0, 100), H.history[\"val_accuracy\"], label=\"val_acc\")\n",
        "plt.title(\"Training Loss and Accuracy\")\n",
        "plt.xlabel(\"Epoch #\")\n",
        "plt.ylabel(\"Loss/Accuracy\")\n",
        "plt.legend()\n",
        "plt.show()"
      ],
      "execution_count": null,
      "outputs": [
        {
          "data": {
            "image/png": "[encoded data removed]",
            "text/plain": [
              "<Figure size 432x288 with 1 Axes>"
            ]
          },
          "metadata": {},
          "output_type": "display_data"
        }
      ]
    }
  ]
}